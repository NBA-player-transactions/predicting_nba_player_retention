{
 "cells": [
  {
   "cell_type": "markdown",
   "metadata": {},
   "source": [
    "# Web scraping NBA transaction data from [basketball-reference.com](https://www.basketball-reference.com/)"
   ]
  },
  {
   "cell_type": "code",
   "execution_count": 171,
   "metadata": {},
   "outputs": [],
   "source": [
    "import bs4\n",
    "from bs4 import BeautifulSoup\n",
    "import requests\n",
    "import csv\n",
    "import re\n",
    "import pandas as pd\n",
    "import ast"
   ]
  },
  {
   "cell_type": "markdown",
   "metadata": {},
   "source": [
    "### HTML files"
   ]
  },
  {
   "cell_type": "code",
   "execution_count": 114,
   "metadata": {},
   "outputs": [],
   "source": [
    "years = list(range(1991, 2025))\n",
    "\n",
    "url_blank = \"https://www.basketball-reference.com/leagues/NBA_{}_transactions.html\""
   ]
  },
  {
   "cell_type": "code",
   "execution_count": null,
   "metadata": {},
   "outputs": [],
   "source": [
    "# save HTML files for each year\n",
    "for year in years:\n",
    "    url = url_blank.format(year)\n",
    "    response = requests.get(url)\n",
    "\n",
    "    with open(\"./Data/transaction_htmls/transactions_{}.html\".format(year), \"w+\") as f:\n",
    "        f.write(response.text)"
   ]
  },
  {
   "cell_type": "markdown",
   "metadata": {},
   "source": [
    "### Waived players data"
   ]
  },
  {
   "cell_type": "code",
   "execution_count": 174,
   "metadata": {},
   "outputs": [],
   "source": [
    "# extract waived data from HTMLs and save as a CSV file\n",
    "with open(\"./Data/waived_data.csv\", \"w+\", newline=\"\") as f:\n",
    "    writer = csv.writer(f)\n",
    "    writer.writerow([\"season_start\", \"date\", \"player_name\", \"team_abv\"])\n",
    "\n",
    "    for year in years:\n",
    "        with open(\"./Data/transaction_htmls/transactions_{}.html\".format(year)) as h:\n",
    "            page = h.read()\n",
    "\n",
    "        soup = BeautifulSoup(page, \"html.parser\")\n",
    "\n",
    "        page_index = soup.find(\"ul\", attrs={\"class\":\"page_index\"})\n",
    "\n",
    "        for entry in page_index.find_all(\"p\"):\n",
    "            if \"waived\" in entry.get_text():\n",
    "                writer.writerow([year-1,\n",
    "                                 entry.parent.find(\"span\").get_text(),\n",
    "                                 entry.find(\"a\", attrs={\"href\":re.compile(\"/players/\")}).get_text(),\n",
    "                                 entry.find(\"a\", attrs={\"data-attr-from\":True})[\"data-attr-from\"]])"
   ]
  },
  {
   "cell_type": "markdown",
   "metadata": {},
   "source": [
    "### Traded players data"
   ]
  },
  {
   "cell_type": "code",
   "execution_count": 173,
   "metadata": {},
   "outputs": [],
   "source": [
    "# helper function for extracting each traded player (excluding draft picks) for a given entry and writing to the CSV file\n",
    "def write_trades(entry, season_start, csv_writer):\n",
    "    for tag in entry.find_all(\"a\"):\n",
    "        if \"data-attr-from\" in tag.attrs:\n",
    "            current_team = tag[\"data-attr-from\"]\n",
    "        elif \"data-attr-to\" in tag.attrs:\n",
    "            current_team = tag[\"data-attr-to\"]\n",
    "        elif (\"href\" in tag.attrs) and (\"/players/\" in tag[\"href\"]) and (\"was later selected\" not in tag.next_sibling):\n",
    "            csv_writer.writerow([season_start, entry.parent.find(\"span\").get_text(), tag.get_text(), current_team])"
   ]
  },
  {
   "cell_type": "code",
   "execution_count": 180,
   "metadata": {},
   "outputs": [],
   "source": [
    "# extract traded data from HTMLs and save as a CSV file\n",
    "with open(\"./Data/traded_data.csv\", \"w+\", newline=\"\") as f:\n",
    "    writer = csv.writer(f)\n",
    "    writer.writerow([\"season_start\", \"date\", \"player_name\", \"team_abv\"])\n",
    "\n",
    "    for year in years:\n",
    "        with open(\"./Data/transaction_htmls/transactions_{}.html\".format(year)) as h:\n",
    "            page = h.read()\n",
    "\n",
    "        soup = BeautifulSoup(page, \"html.parser\")\n",
    "\n",
    "        page_index = soup.find(\"ul\", attrs={\"class\":\"page_index\"})\n",
    "\n",
    "        for entry in page_index.find_all(\"p\"):\n",
    "            if \"traded\" in entry.get_text():\n",
    "                write_trades(entry, year-1, writer)"
   ]
  },
  {
   "cell_type": "markdown",
   "metadata": {},
   "source": [
    "### Check for players labelled as coaches or executives"
   ]
  },
  {
   "cell_type": "markdown",
   "metadata": {},
   "source": [
    "(Manually fill these in.)"
   ]
  },
  {
   "cell_type": "code",
   "execution_count": 176,
   "metadata": {},
   "outputs": [
    {
     "name": "stdout",
     "output_type": "stream",
     "text": [
      "1992 [<a href=\"/coaches/dunlemi01c.html\">Mike Dunleavy</a>] (traded)\n",
      "1996 [<a href=\"/coaches/rileypa01c.html\">Pat Riley</a>] (traded)\n",
      "1997 [<a href=\"/executives/wallach99x.html\">Chris Wallace</a>] (traded)\n",
      "2014 [<a href=\"/coaches/kiddja01c.html\">Jason Kidd</a>] (traded)\n",
      "2018 [<a href=\"/executives/perrysc99x.html\">Scott Perry</a>] (traded)\n"
     ]
    }
   ],
   "source": [
    "for year in years:\n",
    "    with open(\"./Data/transaction_htmls/transactions_{}.html\".format(year)) as f:\n",
    "        page = f.read()\n",
    "\n",
    "    soup = BeautifulSoup(page, \"html.parser\")\n",
    "\n",
    "    page_index = soup.find(\"ul\", attrs={\"class\":\"page_index\"})\n",
    "    entries = page_index.find_all(\"p\")\n",
    "    waived_entries = [entry for entry in entries if \"waived\" in entry.get_text()]\n",
    "    traded_entries = [entry for entry in entries if \"traded\" in entry.get_text()]\n",
    "\n",
    "    for entry in waived_entries:\n",
    "        if len(entry.find_all(\"a\", attrs={\"href\":re.compile(\"/coaches/\")})) > 0:\n",
    "            print(year, entry.find_all(\"a\", attrs={\"href\":re.compile(\"/coaches/\")}), \"(waived)\")\n",
    "        if len(entry.find_all(\"a\", attrs={\"href\":re.compile(\"/executives/\")})) > 0:\n",
    "            print(year, entry.find_all(\"a\", attrs={\"href\":re.compile(\"/executives/\")}), \"(waived)\")\n",
    "\n",
    "    for entry in traded_entries:\n",
    "        if len(entry.find_all(\"a\", attrs={\"href\":re.compile(\"/coaches/\")})) > 0:\n",
    "            print(year, entry.find_all(\"a\", attrs={\"href\":re.compile(\"/coaches/\")}), \"(traded)\")\n",
    "        if len(entry.find_all(\"a\", attrs={\"href\":re.compile(\"/executives/\")})) > 0:\n",
    "            print(year, entry.find_all(\"a\", attrs={\"href\":re.compile(\"/executives/\")}), \"(traded)\")\n"
   ]
  },
  {
   "cell_type": "code",
   "execution_count": 181,
   "metadata": {},
   "outputs": [],
   "source": [
    "with open(\"./Data/traded_data.csv\", \"a\", newline=\"\") as f:\n",
    "    writer = csv.writer(f)\n",
    "    # writer.writerow([\"season_start\", \"date\", \"player_name\", \"team_abv\"])\n",
    "    writer.writerow([1991, \"May 11, 1992\", \"Mike Dunleavy\", \"LAL\"])\n",
    "    writer.writerow([1995, \"September 1, 1995\", \"Pat Riley\", \"NYK\"])\n",
    "    writer.writerow([1996, \"May 27, 1997\", \"Chris Wallace\", \"BOS\"])\n",
    "    writer.writerow([2013, \"June 30, 2014\", \"Jason Kidd\", \"BRK\"])\n",
    "    writer.writerow([2017, \"July 14, 2017\", \"Scott Perry\", \"SAC\"])"
   ]
  }
 ],
 "metadata": {
  "kernelspec": {
   "display_name": "erdos_fall_2024",
   "language": "python",
   "name": "python3"
  },
  "language_info": {
   "codemirror_mode": {
    "name": "ipython",
    "version": 3
   },
   "file_extension": ".py",
   "mimetype": "text/x-python",
   "name": "python",
   "nbconvert_exporter": "python",
   "pygments_lexer": "ipython3",
   "version": "3.12.5"
  },
  "orig_nbformat": 4
 },
 "nbformat": 4,
 "nbformat_minor": 2
}
