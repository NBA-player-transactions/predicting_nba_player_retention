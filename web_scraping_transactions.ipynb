{
 "cells": [
  {
   "cell_type": "markdown",
   "metadata": {},
   "source": [
    "# Web scraping NBA transaction data from [basketball-reference.com](https://www.basketball-reference.com/)"
   ]
  },
  {
   "cell_type": "code",
   "execution_count": 167,
   "metadata": {},
   "outputs": [],
   "source": [
    "import bs4\n",
    "from bs4 import BeautifulSoup\n",
    "import requests\n",
    "import re\n",
    "import pandas as pd"
   ]
  },
  {
   "cell_type": "markdown",
   "metadata": {},
   "source": [
    "### HTML files"
   ]
  },
  {
   "cell_type": "code",
   "execution_count": 175,
   "metadata": {},
   "outputs": [],
   "source": [
    "years = list(range(1991, 2025))\n",
    "\n",
    "url_blank = \"https://www.basketball-reference.com/leagues/NBA_{}_transactions.html\""
   ]
  },
  {
   "cell_type": "code",
   "execution_count": null,
   "metadata": {},
   "outputs": [],
   "source": [
    "# save HTML files for each year\n",
    "for year in years:\n",
    "    url = url_blank.format(year)\n",
    "    response = requests.get(url)\n",
    "\n",
    "    with open(\"./Data/transaction_htmls/transactions_{}.html\".format(year), \"w+\") as f:\n",
    "        f.write(response.text)"
   ]
  },
  {
   "cell_type": "markdown",
   "metadata": {},
   "source": [
    "### Waived players data"
   ]
  },
  {
   "cell_type": "code",
   "execution_count": 187,
   "metadata": {},
   "outputs": [],
   "source": [
    "# extract waived data from HTML file for each year and save as CSV\n",
    "for year in years:\n",
    "    with open(\"./Data/transaction_htmls/transactions_{}.html\".format(year)) as f:\n",
    "        page = f.read()\n",
    "\n",
    "    soup = BeautifulSoup(page, \"html.parser\")\n",
    "\n",
    "    page_index = soup.find(\"ul\", attrs={\"class\":\"page_index\"})\n",
    "    entries = page_index.find_all(\"p\")\n",
    "    waived_entries = [entry for entry in entries if \"waived\" in entry.get_text()]\n",
    "\n",
    "    dates = [entry.parent.find(\"span\").get_text() for entry in waived_entries]\n",
    "    teams = [entry.find(\"a\", attrs={\"data-attr-from\":True})[\"data-attr-from\"] for entry in waived_entries]\n",
    "    players = [entry.find(\"a\", attrs={\"href\":re.compile(\"/players/\")}).get_text() for entry in waived_entries]\n",
    "\n",
    "    df = pd.DataFrame({\"date\":dates, \"team_from\":teams, \"player\":players})\n",
    "\n",
    "    df.to_csv(\"./Data/waived/waived_{}.csv\".format(year))"
   ]
  },
  {
   "cell_type": "code",
   "execution_count": 213,
   "metadata": {},
   "outputs": [],
   "source": [
    "# concatenate waived data for all years and save as CSV\n",
    "waived_dfs = [pd.read_csv(\"./Data/waived/waived_{}.csv\".format(year), index_col=0) for year in years]\n",
    "waived_df = pd.concat(waived_dfs, ignore_index=True)\n",
    "waived_df.to_csv(\"./Data/waived_data.csv\")"
   ]
  },
  {
   "cell_type": "markdown",
   "metadata": {},
   "source": [
    "### Traded players data"
   ]
  },
  {
   "cell_type": "code",
   "execution_count": 286,
   "metadata": {},
   "outputs": [],
   "source": [
    "# helper function for extracting the set of teams involved in a given trade\n",
    "def involved_teams(entry):\n",
    "    result = []\n",
    "    teams = entry.find_all(\"a\", attrs={\"href\":re.compile(\"/teams/\")})\n",
    "    for team in teams:\n",
    "        try:\n",
    "            result.append(team[\"data-attr-from\"])\n",
    "        except:\n",
    "            result.append(team[\"data-attr-to\"])\n",
    "    return set(result)\n",
    "\n",
    "# helper function for extracting the set of players involved in a given trade\n",
    "def involved_players(entry):\n",
    "    return set([player.get_text() for player in entry.find_all(\"a\", attrs={\"href\":re.compile(\"/players/\")})])"
   ]
  },
  {
   "cell_type": "code",
   "execution_count": 287,
   "metadata": {},
   "outputs": [],
   "source": [
    "# extract traded data from HTML file for each year and save as CSV\n",
    "# includes a column indicating whether the trade includes draft picks (which we well manually remove)\n",
    "for year in years:\n",
    "    with open(\"./Data/transaction_htmls/transactions_{}.html\".format(year)) as f:\n",
    "        page = f.read()\n",
    "\n",
    "    soup = BeautifulSoup(page, \"html.parser\")\n",
    "\n",
    "    page_index = soup.find(\"ul\", attrs={\"class\":\"page_index\"})\n",
    "    entries = page_index.find_all(\"p\")\n",
    "    traded_entries = [entry for entry in entries if \"traded\" in entry.get_text()]\n",
    "\n",
    "    dates = [entry.parent.find(\"span\").get_text() for entry in traded_entries]\n",
    "    teams = [involved_teams(entry) for entry in traded_entries]\n",
    "    players = [involved_players(entry) for entry in traded_entries]\n",
    "    includes_draft_picks = [(\"draft pick\" in entry.get_text()) for entry in traded_entries]\n",
    "\n",
    "    df = pd.DataFrame({\"date\":dates, \"teams\":teams, \"players\":players, \"includes_draft_picks\":includes_draft_picks})\n",
    "\n",
    "    df.to_csv(\"./Data/traded/traded_{}.csv\".format(year))"
   ]
  },
  {
   "cell_type": "code",
   "execution_count": null,
   "metadata": {},
   "outputs": [],
   "source": []
  }
 ],
 "metadata": {
  "kernelspec": {
   "display_name": "erdos_fall_2024",
   "language": "python",
   "name": "python3"
  },
  "language_info": {
   "codemirror_mode": {
    "name": "ipython",
    "version": 3
   },
   "file_extension": ".py",
   "mimetype": "text/x-python",
   "name": "python",
   "nbconvert_exporter": "python",
   "pygments_lexer": "ipython3",
   "version": "3.12.5"
  },
  "orig_nbformat": 4
 },
 "nbformat": 4,
 "nbformat_minor": 2
}
