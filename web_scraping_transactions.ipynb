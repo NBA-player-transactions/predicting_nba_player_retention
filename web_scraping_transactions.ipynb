{
 "cells": [
  {
   "cell_type": "markdown",
   "metadata": {},
   "source": [
    "# Web scraping NBA transaction data from [basketball-reference.com](https://www.basketball-reference.com/)"
   ]
  },
  {
   "cell_type": "code",
   "execution_count": 313,
   "metadata": {},
   "outputs": [],
   "source": [
    "import bs4\n",
    "from bs4 import BeautifulSoup\n",
    "import requests\n",
    "import re\n",
    "import pandas as pd"
   ]
  },
  {
   "cell_type": "markdown",
   "metadata": {},
   "source": [
    "### HTML files"
   ]
  },
  {
   "cell_type": "code",
   "execution_count": 314,
   "metadata": {},
   "outputs": [],
   "source": [
    "years = list(range(1991, 2025))\n",
    "\n",
    "url_blank = \"https://www.basketball-reference.com/leagues/NBA_{}_transactions.html\""
   ]
  },
  {
   "cell_type": "code",
   "execution_count": null,
   "metadata": {},
   "outputs": [],
   "source": [
    "# save HTML files for each year\n",
    "for year in years:\n",
    "    url = url_blank.format(year)\n",
    "    response = requests.get(url)\n",
    "\n",
    "    with open(\"./Data/transaction_htmls/transactions_{}.html\".format(year), \"w+\") as f:\n",
    "        f.write(response.text)"
   ]
  },
  {
   "cell_type": "markdown",
   "metadata": {},
   "source": [
    "### Waived players data"
   ]
  },
  {
   "cell_type": "code",
   "execution_count": 187,
   "metadata": {},
   "outputs": [],
   "source": [
    "# extract waived data from HTML file for each year and save as CSV\n",
    "for year in years:\n",
    "    with open(\"./Data/transaction_htmls/transactions_{}.html\".format(year)) as f:\n",
    "        page = f.read()\n",
    "\n",
    "    soup = BeautifulSoup(page, \"html.parser\")\n",
    "\n",
    "    page_index = soup.find(\"ul\", attrs={\"class\":\"page_index\"})\n",
    "    entries = page_index.find_all(\"p\")\n",
    "    waived_entries = [entry for entry in entries if \"waived\" in entry.get_text()]\n",
    "\n",
    "    dates = [entry.parent.find(\"span\").get_text() for entry in waived_entries]\n",
    "    teams = [entry.find(\"a\", attrs={\"data-attr-from\":True})[\"data-attr-from\"] for entry in waived_entries]\n",
    "    players = [entry.find(\"a\", attrs={\"href\":re.compile(\"/players/\")}).get_text() for entry in waived_entries]\n",
    "\n",
    "    df = pd.DataFrame({\"date\":dates, \"team_from\":teams, \"player\":players})\n",
    "\n",
    "    df.to_csv(\"./Data/waived/waived_{}.csv\".format(year))"
   ]
  },
  {
   "cell_type": "code",
   "execution_count": 213,
   "metadata": {},
   "outputs": [],
   "source": [
    "# concatenate waived data for all years and save as CSV\n",
    "waived_dfs = [pd.read_csv(\"./Data/waived/waived_{}.csv\".format(year), index_col=0) for year in years]\n",
    "waived_df = pd.concat(waived_dfs, ignore_index=True)\n",
    "waived_df.to_csv(\"./Data/waived_data.csv\")"
   ]
  },
  {
   "cell_type": "markdown",
   "metadata": {},
   "source": [
    "### Traded players data"
   ]
  },
  {
   "cell_type": "code",
   "execution_count": 428,
   "metadata": {},
   "outputs": [],
   "source": [
    "# helper function for extracting the set of teams involved in a given trade\n",
    "def involved_teams(entry):\n",
    "    result = []\n",
    "    teams = entry.find_all(\"a\", attrs={\"href\":re.compile(\"/teams/\")})\n",
    "    for team in teams:\n",
    "        try:\n",
    "            result.append(team[\"data-attr-from\"])\n",
    "        except:\n",
    "            result.append(team[\"data-attr-to\"])\n",
    "    return set(result)\n",
    "\n",
    "# helper functiono for extracting players involved in a given trade which are future draft picks\n",
    "# (and therefore shouldn't be included in our CSV file)\n",
    "def draft_picks(entry):\n",
    "    result = []\n",
    "    target_strings = entry.find_all(string=lambda text: \"was later selected\" in text)\n",
    "    for s in target_strings:\n",
    "        result.append(s.previous_sibling.get_text())\n",
    "    return result\n",
    "\n",
    "# helper function for extracting the set of players involved in a given trade\n",
    "# (excluding future draft picks)\n",
    "def involved_players(entry):\n",
    "    return set([player.get_text() for player in entry.find_all(\"a\", attrs={\"href\":re.compile(\"/players/\")})]).difference(draft_picks(entry))"
   ]
  },
  {
   "cell_type": "code",
   "execution_count": 431,
   "metadata": {},
   "outputs": [],
   "source": [
    "# extract traded data from HTML file for each year and save as CSV\n",
    "for year in years:\n",
    "    with open(\"./Data/transaction_htmls/transactions_{}.html\".format(year)) as f:\n",
    "        page = f.read()\n",
    "\n",
    "    soup = BeautifulSoup(page, \"html.parser\")\n",
    "\n",
    "    page_index = soup.find(\"ul\", attrs={\"class\":\"page_index\"})\n",
    "    entries = page_index.find_all(\"p\")\n",
    "    traded_entries = [entry for entry in entries if \"traded\" in entry.get_text()]\n",
    "\n",
    "    dates = [entry.parent.find(\"span\").get_text() for entry in traded_entries]\n",
    "    teams = [involved_teams(entry) for entry in traded_entries]\n",
    "    players = [involved_players(entry) for entry in traded_entries]\n",
    "\n",
    "    df = pd.DataFrame({\"date\":dates, \"teams\":teams, \"players\":players})\n",
    "\n",
    "    df.to_csv(\"./Data/traded/traded_{}.csv\".format(year))"
   ]
  },
  {
   "cell_type": "markdown",
   "metadata": {},
   "source": [
    "### Check for players labelled as coaches or executives"
   ]
  },
  {
   "cell_type": "markdown",
   "metadata": {},
   "source": [
    "(Manually edit these CSV files.)"
   ]
  },
  {
   "cell_type": "code",
   "execution_count": 312,
   "metadata": {},
   "outputs": [
    {
     "name": "stdout",
     "output_type": "stream",
     "text": [
      "1992 [<a href=\"/coaches/dunlemi01c.html\">Mike Dunleavy</a>] (traded)\n",
      "1996 [<a href=\"/coaches/rileypa01c.html\">Pat Riley</a>] (traded)\n",
      "1997 [<a href=\"/executives/wallach99x.html\">Chris Wallace</a>] (traded)\n",
      "2014 [<a href=\"/coaches/kiddja01c.html\">Jason Kidd</a>] (traded)\n",
      "2018 [<a href=\"/executives/perrysc99x.html\">Scott Perry</a>] (traded)\n"
     ]
    }
   ],
   "source": [
    "for year in years:\n",
    "    with open(\"./Data/transaction_htmls/transactions_{}.html\".format(year)) as f:\n",
    "        page = f.read()\n",
    "\n",
    "    soup = BeautifulSoup(page, \"html.parser\")\n",
    "\n",
    "    page_index = soup.find(\"ul\", attrs={\"class\":\"page_index\"})\n",
    "    entries = page_index.find_all(\"p\")\n",
    "    waived_entries = [entry for entry in entries if \"waived\" in entry.get_text()]\n",
    "    traded_entries = [entry for entry in entries if \"traded\" in entry.get_text()]\n",
    "\n",
    "    for entry in waived_entries:\n",
    "        if len(entry.find_all(\"a\", attrs={\"href\":re.compile(\"/coaches/\")})) > 0:\n",
    "            print(year, entry.find_all(\"a\", attrs={\"href\":re.compile(\"/coaches/\")}), \"(waived)\")\n",
    "        if len(entry.find_all(\"a\", attrs={\"href\":re.compile(\"/executives/\")})) > 0:\n",
    "            print(year, entry.find_all(\"a\", attrs={\"href\":re.compile(\"/executives/\")}), \"(waived)\")\n",
    "\n",
    "    for entry in traded_entries:\n",
    "        if len(entry.find_all(\"a\", attrs={\"href\":re.compile(\"/coaches/\")})) > 0:\n",
    "            print(year, entry.find_all(\"a\", attrs={\"href\":re.compile(\"/coaches/\")}), \"(traded)\")\n",
    "        if len(entry.find_all(\"a\", attrs={\"href\":re.compile(\"/executives/\")})) > 0:\n",
    "            print(year, entry.find_all(\"a\", attrs={\"href\":re.compile(\"/executives/\")}), \"(traded)\")\n"
   ]
  },
  {
   "cell_type": "code",
   "execution_count": null,
   "metadata": {},
   "outputs": [],
   "source": []
  }
 ],
 "metadata": {
  "kernelspec": {
   "display_name": "erdos_fall_2024",
   "language": "python",
   "name": "python3"
  },
  "language_info": {
   "codemirror_mode": {
    "name": "ipython",
    "version": 3
   },
   "file_extension": ".py",
   "mimetype": "text/x-python",
   "name": "python",
   "nbconvert_exporter": "python",
   "pygments_lexer": "ipython3",
   "version": "3.12.5"
  },
  "orig_nbformat": 4
 },
 "nbformat": 4,
 "nbformat_minor": 2
}
