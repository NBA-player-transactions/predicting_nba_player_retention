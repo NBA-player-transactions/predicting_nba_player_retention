{
 "cells": [
  {
   "cell_type": "markdown",
   "metadata": {},
   "source": [
    "# Web scraping NBA transaction data from [basketball-reference.com](https://www.basketball-reference.com/)"
   ]
  },
  {
   "cell_type": "code",
   "execution_count": 450,
   "metadata": {},
   "outputs": [],
   "source": [
    "import bs4\n",
    "from bs4 import BeautifulSoup\n",
    "import requests\n",
    "import re\n",
    "import pandas as pd\n",
    "import ast"
   ]
  },
  {
   "cell_type": "markdown",
   "metadata": {},
   "source": [
    "### HTML files"
   ]
  },
  {
   "cell_type": "code",
   "execution_count": 434,
   "metadata": {},
   "outputs": [],
   "source": [
    "years = list(range(1991, 2025))\n",
    "\n",
    "url_blank = \"https://www.basketball-reference.com/leagues/NBA_{}_transactions.html\""
   ]
  },
  {
   "cell_type": "code",
   "execution_count": null,
   "metadata": {},
   "outputs": [],
   "source": [
    "# save HTML files for each year\n",
    "for year in years:\n",
    "    url = url_blank.format(year)\n",
    "    response = requests.get(url)\n",
    "\n",
    "    with open(\"./Data/transaction_htmls/transactions_{}.html\".format(year), \"w+\") as f:\n",
    "        f.write(response.text)"
   ]
  },
  {
   "cell_type": "markdown",
   "metadata": {},
   "source": [
    "### Waived players data"
   ]
  },
  {
   "cell_type": "code",
   "execution_count": 187,
   "metadata": {},
   "outputs": [],
   "source": [
    "# extract waived data from HTML file for each year and save as CSV\n",
    "for year in years:\n",
    "    with open(\"./Data/transaction_htmls/transactions_{}.html\".format(year)) as f:\n",
    "        page = f.read()\n",
    "\n",
    "    soup = BeautifulSoup(page, \"html.parser\")\n",
    "\n",
    "    page_index = soup.find(\"ul\", attrs={\"class\":\"page_index\"})\n",
    "    entries = page_index.find_all(\"p\")\n",
    "    waived_entries = [entry for entry in entries if \"waived\" in entry.get_text()]\n",
    "\n",
    "    dates = [entry.parent.find(\"span\").get_text() for entry in waived_entries]\n",
    "    teams = [entry.find(\"a\", attrs={\"data-attr-from\":True})[\"data-attr-from\"] for entry in waived_entries]\n",
    "    players = [entry.find(\"a\", attrs={\"href\":re.compile(\"/players/\")}).get_text() for entry in waived_entries]\n",
    "\n",
    "    df = pd.DataFrame({\"date\":dates, \"team_from\":teams, \"player\":players})\n",
    "\n",
    "    df.to_csv(\"./Data/waived/waived_{}.csv\".format(year))"
   ]
  },
  {
   "cell_type": "code",
   "execution_count": 213,
   "metadata": {},
   "outputs": [],
   "source": [
    "# concatenate waived data for all years and save as CSV\n",
    "waived_dfs = [pd.read_csv(\"./Data/waived/waived_{}.csv\".format(year), index_col=0) for year in years]\n",
    "waived_df = pd.concat(waived_dfs, ignore_index=True)\n",
    "waived_df.to_csv(\"./Data/waived_data.csv\")"
   ]
  },
  {
   "cell_type": "markdown",
   "metadata": {},
   "source": [
    "### Traded players data"
   ]
  },
  {
   "cell_type": "code",
   "execution_count": 428,
   "metadata": {},
   "outputs": [],
   "source": [
    "# helper function for extracting the set of teams involved in a given trade\n",
    "def involved_teams(entry):\n",
    "    result = []\n",
    "    teams = entry.find_all(\"a\", attrs={\"href\":re.compile(\"/teams/\")})\n",
    "    for team in teams:\n",
    "        try:\n",
    "            result.append(team[\"data-attr-from\"])\n",
    "        except:\n",
    "            result.append(team[\"data-attr-to\"])\n",
    "    return set(result)\n",
    "\n",
    "# helper functiono for extracting players involved in a given trade which are future draft picks\n",
    "# (and therefore shouldn't be included in our CSV file)\n",
    "def draft_picks(entry):\n",
    "    result = []\n",
    "    target_strings = entry.find_all(string=lambda text: \"was later selected\" in text)\n",
    "    for s in target_strings:\n",
    "        result.append(s.previous_sibling.get_text())\n",
    "    return result\n",
    "\n",
    "# helper function for extracting the set of players involved in a given trade\n",
    "# (excluding future draft picks)\n",
    "def involved_players(entry):\n",
    "    return set([player.get_text() for player in entry.find_all(\"a\", attrs={\"href\":re.compile(\"/players/\")})]).difference(draft_picks(entry))"
   ]
  },
  {
   "cell_type": "code",
   "execution_count": 431,
   "metadata": {},
   "outputs": [],
   "source": [
    "# extract traded data from HTML file for each year and save as CSV\n",
    "for year in years:\n",
    "    with open(\"./Data/transaction_htmls/transactions_{}.html\".format(year)) as f:\n",
    "        page = f.read()\n",
    "\n",
    "    soup = BeautifulSoup(page, \"html.parser\")\n",
    "\n",
    "    page_index = soup.find(\"ul\", attrs={\"class\":\"page_index\"})\n",
    "    entries = page_index.find_all(\"p\")\n",
    "    traded_entries = [entry for entry in entries if \"traded\" in entry.get_text()]\n",
    "\n",
    "    dates = [entry.parent.find(\"span\").get_text() for entry in traded_entries]\n",
    "    teams = [involved_teams(entry) for entry in traded_entries]\n",
    "    players = [involved_players(entry) for entry in traded_entries]\n",
    "\n",
    "    df = pd.DataFrame({\"date\":dates, \"teams\":teams, \"players\":players})\n",
    "\n",
    "    df.to_csv(\"./Data/traded/traded_{}.csv\".format(year))"
   ]
  },
  {
   "cell_type": "markdown",
   "metadata": {},
   "source": [
    "### Check for players labelled as coaches or executives"
   ]
  },
  {
   "cell_type": "markdown",
   "metadata": {},
   "source": [
    "(Manually edit these CSV files.)"
   ]
  },
  {
   "cell_type": "code",
   "execution_count": 312,
   "metadata": {},
   "outputs": [
    {
     "name": "stdout",
     "output_type": "stream",
     "text": [
      "1992 [<a href=\"/coaches/dunlemi01c.html\">Mike Dunleavy</a>] (traded)\n",
      "1996 [<a href=\"/coaches/rileypa01c.html\">Pat Riley</a>] (traded)\n",
      "1997 [<a href=\"/executives/wallach99x.html\">Chris Wallace</a>] (traded)\n",
      "2014 [<a href=\"/coaches/kiddja01c.html\">Jason Kidd</a>] (traded)\n",
      "2018 [<a href=\"/executives/perrysc99x.html\">Scott Perry</a>] (traded)\n"
     ]
    }
   ],
   "source": [
    "for year in years:\n",
    "    with open(\"./Data/transaction_htmls/transactions_{}.html\".format(year)) as f:\n",
    "        page = f.read()\n",
    "\n",
    "    soup = BeautifulSoup(page, \"html.parser\")\n",
    "\n",
    "    page_index = soup.find(\"ul\", attrs={\"class\":\"page_index\"})\n",
    "    entries = page_index.find_all(\"p\")\n",
    "    waived_entries = [entry for entry in entries if \"waived\" in entry.get_text()]\n",
    "    traded_entries = [entry for entry in entries if \"traded\" in entry.get_text()]\n",
    "\n",
    "    for entry in waived_entries:\n",
    "        if len(entry.find_all(\"a\", attrs={\"href\":re.compile(\"/coaches/\")})) > 0:\n",
    "            print(year, entry.find_all(\"a\", attrs={\"href\":re.compile(\"/coaches/\")}), \"(waived)\")\n",
    "        if len(entry.find_all(\"a\", attrs={\"href\":re.compile(\"/executives/\")})) > 0:\n",
    "            print(year, entry.find_all(\"a\", attrs={\"href\":re.compile(\"/executives/\")}), \"(waived)\")\n",
    "\n",
    "    for entry in traded_entries:\n",
    "        if len(entry.find_all(\"a\", attrs={\"href\":re.compile(\"/coaches/\")})) > 0:\n",
    "            print(year, entry.find_all(\"a\", attrs={\"href\":re.compile(\"/coaches/\")}), \"(traded)\")\n",
    "        if len(entry.find_all(\"a\", attrs={\"href\":re.compile(\"/executives/\")})) > 0:\n",
    "            print(year, entry.find_all(\"a\", attrs={\"href\":re.compile(\"/executives/\")}), \"(traded)\")\n"
   ]
  },
  {
   "cell_type": "markdown",
   "metadata": {},
   "source": [
    "### Concatenating CSV files"
   ]
  },
  {
   "cell_type": "code",
   "execution_count": null,
   "metadata": {},
   "outputs": [],
   "source": [
    "# concatenate waived data for all years and save as CSV\n",
    "waived_dfs = [pd.read_csv(\"./Data/waived/waived_{}.csv\".format(year), index_col=0) for year in years]\n",
    "waived_df = pd.concat(waived_dfs, ignore_index=True)\n",
    "waived_df.to_csv(\"./Data/waived_data.csv\")"
   ]
  },
  {
   "cell_type": "code",
   "execution_count": 435,
   "metadata": {},
   "outputs": [],
   "source": [
    "# concatenate traded data for all years and save as CSV\n",
    "traded_dfs = [pd.read_csv(\"./Data/traded/traded_{}.csv\".format(year), index_col=0) for year in years]\n",
    "traded_df = pd.concat(traded_dfs, ignore_index=True)\n",
    "traded_df.to_csv(\"./Data/traded_data.csv\")"
   ]
  },
  {
   "cell_type": "code",
   "execution_count": null,
   "metadata": {},
   "outputs": [],
   "source": []
  },
  {
   "cell_type": "code",
   "execution_count": 436,
   "metadata": {},
   "outputs": [
    {
     "data": {
      "text/html": [
       "<div>\n",
       "<style scoped>\n",
       "    .dataframe tbody tr th:only-of-type {\n",
       "        vertical-align: middle;\n",
       "    }\n",
       "\n",
       "    .dataframe tbody tr th {\n",
       "        vertical-align: top;\n",
       "    }\n",
       "\n",
       "    .dataframe thead th {\n",
       "        text-align: right;\n",
       "    }\n",
       "</style>\n",
       "<table border=\"1\" class=\"dataframe\">\n",
       "  <thead>\n",
       "    <tr style=\"text-align: right;\">\n",
       "      <th></th>\n",
       "      <th>Unnamed: 0</th>\n",
       "      <th>player</th>\n",
       "      <th>team_from</th>\n",
       "      <th>date</th>\n",
       "    </tr>\n",
       "  </thead>\n",
       "  <tbody>\n",
       "    <tr>\n",
       "      <th>0</th>\n",
       "      <td>0</td>\n",
       "      <td>Anthony Bowie</td>\n",
       "      <td>HOU</td>\n",
       "      <td>July 5, 1990</td>\n",
       "    </tr>\n",
       "    <tr>\n",
       "      <th>1</th>\n",
       "      <td>1</td>\n",
       "      <td>Randy Allen</td>\n",
       "      <td>SAC</td>\n",
       "      <td>July 9, 1990</td>\n",
       "    </tr>\n",
       "    <tr>\n",
       "      <th>2</th>\n",
       "      <td>2</td>\n",
       "      <td>Michael Jackson</td>\n",
       "      <td>SAC</td>\n",
       "      <td>July 9, 1990</td>\n",
       "    </tr>\n",
       "    <tr>\n",
       "      <th>3</th>\n",
       "      <td>3</td>\n",
       "      <td>Melvin Turpin</td>\n",
       "      <td>WSB</td>\n",
       "      <td>July 24, 1990</td>\n",
       "    </tr>\n",
       "    <tr>\n",
       "      <th>4</th>\n",
       "      <td>4</td>\n",
       "      <td>Scott Haffner</td>\n",
       "      <td>MIA</td>\n",
       "      <td>August 10, 1990</td>\n",
       "    </tr>\n",
       "    <tr>\n",
       "      <th>...</th>\n",
       "      <td>...</td>\n",
       "      <td>...</td>\n",
       "      <td>...</td>\n",
       "      <td>...</td>\n",
       "    </tr>\n",
       "    <tr>\n",
       "      <th>4830</th>\n",
       "      <td>4830</td>\n",
       "      <td>Terry Taylor</td>\n",
       "      <td>CHI</td>\n",
       "      <td>April 4, 2024</td>\n",
       "    </tr>\n",
       "    <tr>\n",
       "      <th>4831</th>\n",
       "      <td>4831</td>\n",
       "      <td>Isaiah Livers</td>\n",
       "      <td>WAS</td>\n",
       "      <td>April 5, 2024</td>\n",
       "    </tr>\n",
       "    <tr>\n",
       "      <th>4832</th>\n",
       "      <td>4832</td>\n",
       "      <td>Joshua Primo</td>\n",
       "      <td>LAC</td>\n",
       "      <td>April 13, 2024</td>\n",
       "    </tr>\n",
       "    <tr>\n",
       "      <th>4833</th>\n",
       "      <td>4833</td>\n",
       "      <td>Jontay Porter</td>\n",
       "      <td>TOR</td>\n",
       "      <td>April 17, 2024</td>\n",
       "    </tr>\n",
       "    <tr>\n",
       "      <th>4834</th>\n",
       "      <td>4834</td>\n",
       "      <td>Mouhamadou Gueye</td>\n",
       "      <td>TOR</td>\n",
       "      <td>June 24, 2024</td>\n",
       "    </tr>\n",
       "  </tbody>\n",
       "</table>\n",
       "<p>4835 rows × 4 columns</p>\n",
       "</div>"
      ],
      "text/plain": [
       "      Unnamed: 0            player team_from             date\n",
       "0              0     Anthony Bowie       HOU     July 5, 1990\n",
       "1              1       Randy Allen       SAC     July 9, 1990\n",
       "2              2   Michael Jackson       SAC     July 9, 1990\n",
       "3              3     Melvin Turpin       WSB    July 24, 1990\n",
       "4              4     Scott Haffner       MIA  August 10, 1990\n",
       "...          ...               ...       ...              ...\n",
       "4830        4830      Terry Taylor       CHI    April 4, 2024\n",
       "4831        4831     Isaiah Livers       WAS    April 5, 2024\n",
       "4832        4832      Joshua Primo       LAC   April 13, 2024\n",
       "4833        4833     Jontay Porter       TOR   April 17, 2024\n",
       "4834        4834  Mouhamadou Gueye       TOR    June 24, 2024\n",
       "\n",
       "[4835 rows x 4 columns]"
      ]
     },
     "execution_count": 436,
     "metadata": {},
     "output_type": "execute_result"
    }
   ],
   "source": [
    "pd.read_csv('Data/waived_data.csv')"
   ]
  },
  {
   "cell_type": "code",
   "execution_count": 469,
   "metadata": {},
   "outputs": [],
   "source": [
    "traded_df = pd.read_csv('Data/traded_data.csv')"
   ]
  },
  {
   "cell_type": "code",
   "execution_count": 470,
   "metadata": {},
   "outputs": [
    {
     "data": {
      "text/html": [
       "<div>\n",
       "<style scoped>\n",
       "    .dataframe tbody tr th:only-of-type {\n",
       "        vertical-align: middle;\n",
       "    }\n",
       "\n",
       "    .dataframe tbody tr th {\n",
       "        vertical-align: top;\n",
       "    }\n",
       "\n",
       "    .dataframe thead th {\n",
       "        text-align: right;\n",
       "    }\n",
       "</style>\n",
       "<table border=\"1\" class=\"dataframe\">\n",
       "  <thead>\n",
       "    <tr style=\"text-align: right;\">\n",
       "      <th></th>\n",
       "      <th>Unnamed: 0</th>\n",
       "      <th>date</th>\n",
       "      <th>teams</th>\n",
       "      <th>players</th>\n",
       "    </tr>\n",
       "  </thead>\n",
       "  <tbody>\n",
       "    <tr>\n",
       "      <th>0</th>\n",
       "      <td>0</td>\n",
       "      <td>August 1, 1990</td>\n",
       "      <td>{'POR', 'SAC'}</td>\n",
       "      <td>{'Danny Ainge', 'Byron Irvin'}</td>\n",
       "    </tr>\n",
       "    <tr>\n",
       "      <th>1</th>\n",
       "      <td>1</td>\n",
       "      <td>August 1, 1990</td>\n",
       "      <td>{'GSW', 'PHI'}</td>\n",
       "      <td>{'Manute Bol'}</td>\n",
       "    </tr>\n",
       "    <tr>\n",
       "      <th>2</th>\n",
       "      <td>2</td>\n",
       "      <td>August 1, 1990</td>\n",
       "      <td>{'MIL', 'SAS'}</td>\n",
       "      <td>{'Paul Pressey', 'Frank Brickowski'}</td>\n",
       "    </tr>\n",
       "    <tr>\n",
       "      <th>3</th>\n",
       "      <td>3</td>\n",
       "      <td>August 1, 1990</td>\n",
       "      <td>{'DEN', 'MIL'}</td>\n",
       "      <td>{'Terry Mills', 'Danny Schayes'}</td>\n",
       "    </tr>\n",
       "    <tr>\n",
       "      <th>4</th>\n",
       "      <td>4</td>\n",
       "      <td>August 3, 1990</td>\n",
       "      <td>{'DEN', 'LAL'}</td>\n",
       "      <td>{'Orlando Woolridge'}</td>\n",
       "    </tr>\n",
       "    <tr>\n",
       "      <th>...</th>\n",
       "      <td>...</td>\n",
       "      <td>...</td>\n",
       "      <td>...</td>\n",
       "      <td>...</td>\n",
       "    </tr>\n",
       "    <tr>\n",
       "      <th>1446</th>\n",
       "      <td>1446</td>\n",
       "      <td>February 8, 2024</td>\n",
       "      <td>{'DEN', 'LAC'}</td>\n",
       "      <td>{'Ismael Kamagate'}</td>\n",
       "    </tr>\n",
       "    <tr>\n",
       "      <th>1447</th>\n",
       "      <td>1447</td>\n",
       "      <td>February 8, 2024</td>\n",
       "      <td>{'CHO', 'OKC'}</td>\n",
       "      <td>{'Vasilije MiciÄ\\x87', 'Tre Mann', 'Gordon Hay...</td>\n",
       "    </tr>\n",
       "    <tr>\n",
       "      <th>1448</th>\n",
       "      <td>1448</td>\n",
       "      <td>February 8, 2024</td>\n",
       "      <td>{'DAL', 'OKC'}</td>\n",
       "      <td>set()</td>\n",
       "    </tr>\n",
       "    <tr>\n",
       "      <th>1449</th>\n",
       "      <td>1449</td>\n",
       "      <td>June 21, 2024</td>\n",
       "      <td>{'OKC', 'CHI'}</td>\n",
       "      <td>{'Josh Giddey', 'Alex Caruso'}</td>\n",
       "    </tr>\n",
       "    <tr>\n",
       "      <th>1450</th>\n",
       "      <td>1450</td>\n",
       "      <td>June 26, 2024</td>\n",
       "      <td>{'DEN', 'PHO'}</td>\n",
       "      <td>{'DaRon Holmes', 'Ryan Dunn'}</td>\n",
       "    </tr>\n",
       "  </tbody>\n",
       "</table>\n",
       "<p>1451 rows × 4 columns</p>\n",
       "</div>"
      ],
      "text/plain": [
       "      Unnamed: 0              date           teams  \\\n",
       "0              0    August 1, 1990  {'POR', 'SAC'}   \n",
       "1              1    August 1, 1990  {'GSW', 'PHI'}   \n",
       "2              2    August 1, 1990  {'MIL', 'SAS'}   \n",
       "3              3    August 1, 1990  {'DEN', 'MIL'}   \n",
       "4              4    August 3, 1990  {'DEN', 'LAL'}   \n",
       "...          ...               ...             ...   \n",
       "1446        1446  February 8, 2024  {'DEN', 'LAC'}   \n",
       "1447        1447  February 8, 2024  {'CHO', 'OKC'}   \n",
       "1448        1448  February 8, 2024  {'DAL', 'OKC'}   \n",
       "1449        1449     June 21, 2024  {'OKC', 'CHI'}   \n",
       "1450        1450     June 26, 2024  {'DEN', 'PHO'}   \n",
       "\n",
       "                                                players  \n",
       "0                        {'Danny Ainge', 'Byron Irvin'}  \n",
       "1                                        {'Manute Bol'}  \n",
       "2                  {'Paul Pressey', 'Frank Brickowski'}  \n",
       "3                      {'Terry Mills', 'Danny Schayes'}  \n",
       "4                                 {'Orlando Woolridge'}  \n",
       "...                                                 ...  \n",
       "1446                                {'Ismael Kamagate'}  \n",
       "1447  {'Vasilije MiciÄ\\x87', 'Tre Mann', 'Gordon Hay...  \n",
       "1448                                              set()  \n",
       "1449                     {'Josh Giddey', 'Alex Caruso'}  \n",
       "1450                      {'DaRon Holmes', 'Ryan Dunn'}  \n",
       "\n",
       "[1451 rows x 4 columns]"
      ]
     },
     "execution_count": 470,
     "metadata": {},
     "output_type": "execute_result"
    }
   ],
   "source": [
    "traded_df"
   ]
  },
  {
   "cell_type": "code",
   "execution_count": 448,
   "metadata": {},
   "outputs": [
    {
     "data": {
      "text/plain": [
       "[\"'POR'\", \"'SAC'\"]"
      ]
     },
     "execution_count": 448,
     "metadata": {},
     "output_type": "execute_result"
    }
   ],
   "source": [
    "traded_df.loc[0, \"teams\"].removeprefix('{').removesuffix('}').split(', ')"
   ]
  },
  {
   "cell_type": "code",
   "execution_count": 451,
   "metadata": {},
   "outputs": [
    {
     "data": {
      "text/plain": [
       "{'POR', 'SAC'}"
      ]
     },
     "execution_count": 451,
     "metadata": {},
     "output_type": "execute_result"
    }
   ],
   "source": [
    "ast.literal_eval(traded_df.loc[0, \"teams\"])"
   ]
  },
  {
   "cell_type": "code",
   "execution_count": 471,
   "metadata": {},
   "outputs": [
    {
     "data": {
      "text/plain": [
       "0       {POR, SAC}\n",
       "1       {GSW, PHI}\n",
       "2       {MIL, SAS}\n",
       "3       {DEN, MIL}\n",
       "4       {DEN, LAL}\n",
       "           ...    \n",
       "1446    {DEN, LAC}\n",
       "1447    {CHO, OKC}\n",
       "1448    {DAL, OKC}\n",
       "1449    {OKC, CHI}\n",
       "1450    {DEN, PHO}\n",
       "Name: teams, Length: 1451, dtype: object"
      ]
     },
     "execution_count": 471,
     "metadata": {},
     "output_type": "execute_result"
    }
   ],
   "source": [
    "traded_df[\"teams\"].apply(ast.literal_eval)"
   ]
  },
  {
   "cell_type": "code",
   "execution_count": 474,
   "metadata": {},
   "outputs": [
    {
     "data": {
      "text/plain": [
       "0                              {Danny Ainge, Byron Irvin}\n",
       "1                                            {Manute Bol}\n",
       "2                        {Paul Pressey, Frank Brickowski}\n",
       "3                            {Terry Mills, Danny Schayes}\n",
       "4                                     {Orlando Woolridge}\n",
       "                              ...                        \n",
       "1446                                    {Ismael Kamagate}\n",
       "1447    {Vasilije MiciÄ, Tre Mann, Gordon Hayward, Da...\n",
       "1448                                                   {}\n",
       "1449                           {Josh Giddey, Alex Caruso}\n",
       "1450                            {DaRon Holmes, Ryan Dunn}\n",
       "Name: players, Length: 1451, dtype: object"
      ]
     },
     "execution_count": 474,
     "metadata": {},
     "output_type": "execute_result"
    }
   ],
   "source": [
    "traded_df[\"players\"].apply(ast.literal_eval)"
   ]
  },
  {
   "cell_type": "code",
   "execution_count": null,
   "metadata": {},
   "outputs": [],
   "source": []
  }
 ],
 "metadata": {
  "kernelspec": {
   "display_name": "erdos_fall_2024",
   "language": "python",
   "name": "python3"
  },
  "language_info": {
   "codemirror_mode": {
    "name": "ipython",
    "version": 3
   },
   "file_extension": ".py",
   "mimetype": "text/x-python",
   "name": "python",
   "nbconvert_exporter": "python",
   "pygments_lexer": "ipython3",
   "version": "3.12.5"
  },
  "orig_nbformat": 4
 },
 "nbformat": 4,
 "nbformat_minor": 2
}
