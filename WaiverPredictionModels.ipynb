{
 "cells": [
  {
   "cell_type": "markdown",
   "id": "75a68b00-99f7-4afe-b16d-7e483082754f",
   "metadata": {},
   "source": [
    "## Waiver Prediction Models\n",
    "This shows some early attempts to predict if a player would be waived. We ultimately moved from this to player retention (i.e. if a player is in the league at all) as we found higher accuracy for that prediction."
   ]
  },
  {
   "cell_type": "code",
   "execution_count": 1,
   "id": "09cd7cce-3f37-4a72-bfaa-cc257346575f",
   "metadata": {},
   "outputs": [],
   "source": [
    "import pandas as pd\n",
    "import numpy as np\n",
    "import matplotlib.pyplot as plt\n",
    "import seaborn as sns\n",
    "sns.set_style(\"whitegrid\")"
   ]
  },
  {
   "cell_type": "code",
   "execution_count": 2,
   "id": "309e7207-8526-4344-8794-9f87e5611db6",
   "metadata": {},
   "outputs": [],
   "source": [
    "player_data = pd.read_csv(\"train_data.csv\")"
   ]
  },
  {
   "cell_type": "code",
   "execution_count": 3,
   "id": "1b822148-702f-4d00-a10e-1d8d8090bd48",
   "metadata": {},
   "outputs": [],
   "source": [
    "from sklearn.base import BaseEstimator, TransformerMixin\n",
    "class YearWiseStandardScaler(BaseEstimator,TransformerMixin):\n",
    "    def __init__(self, year_column):\n",
    "        self.year_column = year_column\n",
    "        self.year_stats = {}\n",
    "    def fit(self, X, y = None):\n",
    "        grouped = X.groupby(self.year_column)\n",
    "        for year, group in grouped:\n",
    "            self.year_stats[year] = {\n",
    "                \"mean\": group.mean(),\n",
    "                \"std\": group.std(ddof=0), \n",
    "            }\n",
    "        return self\n",
    "    def transform(self, X):\n",
    "        def scale_row(row):\n",
    "            year = row[self.year_column]\n",
    "            stats = self.year_stats[year]\n",
    "            return (row - stats[\"mean\"]) / stats[\"std\"]\n",
    "\n",
    "        scaled_data = X.apply(scale_row, axis=1)\n",
    "        scaled_data = scaled_data.drop(columns=self.year_column)\n",
    "        \n",
    "        return scaled_data"
   ]
  },
  {
   "cell_type": "code",
   "execution_count": 4,
   "id": "20b74286-25c4-4737-a9b5-a0ed0b947c43",
   "metadata": {},
   "outputs": [],
   "source": [
    "#Checking that my YearWiseStandardScaler works\n",
    "toy_data = {\n",
    "    \"Feature1\": [1.5, 1.0, 2.4, 0.0, 8.1, 9.2],\n",
    "    \"Feature2\": [10, 20, 30, 40, 50, 60],\n",
    "    \"Year\": [2023, 2022, 2022, 2023, 2019, 2022]\n",
    "}"
   ]
  },
  {
   "cell_type": "code",
   "execution_count": 5,
   "id": "bd0103b4-d7ee-4f4a-85a0-c7aee113337e",
   "metadata": {},
   "outputs": [],
   "source": [
    "toy_df = df = pd.DataFrame(toy_data)"
   ]
  },
  {
   "cell_type": "code",
   "execution_count": 6,
   "id": "6c0d48fe-765e-4586-81d7-d1d1679ad40c",
   "metadata": {},
   "outputs": [
    {
     "name": "stdout",
     "output_type": "stream",
     "text": [
      "   Feature1  Feature2\n",
      "0  1.000000 -1.000000\n",
      "1 -0.893497 -0.980581\n",
      "2 -0.502592 -0.392232\n",
      "3 -1.000000  1.000000\n",
      "4       NaN       NaN\n",
      "5  1.396089  1.372813\n"
     ]
    }
   ],
   "source": [
    "scaler = YearWiseStandardScaler(year_column =\"Year\")\n",
    "scaler.fit(toy_df)\n",
    "scaled_df = scaler.transform(toy_df)\n",
    "print(scaled_df)"
   ]
  },
  {
   "cell_type": "code",
   "execution_count": 7,
   "id": "8464deca-78af-4bfc-bd5e-714c2cab186c",
   "metadata": {},
   "outputs": [
    {
     "data": {
      "text/plain": [
       "11965"
      ]
     },
     "execution_count": 7,
     "metadata": {},
     "output_type": "execute_result"
    }
   ],
   "source": [
    "len(player_data)"
   ]
  },
  {
   "cell_type": "code",
   "execution_count": 8,
   "id": "7a8a7152-126d-4296-b147-b4099c73b8d1",
   "metadata": {},
   "outputs": [],
   "source": [
    "player_data['WAIVED_BY_START_OF_NEXT_SEASON'] = player_data[['WAIVED', 'RELEASED']].any(axis=1).astype(int)"
   ]
  },
  {
   "cell_type": "code",
   "execution_count": 9,
   "id": "35cbac9b-fc87-4971-bc6c-f81c2bc6372e",
   "metadata": {},
   "outputs": [
    {
     "data": {
      "text/html": [
       "<div>\n",
       "<style scoped>\n",
       "    .dataframe tbody tr th:only-of-type {\n",
       "        vertical-align: middle;\n",
       "    }\n",
       "\n",
       "    .dataframe tbody tr th {\n",
       "        vertical-align: top;\n",
       "    }\n",
       "\n",
       "    .dataframe thead th {\n",
       "        text-align: right;\n",
       "    }\n",
       "</style>\n",
       "<table border=\"1\" class=\"dataframe\">\n",
       "  <thead>\n",
       "    <tr style=\"text-align: right;\">\n",
       "      <th></th>\n",
       "      <th>NAME</th>\n",
       "      <th>PLAYER_ID</th>\n",
       "      <th>SEASON_START</th>\n",
       "      <th>TEAMS_LIST</th>\n",
       "      <th>PLAYER_AGE</th>\n",
       "      <th>EXPERIENCE</th>\n",
       "      <th>POS</th>\n",
       "      <th>GP</th>\n",
       "      <th>GS</th>\n",
       "      <th>MIN</th>\n",
       "      <th>...</th>\n",
       "      <th>WAIVED_REG</th>\n",
       "      <th>WAIVED_POST</th>\n",
       "      <th>RELEASED_OFF</th>\n",
       "      <th>RELEASED_REG</th>\n",
       "      <th>RELEASED_POST</th>\n",
       "      <th>TRADED_OFF</th>\n",
       "      <th>TRADED_REG</th>\n",
       "      <th>TRADED_POST</th>\n",
       "      <th>IN_LEAGUE_NEXT</th>\n",
       "      <th>WAIVED_BY_START_OF_NEXT_SEASON</th>\n",
       "    </tr>\n",
       "  </thead>\n",
       "  <tbody>\n",
       "    <tr>\n",
       "      <th>8317</th>\n",
       "      <td>Buck Johnson</td>\n",
       "      <td>77130</td>\n",
       "      <td>1991</td>\n",
       "      <td>['HOU']</td>\n",
       "      <td>28.0</td>\n",
       "      <td>6.0</td>\n",
       "      <td>SF</td>\n",
       "      <td>80.0</td>\n",
       "      <td>69.0</td>\n",
       "      <td>2202.0</td>\n",
       "      <td>...</td>\n",
       "      <td>0</td>\n",
       "      <td>0</td>\n",
       "      <td>0</td>\n",
       "      <td>0</td>\n",
       "      <td>0</td>\n",
       "      <td>0</td>\n",
       "      <td>0</td>\n",
       "      <td>0</td>\n",
       "      <td>1</td>\n",
       "      <td>0</td>\n",
       "    </tr>\n",
       "  </tbody>\n",
       "</table>\n",
       "<p>1 rows × 63 columns</p>\n",
       "</div>"
      ],
      "text/plain": [
       "              NAME  PLAYER_ID  SEASON_START TEAMS_LIST  PLAYER_AGE  \\\n",
       "8317  Buck Johnson      77130          1991    ['HOU']        28.0   \n",
       "\n",
       "      EXPERIENCE POS    GP    GS     MIN  ...  WAIVED_REG  WAIVED_POST  \\\n",
       "8317         6.0  SF  80.0  69.0  2202.0  ...           0            0   \n",
       "\n",
       "      RELEASED_OFF  RELEASED_REG  RELEASED_POST  TRADED_OFF  TRADED_REG  \\\n",
       "8317             0             0              0           0           0   \n",
       "\n",
       "      TRADED_POST  IN_LEAGUE_NEXT  WAIVED_BY_START_OF_NEXT_SEASON  \n",
       "8317            0               1                               0  \n",
       "\n",
       "[1 rows x 63 columns]"
      ]
     },
     "execution_count": 9,
     "metadata": {},
     "output_type": "execute_result"
    }
   ],
   "source": [
    "player_data.sample()"
   ]
  },
  {
   "cell_type": "code",
   "execution_count": 10,
   "id": "c64a7da5-1b80-464d-b473-0b23b2cbd1c5",
   "metadata": {},
   "outputs": [],
   "source": [
    "player_data = player_data.dropna(subset=['SALARY'])"
   ]
  },
  {
   "cell_type": "code",
   "execution_count": 11,
   "id": "ce1cd200-7a17-4972-b9b5-28b07cb4f98d",
   "metadata": {},
   "outputs": [
    {
     "data": {
      "text/plain": [
       "11397"
      ]
     },
     "execution_count": 11,
     "metadata": {},
     "output_type": "execute_result"
    }
   ],
   "source": [
    "len(player_data)"
   ]
  },
  {
   "cell_type": "code",
   "execution_count": 12,
   "id": "35ef6efe-d01f-4516-878c-e8dc8fc3e46b",
   "metadata": {},
   "outputs": [],
   "source": [
    "player_data = player_data[player_data['MIN'] != 0]"
   ]
  },
  {
   "cell_type": "code",
   "execution_count": 13,
   "id": "1b103dd0-22ed-4546-9ede-0a85606ccee6",
   "metadata": {},
   "outputs": [
    {
     "data": {
      "text/plain": [
       "11394"
      ]
     },
     "execution_count": 13,
     "metadata": {},
     "output_type": "execute_result"
    }
   ],
   "source": [
    "len(player_data)"
   ]
  },
  {
   "cell_type": "code",
   "execution_count": 14,
   "id": "ba446ef6-5ff6-4344-be28-b514511a36d6",
   "metadata": {},
   "outputs": [],
   "source": [
    "columns_to_normalize = ['FGM', 'FGA', 'PTS', 'PF', 'DREB', 'OREB', 'REB', 'FTA', 'FTM', 'STL', 'TOV', 'BLK', 'AST', 'FG3A', 'FG3M']\n",
    "\n",
    "# Normalize the selected columns by dividing by 'MIN'\n",
    "player_data[columns_to_normalize] = player_data[columns_to_normalize].div(player_data['MIN'], axis=0)\n",
    "\n",
    "# Rename columns to include \"per minute\"\n",
    "rename_dict = {col: f\"{col} / MIN\" for col in columns_to_normalize}\n",
    "player_data.rename(columns=rename_dict, inplace=True)"
   ]
  },
  {
   "cell_type": "code",
   "execution_count": 15,
   "id": "87d1b0db-2dd2-45a9-9347-9b1315045341",
   "metadata": {},
   "outputs": [
    {
     "data": {
      "text/html": [
       "<div>\n",
       "<style scoped>\n",
       "    .dataframe tbody tr th:only-of-type {\n",
       "        vertical-align: middle;\n",
       "    }\n",
       "\n",
       "    .dataframe tbody tr th {\n",
       "        vertical-align: top;\n",
       "    }\n",
       "\n",
       "    .dataframe thead th {\n",
       "        text-align: right;\n",
       "    }\n",
       "</style>\n",
       "<table border=\"1\" class=\"dataframe\">\n",
       "  <thead>\n",
       "    <tr style=\"text-align: right;\">\n",
       "      <th></th>\n",
       "      <th>NAME</th>\n",
       "      <th>PLAYER_ID</th>\n",
       "      <th>SEASON_START</th>\n",
       "      <th>TEAMS_LIST</th>\n",
       "      <th>PLAYER_AGE</th>\n",
       "      <th>EXPERIENCE</th>\n",
       "      <th>POS</th>\n",
       "      <th>GP</th>\n",
       "      <th>GS</th>\n",
       "      <th>MIN</th>\n",
       "      <th>...</th>\n",
       "      <th>WAIVED_REG</th>\n",
       "      <th>WAIVED_POST</th>\n",
       "      <th>RELEASED_OFF</th>\n",
       "      <th>RELEASED_REG</th>\n",
       "      <th>RELEASED_POST</th>\n",
       "      <th>TRADED_OFF</th>\n",
       "      <th>TRADED_REG</th>\n",
       "      <th>TRADED_POST</th>\n",
       "      <th>IN_LEAGUE_NEXT</th>\n",
       "      <th>WAIVED_BY_START_OF_NEXT_SEASON</th>\n",
       "    </tr>\n",
       "  </thead>\n",
       "  <tbody>\n",
       "    <tr>\n",
       "      <th>3218</th>\n",
       "      <td>Gerald Wilkins</td>\n",
       "      <td>786</td>\n",
       "      <td>1990</td>\n",
       "      <td>['NYK']</td>\n",
       "      <td>27.0</td>\n",
       "      <td>6.0</td>\n",
       "      <td>SG</td>\n",
       "      <td>68.0</td>\n",
       "      <td>56.0</td>\n",
       "      <td>2164.0</td>\n",
       "      <td>...</td>\n",
       "      <td>0</td>\n",
       "      <td>0</td>\n",
       "      <td>0</td>\n",
       "      <td>0</td>\n",
       "      <td>0</td>\n",
       "      <td>0</td>\n",
       "      <td>0</td>\n",
       "      <td>0</td>\n",
       "      <td>1</td>\n",
       "      <td>0</td>\n",
       "    </tr>\n",
       "  </tbody>\n",
       "</table>\n",
       "<p>1 rows × 63 columns</p>\n",
       "</div>"
      ],
      "text/plain": [
       "                NAME  PLAYER_ID  SEASON_START TEAMS_LIST  PLAYER_AGE  \\\n",
       "3218  Gerald Wilkins        786          1990    ['NYK']        27.0   \n",
       "\n",
       "      EXPERIENCE POS    GP    GS     MIN  ...  WAIVED_REG  WAIVED_POST  \\\n",
       "3218         6.0  SG  68.0  56.0  2164.0  ...           0            0   \n",
       "\n",
       "      RELEASED_OFF  RELEASED_REG  RELEASED_POST  TRADED_OFF  TRADED_REG  \\\n",
       "3218             0             0              0           0           0   \n",
       "\n",
       "      TRADED_POST  IN_LEAGUE_NEXT  WAIVED_BY_START_OF_NEXT_SEASON  \n",
       "3218            0               1                               0  \n",
       "\n",
       "[1 rows x 63 columns]"
      ]
     },
     "execution_count": 15,
     "metadata": {},
     "output_type": "execute_result"
    }
   ],
   "source": [
    "player_data.sample()"
   ]
  },
  {
   "cell_type": "markdown",
   "id": "3e087f54-4a5d-498e-bd60-af0426bcdf4b",
   "metadata": {},
   "source": [
    "Now let's find the most correlated features"
   ]
  },
  {
   "cell_type": "code",
   "execution_count": 16,
   "id": "af9c2c19-2b79-4dc9-90a6-c6f430169189",
   "metadata": {},
   "outputs": [],
   "source": [
    "numeric_data = player_data.select_dtypes(include=['number'])"
   ]
  },
  {
   "cell_type": "code",
   "execution_count": 17,
   "id": "1088b10c-716e-4a44-b8ae-eb5707e740ef",
   "metadata": {},
   "outputs": [
    {
     "name": "stdout",
     "output_type": "stream",
     "text": [
      "WAIVED_BY_START_OF_NEXT_SEASON    1.000000\n",
      "WAIVED                            0.947449\n",
      "WAIVED_REG                        0.795938\n",
      "WAIVED_OFF                        0.571506\n",
      "RELEASED                          0.325645\n",
      "RELEASED_OFF                      0.295017\n",
      "RELEASED_REG                      0.131331\n",
      "PF / MIN                          0.106916\n",
      "TOV_PERCENT                       0.106464\n",
      "WAIVED_POST                       0.089167\n",
      "PLAYER_AGE                        0.080225\n",
      "RELEASED_POST                     0.063034\n",
      "X3P_AR                            0.055353\n",
      "PLAYER_ID                         0.034326\n",
      "SEASON_START                      0.024243\n",
      "TOV / MIN                         0.023506\n",
      "TRADED_REG                        0.023022\n",
      "FG3A / MIN                        0.020922\n",
      "TRADED                            0.006751\n",
      "EXPERIENCE                        0.005129\n",
      "OREB / MIN                       -0.006836\n",
      "STL_PERCENT                      -0.006875\n",
      "F_TR                             -0.007385\n",
      "STL / MIN                        -0.007439\n",
      "TRADED_OFF                       -0.007468\n",
      "ORB_PERCENT                      -0.010421\n",
      "AST / MIN                        -0.012250\n",
      "TRADED_POST                      -0.014546\n",
      "FG3M / MIN                       -0.020635\n",
      "AST_PERCENT                      -0.031484\n",
      "REB / MIN                        -0.049459\n",
      "TRB_PERCENT                      -0.050190\n",
      "BLK_PERCENT                      -0.071262\n",
      "DREB / MIN                       -0.071552\n",
      "DRB_PERCENT                      -0.071821\n",
      "BLK / MIN                        -0.073980\n",
      "FG3_PCT                          -0.080542\n",
      "DBPM                             -0.099234\n",
      "FTA / MIN                        -0.102941\n",
      "USG_PERCENT                      -0.108247\n",
      "FGA / MIN                        -0.112974\n",
      "FTM / MIN                        -0.135119\n",
      "SALARY                           -0.154791\n",
      "VORP                             -0.176926\n",
      "FT_PCT                           -0.187416\n",
      "FGM / MIN                        -0.199400\n",
      "PTS / MIN                        -0.200164\n",
      "FG_PCT                           -0.206845\n",
      "TS_PERCENT                       -0.210742\n",
      "OWS                              -0.215253\n",
      "WS_48                            -0.218319\n",
      "BPM                              -0.231099\n",
      "OBPM                             -0.235165\n",
      "PER                              -0.240195\n",
      "WS                               -0.261602\n",
      "GS                               -0.262466\n",
      "DWS                              -0.275687\n",
      "MIN                              -0.342061\n",
      "IN_LEAGUE_NEXT                   -0.356754\n",
      "GP                               -0.402461\n",
      "Name: WAIVED_BY_START_OF_NEXT_SEASON, dtype: float64\n"
     ]
    }
   ],
   "source": [
    "correlations = numeric_data.corr()['WAIVED_BY_START_OF_NEXT_SEASON']\n",
    "sorted_correlations = correlations.sort_values(ascending=False)\n",
    "pd.set_option('display.max_rows', None)\n",
    "\n",
    "# Print the sorted correlations\n",
    "print(sorted_correlations)\n",
    "\n",
    "# Reset display options if needed\n",
    "pd.reset_option('display.max_rows')"
   ]
  },
  {
   "cell_type": "markdown",
   "id": "200db00b-6d82-4207-bff4-c470456c381d",
   "metadata": {},
   "source": [
    "Since player_ID is correlated at 10% despite being complete random, let's take anything that's correlated at 15% or higher"
   ]
  },
  {
   "cell_type": "code",
   "execution_count": 18,
   "id": "6c943593-9b1d-4685-b485-014a3a574049",
   "metadata": {},
   "outputs": [
    {
     "data": {
      "text/plain": [
       "22"
      ]
     },
     "execution_count": 18,
     "metadata": {},
     "output_type": "execute_result"
    }
   ],
   "source": [
    "Xfeatures = ['GP', 'MIN', 'DWS', 'GS', 'WS', 'OBPM', 'BPM', 'PER', 'OWS', 'WS_48', 'FT_PCT', 'FG_PCT', 'FGM / MIN', 'PTS / MIN', 'VORP', 'TS_PERCENT', 'SALARY', 'FTM / MIN', 'USG_PERCENT', 'FTA / MIN', 'FGA / MIN' , 'SEASON_START']\n",
    "len(Xfeatures)"
   ]
  },
  {
   "cell_type": "code",
   "execution_count": 19,
   "id": "8928d0cc-bcdb-46bf-9342-a950668e2392",
   "metadata": {},
   "outputs": [],
   "source": [
    "from sklearn.model_selection import train_test_split"
   ]
  },
  {
   "cell_type": "code",
   "execution_count": 20,
   "id": "e7d3c0d6-438d-44f7-a0cb-f05918315048",
   "metadata": {},
   "outputs": [
    {
     "name": "stdout",
     "output_type": "stream",
     "text": [
      "9115\n",
      "2279\n"
     ]
    }
   ],
   "source": [
    "train_player_data, test_player_data = train_test_split(player_data, test_size=0.2, stratify=player_data['WAIVED_BY_START_OF_NEXT_SEASON'], random_state=812)\n",
    "print(len(train_player_data))\n",
    "print(len(test_player_data))"
   ]
  },
  {
   "cell_type": "code",
   "execution_count": 21,
   "id": "c827d791-d7ef-45d3-bff1-b4d59b8e9099",
   "metadata": {},
   "outputs": [
    {
     "name": "stdout",
     "output_type": "stream",
     "text": [
      "0.11705979155238617\n",
      "0.10335679675409806\n"
     ]
    }
   ],
   "source": [
    "train_player_data_waived = train_player_data.loc[train_player_data['WAIVED_BY_START_OF_NEXT_SEASON'] == 1]\n",
    "p = len(train_player_data_waived)/len(train_player_data)\n",
    "print(p)\n",
    "print(p*(1 - p))\n",
    "bbs = p*(1 - p)"
   ]
  },
  {
   "cell_type": "markdown",
   "id": "a8677987-bf62-4657-bc06-ab7a7e3f4dab",
   "metadata": {},
   "source": [
    "About 14% of the players are waived, so a randomly guessing waived or not with that probability would have an F1-score of about 14% and a Brier score of about .1175"
   ]
  },
  {
   "cell_type": "code",
   "execution_count": 22,
   "id": "82dda190-9d65-46f4-8a6b-9e6248eab1a2",
   "metadata": {},
   "outputs": [],
   "source": [
    "from sklearn.preprocessing import StandardScaler\n",
    "from sklearn.neighbors import KNeighborsClassifier\n",
    "from sklearn.pipeline import Pipeline\n",
    "from sklearn.metrics import accuracy_score, confusion_matrix, f1_score, brier_score_loss, balanced_accuracy_score"
   ]
  },
  {
   "cell_type": "code",
   "execution_count": 23,
   "id": "cc71ca68-6643-42cd-a498-6f7bdb048431",
   "metadata": {},
   "outputs": [
    {
     "name": "stdout",
     "output_type": "stream",
     "text": [
      "9099\n",
      "F1 score:  0.1984732824427481\n",
      "Balanced Accuracy:  0.5538425739103797\n",
      "Accuracy:  0.8846153846153846\n",
      "Baseline F1 score:  0.11705979155238617\n",
      "Baseline Balanced Accuracy: .5\n",
      "Baseline Accuracy:  0.7932864064918037\n"
     ]
    }
   ],
   "source": [
    "\n",
    "train_player_data = train_player_data.dropna(subset = Xfeatures)\n",
    "print(len(train_player_data))\n",
    "X = train_player_data[Xfeatures]\n",
    "y = train_player_data['WAIVED_BY_START_OF_NEXT_SEASON']\n",
    "X_train, X_test, y_train, y_test = train_test_split(X, y, test_size=0.2, random_state=812, stratify = y)\n",
    "knn_pipeline = Pipeline([\n",
    "    ('scaler', YearWiseStandardScaler(year_column = 'SEASON_START')),\n",
    "    ('knn', KNeighborsClassifier(n_neighbors = 15))\n",
    "])\n",
    "knn_pipeline.fit(X_train, y_train)\n",
    "y_pred = knn_pipeline.predict(X_test)\n",
    "f1score = f1_score(y_test, y_pred)\n",
    "print(\"F1 score: \", f1score)\n",
    "print(\"Balanced Accuracy: \", balanced_accuracy_score(y_test, y_pred))\n",
    "print(\"Accuracy: \", accuracy_score(y_test, y_pred))\n",
    "\n",
    "print(\"Baseline F1 score: \", p)\n",
    "print(\"Baseline Balanced Accuracy: .5\")\n",
    "print(\"Baseline Accuracy: \", p**2+(1 - p)**2)"
   ]
  },
  {
   "cell_type": "code",
   "execution_count": 24,
   "id": "b1257eb4-bd38-437e-985d-9cb2a88633f3",
   "metadata": {},
   "outputs": [
    {
     "name": "stdout",
     "output_type": "stream",
     "text": [
      "Brier Score:  0.08761416361416362\n",
      "Brier Skill Score:  0.1523134775295777\n",
      "Baseline Brier Score:  0.10335679675409806\n"
     ]
    }
   ],
   "source": [
    "y_prob = knn_pipeline.predict_proba(X_test)\n",
    "y_prob = y_prob[:, 1]\n",
    "brier_score = brier_score_loss(y_test, y_prob)\n",
    "print(\"Brier Score: \", brier_score)\n",
    "print(\"Brier Skill Score: \", 1 - brier_score/bbs)\n",
    "print(\"Baseline Brier Score: \", bbs)"
   ]
  },
  {
   "cell_type": "code",
   "execution_count": 25,
   "id": "614bc48f-7ea6-4969-9ad4-0480b967736a",
   "metadata": {},
   "outputs": [
    {
     "data": {
      "text/html": [
       "<div>\n",
       "<style scoped>\n",
       "    .dataframe tbody tr th:only-of-type {\n",
       "        vertical-align: middle;\n",
       "    }\n",
       "\n",
       "    .dataframe tbody tr th {\n",
       "        vertical-align: top;\n",
       "    }\n",
       "\n",
       "    .dataframe thead th {\n",
       "        text-align: right;\n",
       "    }\n",
       "</style>\n",
       "<table border=\"1\" class=\"dataframe\">\n",
       "  <thead>\n",
       "    <tr style=\"text-align: right;\">\n",
       "      <th></th>\n",
       "      <th>Metric</th>\n",
       "      <th>KNN Model</th>\n",
       "      <th>Baseline</th>\n",
       "    </tr>\n",
       "  </thead>\n",
       "  <tbody>\n",
       "    <tr>\n",
       "      <th>0</th>\n",
       "      <td>Accuracy</td>\n",
       "      <td>0.8846</td>\n",
       "      <td>0.7952</td>\n",
       "    </tr>\n",
       "    <tr>\n",
       "      <th>1</th>\n",
       "      <td>Balanced Accuracy</td>\n",
       "      <td>0.5538</td>\n",
       "      <td>0.5000</td>\n",
       "    </tr>\n",
       "    <tr>\n",
       "      <th>2</th>\n",
       "      <td>F1 Score</td>\n",
       "      <td>0.1985</td>\n",
       "      <td>0.1158</td>\n",
       "    </tr>\n",
       "    <tr>\n",
       "      <th>3</th>\n",
       "      <td>1-Brier Score</td>\n",
       "      <td>0.9124</td>\n",
       "      <td>0.8976</td>\n",
       "    </tr>\n",
       "  </tbody>\n",
       "</table>\n",
       "</div>"
      ],
      "text/plain": [
       "              Metric  KNN Model  Baseline\n",
       "0           Accuracy     0.8846    0.7952\n",
       "1  Balanced Accuracy     0.5538    0.5000\n",
       "2           F1 Score     0.1985    0.1158\n",
       "3      1-Brier Score     0.9124    0.8976"
      ]
     },
     "execution_count": 25,
     "metadata": {},
     "output_type": "execute_result"
    }
   ],
   "source": [
    "\n",
    "metric_summary  = {\n",
    "    \"Metric\": [\"Accuracy\", \"Balanced Accuracy\", \"F1 Score\", \"1-Brier Score\"],\n",
    "    \"KNN Model\": [0.8846, 0.5538, 0.1985, 1-0.0876],\n",
    "    \"Baseline\": [0.7952, 0.5000, 0.1158, 1-0.1024],\n",
    "}\n",
    "\n",
    "# Create a DataFrame\n",
    "metrics_df = pd.DataFrame(metric_summary)\n",
    "metrics_df"
   ]
  },
  {
   "cell_type": "code",
   "execution_count": 26,
   "id": "d82331af-1a9e-4e65-ba2d-3de1c13d1516",
   "metadata": {},
   "outputs": [],
   "source": [
    "from sklearn.linear_model import LogisticRegression\n",
    "X = train_player_data[Xfeatures]\n",
    "y = train_player_data['WAIVED_BY_START_OF_NEXT_SEASON']\n",
    "X_train, X_test, y_train, y_test = train_test_split(X, y, test_size=0.2, random_state=813, stratify = y)\n"
   ]
  },
  {
   "cell_type": "code",
   "execution_count": 27,
   "id": "8e40e6cf-e430-4e4b-b014-822f7b85fdb0",
   "metadata": {},
   "outputs": [
    {
     "name": "stdout",
     "output_type": "stream",
     "text": [
      "F1 score:  0.22302158273381295\n",
      "Balanced Accuracy:  0.5622726429238378\n"
     ]
    }
   ],
   "source": [
    "log_reg = Pipeline([\n",
    "    ('scaler', YearWiseStandardScaler(year_column = 'SEASON_START')),\n",
    "    ('logreg', LogisticRegression(max_iter=10000))\n",
    "])\n",
    "\n",
    "log_reg.fit(X_train, y_train)\n",
    "y_pred = log_reg.predict(X_test)\n",
    "f1score = f1_score(y_test, y_pred)\n",
    "print(\"F1 score: \", f1score)\n",
    "print(\"Balanced Accuracy: \", balanced_accuracy_score(y_test, y_pred))"
   ]
  },
  {
   "cell_type": "code",
   "execution_count": 28,
   "id": "55ce54e7-514b-4ca1-942e-c5a56272ef74",
   "metadata": {},
   "outputs": [],
   "source": [
    "y_prob = log_reg.predict_proba(X_test)"
   ]
  },
  {
   "cell_type": "code",
   "execution_count": 29,
   "id": "357da20c-0650-45f7-ba4d-7c588eab4a3d",
   "metadata": {},
   "outputs": [
    {
     "name": "stdout",
     "output_type": "stream",
     "text": [
      "Brier Score:  0.08383540825767548\n",
      "Brier Skill Score:  0.18887377617620071\n"
     ]
    }
   ],
   "source": [
    "\n",
    "y_prob\n",
    "y_prob = y_prob[:, 1]\n",
    "brier_score = brier_score_loss(y_test, y_prob)\n",
    "print(\"Brier Score: \", brier_score)\n",
    "print(\"Brier Skill Score: \", 1 - brier_score/bbs)"
   ]
  },
  {
   "cell_type": "code",
   "execution_count": 30,
   "id": "8a5a6440-ef52-406f-b7b1-5d619af205e2",
   "metadata": {},
   "outputs": [],
   "source": [
    "from sklearn import tree\n",
    "from sklearn.tree import DecisionTreeClassifier"
   ]
  },
  {
   "cell_type": "code",
   "execution_count": 31,
   "id": "463d0707-1c33-4346-af40-cf083b36e8bd",
   "metadata": {},
   "outputs": [
    {
     "name": "stdout",
     "output_type": "stream",
     "text": [
      "F1 score:  0.2827586206896552\n",
      "Balanced Accuracy:  0.5853478213485165\n"
     ]
    }
   ],
   "source": [
    "#tree_cfr = Pipeline([(scaler = YearWiseStandardScaler(year_column = 'SEASON_START'), (classifier = DecisionTreeClassifier(max_depth=6, random_state=814)))])\n",
    "tree_cfr = Pipeline([\n",
    "    ('scaler', YearWiseStandardScaler(year_column='SEASON_START')),  \n",
    "    ('classifier', DecisionTreeClassifier(max_depth = 6, random_state=814))  \n",
    "])\n",
    "X = train_player_data[Xfeatures]\n",
    "y = train_player_data['WAIVED_BY_START_OF_NEXT_SEASON']\n",
    "X_train, X_test, y_train, y_test = train_test_split(X, y, test_size=0.2, random_state=815, stratify = y)\n",
    "tree_cfr.fit(X_train, y_train)\n",
    "y_pred = tree_cfr.predict(X_test)\n",
    "f1score = f1_score(y_test, y_pred)\n",
    "print(\"F1 score: \", f1score)\n",
    "print(\"Balanced Accuracy: \", balanced_accuracy_score(y_test, y_pred))"
   ]
  },
  {
   "cell_type": "code",
   "execution_count": 32,
   "id": "16d781cd-743a-4dec-88ec-7a62d0e5208f",
   "metadata": {},
   "outputs": [
    {
     "name": "stdout",
     "output_type": "stream",
     "text": [
      "Brier Score:  0.09570581321800904\n",
      "Brier Skill Score:  0.07402496764960609\n"
     ]
    }
   ],
   "source": [
    "y_prob = tree_cfr.predict_proba(X_test)\n",
    "y_prob = y_prob[:, 1]\n",
    "brier_score = brier_score_loss(y_test, y_prob)\n",
    "print(\"Brier Score: \", brier_score)\n",
    "print(\"Brier Skill Score: \", 1 - brier_score/bbs)"
   ]
  },
  {
   "cell_type": "code",
   "execution_count": 33,
   "id": "22405a5c-6e8c-459b-ad54-0f8f1e55f48b",
   "metadata": {},
   "outputs": [],
   "source": [
    "from sklearn.ensemble import RandomForestClassifier\n",
    "rf = RandomForestClassifier(\n",
    "    n_estimators = 50, \n",
    "    max_depth = 3, \n",
    "    max_features = 6, \n",
    "    bootstrap= True, \n",
    "    max_samples = 500,\n",
    "    random_state = 816\n",
    "    )\n",
    "rf = Pipeline([('scaler', YearWiseStandardScaler(year_column='SEASON_START')), ('classifier', RandomForestClassifier(\n",
    "    n_estimators = 50, \n",
    "    max_depth = 3, \n",
    "    max_features = 6, \n",
    "    bootstrap= True, \n",
    "    max_samples = 500,\n",
    "    random_state = 816\n",
    "    ))])"
   ]
  },
  {
   "cell_type": "code",
   "execution_count": 34,
   "id": "1b29aa62-1d0d-439b-a0c6-0895b3eb6c89",
   "metadata": {},
   "outputs": [
    {
     "name": "stdout",
     "output_type": "stream",
     "text": [
      "F1 score:  0.14937759336099585\n",
      "Balanced Accuracy:  0.5389250041973614\n"
     ]
    }
   ],
   "source": [
    "X = train_player_data[Xfeatures]\n",
    "y = train_player_data['WAIVED_BY_START_OF_NEXT_SEASON']\n",
    "X_train, X_test, y_train, y_test = train_test_split(X, y, test_size=0.2, random_state=817, stratify = y)\n",
    "rf.fit(X_train, y_train)\n",
    "y_pred = rf.predict(X_test)\n",
    "f1score = f1_score(y_test, y_pred)\n",
    "print(\"F1 score: \", f1score)\n",
    "print(\"Balanced Accuracy: \", balanced_accuracy_score(y_test, y_pred))"
   ]
  },
  {
   "cell_type": "code",
   "execution_count": 35,
   "id": "4dc92012-2bf8-4fe5-a9c0-82727fbba84d",
   "metadata": {},
   "outputs": [
    {
     "name": "stdout",
     "output_type": "stream",
     "text": [
      "Brier Score:  0.07267239531529213\n",
      "Brier Skill Score:  0.2968784095719308\n"
     ]
    }
   ],
   "source": [
    "y_prob = tree_cfr.predict_proba(X_test)\n",
    "y_prob = y_prob[:, 1]\n",
    "brier_score = brier_score_loss(y_test, y_prob)\n",
    "print(\"Brier Score: \", brier_score)\n",
    "print(\"Brier Skill Score: \", 1 - brier_score/bbs)"
   ]
  },
  {
   "cell_type": "markdown",
   "id": "302ccbe0-e1c0-4302-b92d-1bd842cdf4f5",
   "metadata": {},
   "source": [
    "Of the non-ensemble methods, the decision tree works best, so let's boost that one with AdaBoost"
   ]
  },
  {
   "cell_type": "code",
   "execution_count": 36,
   "id": "eb8c46ac-3917-413e-8144-ff2c74e430d3",
   "metadata": {},
   "outputs": [],
   "source": [
    "from sklearn.ensemble import AdaBoostClassifier"
   ]
  },
  {
   "cell_type": "code",
   "execution_count": 37,
   "id": "f31477e9-3a78-4b49-ab7d-429b0a7ff083",
   "metadata": {},
   "outputs": [],
   "source": [
    "ada_clf = AdaBoostClassifier(DecisionTreeClassifier(max_depth=6),\n",
    "                                n_estimators=100,\n",
    "                                algorithm = 'SAMME',\n",
    "                                learning_rate = 0.05,\n",
    "                                random_state=818)\n",
    "ada_clf = Pipeline([('scalar', YearWiseStandardScaler(year_column = 'SEASON_START')), ('classifier', AdaBoostClassifier(DecisionTreeClassifier(max_depth=6),\n",
    "                                n_estimators=100,\n",
    "                                algorithm = 'SAMME',\n",
    "                                learning_rate = 0.05,\n",
    "                                random_state=818))])"
   ]
  },
  {
   "cell_type": "code",
   "execution_count": null,
   "id": "79b7fff5-d1f6-4d37-a9b5-04a99ac8db1f",
   "metadata": {},
   "outputs": [],
   "source": [
    "X = train_player_data[Xfeatures]\n",
    "y = train_player_data['WAIVED_BY_START_OF_NEXT_SEASON']\n",
    "X_train, X_test, y_train, y_test = train_test_split(X, y, test_size=0.2, random_state=817, stratify = y)\n",
    "ada_clf.fit(X_train, y_train)"
   ]
  },
  {
   "cell_type": "code",
   "execution_count": null,
   "id": "4f2e0663-a830-4c9b-b467-f415f75fe74a",
   "metadata": {},
   "outputs": [],
   "source": [
    "y_pred = tree_cfr.predict(X_test)\n",
    "f1score = f1_score(y_test, y_pred)\n",
    "print(\"F1 score: \", f1score)\n",
    "print(\"Balanced Accuracy: \", balanced_accuracy_score(y_test, y_pred))"
   ]
  },
  {
   "cell_type": "code",
   "execution_count": null,
   "id": "622bd1df-90e6-42ac-8fa3-4dfe742ed0bd",
   "metadata": {},
   "outputs": [],
   "source": [
    "y_prob = ada_clf.predict_proba(X_test)\n",
    "y_prob = y_prob[:, 1]\n",
    "brier_score = brier_score_loss(y_test, y_prob)\n",
    "print(\"Brier Score: \", brier_score)\n",
    "print(\"Brier Skill Score: \", 1 - brier_score/bbs)"
   ]
  },
  {
   "cell_type": "code",
   "execution_count": null,
   "id": "4f1c1d78-8ae7-4bbc-8896-e52a170c342f",
   "metadata": {},
   "outputs": [],
   "source": []
  },
  {
   "cell_type": "code",
   "execution_count": null,
   "id": "f3f6b1d6-d297-47b0-a546-e58e83bed4dc",
   "metadata": {},
   "outputs": [],
   "source": []
  }
 ],
 "metadata": {
  "kernelspec": {
   "display_name": "Python 3 (ipykernel)",
   "language": "python",
   "name": "python3"
  },
  "language_info": {
   "codemirror_mode": {
    "name": "ipython",
    "version": 3
   },
   "file_extension": ".py",
   "mimetype": "text/x-python",
   "name": "python",
   "nbconvert_exporter": "python",
   "pygments_lexer": "ipython3",
   "version": "3.12.5"
  }
 },
 "nbformat": 4,
 "nbformat_minor": 5
}
