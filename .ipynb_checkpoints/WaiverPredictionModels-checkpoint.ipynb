{
 "cells": [
  {
   "cell_type": "markdown",
   "id": "75a68b00-99f7-4afe-b16d-7e483082754f",
   "metadata": {},
   "source": [
    "## Waiver Prediction Models\n"
   ]
  },
  {
   "cell_type": "code",
   "execution_count": 1,
   "id": "09cd7cce-3f37-4a72-bfaa-cc257346575f",
   "metadata": {},
   "outputs": [],
   "source": [
    "import pandas as pd\n",
    "import numpy as np\n",
    "import matplotlib.pyplot as plt\n",
    "import seaborn as sns\n",
    "sns.set_style(\"whitegrid\")"
   ]
  },
  {
   "cell_type": "code",
   "execution_count": 2,
   "id": "309e7207-8526-4344-8794-9f87e5611db6",
   "metadata": {},
   "outputs": [],
   "source": [
    "player_data = pd.read_csv(\"Data/merged_data/train_data.csv\")"
   ]
  },
  {
   "cell_type": "markdown",
   "id": "b1301c6d-90dd-48bb-96e4-3cd86f4fded7",
   "metadata": {},
   "source": [
    "As a pilot test for Collin's idea, let's run these models again with only data since 2015"
   ]
  },
  {
   "cell_type": "code",
   "execution_count": 3,
   "id": "8464deca-78af-4bfc-bd5e-714c2cab186c",
   "metadata": {},
   "outputs": [
    {
     "data": {
      "text/plain": [
       "12655"
      ]
     },
     "execution_count": 3,
     "metadata": {},
     "output_type": "execute_result"
    }
   ],
   "source": [
    "len(player_data)"
   ]
  },
  {
   "cell_type": "code",
   "execution_count": 4,
   "id": "90c49f40-acd1-418c-b399-749db1cf9b94",
   "metadata": {},
   "outputs": [],
   "source": [
    "player_data = player_data.loc[player_data['SEASON_START'] > 2012]"
   ]
  },
  {
   "cell_type": "code",
   "execution_count": 5,
   "id": "665a68a3-cfdc-4b17-9b3b-9eb13d4d3142",
   "metadata": {},
   "outputs": [
    {
     "data": {
      "text/plain": [
       "4626"
      ]
     },
     "execution_count": 5,
     "metadata": {},
     "output_type": "execute_result"
    }
   ],
   "source": [
    "len(player_data)"
   ]
  },
  {
   "cell_type": "code",
   "execution_count": 6,
   "id": "89f2ee97-3d82-43e6-a465-62476a9abd67",
   "metadata": {},
   "outputs": [
    {
     "data": {
      "text/plain": [
       "np.int64(2023)"
      ]
     },
     "execution_count": 6,
     "metadata": {},
     "output_type": "execute_result"
    }
   ],
   "source": [
    "player_data['SEASON_START'].max()"
   ]
  },
  {
   "cell_type": "code",
   "execution_count": 7,
   "id": "7a8a7152-126d-4296-b147-b4099c73b8d1",
   "metadata": {},
   "outputs": [],
   "source": [
    "player_data['WAIVED_BY_START_OF_NEXT_SEASON'] = player_data[['WAIVED', 'RELEASED']].any(axis=1).astype(int)"
   ]
  },
  {
   "cell_type": "code",
   "execution_count": 8,
   "id": "35cbac9b-fc87-4971-bc6c-f81c2bc6372e",
   "metadata": {},
   "outputs": [
    {
     "data": {
      "text/html": [
       "<div>\n",
       "<style scoped>\n",
       "    .dataframe tbody tr th:only-of-type {\n",
       "        vertical-align: middle;\n",
       "    }\n",
       "\n",
       "    .dataframe tbody tr th {\n",
       "        vertical-align: top;\n",
       "    }\n",
       "\n",
       "    .dataframe thead th {\n",
       "        text-align: right;\n",
       "    }\n",
       "</style>\n",
       "<table border=\"1\" class=\"dataframe\">\n",
       "  <thead>\n",
       "    <tr style=\"text-align: right;\">\n",
       "      <th></th>\n",
       "      <th>NAME</th>\n",
       "      <th>PLAYER_ID</th>\n",
       "      <th>SEASON_START</th>\n",
       "      <th>TEAMS_LIST</th>\n",
       "      <th>PLAYER_AGE</th>\n",
       "      <th>EXPERIENCE</th>\n",
       "      <th>POS</th>\n",
       "      <th>GP</th>\n",
       "      <th>GS</th>\n",
       "      <th>MIN</th>\n",
       "      <th>...</th>\n",
       "      <th>WAIVED_REG</th>\n",
       "      <th>WAIVED_POST</th>\n",
       "      <th>RELEASED_OFF</th>\n",
       "      <th>RELEASED_REG</th>\n",
       "      <th>RELEASED_POST</th>\n",
       "      <th>TRADED_OFF</th>\n",
       "      <th>TRADED_REG</th>\n",
       "      <th>TRADED_POST</th>\n",
       "      <th>IN_LEAGUE_NEXT</th>\n",
       "      <th>WAIVED_BY_START_OF_NEXT_SEASON</th>\n",
       "    </tr>\n",
       "  </thead>\n",
       "  <tbody>\n",
       "    <tr>\n",
       "      <th>6080</th>\n",
       "      <td>Jonah Bolden</td>\n",
       "      <td>1628413</td>\n",
       "      <td>2019</td>\n",
       "      <td>['PHI', 'PHX']</td>\n",
       "      <td>24.0</td>\n",
       "      <td>2</td>\n",
       "      <td>C</td>\n",
       "      <td>7</td>\n",
       "      <td>0.0</td>\n",
       "      <td>47.0</td>\n",
       "      <td>...</td>\n",
       "      <td>1.0</td>\n",
       "      <td>0.0</td>\n",
       "      <td>0.0</td>\n",
       "      <td>0.0</td>\n",
       "      <td>0.0</td>\n",
       "      <td>0.0</td>\n",
       "      <td>0.0</td>\n",
       "      <td>0.0</td>\n",
       "      <td>0.0</td>\n",
       "      <td>1</td>\n",
       "    </tr>\n",
       "  </tbody>\n",
       "</table>\n",
       "<p>1 rows × 63 columns</p>\n",
       "</div>"
      ],
      "text/plain": [
       "              NAME  PLAYER_ID  SEASON_START      TEAMS_LIST  PLAYER_AGE  \\\n",
       "6080  Jonah Bolden    1628413          2019  ['PHI', 'PHX']        24.0   \n",
       "\n",
       "      EXPERIENCE POS  GP   GS   MIN  ...  WAIVED_REG  WAIVED_POST  \\\n",
       "6080           2   C   7  0.0  47.0  ...         1.0          0.0   \n",
       "\n",
       "      RELEASED_OFF  RELEASED_REG  RELEASED_POST  TRADED_OFF  TRADED_REG  \\\n",
       "6080           0.0           0.0            0.0         0.0         0.0   \n",
       "\n",
       "      TRADED_POST  IN_LEAGUE_NEXT  WAIVED_BY_START_OF_NEXT_SEASON  \n",
       "6080          0.0             0.0                               1  \n",
       "\n",
       "[1 rows x 63 columns]"
      ]
     },
     "execution_count": 8,
     "metadata": {},
     "output_type": "execute_result"
    }
   ],
   "source": [
    "player_data.sample()"
   ]
  },
  {
   "cell_type": "code",
   "execution_count": 9,
   "id": "c64a7da5-1b80-464d-b473-0b23b2cbd1c5",
   "metadata": {},
   "outputs": [],
   "source": [
    "player_data = player_data.dropna(subset=['SALARY'])"
   ]
  },
  {
   "cell_type": "code",
   "execution_count": 10,
   "id": "ce1cd200-7a17-4972-b9b5-28b07cb4f98d",
   "metadata": {},
   "outputs": [
    {
     "data": {
      "text/plain": [
       "4543"
      ]
     },
     "execution_count": 10,
     "metadata": {},
     "output_type": "execute_result"
    }
   ],
   "source": [
    "len(player_data)"
   ]
  },
  {
   "cell_type": "code",
   "execution_count": 11,
   "id": "35ef6efe-d01f-4516-878c-e8dc8fc3e46b",
   "metadata": {},
   "outputs": [],
   "source": [
    "player_data = player_data[player_data['MIN'] != 0]"
   ]
  },
  {
   "cell_type": "code",
   "execution_count": 12,
   "id": "1b103dd0-22ed-4546-9ede-0a85606ccee6",
   "metadata": {},
   "outputs": [
    {
     "data": {
      "text/plain": [
       "4543"
      ]
     },
     "execution_count": 12,
     "metadata": {},
     "output_type": "execute_result"
    }
   ],
   "source": [
    "len(player_data)"
   ]
  },
  {
   "cell_type": "code",
   "execution_count": 13,
   "id": "ba446ef6-5ff6-4344-be28-b514511a36d6",
   "metadata": {},
   "outputs": [],
   "source": [
    "columns_to_normalize = ['FGM', 'FGA', 'PTS', 'PF', 'DREB', 'OREB', 'REB', 'FTA', 'FTM', 'STL', 'TOV', 'BLK', 'AST', 'FG3A', 'FG3M']\n",
    "\n",
    "# Normalize the selected columns by dividing by 'MIN'\n",
    "player_data[columns_to_normalize] = player_data[columns_to_normalize].div(player_data['MIN'], axis=0)\n",
    "\n",
    "# Rename columns to include \"per minute\"\n",
    "rename_dict = {col: f\"{col} / MIN\" for col in columns_to_normalize}\n",
    "player_data.rename(columns=rename_dict, inplace=True)"
   ]
  },
  {
   "cell_type": "code",
   "execution_count": 14,
   "id": "87d1b0db-2dd2-45a9-9347-9b1315045341",
   "metadata": {},
   "outputs": [
    {
     "data": {
      "text/html": [
       "<div>\n",
       "<style scoped>\n",
       "    .dataframe tbody tr th:only-of-type {\n",
       "        vertical-align: middle;\n",
       "    }\n",
       "\n",
       "    .dataframe tbody tr th {\n",
       "        vertical-align: top;\n",
       "    }\n",
       "\n",
       "    .dataframe thead th {\n",
       "        text-align: right;\n",
       "    }\n",
       "</style>\n",
       "<table border=\"1\" class=\"dataframe\">\n",
       "  <thead>\n",
       "    <tr style=\"text-align: right;\">\n",
       "      <th></th>\n",
       "      <th>NAME</th>\n",
       "      <th>PLAYER_ID</th>\n",
       "      <th>SEASON_START</th>\n",
       "      <th>TEAMS_LIST</th>\n",
       "      <th>PLAYER_AGE</th>\n",
       "      <th>EXPERIENCE</th>\n",
       "      <th>POS</th>\n",
       "      <th>GP</th>\n",
       "      <th>GS</th>\n",
       "      <th>MIN</th>\n",
       "      <th>...</th>\n",
       "      <th>WAIVED_REG</th>\n",
       "      <th>WAIVED_POST</th>\n",
       "      <th>RELEASED_OFF</th>\n",
       "      <th>RELEASED_REG</th>\n",
       "      <th>RELEASED_POST</th>\n",
       "      <th>TRADED_OFF</th>\n",
       "      <th>TRADED_REG</th>\n",
       "      <th>TRADED_POST</th>\n",
       "      <th>IN_LEAGUE_NEXT</th>\n",
       "      <th>WAIVED_BY_START_OF_NEXT_SEASON</th>\n",
       "    </tr>\n",
       "  </thead>\n",
       "  <tbody>\n",
       "    <tr>\n",
       "      <th>2013</th>\n",
       "      <td>Patrick McCaw</td>\n",
       "      <td>1627775</td>\n",
       "      <td>2016</td>\n",
       "      <td>['GSW']</td>\n",
       "      <td>21.0</td>\n",
       "      <td>1</td>\n",
       "      <td>SG</td>\n",
       "      <td>71</td>\n",
       "      <td>20.0</td>\n",
       "      <td>1074.0</td>\n",
       "      <td>...</td>\n",
       "      <td>0.0</td>\n",
       "      <td>0.0</td>\n",
       "      <td>0.0</td>\n",
       "      <td>0.0</td>\n",
       "      <td>0.0</td>\n",
       "      <td>1.0</td>\n",
       "      <td>0.0</td>\n",
       "      <td>0.0</td>\n",
       "      <td>1.0</td>\n",
       "      <td>0</td>\n",
       "    </tr>\n",
       "  </tbody>\n",
       "</table>\n",
       "<p>1 rows × 63 columns</p>\n",
       "</div>"
      ],
      "text/plain": [
       "               NAME  PLAYER_ID  SEASON_START TEAMS_LIST  PLAYER_AGE  \\\n",
       "2013  Patrick McCaw    1627775          2016    ['GSW']        21.0   \n",
       "\n",
       "      EXPERIENCE POS  GP    GS     MIN  ...  WAIVED_REG  WAIVED_POST  \\\n",
       "2013           1  SG  71  20.0  1074.0  ...         0.0          0.0   \n",
       "\n",
       "      RELEASED_OFF  RELEASED_REG  RELEASED_POST  TRADED_OFF  TRADED_REG  \\\n",
       "2013           0.0           0.0            0.0         1.0         0.0   \n",
       "\n",
       "      TRADED_POST  IN_LEAGUE_NEXT  WAIVED_BY_START_OF_NEXT_SEASON  \n",
       "2013          0.0             1.0                               0  \n",
       "\n",
       "[1 rows x 63 columns]"
      ]
     },
     "execution_count": 14,
     "metadata": {},
     "output_type": "execute_result"
    }
   ],
   "source": [
    "player_data.sample()"
   ]
  },
  {
   "cell_type": "markdown",
   "id": "3e087f54-4a5d-498e-bd60-af0426bcdf4b",
   "metadata": {},
   "source": [
    "Now let's find the most correlated features"
   ]
  },
  {
   "cell_type": "code",
   "execution_count": 15,
   "id": "af9c2c19-2b79-4dc9-90a6-c6f430169189",
   "metadata": {},
   "outputs": [],
   "source": [
    "numeric_data = player_data.select_dtypes(include=['number'])"
   ]
  },
  {
   "cell_type": "code",
   "execution_count": 16,
   "id": "1088b10c-716e-4a44-b8ae-eb5707e740ef",
   "metadata": {},
   "outputs": [
    {
     "name": "stdout",
     "output_type": "stream",
     "text": [
      "WAIVED_BY_START_OF_NEXT_SEASON    1.000000\n",
      "WAIVED                            0.998538\n",
      "WAIVED_REG                        0.717978\n",
      "WAIVED_OFF                        0.700122\n",
      "RELEASED                          0.093613\n",
      "RELEASED_REG                      0.093613\n",
      "PF / MIN                          0.093301\n",
      "PLAYER_ID                         0.073586\n",
      "SEASON_START                      0.070676\n",
      "WAIVED_POST                       0.069744\n",
      "TRADED_REG                        0.058513\n",
      "TOV_PERCENT                       0.056068\n",
      "X3P_AR                            0.045967\n",
      "TRADED                            0.034448\n",
      "PLAYER_AGE                        0.031438\n",
      "F_TR                              0.028910\n",
      "OREB / MIN                        0.026912\n",
      "ORB_PERCENT                       0.025480\n",
      "STL / MIN                         0.018781\n",
      "STL_PERCENT                       0.016971\n",
      "TRADED_POST                      -0.004234\n",
      "TRADED_OFF                       -0.006054\n",
      "FG3A / MIN                       -0.024734\n",
      "REB / MIN                        -0.028842\n",
      "TRB_PERCENT                      -0.028974\n",
      "TOV / MIN                        -0.037281\n",
      "BLK_PERCENT                      -0.041513\n",
      "BLK / MIN                        -0.046528\n",
      "DRB_PERCENT                      -0.058930\n",
      "DREB / MIN                       -0.060145\n",
      "AST / MIN                        -0.061917\n",
      "EXPERIENCE                       -0.065081\n",
      "AST_PERCENT                      -0.090826\n",
      "FG3M / MIN                       -0.104359\n",
      "DBPM                             -0.105328\n",
      "FTA / MIN                        -0.111445\n",
      "FTM / MIN                        -0.123853\n",
      "FGA / MIN                        -0.135589\n",
      "USG_PERCENT                      -0.141532\n",
      "FG3_PCT                          -0.151865\n",
      "FG_PCT                           -0.215997\n",
      "WS_48                            -0.222466\n",
      "VORP                             -0.223090\n",
      "SALARY                           -0.224901\n",
      "FGM / MIN                        -0.225929\n",
      "TS_PERCENT                       -0.226547\n",
      "PTS / MIN                        -0.232328\n",
      "PER                              -0.243926\n",
      "FT_PCT                           -0.249785\n",
      "BPM                              -0.262824\n",
      "OWS                              -0.269100\n",
      "OBPM                             -0.283174\n",
      "GS                               -0.324448\n",
      "WS                               -0.328181\n",
      "DWS                              -0.363812\n",
      "IN_LEAGUE_NEXT                   -0.371640\n",
      "MIN                              -0.431315\n",
      "GP                               -0.485474\n",
      "RELEASED_OFF                           NaN\n",
      "RELEASED_POST                          NaN\n",
      "Name: WAIVED_BY_START_OF_NEXT_SEASON, dtype: float64\n"
     ]
    }
   ],
   "source": [
    "correlations = numeric_data.corr()['WAIVED_BY_START_OF_NEXT_SEASON']\n",
    "sorted_correlations = correlations.sort_values(ascending=False)\n",
    "pd.set_option('display.max_rows', None)\n",
    "\n",
    "# Print the sorted correlations\n",
    "print(sorted_correlations)\n",
    "\n",
    "# Reset display options if needed\n",
    "pd.reset_option('display.max_rows')"
   ]
  },
  {
   "cell_type": "markdown",
   "id": "200db00b-6d82-4207-bff4-c470456c381d",
   "metadata": {},
   "source": [
    "Since player_ID is correlated at 10% despite being complete random, let's take anything that's correlated at 15% or higher"
   ]
  },
  {
   "cell_type": "code",
   "execution_count": 17,
   "id": "6c943593-9b1d-4685-b485-014a3a574049",
   "metadata": {},
   "outputs": [
    {
     "data": {
      "text/plain": [
       "21"
      ]
     },
     "execution_count": 17,
     "metadata": {},
     "output_type": "execute_result"
    }
   ],
   "source": [
    "Xfeatures = ['GP', 'MIN', 'DWS', 'GS', 'WS', 'OBPM', 'BPM', 'PER', 'OWS', 'WS_48', 'FT_PCT', 'FG_PCT', 'FGM / MIN', 'PTS / MIN', 'VORP', 'TS_PERCENT', 'SALARY', 'FTM / MIN', 'USG_PERCENT', 'FTA / MIN', 'FGA / MIN' ]\n",
    "len(Xfeatures)"
   ]
  },
  {
   "cell_type": "code",
   "execution_count": 18,
   "id": "8928d0cc-bcdb-46bf-9342-a950668e2392",
   "metadata": {},
   "outputs": [],
   "source": [
    "from sklearn.model_selection import train_test_split"
   ]
  },
  {
   "cell_type": "code",
   "execution_count": 19,
   "id": "e7d3c0d6-438d-44f7-a0cb-f05918315048",
   "metadata": {},
   "outputs": [
    {
     "name": "stdout",
     "output_type": "stream",
     "text": [
      "3634\n",
      "909\n"
     ]
    }
   ],
   "source": [
    "train_player_data, test_player_data = train_test_split(player_data, test_size=0.2, stratify=player_data['WAIVED_BY_START_OF_NEXT_SEASON'], random_state=812)\n",
    "print(len(train_player_data))\n",
    "print(len(test_player_data))"
   ]
  },
  {
   "cell_type": "code",
   "execution_count": 20,
   "id": "c827d791-d7ef-45d3-bff1-b4d59b8e9099",
   "metadata": {},
   "outputs": [
    {
     "name": "stdout",
     "output_type": "stream",
     "text": [
      "0.18464501926252064\n",
      "0.15055123612406401\n"
     ]
    }
   ],
   "source": [
    "train_player_data_waived = train_player_data.loc[train_player_data['WAIVED_BY_START_OF_NEXT_SEASON'] == 1]\n",
    "p = len(train_player_data_waived)/len(train_player_data)\n",
    "print(p)\n",
    "print(p*(1 - p))"
   ]
  },
  {
   "cell_type": "markdown",
   "id": "a8677987-bf62-4657-bc06-ab7a7e3f4dab",
   "metadata": {},
   "source": [
    "About 14% of the players are waived, so a randomly guessing waived or not with that probability would have an F1-score of about 14% and a Brier score of about .1175"
   ]
  },
  {
   "cell_type": "code",
   "execution_count": 21,
   "id": "82dda190-9d65-46f4-8a6b-9e6248eab1a2",
   "metadata": {},
   "outputs": [],
   "source": [
    "from sklearn.preprocessing import StandardScaler\n",
    "from sklearn.neighbors import KNeighborsClassifier\n",
    "from sklearn.pipeline import Pipeline\n",
    "from sklearn.metrics import accuracy_score, confusion_matrix, f1_score, brier_score_loss, balanced_accuracy_score"
   ]
  },
  {
   "cell_type": "code",
   "execution_count": 22,
   "id": "cc71ca68-6643-42cd-a498-6f7bdb048431",
   "metadata": {},
   "outputs": [
    {
     "name": "stdout",
     "output_type": "stream",
     "text": [
      "3616\n",
      "F1 score:  0.3626943005181347\n"
     ]
    }
   ],
   "source": [
    "\n",
    "train_player_data = train_player_data.dropna(subset = Xfeatures)\n",
    "print(len(train_player_data))\n",
    "X = train_player_data[Xfeatures]\n",
    "y = train_player_data['WAIVED_BY_START_OF_NEXT_SEASON']\n",
    "X_train, X_test, y_train, y_test = train_test_split(X, y, test_size=0.2, random_state=812, stratify = y)\n",
    "knn_pipeline = Pipeline([\n",
    "    ('scaler', StandardScaler()),\n",
    "    ('knn', KNeighborsClassifier(n_neighbors = 15))\n",
    "])\n",
    "knn_pipeline.fit(X_train, y_train)\n",
    "y_pred = knn_pipeline.predict(X_test)\n",
    "f1score = f1_score(y_test, y_pred)\n",
    "print(\"F1 score: \", f1score)"
   ]
  },
  {
   "cell_type": "code",
   "execution_count": 23,
   "id": "b1257eb4-bd38-437e-985d-9cb2a88633f3",
   "metadata": {},
   "outputs": [
    {
     "name": "stdout",
     "output_type": "stream",
     "text": [
      "Brier Score:  0.11810926949048497\n"
     ]
    }
   ],
   "source": [
    "y_prob = knn_pipeline.predict_proba(X_test)\n",
    "y_prob = y_prob[:, 1]\n",
    "brier_score = brier_score_loss(y_test, y_prob)\n",
    "print(\"Brier Score: \", brier_score)"
   ]
  },
  {
   "cell_type": "code",
   "execution_count": 24,
   "id": "d82331af-1a9e-4e65-ba2d-3de1c13d1516",
   "metadata": {},
   "outputs": [],
   "source": [
    "from sklearn.linear_model import LogisticRegression\n",
    "X = train_player_data[Xfeatures]\n",
    "y = train_player_data['WAIVED_BY_START_OF_NEXT_SEASON']\n",
    "X_train, X_test, y_train, y_test = train_test_split(X, y, test_size=0.2, random_state=813, stratify = y)\n"
   ]
  },
  {
   "cell_type": "code",
   "execution_count": 25,
   "id": "8e40e6cf-e430-4e4b-b014-822f7b85fdb0",
   "metadata": {},
   "outputs": [
    {
     "name": "stdout",
     "output_type": "stream",
     "text": [
      "F1 score:  0.5\n"
     ]
    }
   ],
   "source": [
    "log_reg = Pipeline([\n",
    "    ('scaler', StandardScaler()),\n",
    "    ('logreg', LogisticRegression(max_iter=1000))\n",
    "])\n",
    "\n",
    "log_reg.fit(X_train, y_train)\n",
    "y_pred = log_reg.predict(X_test)\n",
    "f1score = f1_score(y_test, y_pred)\n",
    "print(\"F1 score: \", f1score)"
   ]
  },
  {
   "cell_type": "code",
   "execution_count": 26,
   "id": "55ce54e7-514b-4ca1-942e-c5a56272ef74",
   "metadata": {},
   "outputs": [],
   "source": [
    "y_prob = log_reg.predict_proba(X_test)"
   ]
  },
  {
   "cell_type": "code",
   "execution_count": 27,
   "id": "357da20c-0650-45f7-ba4d-7c588eab4a3d",
   "metadata": {},
   "outputs": [
    {
     "name": "stdout",
     "output_type": "stream",
     "text": [
      "Brier Score:  0.1016985287825115\n"
     ]
    }
   ],
   "source": [
    "\n",
    "y_prob\n",
    "y_prob = y_prob[:, 1]\n",
    "brier_score = brier_score_loss(y_test, y_prob)\n",
    "print(\"Brier Score: \", brier_score)"
   ]
  },
  {
   "cell_type": "code",
   "execution_count": 28,
   "id": "8a5a6440-ef52-406f-b7b1-5d619af205e2",
   "metadata": {},
   "outputs": [],
   "source": [
    "from sklearn import tree\n",
    "from sklearn.tree import DecisionTreeClassifier"
   ]
  },
  {
   "cell_type": "code",
   "execution_count": 29,
   "id": "463d0707-1c33-4346-af40-cf083b36e8bd",
   "metadata": {},
   "outputs": [
    {
     "name": "stdout",
     "output_type": "stream",
     "text": [
      "F1 score:  0.5391304347826087\n",
      "Balanced Accuracy:  0.7054439195190711\n"
     ]
    }
   ],
   "source": [
    "tree_cfr = DecisionTreeClassifier(max_depth=6, random_state=814)\n",
    "X = train_player_data[Xfeatures]\n",
    "y = train_player_data['WAIVED_BY_START_OF_NEXT_SEASON']\n",
    "X_train, X_test, y_train, y_test = train_test_split(X, y, test_size=0.2, random_state=815, stratify = y)\n",
    "tree_cfr.fit(X_train, y_train)\n",
    "y_pred = tree_cfr.predict(X_test)\n",
    "f1score = f1_score(y_test, y_pred)\n",
    "print(\"F1 score: \", f1score)\n",
    "print(\"Balanced Accuracy: \", balanced_accuracy_score(y_test, y_pred))"
   ]
  },
  {
   "cell_type": "code",
   "execution_count": 30,
   "id": "16d781cd-743a-4dec-88ec-7a62d0e5208f",
   "metadata": {},
   "outputs": [
    {
     "name": "stdout",
     "output_type": "stream",
     "text": [
      "Brier Score:  0.11119775532112296\n"
     ]
    }
   ],
   "source": [
    "y_prob = tree_cfr.predict_proba(X_test)\n",
    "y_prob = y_prob[:, 1]\n",
    "brier_score = brier_score_loss(y_test, y_prob)\n",
    "print(\"Brier Score: \", brier_score)"
   ]
  },
  {
   "cell_type": "code",
   "execution_count": 31,
   "id": "22405a5c-6e8c-459b-ad54-0f8f1e55f48b",
   "metadata": {},
   "outputs": [],
   "source": [
    "from sklearn.ensemble import RandomForestClassifier\n",
    "rf = RandomForestClassifier(\n",
    "    n_estimators = 50, \n",
    "    max_depth = 3, \n",
    "    max_features = 6, \n",
    "    bootstrap= True, \n",
    "    max_samples = 500,\n",
    "    random_state = 816\n",
    "    )"
   ]
  },
  {
   "cell_type": "code",
   "execution_count": 32,
   "id": "1b29aa62-1d0d-439b-a0c6-0895b3eb6c89",
   "metadata": {},
   "outputs": [
    {
     "name": "stdout",
     "output_type": "stream",
     "text": [
      "F1 score:  0.5024154589371981\n"
     ]
    }
   ],
   "source": [
    "X = train_player_data[Xfeatures]\n",
    "y = train_player_data['WAIVED_BY_START_OF_NEXT_SEASON']\n",
    "X_train, X_test, y_train, y_test = train_test_split(X, y, test_size=0.2, random_state=817, stratify = y)\n",
    "rf.fit(X_train, y_train)\n",
    "y_pred = rf.predict(X_test)\n",
    "f1score = f1_score(y_test, y_pred)\n",
    "print(\"F1 score: \", f1score)"
   ]
  },
  {
   "cell_type": "code",
   "execution_count": 33,
   "id": "4dc92012-2bf8-4fe5-a9c0-82727fbba84d",
   "metadata": {},
   "outputs": [
    {
     "name": "stdout",
     "output_type": "stream",
     "text": [
      "Brier Score:  0.08532659428264887\n"
     ]
    }
   ],
   "source": [
    "y_prob = tree_cfr.predict_proba(X_test)\n",
    "y_prob = y_prob[:, 1]\n",
    "brier_score = brier_score_loss(y_test, y_prob)\n",
    "print(\"Brier Score: \", brier_score)"
   ]
  },
  {
   "cell_type": "markdown",
   "id": "302ccbe0-e1c0-4302-b92d-1bd842cdf4f5",
   "metadata": {},
   "source": [
    "Of the non-ensemble methods, the decision tree works best, so let's boost that one with AdaBoost"
   ]
  },
  {
   "cell_type": "code",
   "execution_count": 34,
   "id": "eb8c46ac-3917-413e-8144-ff2c74e430d3",
   "metadata": {},
   "outputs": [],
   "source": [
    "from sklearn.ensemble import AdaBoostClassifier"
   ]
  },
  {
   "cell_type": "code",
   "execution_count": 35,
   "id": "f31477e9-3a78-4b49-ab7d-429b0a7ff083",
   "metadata": {},
   "outputs": [],
   "source": [
    "ada_clf = AdaBoostClassifier(DecisionTreeClassifier(max_depth=6),\n",
    "                                n_estimators=100,\n",
    "                                algorithm = 'SAMME',\n",
    "                                learning_rate = 0.05,\n",
    "                                random_state=818)"
   ]
  },
  {
   "cell_type": "code",
   "execution_count": 36,
   "id": "79b7fff5-d1f6-4d37-a9b5-04a99ac8db1f",
   "metadata": {},
   "outputs": [
    {
     "data": {
      "text/html": [
       "<style>#sk-container-id-1 {\n",
       "  /* Definition of color scheme common for light and dark mode */\n",
       "  --sklearn-color-text: black;\n",
       "  --sklearn-color-line: gray;\n",
       "  /* Definition of color scheme for unfitted estimators */\n",
       "  --sklearn-color-unfitted-level-0: #fff5e6;\n",
       "  --sklearn-color-unfitted-level-1: #f6e4d2;\n",
       "  --sklearn-color-unfitted-level-2: #ffe0b3;\n",
       "  --sklearn-color-unfitted-level-3: chocolate;\n",
       "  /* Definition of color scheme for fitted estimators */\n",
       "  --sklearn-color-fitted-level-0: #f0f8ff;\n",
       "  --sklearn-color-fitted-level-1: #d4ebff;\n",
       "  --sklearn-color-fitted-level-2: #b3dbfd;\n",
       "  --sklearn-color-fitted-level-3: cornflowerblue;\n",
       "\n",
       "  /* Specific color for light theme */\n",
       "  --sklearn-color-text-on-default-background: var(--sg-text-color, var(--theme-code-foreground, var(--jp-content-font-color1, black)));\n",
       "  --sklearn-color-background: var(--sg-background-color, var(--theme-background, var(--jp-layout-color0, white)));\n",
       "  --sklearn-color-border-box: var(--sg-text-color, var(--theme-code-foreground, var(--jp-content-font-color1, black)));\n",
       "  --sklearn-color-icon: #696969;\n",
       "\n",
       "  @media (prefers-color-scheme: dark) {\n",
       "    /* Redefinition of color scheme for dark theme */\n",
       "    --sklearn-color-text-on-default-background: var(--sg-text-color, var(--theme-code-foreground, var(--jp-content-font-color1, white)));\n",
       "    --sklearn-color-background: var(--sg-background-color, var(--theme-background, var(--jp-layout-color0, #111)));\n",
       "    --sklearn-color-border-box: var(--sg-text-color, var(--theme-code-foreground, var(--jp-content-font-color1, white)));\n",
       "    --sklearn-color-icon: #878787;\n",
       "  }\n",
       "}\n",
       "\n",
       "#sk-container-id-1 {\n",
       "  color: var(--sklearn-color-text);\n",
       "}\n",
       "\n",
       "#sk-container-id-1 pre {\n",
       "  padding: 0;\n",
       "}\n",
       "\n",
       "#sk-container-id-1 input.sk-hidden--visually {\n",
       "  border: 0;\n",
       "  clip: rect(1px 1px 1px 1px);\n",
       "  clip: rect(1px, 1px, 1px, 1px);\n",
       "  height: 1px;\n",
       "  margin: -1px;\n",
       "  overflow: hidden;\n",
       "  padding: 0;\n",
       "  position: absolute;\n",
       "  width: 1px;\n",
       "}\n",
       "\n",
       "#sk-container-id-1 div.sk-dashed-wrapped {\n",
       "  border: 1px dashed var(--sklearn-color-line);\n",
       "  margin: 0 0.4em 0.5em 0.4em;\n",
       "  box-sizing: border-box;\n",
       "  padding-bottom: 0.4em;\n",
       "  background-color: var(--sklearn-color-background);\n",
       "}\n",
       "\n",
       "#sk-container-id-1 div.sk-container {\n",
       "  /* jupyter's `normalize.less` sets `[hidden] { display: none; }`\n",
       "     but bootstrap.min.css set `[hidden] { display: none !important; }`\n",
       "     so we also need the `!important` here to be able to override the\n",
       "     default hidden behavior on the sphinx rendered scikit-learn.org.\n",
       "     See: https://github.com/scikit-learn/scikit-learn/issues/21755 */\n",
       "  display: inline-block !important;\n",
       "  position: relative;\n",
       "}\n",
       "\n",
       "#sk-container-id-1 div.sk-text-repr-fallback {\n",
       "  display: none;\n",
       "}\n",
       "\n",
       "div.sk-parallel-item,\n",
       "div.sk-serial,\n",
       "div.sk-item {\n",
       "  /* draw centered vertical line to link estimators */\n",
       "  background-image: linear-gradient(var(--sklearn-color-text-on-default-background), var(--sklearn-color-text-on-default-background));\n",
       "  background-size: 2px 100%;\n",
       "  background-repeat: no-repeat;\n",
       "  background-position: center center;\n",
       "}\n",
       "\n",
       "/* Parallel-specific style estimator block */\n",
       "\n",
       "#sk-container-id-1 div.sk-parallel-item::after {\n",
       "  content: \"\";\n",
       "  width: 100%;\n",
       "  border-bottom: 2px solid var(--sklearn-color-text-on-default-background);\n",
       "  flex-grow: 1;\n",
       "}\n",
       "\n",
       "#sk-container-id-1 div.sk-parallel {\n",
       "  display: flex;\n",
       "  align-items: stretch;\n",
       "  justify-content: center;\n",
       "  background-color: var(--sklearn-color-background);\n",
       "  position: relative;\n",
       "}\n",
       "\n",
       "#sk-container-id-1 div.sk-parallel-item {\n",
       "  display: flex;\n",
       "  flex-direction: column;\n",
       "}\n",
       "\n",
       "#sk-container-id-1 div.sk-parallel-item:first-child::after {\n",
       "  align-self: flex-end;\n",
       "  width: 50%;\n",
       "}\n",
       "\n",
       "#sk-container-id-1 div.sk-parallel-item:last-child::after {\n",
       "  align-self: flex-start;\n",
       "  width: 50%;\n",
       "}\n",
       "\n",
       "#sk-container-id-1 div.sk-parallel-item:only-child::after {\n",
       "  width: 0;\n",
       "}\n",
       "\n",
       "/* Serial-specific style estimator block */\n",
       "\n",
       "#sk-container-id-1 div.sk-serial {\n",
       "  display: flex;\n",
       "  flex-direction: column;\n",
       "  align-items: center;\n",
       "  background-color: var(--sklearn-color-background);\n",
       "  padding-right: 1em;\n",
       "  padding-left: 1em;\n",
       "}\n",
       "\n",
       "\n",
       "/* Toggleable style: style used for estimator/Pipeline/ColumnTransformer box that is\n",
       "clickable and can be expanded/collapsed.\n",
       "- Pipeline and ColumnTransformer use this feature and define the default style\n",
       "- Estimators will overwrite some part of the style using the `sk-estimator` class\n",
       "*/\n",
       "\n",
       "/* Pipeline and ColumnTransformer style (default) */\n",
       "\n",
       "#sk-container-id-1 div.sk-toggleable {\n",
       "  /* Default theme specific background. It is overwritten whether we have a\n",
       "  specific estimator or a Pipeline/ColumnTransformer */\n",
       "  background-color: var(--sklearn-color-background);\n",
       "}\n",
       "\n",
       "/* Toggleable label */\n",
       "#sk-container-id-1 label.sk-toggleable__label {\n",
       "  cursor: pointer;\n",
       "  display: block;\n",
       "  width: 100%;\n",
       "  margin-bottom: 0;\n",
       "  padding: 0.5em;\n",
       "  box-sizing: border-box;\n",
       "  text-align: center;\n",
       "}\n",
       "\n",
       "#sk-container-id-1 label.sk-toggleable__label-arrow:before {\n",
       "  /* Arrow on the left of the label */\n",
       "  content: \"▸\";\n",
       "  float: left;\n",
       "  margin-right: 0.25em;\n",
       "  color: var(--sklearn-color-icon);\n",
       "}\n",
       "\n",
       "#sk-container-id-1 label.sk-toggleable__label-arrow:hover:before {\n",
       "  color: var(--sklearn-color-text);\n",
       "}\n",
       "\n",
       "/* Toggleable content - dropdown */\n",
       "\n",
       "#sk-container-id-1 div.sk-toggleable__content {\n",
       "  max-height: 0;\n",
       "  max-width: 0;\n",
       "  overflow: hidden;\n",
       "  text-align: left;\n",
       "  /* unfitted */\n",
       "  background-color: var(--sklearn-color-unfitted-level-0);\n",
       "}\n",
       "\n",
       "#sk-container-id-1 div.sk-toggleable__content.fitted {\n",
       "  /* fitted */\n",
       "  background-color: var(--sklearn-color-fitted-level-0);\n",
       "}\n",
       "\n",
       "#sk-container-id-1 div.sk-toggleable__content pre {\n",
       "  margin: 0.2em;\n",
       "  border-radius: 0.25em;\n",
       "  color: var(--sklearn-color-text);\n",
       "  /* unfitted */\n",
       "  background-color: var(--sklearn-color-unfitted-level-0);\n",
       "}\n",
       "\n",
       "#sk-container-id-1 div.sk-toggleable__content.fitted pre {\n",
       "  /* unfitted */\n",
       "  background-color: var(--sklearn-color-fitted-level-0);\n",
       "}\n",
       "\n",
       "#sk-container-id-1 input.sk-toggleable__control:checked~div.sk-toggleable__content {\n",
       "  /* Expand drop-down */\n",
       "  max-height: 200px;\n",
       "  max-width: 100%;\n",
       "  overflow: auto;\n",
       "}\n",
       "\n",
       "#sk-container-id-1 input.sk-toggleable__control:checked~label.sk-toggleable__label-arrow:before {\n",
       "  content: \"▾\";\n",
       "}\n",
       "\n",
       "/* Pipeline/ColumnTransformer-specific style */\n",
       "\n",
       "#sk-container-id-1 div.sk-label input.sk-toggleable__control:checked~label.sk-toggleable__label {\n",
       "  color: var(--sklearn-color-text);\n",
       "  background-color: var(--sklearn-color-unfitted-level-2);\n",
       "}\n",
       "\n",
       "#sk-container-id-1 div.sk-label.fitted input.sk-toggleable__control:checked~label.sk-toggleable__label {\n",
       "  background-color: var(--sklearn-color-fitted-level-2);\n",
       "}\n",
       "\n",
       "/* Estimator-specific style */\n",
       "\n",
       "/* Colorize estimator box */\n",
       "#sk-container-id-1 div.sk-estimator input.sk-toggleable__control:checked~label.sk-toggleable__label {\n",
       "  /* unfitted */\n",
       "  background-color: var(--sklearn-color-unfitted-level-2);\n",
       "}\n",
       "\n",
       "#sk-container-id-1 div.sk-estimator.fitted input.sk-toggleable__control:checked~label.sk-toggleable__label {\n",
       "  /* fitted */\n",
       "  background-color: var(--sklearn-color-fitted-level-2);\n",
       "}\n",
       "\n",
       "#sk-container-id-1 div.sk-label label.sk-toggleable__label,\n",
       "#sk-container-id-1 div.sk-label label {\n",
       "  /* The background is the default theme color */\n",
       "  color: var(--sklearn-color-text-on-default-background);\n",
       "}\n",
       "\n",
       "/* On hover, darken the color of the background */\n",
       "#sk-container-id-1 div.sk-label:hover label.sk-toggleable__label {\n",
       "  color: var(--sklearn-color-text);\n",
       "  background-color: var(--sklearn-color-unfitted-level-2);\n",
       "}\n",
       "\n",
       "/* Label box, darken color on hover, fitted */\n",
       "#sk-container-id-1 div.sk-label.fitted:hover label.sk-toggleable__label.fitted {\n",
       "  color: var(--sklearn-color-text);\n",
       "  background-color: var(--sklearn-color-fitted-level-2);\n",
       "}\n",
       "\n",
       "/* Estimator label */\n",
       "\n",
       "#sk-container-id-1 div.sk-label label {\n",
       "  font-family: monospace;\n",
       "  font-weight: bold;\n",
       "  display: inline-block;\n",
       "  line-height: 1.2em;\n",
       "}\n",
       "\n",
       "#sk-container-id-1 div.sk-label-container {\n",
       "  text-align: center;\n",
       "}\n",
       "\n",
       "/* Estimator-specific */\n",
       "#sk-container-id-1 div.sk-estimator {\n",
       "  font-family: monospace;\n",
       "  border: 1px dotted var(--sklearn-color-border-box);\n",
       "  border-radius: 0.25em;\n",
       "  box-sizing: border-box;\n",
       "  margin-bottom: 0.5em;\n",
       "  /* unfitted */\n",
       "  background-color: var(--sklearn-color-unfitted-level-0);\n",
       "}\n",
       "\n",
       "#sk-container-id-1 div.sk-estimator.fitted {\n",
       "  /* fitted */\n",
       "  background-color: var(--sklearn-color-fitted-level-0);\n",
       "}\n",
       "\n",
       "/* on hover */\n",
       "#sk-container-id-1 div.sk-estimator:hover {\n",
       "  /* unfitted */\n",
       "  background-color: var(--sklearn-color-unfitted-level-2);\n",
       "}\n",
       "\n",
       "#sk-container-id-1 div.sk-estimator.fitted:hover {\n",
       "  /* fitted */\n",
       "  background-color: var(--sklearn-color-fitted-level-2);\n",
       "}\n",
       "\n",
       "/* Specification for estimator info (e.g. \"i\" and \"?\") */\n",
       "\n",
       "/* Common style for \"i\" and \"?\" */\n",
       "\n",
       ".sk-estimator-doc-link,\n",
       "a:link.sk-estimator-doc-link,\n",
       "a:visited.sk-estimator-doc-link {\n",
       "  float: right;\n",
       "  font-size: smaller;\n",
       "  line-height: 1em;\n",
       "  font-family: monospace;\n",
       "  background-color: var(--sklearn-color-background);\n",
       "  border-radius: 1em;\n",
       "  height: 1em;\n",
       "  width: 1em;\n",
       "  text-decoration: none !important;\n",
       "  margin-left: 1ex;\n",
       "  /* unfitted */\n",
       "  border: var(--sklearn-color-unfitted-level-1) 1pt solid;\n",
       "  color: var(--sklearn-color-unfitted-level-1);\n",
       "}\n",
       "\n",
       ".sk-estimator-doc-link.fitted,\n",
       "a:link.sk-estimator-doc-link.fitted,\n",
       "a:visited.sk-estimator-doc-link.fitted {\n",
       "  /* fitted */\n",
       "  border: var(--sklearn-color-fitted-level-1) 1pt solid;\n",
       "  color: var(--sklearn-color-fitted-level-1);\n",
       "}\n",
       "\n",
       "/* On hover */\n",
       "div.sk-estimator:hover .sk-estimator-doc-link:hover,\n",
       ".sk-estimator-doc-link:hover,\n",
       "div.sk-label-container:hover .sk-estimator-doc-link:hover,\n",
       ".sk-estimator-doc-link:hover {\n",
       "  /* unfitted */\n",
       "  background-color: var(--sklearn-color-unfitted-level-3);\n",
       "  color: var(--sklearn-color-background);\n",
       "  text-decoration: none;\n",
       "}\n",
       "\n",
       "div.sk-estimator.fitted:hover .sk-estimator-doc-link.fitted:hover,\n",
       ".sk-estimator-doc-link.fitted:hover,\n",
       "div.sk-label-container:hover .sk-estimator-doc-link.fitted:hover,\n",
       ".sk-estimator-doc-link.fitted:hover {\n",
       "  /* fitted */\n",
       "  background-color: var(--sklearn-color-fitted-level-3);\n",
       "  color: var(--sklearn-color-background);\n",
       "  text-decoration: none;\n",
       "}\n",
       "\n",
       "/* Span, style for the box shown on hovering the info icon */\n",
       ".sk-estimator-doc-link span {\n",
       "  display: none;\n",
       "  z-index: 9999;\n",
       "  position: relative;\n",
       "  font-weight: normal;\n",
       "  right: .2ex;\n",
       "  padding: .5ex;\n",
       "  margin: .5ex;\n",
       "  width: min-content;\n",
       "  min-width: 20ex;\n",
       "  max-width: 50ex;\n",
       "  color: var(--sklearn-color-text);\n",
       "  box-shadow: 2pt 2pt 4pt #999;\n",
       "  /* unfitted */\n",
       "  background: var(--sklearn-color-unfitted-level-0);\n",
       "  border: .5pt solid var(--sklearn-color-unfitted-level-3);\n",
       "}\n",
       "\n",
       ".sk-estimator-doc-link.fitted span {\n",
       "  /* fitted */\n",
       "  background: var(--sklearn-color-fitted-level-0);\n",
       "  border: var(--sklearn-color-fitted-level-3);\n",
       "}\n",
       "\n",
       ".sk-estimator-doc-link:hover span {\n",
       "  display: block;\n",
       "}\n",
       "\n",
       "/* \"?\"-specific style due to the `<a>` HTML tag */\n",
       "\n",
       "#sk-container-id-1 a.estimator_doc_link {\n",
       "  float: right;\n",
       "  font-size: 1rem;\n",
       "  line-height: 1em;\n",
       "  font-family: monospace;\n",
       "  background-color: var(--sklearn-color-background);\n",
       "  border-radius: 1rem;\n",
       "  height: 1rem;\n",
       "  width: 1rem;\n",
       "  text-decoration: none;\n",
       "  /* unfitted */\n",
       "  color: var(--sklearn-color-unfitted-level-1);\n",
       "  border: var(--sklearn-color-unfitted-level-1) 1pt solid;\n",
       "}\n",
       "\n",
       "#sk-container-id-1 a.estimator_doc_link.fitted {\n",
       "  /* fitted */\n",
       "  border: var(--sklearn-color-fitted-level-1) 1pt solid;\n",
       "  color: var(--sklearn-color-fitted-level-1);\n",
       "}\n",
       "\n",
       "/* On hover */\n",
       "#sk-container-id-1 a.estimator_doc_link:hover {\n",
       "  /* unfitted */\n",
       "  background-color: var(--sklearn-color-unfitted-level-3);\n",
       "  color: var(--sklearn-color-background);\n",
       "  text-decoration: none;\n",
       "}\n",
       "\n",
       "#sk-container-id-1 a.estimator_doc_link.fitted:hover {\n",
       "  /* fitted */\n",
       "  background-color: var(--sklearn-color-fitted-level-3);\n",
       "}\n",
       "</style><div id=\"sk-container-id-1\" class=\"sk-top-container\"><div class=\"sk-text-repr-fallback\"><pre>AdaBoostClassifier(algorithm=&#x27;SAMME&#x27;,\n",
       "                   estimator=DecisionTreeClassifier(max_depth=6),\n",
       "                   learning_rate=0.05, n_estimators=100, random_state=818)</pre><b>In a Jupyter environment, please rerun this cell to show the HTML representation or trust the notebook. <br />On GitHub, the HTML representation is unable to render, please try loading this page with nbviewer.org.</b></div><div class=\"sk-container\" hidden><div class=\"sk-item sk-dashed-wrapped\"><div class=\"sk-label-container\"><div class=\"sk-label fitted sk-toggleable\"><input class=\"sk-toggleable__control sk-hidden--visually\" id=\"sk-estimator-id-1\" type=\"checkbox\" ><label for=\"sk-estimator-id-1\" class=\"sk-toggleable__label fitted sk-toggleable__label-arrow fitted\">&nbsp;&nbsp;AdaBoostClassifier<a class=\"sk-estimator-doc-link fitted\" rel=\"noreferrer\" target=\"_blank\" href=\"https://scikit-learn.org/1.5/modules/generated/sklearn.ensemble.AdaBoostClassifier.html\">?<span>Documentation for AdaBoostClassifier</span></a><span class=\"sk-estimator-doc-link fitted\">i<span>Fitted</span></span></label><div class=\"sk-toggleable__content fitted\"><pre>AdaBoostClassifier(algorithm=&#x27;SAMME&#x27;,\n",
       "                   estimator=DecisionTreeClassifier(max_depth=6),\n",
       "                   learning_rate=0.05, n_estimators=100, random_state=818)</pre></div> </div></div><div class=\"sk-parallel\"><div class=\"sk-parallel-item\"><div class=\"sk-item\"><div class=\"sk-label-container\"><div class=\"sk-label fitted sk-toggleable\"><input class=\"sk-toggleable__control sk-hidden--visually\" id=\"sk-estimator-id-2\" type=\"checkbox\" ><label for=\"sk-estimator-id-2\" class=\"sk-toggleable__label fitted sk-toggleable__label-arrow fitted\">estimator: DecisionTreeClassifier</label><div class=\"sk-toggleable__content fitted\"><pre>DecisionTreeClassifier(max_depth=6)</pre></div> </div></div><div class=\"sk-serial\"><div class=\"sk-item\"><div class=\"sk-estimator fitted sk-toggleable\"><input class=\"sk-toggleable__control sk-hidden--visually\" id=\"sk-estimator-id-3\" type=\"checkbox\" ><label for=\"sk-estimator-id-3\" class=\"sk-toggleable__label fitted sk-toggleable__label-arrow fitted\">&nbsp;DecisionTreeClassifier<a class=\"sk-estimator-doc-link fitted\" rel=\"noreferrer\" target=\"_blank\" href=\"https://scikit-learn.org/1.5/modules/generated/sklearn.tree.DecisionTreeClassifier.html\">?<span>Documentation for DecisionTreeClassifier</span></a></label><div class=\"sk-toggleable__content fitted\"><pre>DecisionTreeClassifier(max_depth=6)</pre></div> </div></div></div></div></div></div></div></div></div>"
      ],
      "text/plain": [
       "AdaBoostClassifier(algorithm='SAMME',\n",
       "                   estimator=DecisionTreeClassifier(max_depth=6),\n",
       "                   learning_rate=0.05, n_estimators=100, random_state=818)"
      ]
     },
     "execution_count": 36,
     "metadata": {},
     "output_type": "execute_result"
    }
   ],
   "source": [
    "X = train_player_data[Xfeatures]\n",
    "y = train_player_data['WAIVED_BY_START_OF_NEXT_SEASON']\n",
    "X_train, X_test, y_train, y_test = train_test_split(X, y, test_size=0.2, random_state=817, stratify = y)\n",
    "ada_clf.fit(X_train, y_train)"
   ]
  },
  {
   "cell_type": "code",
   "execution_count": 37,
   "id": "4f2e0663-a830-4c9b-b467-f415f75fe74a",
   "metadata": {},
   "outputs": [
    {
     "name": "stdout",
     "output_type": "stream",
     "text": [
      "F1 score:  0.6491228070175439\n"
     ]
    }
   ],
   "source": [
    "y_pred = tree_cfr.predict(X_test)\n",
    "f1score = f1_score(y_test, y_pred)\n",
    "print(\"F1 score: \", f1score)"
   ]
  },
  {
   "cell_type": "code",
   "execution_count": 38,
   "id": "622bd1df-90e6-42ac-8fa3-4dfe742ed0bd",
   "metadata": {},
   "outputs": [
    {
     "name": "stdout",
     "output_type": "stream",
     "text": [
      "Brier Score:  0.11921158634682348\n"
     ]
    }
   ],
   "source": [
    "y_prob = ada_clf.predict_proba(X_test)\n",
    "y_prob = y_prob[:, 1]\n",
    "brier_score = brier_score_loss(y_test, y_prob)\n",
    "print(\"Brier Score: \", brier_score)"
   ]
  },
  {
   "cell_type": "code",
   "execution_count": null,
   "id": "4f1c1d78-8ae7-4bbc-8896-e52a170c342f",
   "metadata": {},
   "outputs": [],
   "source": []
  },
  {
   "cell_type": "code",
   "execution_count": null,
   "id": "f3f6b1d6-d297-47b0-a546-e58e83bed4dc",
   "metadata": {},
   "outputs": [],
   "source": []
  }
 ],
 "metadata": {
  "kernelspec": {
   "display_name": "Python 3 (ipykernel)",
   "language": "python",
   "name": "python3"
  },
  "language_info": {
   "codemirror_mode": {
    "name": "ipython",
    "version": 3
   },
   "file_extension": ".py",
   "mimetype": "text/x-python",
   "name": "python",
   "nbconvert_exporter": "python",
   "pygments_lexer": "ipython3",
   "version": "3.12.5"
  }
 },
 "nbformat": 4,
 "nbformat_minor": 5
}
