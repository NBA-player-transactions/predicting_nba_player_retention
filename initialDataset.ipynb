{
 "cells": [
  {
   "cell_type": "markdown",
   "metadata": {},
   "source": [
    "# Hacking together an initial dataset\n",
    "\n",
    "Adapted from Ryan's notebook from Oct 23, 2024."
   ]
  },
  {
   "cell_type": "code",
   "execution_count": 1,
   "metadata": {},
   "outputs": [],
   "source": [
    "import numpy as np\n",
    "import pandas as pd\n",
    "import matplotlib.pyplot as plt\n",
    "import seaborn as sns"
   ]
  },
  {
   "cell_type": "code",
   "execution_count": 2,
   "metadata": {},
   "outputs": [],
   "source": [
    "waived_df = pd.read_csv(\"Data/player_identification/waived_data_with_id.csv\")\n",
    "stats_df = pd.read_csv(\"Data/season_counting_stats.csv\")"
   ]
  },
  {
   "cell_type": "code",
   "execution_count": 3,
   "metadata": {},
   "outputs": [
    {
     "name": "stdout",
     "output_type": "stream",
     "text": [
      "Index(['season_start', 'date', 'player_name', 'team_abv', 'player_id'], dtype='object')\n",
      "Index(['PLAYER_ID', 'SEASON_ID', 'LEAGUE_ID', 'TEAM_ID', 'TEAM_ABBREVIATION',\n",
      "       'PLAYER_AGE', 'GP', 'GS', 'MIN', 'FGM', 'FGA', 'FG_PCT', 'FG3M', 'FG3A',\n",
      "       'FG3_PCT', 'FTM', 'FTA', 'FT_PCT', 'OREB', 'DREB', 'REB', 'AST', 'STL',\n",
      "       'BLK', 'TOV', 'PF', 'PTS', 'NAME', 'SEASON_START'],\n",
      "      dtype='object')\n"
     ]
    }
   ],
   "source": [
    "#look at columns\n",
    "print(waived_df.columns)\n",
    "print(stats_df.columns)"
   ]
  },
  {
   "cell_type": "code",
   "execution_count": 4,
   "metadata": {},
   "outputs": [
    {
     "name": "stdout",
     "output_type": "stream",
     "text": [
      "Index(['SEASON_START', 'date', 'player_name', 'TEAM_ABBREVIATION',\n",
      "       'PLAYER_ID'],\n",
      "      dtype='object')\n"
     ]
    }
   ],
   "source": [
    "#rename waived_df columns player_id, season_start, team_abv so that they agree with stats_df;\n",
    "#do this in-place\n",
    "waived_df.rename(columns={'player_id':'PLAYER_ID', 'season_start':'SEASON_START', 'team_abv': 'TEAM_ABBREVIATION'}, inplace = True)\n",
    "\n",
    "#check that it worked\n",
    "print(waived_df.columns)"
   ]
  },
  {
   "cell_type": "code",
   "execution_count": 5,
   "metadata": {},
   "outputs": [],
   "source": [
    "#merge stats_df and waived_df on PLAYER_ID, SEASON_START, TEAM_ABBREVIATION\n",
    "merged_df = pd.merge(stats_df, waived_df, on=['PLAYER_ID', 'SEASON_START', 'TEAM_ABBREVIATION'], how='left')"
   ]
  },
  {
   "cell_type": "code",
   "execution_count": 6,
   "metadata": {},
   "outputs": [
    {
     "data": {
      "text/html": [
       "<div>\n",
       "<style scoped>\n",
       "    .dataframe tbody tr th:only-of-type {\n",
       "        vertical-align: middle;\n",
       "    }\n",
       "\n",
       "    .dataframe tbody tr th {\n",
       "        vertical-align: top;\n",
       "    }\n",
       "\n",
       "    .dataframe thead th {\n",
       "        text-align: right;\n",
       "    }\n",
       "</style>\n",
       "<table border=\"1\" class=\"dataframe\">\n",
       "  <thead>\n",
       "    <tr style=\"text-align: right;\">\n",
       "      <th></th>\n",
       "      <th>SEASON_START</th>\n",
       "      <th>NAME</th>\n",
       "      <th>date</th>\n",
       "    </tr>\n",
       "  </thead>\n",
       "  <tbody>\n",
       "    <tr>\n",
       "      <th>1477</th>\n",
       "      <td>1990</td>\n",
       "      <td>Dennis Scott</td>\n",
       "      <td>NaN</td>\n",
       "    </tr>\n",
       "    <tr>\n",
       "      <th>1478</th>\n",
       "      <td>1991</td>\n",
       "      <td>Dennis Scott</td>\n",
       "      <td>NaN</td>\n",
       "    </tr>\n",
       "    <tr>\n",
       "      <th>1479</th>\n",
       "      <td>1992</td>\n",
       "      <td>Dennis Scott</td>\n",
       "      <td>NaN</td>\n",
       "    </tr>\n",
       "    <tr>\n",
       "      <th>1480</th>\n",
       "      <td>1993</td>\n",
       "      <td>Dennis Scott</td>\n",
       "      <td>NaN</td>\n",
       "    </tr>\n",
       "    <tr>\n",
       "      <th>1481</th>\n",
       "      <td>1994</td>\n",
       "      <td>Dennis Scott</td>\n",
       "      <td>NaN</td>\n",
       "    </tr>\n",
       "    <tr>\n",
       "      <th>1482</th>\n",
       "      <td>1995</td>\n",
       "      <td>Dennis Scott</td>\n",
       "      <td>NaN</td>\n",
       "    </tr>\n",
       "    <tr>\n",
       "      <th>1483</th>\n",
       "      <td>1996</td>\n",
       "      <td>Dennis Scott</td>\n",
       "      <td>NaN</td>\n",
       "    </tr>\n",
       "    <tr>\n",
       "      <th>1484</th>\n",
       "      <td>1997</td>\n",
       "      <td>Dennis Scott</td>\n",
       "      <td>NaN</td>\n",
       "    </tr>\n",
       "    <tr>\n",
       "      <th>1485</th>\n",
       "      <td>1997</td>\n",
       "      <td>Dennis Scott</td>\n",
       "      <td>NaN</td>\n",
       "    </tr>\n",
       "    <tr>\n",
       "      <th>1486</th>\n",
       "      <td>1997</td>\n",
       "      <td>Dennis Scott</td>\n",
       "      <td>NaN</td>\n",
       "    </tr>\n",
       "    <tr>\n",
       "      <th>1487</th>\n",
       "      <td>1998</td>\n",
       "      <td>Dennis Scott</td>\n",
       "      <td>March 13, 1999</td>\n",
       "    </tr>\n",
       "    <tr>\n",
       "      <th>1488</th>\n",
       "      <td>1998</td>\n",
       "      <td>Dennis Scott</td>\n",
       "      <td>NaN</td>\n",
       "    </tr>\n",
       "    <tr>\n",
       "      <th>1489</th>\n",
       "      <td>1998</td>\n",
       "      <td>Dennis Scott</td>\n",
       "      <td>NaN</td>\n",
       "    </tr>\n",
       "    <tr>\n",
       "      <th>1490</th>\n",
       "      <td>1999</td>\n",
       "      <td>Dennis Scott</td>\n",
       "      <td>NaN</td>\n",
       "    </tr>\n",
       "  </tbody>\n",
       "</table>\n",
       "</div>"
      ],
      "text/plain": [
       "      SEASON_START          NAME            date\n",
       "1477          1990  Dennis Scott             NaN\n",
       "1478          1991  Dennis Scott             NaN\n",
       "1479          1992  Dennis Scott             NaN\n",
       "1480          1993  Dennis Scott             NaN\n",
       "1481          1994  Dennis Scott             NaN\n",
       "1482          1995  Dennis Scott             NaN\n",
       "1483          1996  Dennis Scott             NaN\n",
       "1484          1997  Dennis Scott             NaN\n",
       "1485          1997  Dennis Scott             NaN\n",
       "1486          1997  Dennis Scott             NaN\n",
       "1487          1998  Dennis Scott  March 13, 1999\n",
       "1488          1998  Dennis Scott             NaN\n",
       "1489          1998  Dennis Scott             NaN\n",
       "1490          1999  Dennis Scott             NaN"
      ]
     },
     "execution_count": 6,
     "metadata": {},
     "output_type": "execute_result"
    }
   ],
   "source": [
    "#pick an example of a player who was waived and show the date they were waived\n",
    "merged_df.loc[merged_df['PLAYER_ID'] == 192][[\"SEASON_START\", \"NAME\", \"date\"]]"
   ]
  },
  {
   "cell_type": "code",
   "execution_count": 7,
   "metadata": {},
   "outputs": [],
   "source": [
    "#make a new column called WAIVED and set it to zero\n",
    "merged_df['WAIVED'] = 0\n",
    "\n",
    "#if player was waived in a given row, their date column is not null; set those cases to 1\n",
    "merged_df.loc[merged_df['date'].notnull(), 'WAIVED'] = 1"
   ]
  },
  {
   "cell_type": "code",
   "execution_count": 8,
   "metadata": {},
   "outputs": [
    {
     "data": {
      "text/html": [
       "<div>\n",
       "<style scoped>\n",
       "    .dataframe tbody tr th:only-of-type {\n",
       "        vertical-align: middle;\n",
       "    }\n",
       "\n",
       "    .dataframe tbody tr th {\n",
       "        vertical-align: top;\n",
       "    }\n",
       "\n",
       "    .dataframe thead th {\n",
       "        text-align: right;\n",
       "    }\n",
       "</style>\n",
       "<table border=\"1\" class=\"dataframe\">\n",
       "  <thead>\n",
       "    <tr style=\"text-align: right;\">\n",
       "      <th></th>\n",
       "      <th>SEASON_START</th>\n",
       "      <th>NAME</th>\n",
       "      <th>date</th>\n",
       "      <th>WAIVED</th>\n",
       "    </tr>\n",
       "  </thead>\n",
       "  <tbody>\n",
       "    <tr>\n",
       "      <th>1477</th>\n",
       "      <td>1990</td>\n",
       "      <td>Dennis Scott</td>\n",
       "      <td>NaN</td>\n",
       "      <td>0</td>\n",
       "    </tr>\n",
       "    <tr>\n",
       "      <th>1478</th>\n",
       "      <td>1991</td>\n",
       "      <td>Dennis Scott</td>\n",
       "      <td>NaN</td>\n",
       "      <td>0</td>\n",
       "    </tr>\n",
       "    <tr>\n",
       "      <th>1479</th>\n",
       "      <td>1992</td>\n",
       "      <td>Dennis Scott</td>\n",
       "      <td>NaN</td>\n",
       "      <td>0</td>\n",
       "    </tr>\n",
       "    <tr>\n",
       "      <th>1480</th>\n",
       "      <td>1993</td>\n",
       "      <td>Dennis Scott</td>\n",
       "      <td>NaN</td>\n",
       "      <td>0</td>\n",
       "    </tr>\n",
       "    <tr>\n",
       "      <th>1481</th>\n",
       "      <td>1994</td>\n",
       "      <td>Dennis Scott</td>\n",
       "      <td>NaN</td>\n",
       "      <td>0</td>\n",
       "    </tr>\n",
       "    <tr>\n",
       "      <th>1482</th>\n",
       "      <td>1995</td>\n",
       "      <td>Dennis Scott</td>\n",
       "      <td>NaN</td>\n",
       "      <td>0</td>\n",
       "    </tr>\n",
       "    <tr>\n",
       "      <th>1483</th>\n",
       "      <td>1996</td>\n",
       "      <td>Dennis Scott</td>\n",
       "      <td>NaN</td>\n",
       "      <td>0</td>\n",
       "    </tr>\n",
       "    <tr>\n",
       "      <th>1484</th>\n",
       "      <td>1997</td>\n",
       "      <td>Dennis Scott</td>\n",
       "      <td>NaN</td>\n",
       "      <td>0</td>\n",
       "    </tr>\n",
       "    <tr>\n",
       "      <th>1485</th>\n",
       "      <td>1997</td>\n",
       "      <td>Dennis Scott</td>\n",
       "      <td>NaN</td>\n",
       "      <td>0</td>\n",
       "    </tr>\n",
       "    <tr>\n",
       "      <th>1486</th>\n",
       "      <td>1997</td>\n",
       "      <td>Dennis Scott</td>\n",
       "      <td>NaN</td>\n",
       "      <td>0</td>\n",
       "    </tr>\n",
       "    <tr>\n",
       "      <th>1487</th>\n",
       "      <td>1998</td>\n",
       "      <td>Dennis Scott</td>\n",
       "      <td>March 13, 1999</td>\n",
       "      <td>1</td>\n",
       "    </tr>\n",
       "    <tr>\n",
       "      <th>1488</th>\n",
       "      <td>1998</td>\n",
       "      <td>Dennis Scott</td>\n",
       "      <td>NaN</td>\n",
       "      <td>0</td>\n",
       "    </tr>\n",
       "    <tr>\n",
       "      <th>1489</th>\n",
       "      <td>1998</td>\n",
       "      <td>Dennis Scott</td>\n",
       "      <td>NaN</td>\n",
       "      <td>0</td>\n",
       "    </tr>\n",
       "    <tr>\n",
       "      <th>1490</th>\n",
       "      <td>1999</td>\n",
       "      <td>Dennis Scott</td>\n",
       "      <td>NaN</td>\n",
       "      <td>0</td>\n",
       "    </tr>\n",
       "  </tbody>\n",
       "</table>\n",
       "</div>"
      ],
      "text/plain": [
       "      SEASON_START          NAME            date  WAIVED\n",
       "1477          1990  Dennis Scott             NaN       0\n",
       "1478          1991  Dennis Scott             NaN       0\n",
       "1479          1992  Dennis Scott             NaN       0\n",
       "1480          1993  Dennis Scott             NaN       0\n",
       "1481          1994  Dennis Scott             NaN       0\n",
       "1482          1995  Dennis Scott             NaN       0\n",
       "1483          1996  Dennis Scott             NaN       0\n",
       "1484          1997  Dennis Scott             NaN       0\n",
       "1485          1997  Dennis Scott             NaN       0\n",
       "1486          1997  Dennis Scott             NaN       0\n",
       "1487          1998  Dennis Scott  March 13, 1999       1\n",
       "1488          1998  Dennis Scott             NaN       0\n",
       "1489          1998  Dennis Scott             NaN       0\n",
       "1490          1999  Dennis Scott             NaN       0"
      ]
     },
     "execution_count": 8,
     "metadata": {},
     "output_type": "execute_result"
    }
   ],
   "source": [
    "#check that this worked for player 192\n",
    "merged_df.loc[merged_df['PLAYER_ID'] == 192][[\"SEASON_START\", \"NAME\", \"date\", \"WAIVED\"]]"
   ]
  },
  {
   "cell_type": "markdown",
   "metadata": {},
   "source": [
    "## making `WAIVED_THIS_SEASON` row\n",
    "\n",
    "We'll eventually want to convert the dataframe from \"player-season-team\" format to \"player-season\" format, and we'll need to know if a player was waived at all during a given season.  As a first step, make a column called `WAIVED_THIS_SEASON`."
   ]
  },
  {
   "cell_type": "code",
   "execution_count": 9,
   "metadata": {},
   "outputs": [],
   "source": [
    "#grab a portion of the waived dataframe with just PLAYER_ID and SEASON_START data for waived players\n",
    "waived_tuples = waived_df[[\"PLAYER_ID\", \"SEASON_START\"]]\n",
    "\n",
    "#make a hash set of tuples (PLAYER_ID, SEASON_START) corresponding to players who are moved.\n",
    "#we could use a list instead of a hash set, but the stuff below would be much slower\n",
    "waived_set = set(tuple(x) for x in waived_tuples.to_numpy())"
   ]
  },
  {
   "cell_type": "code",
   "execution_count": 10,
   "metadata": {},
   "outputs": [],
   "source": [
    "#see: https://stackoverflow.com/questions/13331698/how-to-apply-a-function-to-two-columns-of-pandas-dataframe\n",
    "merged_df[\"WAIVED_THIS_SEASON\"] = merged_df.apply(lambda x: int((x.PLAYER_ID, x.SEASON_START) in waived_set), axis=1)"
   ]
  },
  {
   "cell_type": "code",
   "execution_count": 11,
   "metadata": {},
   "outputs": [
    {
     "data": {
      "text/html": [
       "<div>\n",
       "<style scoped>\n",
       "    .dataframe tbody tr th:only-of-type {\n",
       "        vertical-align: middle;\n",
       "    }\n",
       "\n",
       "    .dataframe tbody tr th {\n",
       "        vertical-align: top;\n",
       "    }\n",
       "\n",
       "    .dataframe thead th {\n",
       "        text-align: right;\n",
       "    }\n",
       "</style>\n",
       "<table border=\"1\" class=\"dataframe\">\n",
       "  <thead>\n",
       "    <tr style=\"text-align: right;\">\n",
       "      <th></th>\n",
       "      <th>SEASON_START</th>\n",
       "      <th>NAME</th>\n",
       "      <th>date</th>\n",
       "      <th>WAIVED</th>\n",
       "      <th>WAIVED_THIS_SEASON</th>\n",
       "    </tr>\n",
       "  </thead>\n",
       "  <tbody>\n",
       "    <tr>\n",
       "      <th>1477</th>\n",
       "      <td>1990</td>\n",
       "      <td>Dennis Scott</td>\n",
       "      <td>NaN</td>\n",
       "      <td>0</td>\n",
       "      <td>0</td>\n",
       "    </tr>\n",
       "    <tr>\n",
       "      <th>1478</th>\n",
       "      <td>1991</td>\n",
       "      <td>Dennis Scott</td>\n",
       "      <td>NaN</td>\n",
       "      <td>0</td>\n",
       "      <td>0</td>\n",
       "    </tr>\n",
       "    <tr>\n",
       "      <th>1479</th>\n",
       "      <td>1992</td>\n",
       "      <td>Dennis Scott</td>\n",
       "      <td>NaN</td>\n",
       "      <td>0</td>\n",
       "      <td>0</td>\n",
       "    </tr>\n",
       "    <tr>\n",
       "      <th>1480</th>\n",
       "      <td>1993</td>\n",
       "      <td>Dennis Scott</td>\n",
       "      <td>NaN</td>\n",
       "      <td>0</td>\n",
       "      <td>0</td>\n",
       "    </tr>\n",
       "    <tr>\n",
       "      <th>1481</th>\n",
       "      <td>1994</td>\n",
       "      <td>Dennis Scott</td>\n",
       "      <td>NaN</td>\n",
       "      <td>0</td>\n",
       "      <td>0</td>\n",
       "    </tr>\n",
       "    <tr>\n",
       "      <th>1482</th>\n",
       "      <td>1995</td>\n",
       "      <td>Dennis Scott</td>\n",
       "      <td>NaN</td>\n",
       "      <td>0</td>\n",
       "      <td>0</td>\n",
       "    </tr>\n",
       "    <tr>\n",
       "      <th>1483</th>\n",
       "      <td>1996</td>\n",
       "      <td>Dennis Scott</td>\n",
       "      <td>NaN</td>\n",
       "      <td>0</td>\n",
       "      <td>0</td>\n",
       "    </tr>\n",
       "    <tr>\n",
       "      <th>1484</th>\n",
       "      <td>1997</td>\n",
       "      <td>Dennis Scott</td>\n",
       "      <td>NaN</td>\n",
       "      <td>0</td>\n",
       "      <td>0</td>\n",
       "    </tr>\n",
       "    <tr>\n",
       "      <th>1485</th>\n",
       "      <td>1997</td>\n",
       "      <td>Dennis Scott</td>\n",
       "      <td>NaN</td>\n",
       "      <td>0</td>\n",
       "      <td>0</td>\n",
       "    </tr>\n",
       "    <tr>\n",
       "      <th>1486</th>\n",
       "      <td>1997</td>\n",
       "      <td>Dennis Scott</td>\n",
       "      <td>NaN</td>\n",
       "      <td>0</td>\n",
       "      <td>0</td>\n",
       "    </tr>\n",
       "    <tr>\n",
       "      <th>1487</th>\n",
       "      <td>1998</td>\n",
       "      <td>Dennis Scott</td>\n",
       "      <td>March 13, 1999</td>\n",
       "      <td>1</td>\n",
       "      <td>1</td>\n",
       "    </tr>\n",
       "    <tr>\n",
       "      <th>1488</th>\n",
       "      <td>1998</td>\n",
       "      <td>Dennis Scott</td>\n",
       "      <td>NaN</td>\n",
       "      <td>0</td>\n",
       "      <td>1</td>\n",
       "    </tr>\n",
       "    <tr>\n",
       "      <th>1489</th>\n",
       "      <td>1998</td>\n",
       "      <td>Dennis Scott</td>\n",
       "      <td>NaN</td>\n",
       "      <td>0</td>\n",
       "      <td>1</td>\n",
       "    </tr>\n",
       "    <tr>\n",
       "      <th>1490</th>\n",
       "      <td>1999</td>\n",
       "      <td>Dennis Scott</td>\n",
       "      <td>NaN</td>\n",
       "      <td>0</td>\n",
       "      <td>0</td>\n",
       "    </tr>\n",
       "  </tbody>\n",
       "</table>\n",
       "</div>"
      ],
      "text/plain": [
       "      SEASON_START          NAME            date  WAIVED  WAIVED_THIS_SEASON\n",
       "1477          1990  Dennis Scott             NaN       0                   0\n",
       "1478          1991  Dennis Scott             NaN       0                   0\n",
       "1479          1992  Dennis Scott             NaN       0                   0\n",
       "1480          1993  Dennis Scott             NaN       0                   0\n",
       "1481          1994  Dennis Scott             NaN       0                   0\n",
       "1482          1995  Dennis Scott             NaN       0                   0\n",
       "1483          1996  Dennis Scott             NaN       0                   0\n",
       "1484          1997  Dennis Scott             NaN       0                   0\n",
       "1485          1997  Dennis Scott             NaN       0                   0\n",
       "1486          1997  Dennis Scott             NaN       0                   0\n",
       "1487          1998  Dennis Scott  March 13, 1999       1                   1\n",
       "1488          1998  Dennis Scott             NaN       0                   1\n",
       "1489          1998  Dennis Scott             NaN       0                   1\n",
       "1490          1999  Dennis Scott             NaN       0                   0"
      ]
     },
     "execution_count": 11,
     "metadata": {},
     "output_type": "execute_result"
    }
   ],
   "source": [
    "#check that it worked using PLAYER_ID=192\n",
    "merged_df.loc[merged_df['PLAYER_ID'] == 192][[\"SEASON_START\", \"NAME\", \"date\", \"WAIVED\", \"WAIVED_THIS_SEASON\"]]"
   ]
  },
  {
   "cell_type": "markdown",
   "metadata": {},
   "source": [
    "## putting the dataframe in \"player-season\" format\n",
    "\n",
    "- Go through all rows with TEAM_ABBREVIATION TOT, add those to set of tuples (PLAYER_ID, SEASON_START)\n",
    "- drop all rows which are not TOT and have (PLAYER_ID, SEASON_START) in our set of tuples"
   ]
  },
  {
   "cell_type": "code",
   "execution_count": 12,
   "metadata": {},
   "outputs": [],
   "source": [
    "#grab dataframe of all \"TOT\" rows\n",
    "TOT_seasons = merged_df[merged_df[\"TEAM_ABBREVIATION\"]==\"TOT\"]"
   ]
  },
  {
   "cell_type": "code",
   "execution_count": 13,
   "metadata": {},
   "outputs": [],
   "source": [
    "#go through TOT rows and grab just PLAYER_ID, SEASON_START data\n",
    "tot_tuples = TOT_seasons[[\"PLAYER_ID\", \"SEASON_START\"]]\n",
    "\n",
    "#package tuples of (PLAYER_ID, SEASON_START) into a set; note that this could be a list, but the\n",
    "#stuff below would be much slower\n",
    "tot_tuples_set = set(tuple(x) for x in tot_tuples.to_numpy())"
   ]
  },
  {
   "cell_type": "code",
   "execution_count": 14,
   "metadata": {},
   "outputs": [],
   "source": [
    "#we want to keep the rows that are already in player-season format (rather than player-season-team)\n",
    "\n",
    "#keep rows (return True) when TEAM_ABBREVIATION==\"TOT\" or (PLAYER_ID, SEASON_START) not in tot_tuples_set.\n",
    "#In other words, the rows we're keeping are either TOT rows or have a (PLAYER_ID, SEASON_START) tuples which\n",
    "#never appears as a TOT row (i.e. it's a season where the player is never moved)\n",
    "def find_keep_rows(x):\n",
    "    is_tot_row       = x.TEAM_ABBREVIATION == \"TOT\"\n",
    "    player_not_moved = (x.PLAYER_ID, x.SEASON_START) not in tot_tuples_set\n",
    "    return is_tot_row or player_not_moved"
   ]
  },
  {
   "cell_type": "code",
   "execution_count": 15,
   "metadata": {},
   "outputs": [],
   "source": [
    "#apply the function and save the result as \"KEEP_ROW\", which will be True for rows we want\n",
    "#(which are already in player-season format) and False for rows we're going to drop\n",
    "merged_df[\"KEEP_ROW\"] = merged_df.apply(find_keep_rows, axis=1)"
   ]
  },
  {
   "cell_type": "code",
   "execution_count": 16,
   "metadata": {},
   "outputs": [
    {
     "data": {
      "text/html": [
       "<div>\n",
       "<style scoped>\n",
       "    .dataframe tbody tr th:only-of-type {\n",
       "        vertical-align: middle;\n",
       "    }\n",
       "\n",
       "    .dataframe tbody tr th {\n",
       "        vertical-align: top;\n",
       "    }\n",
       "\n",
       "    .dataframe thead th {\n",
       "        text-align: right;\n",
       "    }\n",
       "</style>\n",
       "<table border=\"1\" class=\"dataframe\">\n",
       "  <thead>\n",
       "    <tr style=\"text-align: right;\">\n",
       "      <th></th>\n",
       "      <th>NAME</th>\n",
       "      <th>TEAM_ABBREVIATION</th>\n",
       "      <th>SEASON_START</th>\n",
       "      <th>KEEP_ROW</th>\n",
       "    </tr>\n",
       "  </thead>\n",
       "  <tbody>\n",
       "    <tr>\n",
       "      <th>1477</th>\n",
       "      <td>Dennis Scott</td>\n",
       "      <td>ORL</td>\n",
       "      <td>1990</td>\n",
       "      <td>True</td>\n",
       "    </tr>\n",
       "    <tr>\n",
       "      <th>1478</th>\n",
       "      <td>Dennis Scott</td>\n",
       "      <td>ORL</td>\n",
       "      <td>1991</td>\n",
       "      <td>True</td>\n",
       "    </tr>\n",
       "    <tr>\n",
       "      <th>1479</th>\n",
       "      <td>Dennis Scott</td>\n",
       "      <td>ORL</td>\n",
       "      <td>1992</td>\n",
       "      <td>True</td>\n",
       "    </tr>\n",
       "    <tr>\n",
       "      <th>1480</th>\n",
       "      <td>Dennis Scott</td>\n",
       "      <td>ORL</td>\n",
       "      <td>1993</td>\n",
       "      <td>True</td>\n",
       "    </tr>\n",
       "    <tr>\n",
       "      <th>1481</th>\n",
       "      <td>Dennis Scott</td>\n",
       "      <td>ORL</td>\n",
       "      <td>1994</td>\n",
       "      <td>True</td>\n",
       "    </tr>\n",
       "    <tr>\n",
       "      <th>1482</th>\n",
       "      <td>Dennis Scott</td>\n",
       "      <td>ORL</td>\n",
       "      <td>1995</td>\n",
       "      <td>True</td>\n",
       "    </tr>\n",
       "    <tr>\n",
       "      <th>1483</th>\n",
       "      <td>Dennis Scott</td>\n",
       "      <td>ORL</td>\n",
       "      <td>1996</td>\n",
       "      <td>True</td>\n",
       "    </tr>\n",
       "    <tr>\n",
       "      <th>1484</th>\n",
       "      <td>Dennis Scott</td>\n",
       "      <td>DAL</td>\n",
       "      <td>1997</td>\n",
       "      <td>False</td>\n",
       "    </tr>\n",
       "    <tr>\n",
       "      <th>1485</th>\n",
       "      <td>Dennis Scott</td>\n",
       "      <td>PHX</td>\n",
       "      <td>1997</td>\n",
       "      <td>False</td>\n",
       "    </tr>\n",
       "    <tr>\n",
       "      <th>1486</th>\n",
       "      <td>Dennis Scott</td>\n",
       "      <td>TOT</td>\n",
       "      <td>1997</td>\n",
       "      <td>True</td>\n",
       "    </tr>\n",
       "    <tr>\n",
       "      <th>1487</th>\n",
       "      <td>Dennis Scott</td>\n",
       "      <td>NYK</td>\n",
       "      <td>1998</td>\n",
       "      <td>False</td>\n",
       "    </tr>\n",
       "    <tr>\n",
       "      <th>1488</th>\n",
       "      <td>Dennis Scott</td>\n",
       "      <td>MIN</td>\n",
       "      <td>1998</td>\n",
       "      <td>False</td>\n",
       "    </tr>\n",
       "    <tr>\n",
       "      <th>1489</th>\n",
       "      <td>Dennis Scott</td>\n",
       "      <td>TOT</td>\n",
       "      <td>1998</td>\n",
       "      <td>True</td>\n",
       "    </tr>\n",
       "    <tr>\n",
       "      <th>1490</th>\n",
       "      <td>Dennis Scott</td>\n",
       "      <td>VAN</td>\n",
       "      <td>1999</td>\n",
       "      <td>True</td>\n",
       "    </tr>\n",
       "  </tbody>\n",
       "</table>\n",
       "</div>"
      ],
      "text/plain": [
       "              NAME TEAM_ABBREVIATION  SEASON_START  KEEP_ROW\n",
       "1477  Dennis Scott               ORL          1990      True\n",
       "1478  Dennis Scott               ORL          1991      True\n",
       "1479  Dennis Scott               ORL          1992      True\n",
       "1480  Dennis Scott               ORL          1993      True\n",
       "1481  Dennis Scott               ORL          1994      True\n",
       "1482  Dennis Scott               ORL          1995      True\n",
       "1483  Dennis Scott               ORL          1996      True\n",
       "1484  Dennis Scott               DAL          1997     False\n",
       "1485  Dennis Scott               PHX          1997     False\n",
       "1486  Dennis Scott               TOT          1997      True\n",
       "1487  Dennis Scott               NYK          1998     False\n",
       "1488  Dennis Scott               MIN          1998     False\n",
       "1489  Dennis Scott               TOT          1998      True\n",
       "1490  Dennis Scott               VAN          1999      True"
      ]
     },
     "execution_count": 16,
     "metadata": {},
     "output_type": "execute_result"
    }
   ],
   "source": [
    "#check that this worked for PLAYER_ID == 192.  Note that this worked: KEEP_ROW is True for all rows\n",
    "#corresponding to a season where Dennis Scott was not moved, or the TOT row in seasons where he was moved\n",
    "merged_df[merged_df[\"PLAYER_ID\"]==192][[\"NAME\", \"TEAM_ABBREVIATION\", \"SEASON_START\", \"KEEP_ROW\"]]"
   ]
  },
  {
   "cell_type": "code",
   "execution_count": 17,
   "metadata": {},
   "outputs": [],
   "source": [
    "#make the dataframe in player_season format; this is easy, since we just want the places where\n",
    "#KEEP_ROW = True\n",
    "PS_df = merged_df[merged_df[\"KEEP_ROW\"]]"
   ]
  },
  {
   "cell_type": "markdown",
   "metadata": {},
   "source": [
    "## clean up dataframe a bit\n",
    "\n",
    "We have a bunch of columns that aren't very useful (e.g. `TEAM_ID`); let's drop those."
   ]
  },
  {
   "cell_type": "code",
   "execution_count": 18,
   "metadata": {},
   "outputs": [
    {
     "name": "stdout",
     "output_type": "stream",
     "text": [
      "Index(['PLAYER_ID', 'SEASON_ID', 'LEAGUE_ID', 'TEAM_ID', 'TEAM_ABBREVIATION',\n",
      "       'PLAYER_AGE', 'GP', 'GS', 'MIN', 'FGM', 'FGA', 'FG_PCT', 'FG3M', 'FG3A',\n",
      "       'FG3_PCT', 'FTM', 'FTA', 'FT_PCT', 'OREB', 'DREB', 'REB', 'AST', 'STL',\n",
      "       'BLK', 'TOV', 'PF', 'PTS', 'NAME', 'SEASON_START', 'date',\n",
      "       'player_name', 'WAIVED', 'WAIVED_THIS_SEASON', 'KEEP_ROW'],\n",
      "      dtype='object')\n"
     ]
    }
   ],
   "source": [
    "print(PS_df.columns)"
   ]
  },
  {
   "cell_type": "code",
   "execution_count": 19,
   "metadata": {},
   "outputs": [],
   "source": [
    "PS_df_clean = PS_df.drop(columns=[\"SEASON_ID\", \"LEAGUE_ID\", \"TEAM_ID\", \"date\", \"player_name\", \"WAIVED\", \"KEEP_ROW\"])"
   ]
  },
  {
   "cell_type": "markdown",
   "metadata": {},
   "source": [
    "## Putting in a `WAIVED_NEXT_SEASON` column\n",
    "\n",
    "The `WAIVED_NEXT_SEASON` value will be the response variable for our model.  The idea here is to make a hash set of tuples called `waived_seasons` with the format `(PLAYER_ID, SEASON_START)`.  We will then check if `(PLAYER_ID, SEASON_START+1)` is in `waived_seasons`; if it is, then `WAIVED_NEXT_SEASON` is `1` and otherwise it is `0`."
   ]
  },
  {
   "cell_type": "code",
   "execution_count": 20,
   "metadata": {},
   "outputs": [],
   "source": [
    "#for seasons where the player was waived, grab their PLAYER_ID and SEASON_START\n",
    "waived_df = PS_df_clean[PS_df_clean[\"WAIVED_THIS_SEASON\"]==1][[\"PLAYER_ID\", \"SEASON_START\"]]\n",
    "\n",
    "#package (PLAYER_ID, SEASON_START) tuples into a hash set\n",
    "waived_seasons = set(tuple(x) for x in waived_df.to_numpy())"
   ]
  },
  {
   "cell_type": "code",
   "execution_count": 21,
   "metadata": {},
   "outputs": [],
   "source": [
    "#define a function that returns 1 if the player was waived in the next season\n",
    "#and 0 otherwise\n",
    "def waived_next_season(x):\n",
    "    res_boolean = (x.PLAYER_ID, x.SEASON_START+1) in waived_seasons\n",
    "    return int( res_boolean )"
   ]
  },
  {
   "cell_type": "code",
   "execution_count": 22,
   "metadata": {},
   "outputs": [],
   "source": [
    "#apply waived_next_season to the dataframe\n",
    "PS_df_clean[\"WAIVED_NEXT_SEASON\"] = PS_df_clean.apply(waived_next_season, axis=1)"
   ]
  },
  {
   "cell_type": "code",
   "execution_count": 23,
   "metadata": {},
   "outputs": [
    {
     "data": {
      "text/html": [
       "<div>\n",
       "<style scoped>\n",
       "    .dataframe tbody tr th:only-of-type {\n",
       "        vertical-align: middle;\n",
       "    }\n",
       "\n",
       "    .dataframe tbody tr th {\n",
       "        vertical-align: top;\n",
       "    }\n",
       "\n",
       "    .dataframe thead th {\n",
       "        text-align: right;\n",
       "    }\n",
       "</style>\n",
       "<table border=\"1\" class=\"dataframe\">\n",
       "  <thead>\n",
       "    <tr style=\"text-align: right;\">\n",
       "      <th></th>\n",
       "      <th>PLAYER_ID</th>\n",
       "      <th>TEAM_ABBREVIATION</th>\n",
       "      <th>PLAYER_AGE</th>\n",
       "      <th>GP</th>\n",
       "      <th>GS</th>\n",
       "      <th>MIN</th>\n",
       "      <th>FGM</th>\n",
       "      <th>FGA</th>\n",
       "      <th>FG_PCT</th>\n",
       "      <th>FG3M</th>\n",
       "      <th>...</th>\n",
       "      <th>AST</th>\n",
       "      <th>STL</th>\n",
       "      <th>BLK</th>\n",
       "      <th>TOV</th>\n",
       "      <th>PF</th>\n",
       "      <th>PTS</th>\n",
       "      <th>NAME</th>\n",
       "      <th>SEASON_START</th>\n",
       "      <th>WAIVED_THIS_SEASON</th>\n",
       "      <th>WAIVED_NEXT_SEASON</th>\n",
       "    </tr>\n",
       "  </thead>\n",
       "  <tbody>\n",
       "    <tr>\n",
       "      <th>1477</th>\n",
       "      <td>192</td>\n",
       "      <td>ORL</td>\n",
       "      <td>22.0</td>\n",
       "      <td>82</td>\n",
       "      <td>73.0</td>\n",
       "      <td>2336.0</td>\n",
       "      <td>503</td>\n",
       "      <td>1183</td>\n",
       "      <td>0.425</td>\n",
       "      <td>125.0</td>\n",
       "      <td>...</td>\n",
       "      <td>134</td>\n",
       "      <td>62.0</td>\n",
       "      <td>25.0</td>\n",
       "      <td>127.0</td>\n",
       "      <td>203</td>\n",
       "      <td>1284</td>\n",
       "      <td>Dennis Scott</td>\n",
       "      <td>1990</td>\n",
       "      <td>0</td>\n",
       "      <td>0</td>\n",
       "    </tr>\n",
       "    <tr>\n",
       "      <th>1478</th>\n",
       "      <td>192</td>\n",
       "      <td>ORL</td>\n",
       "      <td>23.0</td>\n",
       "      <td>18</td>\n",
       "      <td>15.0</td>\n",
       "      <td>608.0</td>\n",
       "      <td>133</td>\n",
       "      <td>331</td>\n",
       "      <td>0.402</td>\n",
       "      <td>29.0</td>\n",
       "      <td>...</td>\n",
       "      <td>35</td>\n",
       "      <td>20.0</td>\n",
       "      <td>9.0</td>\n",
       "      <td>31.0</td>\n",
       "      <td>49</td>\n",
       "      <td>359</td>\n",
       "      <td>Dennis Scott</td>\n",
       "      <td>1991</td>\n",
       "      <td>0</td>\n",
       "      <td>0</td>\n",
       "    </tr>\n",
       "    <tr>\n",
       "      <th>1479</th>\n",
       "      <td>192</td>\n",
       "      <td>ORL</td>\n",
       "      <td>24.0</td>\n",
       "      <td>54</td>\n",
       "      <td>43.0</td>\n",
       "      <td>1759.0</td>\n",
       "      <td>329</td>\n",
       "      <td>763</td>\n",
       "      <td>0.431</td>\n",
       "      <td>108.0</td>\n",
       "      <td>...</td>\n",
       "      <td>136</td>\n",
       "      <td>57.0</td>\n",
       "      <td>18.0</td>\n",
       "      <td>104.0</td>\n",
       "      <td>131</td>\n",
       "      <td>858</td>\n",
       "      <td>Dennis Scott</td>\n",
       "      <td>1992</td>\n",
       "      <td>0</td>\n",
       "      <td>0</td>\n",
       "    </tr>\n",
       "    <tr>\n",
       "      <th>1480</th>\n",
       "      <td>192</td>\n",
       "      <td>ORL</td>\n",
       "      <td>25.0</td>\n",
       "      <td>82</td>\n",
       "      <td>37.0</td>\n",
       "      <td>2283.0</td>\n",
       "      <td>384</td>\n",
       "      <td>949</td>\n",
       "      <td>0.405</td>\n",
       "      <td>155.0</td>\n",
       "      <td>...</td>\n",
       "      <td>216</td>\n",
       "      <td>81.0</td>\n",
       "      <td>32.0</td>\n",
       "      <td>93.0</td>\n",
       "      <td>161</td>\n",
       "      <td>1046</td>\n",
       "      <td>Dennis Scott</td>\n",
       "      <td>1993</td>\n",
       "      <td>0</td>\n",
       "      <td>0</td>\n",
       "    </tr>\n",
       "    <tr>\n",
       "      <th>1481</th>\n",
       "      <td>192</td>\n",
       "      <td>ORL</td>\n",
       "      <td>26.0</td>\n",
       "      <td>62</td>\n",
       "      <td>10.0</td>\n",
       "      <td>1499.0</td>\n",
       "      <td>283</td>\n",
       "      <td>645</td>\n",
       "      <td>0.439</td>\n",
       "      <td>150.0</td>\n",
       "      <td>...</td>\n",
       "      <td>131</td>\n",
       "      <td>45.0</td>\n",
       "      <td>14.0</td>\n",
       "      <td>57.0</td>\n",
       "      <td>119</td>\n",
       "      <td>802</td>\n",
       "      <td>Dennis Scott</td>\n",
       "      <td>1994</td>\n",
       "      <td>0</td>\n",
       "      <td>0</td>\n",
       "    </tr>\n",
       "    <tr>\n",
       "      <th>1482</th>\n",
       "      <td>192</td>\n",
       "      <td>ORL</td>\n",
       "      <td>27.0</td>\n",
       "      <td>82</td>\n",
       "      <td>82.0</td>\n",
       "      <td>3041.0</td>\n",
       "      <td>491</td>\n",
       "      <td>1117</td>\n",
       "      <td>0.440</td>\n",
       "      <td>267.0</td>\n",
       "      <td>...</td>\n",
       "      <td>243</td>\n",
       "      <td>90.0</td>\n",
       "      <td>29.0</td>\n",
       "      <td>122.0</td>\n",
       "      <td>169</td>\n",
       "      <td>1431</td>\n",
       "      <td>Dennis Scott</td>\n",
       "      <td>1995</td>\n",
       "      <td>0</td>\n",
       "      <td>0</td>\n",
       "    </tr>\n",
       "    <tr>\n",
       "      <th>1483</th>\n",
       "      <td>192</td>\n",
       "      <td>ORL</td>\n",
       "      <td>28.0</td>\n",
       "      <td>66</td>\n",
       "      <td>62.0</td>\n",
       "      <td>2166.0</td>\n",
       "      <td>298</td>\n",
       "      <td>749</td>\n",
       "      <td>0.398</td>\n",
       "      <td>147.0</td>\n",
       "      <td>...</td>\n",
       "      <td>139</td>\n",
       "      <td>74.0</td>\n",
       "      <td>19.0</td>\n",
       "      <td>81.0</td>\n",
       "      <td>138</td>\n",
       "      <td>823</td>\n",
       "      <td>Dennis Scott</td>\n",
       "      <td>1996</td>\n",
       "      <td>0</td>\n",
       "      <td>0</td>\n",
       "    </tr>\n",
       "    <tr>\n",
       "      <th>1486</th>\n",
       "      <td>192</td>\n",
       "      <td>TOT</td>\n",
       "      <td>29.0</td>\n",
       "      <td>81</td>\n",
       "      <td>45.0</td>\n",
       "      <td>2290.0</td>\n",
       "      <td>329</td>\n",
       "      <td>828</td>\n",
       "      <td>0.397</td>\n",
       "      <td>125.0</td>\n",
       "      <td>...</td>\n",
       "      <td>153</td>\n",
       "      <td>53.0</td>\n",
       "      <td>39.0</td>\n",
       "      <td>104.0</td>\n",
       "      <td>152</td>\n",
       "      <td>888</td>\n",
       "      <td>Dennis Scott</td>\n",
       "      <td>1997</td>\n",
       "      <td>0</td>\n",
       "      <td>1</td>\n",
       "    </tr>\n",
       "    <tr>\n",
       "      <th>1489</th>\n",
       "      <td>192</td>\n",
       "      <td>TOT</td>\n",
       "      <td>30.0</td>\n",
       "      <td>36</td>\n",
       "      <td>9.0</td>\n",
       "      <td>738.0</td>\n",
       "      <td>87</td>\n",
       "      <td>213</td>\n",
       "      <td>0.408</td>\n",
       "      <td>37.0</td>\n",
       "      <td>...</td>\n",
       "      <td>40</td>\n",
       "      <td>15.0</td>\n",
       "      <td>3.0</td>\n",
       "      <td>19.0</td>\n",
       "      <td>49</td>\n",
       "      <td>234</td>\n",
       "      <td>Dennis Scott</td>\n",
       "      <td>1998</td>\n",
       "      <td>1</td>\n",
       "      <td>0</td>\n",
       "    </tr>\n",
       "    <tr>\n",
       "      <th>1490</th>\n",
       "      <td>192</td>\n",
       "      <td>VAN</td>\n",
       "      <td>31.0</td>\n",
       "      <td>66</td>\n",
       "      <td>0.0</td>\n",
       "      <td>1263.0</td>\n",
       "      <td>125</td>\n",
       "      <td>333</td>\n",
       "      <td>0.375</td>\n",
       "      <td>71.0</td>\n",
       "      <td>...</td>\n",
       "      <td>69</td>\n",
       "      <td>28.0</td>\n",
       "      <td>9.0</td>\n",
       "      <td>30.0</td>\n",
       "      <td>104</td>\n",
       "      <td>369</td>\n",
       "      <td>Dennis Scott</td>\n",
       "      <td>1999</td>\n",
       "      <td>0</td>\n",
       "      <td>0</td>\n",
       "    </tr>\n",
       "  </tbody>\n",
       "</table>\n",
       "<p>10 rows × 28 columns</p>\n",
       "</div>"
      ],
      "text/plain": [
       "      PLAYER_ID TEAM_ABBREVIATION  PLAYER_AGE  GP    GS     MIN  FGM   FGA  \\\n",
       "1477        192               ORL        22.0  82  73.0  2336.0  503  1183   \n",
       "1478        192               ORL        23.0  18  15.0   608.0  133   331   \n",
       "1479        192               ORL        24.0  54  43.0  1759.0  329   763   \n",
       "1480        192               ORL        25.0  82  37.0  2283.0  384   949   \n",
       "1481        192               ORL        26.0  62  10.0  1499.0  283   645   \n",
       "1482        192               ORL        27.0  82  82.0  3041.0  491  1117   \n",
       "1483        192               ORL        28.0  66  62.0  2166.0  298   749   \n",
       "1486        192               TOT        29.0  81  45.0  2290.0  329   828   \n",
       "1489        192               TOT        30.0  36   9.0   738.0   87   213   \n",
       "1490        192               VAN        31.0  66   0.0  1263.0  125   333   \n",
       "\n",
       "      FG_PCT   FG3M  ...  AST   STL   BLK    TOV   PF   PTS          NAME  \\\n",
       "1477   0.425  125.0  ...  134  62.0  25.0  127.0  203  1284  Dennis Scott   \n",
       "1478   0.402   29.0  ...   35  20.0   9.0   31.0   49   359  Dennis Scott   \n",
       "1479   0.431  108.0  ...  136  57.0  18.0  104.0  131   858  Dennis Scott   \n",
       "1480   0.405  155.0  ...  216  81.0  32.0   93.0  161  1046  Dennis Scott   \n",
       "1481   0.439  150.0  ...  131  45.0  14.0   57.0  119   802  Dennis Scott   \n",
       "1482   0.440  267.0  ...  243  90.0  29.0  122.0  169  1431  Dennis Scott   \n",
       "1483   0.398  147.0  ...  139  74.0  19.0   81.0  138   823  Dennis Scott   \n",
       "1486   0.397  125.0  ...  153  53.0  39.0  104.0  152   888  Dennis Scott   \n",
       "1489   0.408   37.0  ...   40  15.0   3.0   19.0   49   234  Dennis Scott   \n",
       "1490   0.375   71.0  ...   69  28.0   9.0   30.0  104   369  Dennis Scott   \n",
       "\n",
       "      SEASON_START  WAIVED_THIS_SEASON  WAIVED_NEXT_SEASON  \n",
       "1477          1990                   0                   0  \n",
       "1478          1991                   0                   0  \n",
       "1479          1992                   0                   0  \n",
       "1480          1993                   0                   0  \n",
       "1481          1994                   0                   0  \n",
       "1482          1995                   0                   0  \n",
       "1483          1996                   0                   0  \n",
       "1486          1997                   0                   1  \n",
       "1489          1998                   1                   0  \n",
       "1490          1999                   0                   0  \n",
       "\n",
       "[10 rows x 28 columns]"
      ]
     },
     "execution_count": 23,
     "metadata": {},
     "output_type": "execute_result"
    }
   ],
   "source": [
    "#check that it works with PLAYER_ID=192\n",
    "PS_df_clean[PS_df_clean[\"PLAYER_ID\"]==192]"
   ]
  },
  {
   "cell_type": "markdown",
   "metadata": {},
   "source": [
    "# Visualizing the player-season data\n",
    "\n",
    "Let's now do some basic visualization of the reformatted dataframe `PS_df_clean` (player-season format).\n",
    "\n",
    "Let's start by seeing how many players actually were waived in the following season."
   ]
  },
  {
   "cell_type": "code",
   "execution_count": 24,
   "metadata": {},
   "outputs": [
    {
     "name": "stdout",
     "output_type": "stream",
     "text": [
      "Out of the 24688 players, 1476 (5.98%) were waived next season\n"
     ]
    }
   ],
   "source": [
    "#start by checking how the WAIVED_NEXT_SEASON column (our response variable) turned out\n",
    "num_waived_next = PS_df_clean[\"WAIVED_NEXT_SEASON\"].sum()\n",
    "total_rows      = len(PS_df_clean)\n",
    "\n",
    "print(f\"Out of the {total_rows} players, {num_waived_next} ({num_waived_next/total_rows*100:.2f}%) were waived next season\")"
   ]
  },
  {
   "cell_type": "markdown",
   "metadata": {},
   "source": [
    "### Correlations between features/response\n",
    "\n",
    "Let's now make the correlation heatmap between features and the response variable `WAIVED_NEXT_SEASON`."
   ]
  },
  {
   "cell_type": "code",
   "execution_count": 25,
   "metadata": {},
   "outputs": [
    {
     "data": {
      "image/png": "[encoded data removed]",
      "text/plain": [
       "<Figure size 640x480 with 2 Axes>"
      ]
     },
     "metadata": {},
     "output_type": "display_data"
    }
   ],
   "source": [
    "features_and_response = ['PLAYER_AGE', 'GP', 'GS', 'MIN', 'FGM', 'FGA', 'FG_PCT', 'FG3M', 'FG3A',\n",
    "                         'FG3_PCT', 'FTM', 'FTA', 'FT_PCT', 'OREB', 'DREB', 'REB', 'AST', 'STL',\n",
    "                         'BLK', 'TOV', 'PF', 'PTS', 'WAIVED_THIS_SEASON', 'WAIVED_NEXT_SEASON']\n",
    "\n",
    "corr = PS_df_clean[features_and_response].corr()\n",
    "\n",
    "sns.heatmap(corr)\n",
    "plt.show()"
   ]
  },
  {
   "cell_type": "markdown",
   "metadata": {},
   "source": [
    "First of all, we can see that there are some strong correlations _between predictors_, implying there is a decent risk of collinearity if we keep all of them.  In the future, we may want to come up with some single combined stat instead of having multiple collinear ones. Perhaps the advanced stats will do this for us, when we include those?\n",
    "\n",
    "It looks like correlations with `WAIVED_NEXT_SEASON` are pretty weak.  The numerical results are printed in the next cell.  Notice that the largest magnitude correlation is `PF`, which is around $-0.17$.  The sign is slightly counterintuitive (commiting more fouls makes you _less likely to be waived_) but I think the real reasoning is probably that in order to commit more fouls you need to play more (which decreases your odds of being waived)."
   ]
  },
  {
   "cell_type": "code",
   "execution_count": 26,
   "metadata": {},
   "outputs": [
    {
     "data": {
      "text/plain": [
       "PLAYER_AGE            0.020876\n",
       "GP                   -0.140066\n",
       "GS                   -0.151379\n",
       "MIN                  -0.165905\n",
       "FGM                  -0.155012\n",
       "FGA                  -0.155763\n",
       "FG_PCT               -0.027429\n",
       "FG3M                 -0.054648\n",
       "FG3A                 -0.053981\n",
       "FG3_PCT               0.012005\n",
       "FTM                  -0.148397\n",
       "FTA                  -0.151790\n",
       "FT_PCT               -0.035035\n",
       "OREB                 -0.143213\n",
       "DREB                 -0.145884\n",
       "REB                  -0.143957\n",
       "AST                  -0.109390\n",
       "STL                  -0.146620\n",
       "BLK                  -0.111158\n",
       "TOV                  -0.162573\n",
       "PF                   -0.170006\n",
       "PTS                  -0.152923\n",
       "WAIVED_THIS_SEASON    0.128836\n",
       "WAIVED_NEXT_SEASON    1.000000\n",
       "Name: WAIVED_NEXT_SEASON, dtype: float64"
      ]
     },
     "execution_count": 26,
     "metadata": {},
     "output_type": "execute_result"
    }
   ],
   "source": [
    "corr[\"WAIVED_NEXT_SEASON\"]"
   ]
  },
  {
   "cell_type": "markdown",
   "metadata": {},
   "source": [
    "### Plotting distributions where `WAIVED_THIS_SEASON` is `0` or `1`"
   ]
  },
  {
   "cell_type": "code",
   "execution_count": 27,
   "metadata": {},
   "outputs": [
    {
     "data": {
      "image/png": "[encoded data removed]",
      "text/plain": [
       "<Figure size 640x480 with 1 Axes>"
      ]
     },
     "metadata": {},
     "output_type": "display_data"
    }
   ],
   "source": [
    "#write a helper function to visualize the stat differences between those who were waived next season\n",
    "#vs those who weren't\n",
    "def compare_waived_plot(season_start, stat):\n",
    "    sns.violinplot(data=PS_df_clean[PS_df_clean[\"SEASON_START\"]==season_start], x=\"WAIVED_NEXT_SEASON\", y=stat)\n",
    "    plt.show()\n",
    "\n",
    "#grab all of the different stats and put them in a list\n",
    "stats_types = ['PLAYER_AGE', 'GP', 'GS', 'MIN', 'FGM', 'FGA', 'FG_PCT', 'FG3M', 'FG3A',\n",
    "               'FG3_PCT', 'FTM', 'FTA', 'FT_PCT', 'OREB', 'DREB', 'REB', 'AST', 'STL',\n",
    "               'BLK', 'TOV', 'PF', 'PTS']\n",
    "\n",
    "#make a violinplot for each stat.  Limiting this to 0:1 to de-clutter notebook\n",
    "for stat in stats_types[0:1]:\n",
    "    compare_waived_plot(2022, stat)"
   ]
  },
  {
   "cell_type": "markdown",
   "metadata": {},
   "source": [
    "# Fitting some initial classifiers\n",
    "\n",
    "### Important findings so far\n",
    "\n",
    "So far, we have the following insights into the dataset:\n",
    "- only ~6% of players were waived in the following season, so being waived is a _rare class_\n",
    "- many of the counting stats are collinear (correlated with each other)\n",
    "- no individual counting stat has a strong ($>0.2$) correlation with `WAIVED_NEXT_SEASON`.\n",
    "\n",
    "### Things to consider\n",
    "\n",
    "1. Since our binary classification based on `WAIVED_NEXT_SEASON` is so imbalanced we will need to use special methods (see https://datasciencehorizons.com/handling-imbalanced-datasets-in-scikit-learn-techniques-and-best-practices/).  These methods aim to either resample the data or create synthetic data so that we have close to 50% of our datapoints with `WAIVED_NEXT_SEASON=1` and 50% with `WAIVED_NEXT_SEASON=0`.  If we don't do this, it's really hard to get a classifier that performs better than the one that just always predicts `WAIVED_NEXT_SEASON=0`, because that one will have 94% accuracy.\n",
    "2. We'll have to choose our features carefully to avoid the collinearity issue.\n",
    "3. No single counting stat will be a good predictor of whether or not a player is waived, so we'll need a synergistic effect from multiple predictors to get a good classifier."
   ]
  },
  {
   "cell_type": "markdown",
   "metadata": {},
   "source": [
    "### Prepare the data\n",
    "\n",
    "Drop NAN rows, make the train-test split, resample training data so that waived players are not only 6% of total datapoints."
   ]
  },
  {
   "cell_type": "code",
   "execution_count": 28,
   "metadata": {},
   "outputs": [],
   "source": [
    "#let's start by making a copy of the dataframe and drop NAN rows\n",
    "df = PS_df_clean.copy()\n",
    "df.dropna(inplace=True)"
   ]
  },
  {
   "cell_type": "code",
   "execution_count": 29,
   "metadata": {},
   "outputs": [],
   "source": [
    "#grab features\n",
    "features = ['PLAYER_AGE', 'GP', 'GS', 'MIN', 'FGM', 'FGA', 'FG_PCT', 'FG3M', 'FG3A',\n",
    "            'FG3_PCT', 'FTM', 'FTA', 'FT_PCT', 'OREB', 'DREB', 'REB', 'AST', 'STL',\n",
    "            'BLK', 'TOV', 'PF', 'PTS', 'WAIVED_THIS_SEASON']\n",
    "\n",
    "#choose an arbitrary year as a cutoff; data before this season will be used to train the classifier,\n",
    "#and data this season and after will be used as the testing set\n",
    "cutoff_year = 2015\n",
    "\n",
    "#make the test-train split\n",
    "df_train = df[df[\"SEASON_START\"] < cutoff_year]\n",
    "df_test  = df[df[\"SEASON_START\"] >= cutoff_year]\n",
    "\n",
    "#grab predictors\n",
    "X_train = df_train[features]\n",
    "X_test  = df_test[features]\n",
    "\n",
    "#grab response\n",
    "y_train = df_train[\"WAIVED_NEXT_SEASON\"]\n",
    "y_test  = df_test[\"WAIVED_NEXT_SEASON\"]"
   ]
  },
  {
   "cell_type": "code",
   "execution_count": 30,
   "metadata": {},
   "outputs": [
    {
     "name": "stdout",
     "output_type": "stream",
     "text": [
      "Waived players are 50.0% of the resampled data.\n"
     ]
    }
   ],
   "source": [
    "#oversample the rare class (waived players)\n",
    "from imblearn.over_sampling import RandomOverSampler\n",
    "\n",
    "ros = RandomOverSampler(random_state=5)\n",
    "X_train_resampled, y_train_resampled = ros.fit_resample(X_train, y_train)\n",
    "\n",
    "#check the rate at which waived players appear in the resampled data\n",
    "print(f\"Waived players are {y_train_resampled.sum()/len(y_train_resampled)*100:.1f}% of the resampled data.\")"
   ]
  },
  {
   "cell_type": "markdown",
   "metadata": {},
   "source": [
    "# Classification"
   ]
  },
  {
   "cell_type": "code",
   "execution_count": 51,
   "metadata": {},
   "outputs": [],
   "source": [
    "from sklearn.pipeline import Pipeline\n",
    "from sklearn.neighbors import KNeighborsClassifier\n",
    "from sklearn.discriminant_analysis import LinearDiscriminantAnalysis, QuadraticDiscriminantAnalysis\n",
    "from sklearn.linear_model import LogisticRegression\n",
    "from sklearn.preprocessing import StandardScaler\n",
    "from sklearn.metrics import accuracy_score, confusion_matrix, ConfusionMatrixDisplay"
   ]
  },
  {
   "cell_type": "markdown",
   "metadata": {},
   "source": [
    "### Logistic regression"
   ]
  },
  {
   "cell_type": "code",
   "execution_count": 59,
   "metadata": {},
   "outputs": [
    {
     "name": "stdout",
     "output_type": "stream",
     "text": [
      "LOGISTIC REGRESSION\n",
      "training data\n",
      "training accuracy score: 0.5994872525281298\n",
      "\n",
      "TEST DATA\n",
      "test     accuracy score: 0.5390480115392541\n"
     ]
    },
    {
     "data": {
      "text/plain": [
       "Text(0.5, 1.0, 'Log-reg test data')"
      ]
     },
     "execution_count": 59,
     "metadata": {},
     "output_type": "execute_result"
    },
    {
     "data": {
      "image/png": "[encoded data removed]",
      "text/plain": [
       "<Figure size 640x480 with 2 Axes>"
      ]
     },
     "metadata": {},
     "output_type": "display_data"
    },
    {
     "data": {
      "image/png": "[encoded data removed]",
      "text/plain": [
       "<Figure size 640x480 with 2 Axes>"
      ]
     },
     "metadata": {},
     "output_type": "display_data"
    }
   ],
   "source": [
    "#=====Logistic regression=====#\n",
    "#fit model\n",
    "pipe_lr = Pipeline([(\"scale\", StandardScaler()), (\"lr\", LogisticRegression(penalty=None))])\n",
    "pipe_lr.fit(X_train_resampled, y_train_resampled)\n",
    "\n",
    "#get train error, test error, other metrics\n",
    "lr_train_pred = pipe_lr.predict(X_train)\n",
    "lr_train_acc  = accuracy_score(y_train, lr_train_pred)\n",
    "lr_train_conf = confusion_matrix(y_train, lr_train_pred)\n",
    "lr_test_pred  = pipe_lr.predict(X_test)\n",
    "lr_test_acc   = accuracy_score(y_test, lr_test_pred)\n",
    "lr_test_conf  = confusion_matrix(y_test, lr_test_pred)\n",
    "\n",
    "#write output\n",
    "print(\"LOGISTIC REGRESSION\")\n",
    "print(\"training data\")\n",
    "print(f\"training accuracy score: {lr_train_acc}\")\n",
    "ConfusionMatrixDisplay(lr_train_conf).plot()\n",
    "plt.title(\"Log-reg train data\")\n",
    "\n",
    "print(\"\\n\"+\"TEST DATA\")\n",
    "print(f\"test     accuracy score: {lr_test_acc}\")\n",
    "ConfusionMatrixDisplay(lr_test_conf).plot()\n",
    "plt.title(\"Log-reg test data\")"
   ]
  },
  {
   "cell_type": "markdown",
   "metadata": {},
   "source": [
    "### KNN classifier"
   ]
  },
  {
   "cell_type": "code",
   "execution_count": 63,
   "metadata": {},
   "outputs": [
    {
     "name": "stdout",
     "output_type": "stream",
     "text": [
      "KNN CLASSIFIER, k=5\n",
      "training data\n",
      "training accuracy score: 0.887409200968523\n",
      "\n",
      "TEST DATA\n",
      "test     accuracy score: 0.7218215536781373\n"
     ]
    },
    {
     "data": {
      "text/plain": [
       "Text(0.5, 1.0, 'KNN test data')"
      ]
     },
     "execution_count": 63,
     "metadata": {},
     "output_type": "execute_result"
    },
    {
     "data": {
      "image/png": "[encoded data removed]",
      "text/plain": [
       "<Figure size 640x480 with 2 Axes>"
      ]
     },
     "metadata": {},
     "output_type": "display_data"
    },
    {
     "data": {
      "image/png": "[encoded data removed]",
      "text/plain": [
       "<Figure size 640x480 with 2 Axes>"
      ]
     },
     "metadata": {},
     "output_type": "display_data"
    }
   ],
   "source": [
    "#=====KNN classifier=====#\n",
    "#fit model\n",
    "num_neighbors = 5\n",
    "pipe_knn      = Pipeline([(\"scale\", StandardScaler()), (\"knn\", KNeighborsClassifier(num_neighbors))])\n",
    "pipe_knn.fit(X_train_resampled, y_train_resampled)\n",
    "\n",
    "#get train error, test error, other metrics\n",
    "knn_train_pred = pipe_knn.predict(X_train)\n",
    "knn_train_acc  = accuracy_score(y_train, knn_train_pred)\n",
    "knn_train_conf = confusion_matrix(y_train, knn_train_pred)\n",
    "knn_test_pred  = pipe_knn.predict(X_test)\n",
    "knn_test_acc   = accuracy_score(y_test, knn_test_pred)\n",
    "knn_test_conf  = confusion_matrix(y_test, knn_test_pred)\n",
    "\n",
    "#write output\n",
    "print(f\"KNN CLASSIFIER, k={num_neighbors}\")\n",
    "print(\"training data\")\n",
    "print(f\"training accuracy score: {knn_train_acc}\")\n",
    "ConfusionMatrixDisplay(knn_train_conf).plot()\n",
    "plt.title(\"KNN train data\")\n",
    "\n",
    "print(\"\\n\"+\"TEST DATA\")\n",
    "print(f\"test     accuracy score: {knn_test_acc}\")\n",
    "ConfusionMatrixDisplay(knn_test_conf).plot()\n",
    "plt.title(\"KNN test data\")"
   ]
  },
  {
   "cell_type": "markdown",
   "metadata": {},
   "source": [
    "### Linear discriminant analysis (LDA) classifier"
   ]
  },
  {
   "cell_type": "code",
   "execution_count": 64,
   "metadata": {},
   "outputs": [
    {
     "name": "stdout",
     "output_type": "stream",
     "text": [
      "LDA CLASSIFIER\n",
      "training data\n",
      "training accuracy score: 0.5933627688363481\n",
      "\n",
      "TEST DATA\n",
      "test     accuracy score: 0.502575726354832\n"
     ]
    },
    {
     "data": {
      "text/plain": [
       "Text(0.5, 1.0, 'LDA test data')"
      ]
     },
     "execution_count": 64,
     "metadata": {},
     "output_type": "execute_result"
    },
    {
     "data": {
      "image/png": "[encoded data removed]",
      "text/plain": [
       "<Figure size 640x480 with 2 Axes>"
      ]
     },
     "metadata": {},
     "output_type": "display_data"
    },
    {
     "data": {
      "image/png": "[encoded data removed]",
      "text/plain": [
       "<Figure size 640x480 with 2 Axes>"
      ]
     },
     "metadata": {},
     "output_type": "display_data"
    }
   ],
   "source": [
    "#=====LDA classifier=====#\n",
    "#fit model\n",
    "pipe_lda = Pipeline([(\"scale\", StandardScaler()), (\"lda\", LinearDiscriminantAnalysis())])\n",
    "pipe_lda.fit(X_train_resampled, y_train_resampled)\n",
    "\n",
    "#get train error, test error, other metrics\n",
    "lda_train_pred = pipe_lda.predict(X_train)\n",
    "lda_train_acc  = accuracy_score(y_train, lda_train_pred)\n",
    "lda_train_conf = confusion_matrix(y_train, lda_train_pred)\n",
    "lda_test_pred  = pipe_lda.predict(X_test)\n",
    "lda_test_acc   = accuracy_score(y_test, lda_test_pred)\n",
    "lda_test_conf  = confusion_matrix(y_test, lda_test_pred)\n",
    "\n",
    "#write output\n",
    "print(f\"LDA CLASSIFIER\")\n",
    "print(\"training data\")\n",
    "print(f\"training accuracy score: {lda_train_acc}\")\n",
    "ConfusionMatrixDisplay(lda_train_conf).plot()\n",
    "plt.title(\"LDA train data\")\n",
    "\n",
    "print(\"\\n\"+\"TEST DATA\")\n",
    "print(f\"test     accuracy score: {lda_test_acc}\")\n",
    "ConfusionMatrixDisplay(lda_test_conf).plot()\n",
    "plt.title(\"LDA test data\")"
   ]
  },
  {
   "cell_type": "markdown",
   "metadata": {},
   "source": [
    "### Quadratic discriminant analysis (QDA) classifier"
   ]
  },
  {
   "cell_type": "code",
   "execution_count": 65,
   "metadata": {},
   "outputs": [
    {
     "name": "stdout",
     "output_type": "stream",
     "text": [
      "QDA CLASSIFIER\n",
      "training data\n",
      "training accuracy score: 0.5779091297535963\n",
      "\n",
      "TEST DATA\n",
      "test     accuracy score: 0.537193488563775\n"
     ]
    },
    {
     "name": "stderr",
     "output_type": "stream",
     "text": [
      "/home/alex/anaconda3/envs/test/lib/python3.12/site-packages/sklearn/discriminant_analysis.py:947: UserWarning: Variables are collinear\n",
      "  warnings.warn(\"Variables are collinear\")\n"
     ]
    },
    {
     "data": {
      "text/plain": [
       "Text(0.5, 1.0, 'QDA test data')"
      ]
     },
     "execution_count": 65,
     "metadata": {},
     "output_type": "execute_result"
    },
    {
     "data": {
      "image/png": "[encoded data removed]",
      "text/plain": [
       "<Figure size 640x480 with 2 Axes>"
      ]
     },
     "metadata": {},
     "output_type": "display_data"
    },
    {
     "data": {
      "image/png": "[encoded data removed]",
      "text/plain": [
       "<Figure size 640x480 with 2 Axes>"
      ]
     },
     "metadata": {},
     "output_type": "display_data"
    }
   ],
   "source": [
    "#=====QDA classifier=====#\n",
    "#fit model\n",
    "pipe_qda = Pipeline([(\"scale\", StandardScaler()), (\"qda\", QuadraticDiscriminantAnalysis())])\n",
    "pipe_qda.fit(X_train_resampled, y_train_resampled)\n",
    "\n",
    "#get train error, test error, other metrics\n",
    "qda_train_pred = pipe_qda.predict(X_train)\n",
    "qda_train_acc  = accuracy_score(y_train, qda_train_pred)\n",
    "qda_train_conf = confusion_matrix(y_train, qda_train_pred)\n",
    "qda_test_pred  = pipe_qda.predict(X_test)\n",
    "qda_test_acc   = accuracy_score(y_test, qda_test_pred)\n",
    "qda_test_conf  = confusion_matrix(y_test, qda_test_pred)\n",
    "\n",
    "#write output\n",
    "print(f\"QDA CLASSIFIER\")\n",
    "print(\"training data\")\n",
    "print(f\"training accuracy score: {qda_train_acc}\")\n",
    "ConfusionMatrixDisplay(qda_train_conf).plot()\n",
    "plt.title(\"QDA train data\")\n",
    "\n",
    "print(\"\\n\"+\"TEST DATA\")\n",
    "print(f\"test     accuracy score: {qda_test_acc}\")\n",
    "ConfusionMatrixDisplay(qda_test_conf).plot()\n",
    "plt.title(\"QDA test data\")"
   ]
  },
  {
   "cell_type": "code",
   "execution_count": null,
   "metadata": {},
   "outputs": [],
   "source": []
  }
 ],
 "metadata": {
  "kernelspec": {
   "display_name": "Python 3 (ipykernel)",
   "language": "python",
   "name": "python3"
  },
  "language_info": {
   "codemirror_mode": {
    "name": "ipython",
    "version": 3
   },
   "file_extension": ".py",
   "mimetype": "text/x-python",
   "name": "python",
   "nbconvert_exporter": "python",
   "pygments_lexer": "ipython3",
   "version": "3.12.5"
  }
 },
 "nbformat": 4,
 "nbformat_minor": 4
}
