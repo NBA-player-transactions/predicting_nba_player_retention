{
 "cells": [
  {
   "cell_type": "markdown",
   "id": "75a68b00-99f7-4afe-b16d-7e483082754f",
   "metadata": {},
   "source": [
    "## Waiver Prediction Models\n",
    "This shows some early attempts to predict by various models if a player would be waived, as well as to make probabilistic predictions of the same variable. We ultimately moved from this to player retention (i.e. if a player is in the league at all) as we found higher accuracy for that prediction."
   ]
  },
  {
   "cell_type": "code",
   "execution_count": null,
   "id": "09cd7cce-3f37-4a72-bfaa-cc257346575f",
   "metadata": {},
   "outputs": [],
   "source": [
    "import pandas as pd\n",
    "import numpy as np\n",
    "import matplotlib.pyplot as plt\n",
    "import seaborn as sns\n",
    "sns.set_style(\"whitegrid\")"
   ]
  },
  {
   "cell_type": "code",
   "execution_count": null,
   "id": "309e7207-8526-4344-8794-9f87e5611db6",
   "metadata": {},
   "outputs": [],
   "source": [
    "player_data = pd.read_csv(\"train_data.csv\")"
   ]
  },
  {
   "cell_type": "code",
   "execution_count": null,
   "id": "1b822148-702f-4d00-a10e-1d8d8090bd48",
   "metadata": {},
   "outputs": [],
   "source": [
    "from sklearn.base import BaseEstimator, TransformerMixin\n",
    "class YearWiseStandardScaler(BaseEstimator,TransformerMixin):\n",
    "    def __init__(self, year_column):\n",
    "        self.year_column = year_column\n",
    "        self.year_stats = {}\n",
    "    def fit(self, X, y = None):\n",
    "        grouped = X.groupby(self.year_column)\n",
    "        for year, group in grouped:\n",
    "            self.year_stats[year] = {\n",
    "                \"mean\": group.mean(),\n",
    "                \"std\": group.std(ddof=0), \n",
    "            }\n",
    "        return self\n",
    "    def transform(self, X):\n",
    "        def scale_row(row):\n",
    "            year = row[self.year_column]\n",
    "            stats = self.year_stats[year]\n",
    "            return (row - stats[\"mean\"]) / stats[\"std\"]\n",
    "\n",
    "        scaled_data = X.apply(scale_row, axis=1)\n",
    "        scaled_data = scaled_data.drop(columns=self.year_column)\n",
    "        \n",
    "        return scaled_data"
   ]
  },
  {
   "cell_type": "code",
   "execution_count": null,
   "id": "20b74286-25c4-4737-a9b5-a0ed0b947c43",
   "metadata": {},
   "outputs": [],
   "source": [
    "#Checking that my YearWiseStandardScaler works\n",
    "toy_data = {\n",
    "    \"Feature1\": [1.5, 1.0, 2.4, 0.0, 8.1, 9.2],\n",
    "    \"Feature2\": [10, 20, 30, 40, 50, 60],\n",
    "    \"Year\": [2023, 2022, 2022, 2023, 2019, 2022]\n",
    "}"
   ]
  },
  {
   "cell_type": "code",
   "execution_count": null,
   "id": "bd0103b4-d7ee-4f4a-85a0-c7aee113337e",
   "metadata": {},
   "outputs": [],
   "source": [
    "toy_df = df = pd.DataFrame(toy_data)"
   ]
  },
  {
   "cell_type": "code",
   "execution_count": null,
   "id": "6c0d48fe-765e-4586-81d7-d1d1679ad40c",
   "metadata": {},
   "outputs": [],
   "source": [
    "scaler = YearWiseStandardScaler(year_column =\"Year\")\n",
    "scaler.fit(toy_df)\n",
    "scaled_df = scaler.transform(toy_df)\n",
    "print(scaled_df)"
   ]
  },
  {
   "cell_type": "code",
   "execution_count": null,
   "id": "8464deca-78af-4bfc-bd5e-714c2cab186c",
   "metadata": {},
   "outputs": [],
   "source": [
    "len(player_data)"
   ]
  },
  {
   "cell_type": "code",
   "execution_count": null,
   "id": "7a8a7152-126d-4296-b147-b4099c73b8d1",
   "metadata": {},
   "outputs": [],
   "source": [
    "player_data['WAIVED_BY_START_OF_NEXT_SEASON'] = player_data[['WAIVED', 'RELEASED']].any(axis=1).astype(int)"
   ]
  },
  {
   "cell_type": "code",
   "execution_count": null,
   "id": "35cbac9b-fc87-4971-bc6c-f81c2bc6372e",
   "metadata": {},
   "outputs": [],
   "source": [
    "player_data.sample()"
   ]
  },
  {
   "cell_type": "code",
   "execution_count": null,
   "id": "c64a7da5-1b80-464d-b473-0b23b2cbd1c5",
   "metadata": {},
   "outputs": [],
   "source": [
    "player_data = player_data.dropna(subset=['SALARY'])"
   ]
  },
  {
   "cell_type": "code",
   "execution_count": null,
   "id": "ce1cd200-7a17-4972-b9b5-28b07cb4f98d",
   "metadata": {},
   "outputs": [],
   "source": [
    "len(player_data)"
   ]
  },
  {
   "cell_type": "code",
   "execution_count": null,
   "id": "35ef6efe-d01f-4516-878c-e8dc8fc3e46b",
   "metadata": {},
   "outputs": [],
   "source": [
    "player_data = player_data[player_data['MIN'] != 0]"
   ]
  },
  {
   "cell_type": "code",
   "execution_count": null,
   "id": "1b103dd0-22ed-4546-9ede-0a85606ccee6",
   "metadata": {},
   "outputs": [],
   "source": [
    "len(player_data)"
   ]
  },
  {
   "cell_type": "code",
   "execution_count": null,
   "id": "b4595a32-be54-4771-98af-1dade67f19b8",
   "metadata": {},
   "outputs": [],
   "source": []
  },
  {
   "cell_type": "code",
   "execution_count": null,
   "id": "e4e13923-d1ab-402a-9c25-9398a667bc94",
   "metadata": {},
   "outputs": [],
   "source": []
  },
  {
   "cell_type": "code",
   "execution_count": null,
   "id": "ba446ef6-5ff6-4344-be28-b514511a36d6",
   "metadata": {},
   "outputs": [],
   "source": [
    "columns_to_normalize = ['FGM', 'FGA', 'PTS', 'PF', 'DREB', 'OREB', 'REB', 'FTA', 'FTM', 'STL', 'TOV', 'BLK', 'AST', 'FG3A', 'FG3M']\n",
    "\n",
    "# Normalize the selected columns by dividing by 'MIN'\n",
    "player_data[columns_to_normalize] = player_data[columns_to_normalize].div(player_data['MIN'], axis=0)\n",
    "\n",
    "# Rename columns to include \"per minute\"\n",
    "rename_dict = {col: f\"{col} / MIN\" for col in columns_to_normalize}\n",
    "player_data.rename(columns=rename_dict, inplace=True)"
   ]
  },
  {
   "cell_type": "code",
   "execution_count": null,
   "id": "87d1b0db-2dd2-45a9-9347-9b1315045341",
   "metadata": {},
   "outputs": [],
   "source": [
    "player_data.sample()"
   ]
  },
  {
   "cell_type": "markdown",
   "id": "3e087f54-4a5d-498e-bd60-af0426bcdf4b",
   "metadata": {},
   "source": [
    "Now let's find the most correlated features"
   ]
  },
  {
   "cell_type": "code",
   "execution_count": null,
   "id": "af9c2c19-2b79-4dc9-90a6-c6f430169189",
   "metadata": {},
   "outputs": [],
   "source": [
    "numeric_data = player_data.select_dtypes(include=['number'])"
   ]
  },
  {
   "cell_type": "code",
   "execution_count": null,
   "id": "1088b10c-716e-4a44-b8ae-eb5707e740ef",
   "metadata": {},
   "outputs": [],
   "source": [
    "correlations = numeric_data.corr()['WAIVED_BY_START_OF_NEXT_SEASON']\n",
    "sorted_correlations = correlations.sort_values(ascending=False)\n",
    "pd.set_option('display.max_rows', None)\n",
    "\n",
    "# Print the sorted correlations\n",
    "print(sorted_correlations)\n",
    "\n",
    "# Reset display options if needed\n",
    "pd.reset_option('display.max_rows')"
   ]
  },
  {
   "cell_type": "markdown",
   "id": "200db00b-6d82-4207-bff4-c470456c381d",
   "metadata": {},
   "source": [
    "Since player_ID is correlated at 10% despite being complete random, let's take anything that's correlated at 15% or higher"
   ]
  },
  {
   "cell_type": "code",
   "execution_count": null,
   "id": "6c943593-9b1d-4685-b485-014a3a574049",
   "metadata": {},
   "outputs": [],
   "source": [
    "Xfeatures = ['GP', 'MIN', 'DWS', 'GS', 'WS', 'OBPM', 'BPM', 'PER', 'OWS', 'WS_48', 'FT_PCT', 'FG_PCT', 'FGM / MIN', 'PTS / MIN', 'VORP', 'TS_PERCENT', 'SALARY', 'FTM / MIN', 'USG_PERCENT', 'FTA / MIN', 'FGA / MIN' , 'SEASON_START']\n",
    "len(Xfeatures)"
   ]
  },
  {
   "cell_type": "code",
   "execution_count": null,
   "id": "8928d0cc-bcdb-46bf-9342-a950668e2392",
   "metadata": {},
   "outputs": [],
   "source": [
    "from sklearn.model_selection import train_test_split"
   ]
  },
  {
   "cell_type": "code",
   "execution_count": null,
   "id": "e7d3c0d6-438d-44f7-a0cb-f05918315048",
   "metadata": {},
   "outputs": [],
   "source": [
    "train_player_data, test_player_data = train_test_split(player_data, test_size=0.2, stratify=player_data['WAIVED_BY_START_OF_NEXT_SEASON'], random_state=812)\n",
    "print(len(train_player_data))\n",
    "print(len(test_player_data))"
   ]
  },
  {
   "cell_type": "code",
   "execution_count": null,
   "id": "c827d791-d7ef-45d3-bff1-b4d59b8e9099",
   "metadata": {},
   "outputs": [],
   "source": [
    "train_player_data_waived = train_player_data.loc[train_player_data['WAIVED_BY_START_OF_NEXT_SEASON'] == 1]\n",
    "train_player_data_unwaived = train_player_data.loc[train_player_data['WAIVED_BY_START_OF_NEXT_SEASON'] == 0]\n",
    "p = len(train_player_data_waived)/len(train_player_data)\n",
    "print(p)\n",
    "print(p*(1 - p))\n",
    "bbs = p*(1 - p)"
   ]
  },
  {
   "cell_type": "markdown",
   "id": "a8677987-bf62-4657-bc06-ab7a7e3f4dab",
   "metadata": {},
   "source": [
    "About 11% of the players are waived, which is useful to have as a baseline for the various metrics. For instance, baseline accuracy would be p^2 + (1 - p)^2 which is about .8042."
   ]
  },
  {
   "cell_type": "markdown",
   "id": "56093df5-ab2f-43dd-8995-e741ea85c1d5",
   "metadata": {},
   "source": [
    "We next look at some individual stats to determine what if there are statistically significant differences in the aggregate between the two classes of players. For example, in Field Goal percentage we get the following two charts:"
   ]
  },
  {
   "cell_type": "code",
   "execution_count": null,
   "id": "cd21a78e-663c-41b3-9d18-221eceb66af2",
   "metadata": {},
   "outputs": [],
   "source": [
    "plt.figure(figsize=(10, 5))\n",
    "\n",
    "plt.subplot(1, 2, 1)\n",
    "plt.hist(train_player_data_waived['FG_PCT'].dropna(), bins=20, color='blue', alpha=0.7)\n",
    "plt.title('FG% for players who are waived')\n",
    "plt.xlabel('Field Goal Percentage')\n",
    "plt.ylabel('Frequency')\n",
    "\n",
    "plt.subplot(1, 2, 2)\n",
    "plt.hist(train_player_data_unwaived['FG_PCT'].dropna(), bins=20, color='green', alpha=0.7)\n",
    "plt.title('FG% for players who are not waived')\n",
    "plt.xlabel('Field Goal Percentage')\n",
    "plt.ylabel('Frequency')\n",
    "\n",
    "plt.tight_layout()\n",
    "plt.show()"
   ]
  },
  {
   "cell_type": "code",
   "execution_count": null,
   "id": "5081a631-4202-4b36-bb43-a0c6ecd52505",
   "metadata": {},
   "outputs": [],
   "source": [
    "train_player_data_waived.loc[:, 'FG_PCT'].mean()"
   ]
  },
  {
   "cell_type": "code",
   "execution_count": null,
   "id": "d1fab655-fd41-44a4-af48-306d80e7c0a7",
   "metadata": {},
   "outputs": [],
   "source": [
    "train_player_data_unwaived.loc[:, 'FG_PCT'].mean()"
   ]
  },
  {
   "cell_type": "markdown",
   "id": "cf68160b-ad1b-4710-ad58-7f6b1821572b",
   "metadata": {},
   "source": [
    "On the whole, this difference is highly statically significant. The p-value for a sample of unwaived players to have a FG% as low as unwaived players on average is extremely small."
   ]
  },
  {
   "cell_type": "code",
   "execution_count": null,
   "id": "6335f6a9-4f55-4093-b1e7-19c602446b83",
   "metadata": {},
   "outputs": [],
   "source": [
    "from scipy import stats\n",
    "unstandardizedZ = train_player_data_waived.loc[:,'FG_PCT'].mean()\n",
    "mu = train_player_data_unwaived.loc[:, 'FG_PCT'].mean()\n",
    "sigma = train_player_data_unwaived.loc[:, 'FG_PCT'].std()\n",
    "size = len(train_player_data_waived)\n",
    "standardizedZ = (size*unstandardizedZ - mu*size)/(np.sqrt(size)*sigma)\n",
    "p_value = stats.norm.cdf(standardizedZ)\n",
    "print(standardizedZ)\n",
    "print(p_value)"
   ]
  },
  {
   "cell_type": "markdown",
   "id": "758bd900-9756-45ac-b52c-2f9cf30f2c2c",
   "metadata": {},
   "source": [
    "If there is more EDA stuff to add it should be added here."
   ]
  },
  {
   "cell_type": "markdown",
   "id": "4c074484-5aa0-4ae3-8db6-ac8d5e72aca6",
   "metadata": {},
   "source": [
    "Now we try some models to see how well the stats can predict at <i>an individual level</i> if a player will be waived or traded. We'll look at KNN classification, logistic classification, decision trees, and random forest classifiers. The metrics we are interested in are f1_score, accuracy_score, balanced_accuracy_score, and the brier score (with predict proba). Given the 11/89 split of waived and unwaived, the baseline metrics to compare to with a random guess that guesses a player will be waived with probability 11 would have metrics:\n",
    "\n",
    "Accuracy: 0.7952 <br>\n",
    "Balanced Accuracy: 0.5000 <br>\n",
    "F1-Score: 0.1158 <br>\n",
    "1 - Brier Score: 0.8976 <br>(Subtracting from 1 since a <i> smaller </i> Brier score is better.)\n",
    "\n",
    "These are what we should compare our metrics against."
   ]
  },
  {
   "cell_type": "code",
   "execution_count": null,
   "id": "82dda190-9d65-46f4-8a6b-9e6248eab1a2",
   "metadata": {},
   "outputs": [],
   "source": [
    "from sklearn.preprocessing import StandardScaler\n",
    "from sklearn.neighbors import KNeighborsClassifier\n",
    "from sklearn.pipeline import Pipeline\n",
    "from sklearn.metrics import accuracy_score, confusion_matrix, f1_score, brier_score_loss, balanced_accuracy_score"
   ]
  },
  {
   "cell_type": "code",
   "execution_count": null,
   "id": "cc71ca68-6643-42cd-a498-6f7bdb048431",
   "metadata": {},
   "outputs": [],
   "source": [
    "\n",
    "train_player_data = train_player_data.dropna(subset = Xfeatures)\n",
    "print(len(train_player_data))\n",
    "X = train_player_data[Xfeatures]\n",
    "y = train_player_data['WAIVED_BY_START_OF_NEXT_SEASON']\n",
    "X_train, X_test, y_train, y_test = train_test_split(X, y, test_size=0.2, random_state=812, stratify = y)\n",
    "knn_pipeline = Pipeline([\n",
    "    ('scaler', YearWiseStandardScaler(year_column = 'SEASON_START')),\n",
    "    ('knn', KNeighborsClassifier(n_neighbors = 15))\n",
    "])\n",
    "knn_pipeline.fit(X_train, y_train)\n",
    "y_pred = knn_pipeline.predict(X_test)\n",
    "f1score = f1_score(y_test, y_pred)\n",
    "print(\"F1 score: \", f1score)\n",
    "print(\"Balanced Accuracy: \", balanced_accuracy_score(y_test, y_pred))\n",
    "print(\"Accuracy: \", accuracy_score(y_test, y_pred))\n",
    "\n",
    "print(\"Baseline F1 score: \", p)\n",
    "print(\"Baseline Balanced Accuracy: .5\")\n",
    "print(\"Baseline Accuracy: \", p**2+(1 - p)**2)"
   ]
  },
  {
   "cell_type": "code",
   "execution_count": null,
   "id": "b1257eb4-bd38-437e-985d-9cb2a88633f3",
   "metadata": {},
   "outputs": [],
   "source": [
    "y_prob = knn_pipeline.predict_proba(X_test)\n",
    "y_prob = y_prob[:, 1]\n",
    "brier_score = brier_score_loss(y_test, y_prob)\n",
    "print(\"Brier Score: \", brier_score)\n",
    "print(\"Brier Skill Score: \", 1 - brier_score/bbs)\n",
    "print(\"Baseline Brier Score: \", bbs)"
   ]
  },
  {
   "cell_type": "code",
   "execution_count": null,
   "id": "614bc48f-7ea6-4969-9ad4-0480b967736a",
   "metadata": {},
   "outputs": [],
   "source": [
    "\n",
    "metric_summary  = {\n",
    "    \"Metric\": [\"Accuracy\", \"Balanced Accuracy\", \"F1 Score\", \"1-Brier Score\"],\n",
    "    \"KNN Model\": [0.8846, 0.5538, 0.1985, 1-0.0876],\n",
    "    \"Baseline\": [0.7952, 0.5000, 0.1158, 1-0.1024],\n",
    "}\n",
    "\n",
    "# Create a DataFrame\n",
    "metrics_df = pd.DataFrame(metric_summary)\n",
    "metrics_df"
   ]
  },
  {
   "cell_type": "code",
   "execution_count": null,
   "id": "d82331af-1a9e-4e65-ba2d-3de1c13d1516",
   "metadata": {},
   "outputs": [],
   "source": [
    "from sklearn.linear_model import LogisticRegression\n",
    "X = train_player_data[Xfeatures]\n",
    "y = train_player_data['WAIVED_BY_START_OF_NEXT_SEASON']\n",
    "X_train, X_test, y_train, y_test = train_test_split(X, y, test_size=0.2, random_state=813, stratify = y)\n"
   ]
  },
  {
   "cell_type": "code",
   "execution_count": null,
   "id": "8e40e6cf-e430-4e4b-b014-822f7b85fdb0",
   "metadata": {},
   "outputs": [],
   "source": [
    "log_reg = Pipeline([\n",
    "    ('scaler', YearWiseStandardScaler(year_column = 'SEASON_START')),\n",
    "    ('logreg', LogisticRegression(max_iter=10000))\n",
    "])\n",
    "\n",
    "log_reg.fit(X_train, y_train)\n",
    "y_pred = log_reg.predict(X_test)\n",
    "f1score = f1_score(y_test, y_pred)\n",
    "print(\"F1 score: \", f1score)\n",
    "print(\"Balanced Accuracy: \", balanced_accuracy_score(y_test, y_pred))"
   ]
  },
  {
   "cell_type": "code",
   "execution_count": null,
   "id": "55ce54e7-514b-4ca1-942e-c5a56272ef74",
   "metadata": {},
   "outputs": [],
   "source": [
    "y_prob = log_reg.predict_proba(X_test)"
   ]
  },
  {
   "cell_type": "code",
   "execution_count": null,
   "id": "357da20c-0650-45f7-ba4d-7c588eab4a3d",
   "metadata": {},
   "outputs": [],
   "source": [
    "\n",
    "y_prob\n",
    "y_prob = y_prob[:, 1]\n",
    "brier_score = brier_score_loss(y_test, y_prob)\n",
    "print(\"Brier Score: \", brier_score)\n",
    "print(\"Brier Skill Score: \", 1 - brier_score/bbs)"
   ]
  },
  {
   "cell_type": "code",
   "execution_count": null,
   "id": "8a5a6440-ef52-406f-b7b1-5d619af205e2",
   "metadata": {},
   "outputs": [],
   "source": [
    "from sklearn import tree\n",
    "from sklearn.tree import DecisionTreeClassifier"
   ]
  },
  {
   "cell_type": "code",
   "execution_count": null,
   "id": "463d0707-1c33-4346-af40-cf083b36e8bd",
   "metadata": {},
   "outputs": [],
   "source": [
    "#tree_cfr = Pipeline([(scaler = YearWiseStandardScaler(year_column = 'SEASON_START'), (classifier = DecisionTreeClassifier(max_depth=6, random_state=814)))])\n",
    "tree_cfr = Pipeline([\n",
    "    ('scaler', YearWiseStandardScaler(year_column='SEASON_START')),  \n",
    "    ('classifier', DecisionTreeClassifier(max_depth = 6, random_state=814))  \n",
    "])\n",
    "X = train_player_data[Xfeatures]\n",
    "y = train_player_data['WAIVED_BY_START_OF_NEXT_SEASON']\n",
    "X_train, X_test, y_train, y_test = train_test_split(X, y, test_size=0.2, random_state=815, stratify = y)\n",
    "tree_cfr.fit(X_train, y_train)\n",
    "y_pred = tree_cfr.predict(X_test)\n",
    "f1score = f1_score(y_test, y_pred)\n",
    "print(\"F1 score: \", f1score)\n",
    "print(\"Balanced Accuracy: \", balanced_accuracy_score(y_test, y_pred))"
   ]
  },
  {
   "cell_type": "code",
   "execution_count": null,
   "id": "16d781cd-743a-4dec-88ec-7a62d0e5208f",
   "metadata": {},
   "outputs": [],
   "source": [
    "y_prob = tree_cfr.predict_proba(X_test)\n",
    "y_prob = y_prob[:, 1]\n",
    "brier_score = brier_score_loss(y_test, y_prob)\n",
    "print(\"Brier Score: \", brier_score)\n",
    "print(\"Brier Skill Score: \", 1 - brier_score/bbs)"
   ]
  },
  {
   "cell_type": "code",
   "execution_count": null,
   "id": "22405a5c-6e8c-459b-ad54-0f8f1e55f48b",
   "metadata": {},
   "outputs": [],
   "source": [
    "from sklearn.ensemble import RandomForestClassifier\n",
    "rf = RandomForestClassifier(\n",
    "    n_estimators = 50, \n",
    "    max_depth = 3, \n",
    "    max_features = 6, \n",
    "    bootstrap= True, \n",
    "    max_samples = 500,\n",
    "    random_state = 816\n",
    "    )\n",
    "rf = Pipeline([('scaler', YearWiseStandardScaler(year_column='SEASON_START')), ('classifier', RandomForestClassifier(\n",
    "    n_estimators = 50, \n",
    "    max_depth = 3, \n",
    "    max_features = 6, \n",
    "    bootstrap= True, \n",
    "    max_samples = 500,\n",
    "    random_state = 816\n",
    "    ))])"
   ]
  },
  {
   "cell_type": "code",
   "execution_count": null,
   "id": "1b29aa62-1d0d-439b-a0c6-0895b3eb6c89",
   "metadata": {},
   "outputs": [],
   "source": [
    "X = train_player_data[Xfeatures]\n",
    "y = train_player_data['WAIVED_BY_START_OF_NEXT_SEASON']\n",
    "X_train, X_test, y_train, y_test = train_test_split(X, y, test_size=0.2, random_state=817, stratify = y)\n",
    "rf.fit(X_train, y_train)\n",
    "y_pred = rf.predict(X_test)\n",
    "f1score = f1_score(y_test, y_pred)\n",
    "print(\"F1 score: \", f1score)\n",
    "print(\"Balanced Accuracy: \", balanced_accuracy_score(y_test, y_pred))"
   ]
  },
  {
   "cell_type": "code",
   "execution_count": null,
   "id": "4dc92012-2bf8-4fe5-a9c0-82727fbba84d",
   "metadata": {},
   "outputs": [],
   "source": [
    "y_prob = tree_cfr.predict_proba(X_test)\n",
    "y_prob = y_prob[:, 1]\n",
    "brier_score = brier_score_loss(y_test, y_prob)\n",
    "print(\"Brier Score: \", brier_score)\n",
    "print(\"Brier Skill Score: \", 1 - brier_score/bbs)"
   ]
  },
  {
   "cell_type": "markdown",
   "id": "302ccbe0-e1c0-4302-b92d-1bd842cdf4f5",
   "metadata": {},
   "source": [
    "Of the non-ensemble methods, the decision tree works best, so let's boost that one with AdaBoost"
   ]
  },
  {
   "cell_type": "code",
   "execution_count": null,
   "id": "eb8c46ac-3917-413e-8144-ff2c74e430d3",
   "metadata": {},
   "outputs": [],
   "source": [
    "from sklearn.ensemble import AdaBoostClassifier"
   ]
  },
  {
   "cell_type": "code",
   "execution_count": null,
   "id": "f31477e9-3a78-4b49-ab7d-429b0a7ff083",
   "metadata": {},
   "outputs": [],
   "source": [
    "ada_clf = AdaBoostClassifier(DecisionTreeClassifier(max_depth=6),\n",
    "                                n_estimators=100,\n",
    "                                algorithm = 'SAMME',\n",
    "                                learning_rate = 0.05,\n",
    "                                random_state=818)\n",
    "ada_clf = Pipeline([('scalar', YearWiseStandardScaler(year_column = 'SEASON_START')), ('classifier', AdaBoostClassifier(DecisionTreeClassifier(max_depth=6),\n",
    "                                n_estimators=100,\n",
    "                                algorithm = 'SAMME',\n",
    "                                learning_rate = 0.05,\n",
    "                                random_state=818))])"
   ]
  },
  {
   "cell_type": "code",
   "execution_count": null,
   "id": "79b7fff5-d1f6-4d37-a9b5-04a99ac8db1f",
   "metadata": {},
   "outputs": [],
   "source": [
    "X = train_player_data[Xfeatures]\n",
    "y = train_player_data['WAIVED_BY_START_OF_NEXT_SEASON']\n",
    "X_train, X_test, y_train, y_test = train_test_split(X, y, test_size=0.2, random_state=817, stratify = y)\n",
    "ada_clf.fit(X_train, y_train)"
   ]
  },
  {
   "cell_type": "code",
   "execution_count": null,
   "id": "4f2e0663-a830-4c9b-b467-f415f75fe74a",
   "metadata": {},
   "outputs": [],
   "source": [
    "y_pred = tree_cfr.predict(X_test)\n",
    "f1score = f1_score(y_test, y_pred)\n",
    "print(\"F1 score: \", f1score)\n",
    "print(\"Balanced Accuracy: \", balanced_accuracy_score(y_test, y_pred))"
   ]
  },
  {
   "cell_type": "code",
   "execution_count": null,
   "id": "622bd1df-90e6-42ac-8fa3-4dfe742ed0bd",
   "metadata": {},
   "outputs": [],
   "source": [
    "y_prob = ada_clf.predict_proba(X_test)\n",
    "y_prob = y_prob[:, 1]\n",
    "brier_score = brier_score_loss(y_test, y_prob)\n",
    "print(\"Brier Score: \", brier_score)\n",
    "print(\"Brier Skill Score: \", 1 - brier_score/bbs)"
   ]
  },
  {
   "cell_type": "code",
   "execution_count": null,
   "id": "4f1c1d78-8ae7-4bbc-8896-e52a170c342f",
   "metadata": {},
   "outputs": [],
   "source": []
  },
  {
   "cell_type": "code",
   "execution_count": null,
   "id": "f3f6b1d6-d297-47b0-a546-e58e83bed4dc",
   "metadata": {},
   "outputs": [],
   "source": []
  }
 ],
 "metadata": {
  "kernelspec": {
   "display_name": "Python 3 (ipykernel)",
   "language": "python",
   "name": "python3"
  },
  "language_info": {
   "codemirror_mode": {
    "name": "ipython",
    "version": 3
   },
   "file_extension": ".py",
   "mimetype": "text/x-python",
   "name": "python",
   "nbconvert_exporter": "python",
   "pygments_lexer": "ipython3",
   "version": "3.12.5"
  }
 },
 "nbformat": 4,
 "nbformat_minor": 5
}
