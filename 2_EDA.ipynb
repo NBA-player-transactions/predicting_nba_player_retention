{
 "cells": [
  {
   "cell_type": "markdown",
   "id": "9850be9c-75bd-48f8-aa90-c1f8a97c3886",
   "metadata": {},
   "source": [
    "# Exploratory Data Analysis (EDA)\n",
    "\n",
    "In this file we do an exploratory data analysis on the training data set."
   ]
  },
  {
   "cell_type": "markdown",
   "id": "75a68b00-99f7-4afe-b16d-7e483082754f",
   "metadata": {},
   "source": [
    "## 1. Waiver Prediction Models\n",
    "\n",
    "We began with the tentative question: can we predict whether or not a player will be waived, given past statistics and salary data?\n",
    "\n",
    "The cells below we:\n",
    "- load the data\n",
    "- scale the data within a given season\n",
    "- find correlations between predictors and whether or not a player was waived in the next season\n",
    "- compute statistical significance for predictors which vary noticeably between waived and non-waived players\n",
    "- train a series of classifiers to predict whether or not a given player will be waived."
   ]
  },
  {
   "cell_type": "code",
   "execution_count": 1,
   "id": "09cd7cce-3f37-4a72-bfaa-cc257346575f",
   "metadata": {},
   "outputs": [],
   "source": [
    "import pandas as pd\n",
    "import numpy as np\n",
    "import matplotlib.pyplot as plt\n",
    "import seaborn as sns\n",
    "sns.set_style(\"whitegrid\")"
   ]
  },
  {
   "cell_type": "code",
   "execution_count": 2,
   "id": "309e7207-8526-4344-8794-9f87e5611db6",
   "metadata": {},
   "outputs": [],
   "source": [
    "player_data = pd.read_csv(\"train_data.csv\")"
   ]
  },
  {
   "cell_type": "code",
   "execution_count": 3,
   "id": "1b822148-702f-4d00-a10e-1d8d8090bd48",
   "metadata": {},
   "outputs": [],
   "source": [
    "from sklearn.base import BaseEstimator, TransformerMixin\n",
    "class YearWiseStandardScaler(BaseEstimator,TransformerMixin):\n",
    "    def __init__(self, year_column):\n",
    "        self.year_column = year_column\n",
    "        self.year_stats = {}\n",
    "    def fit(self, X, y = None):\n",
    "        grouped = X.groupby(self.year_column)\n",
    "        for year, group in grouped:\n",
    "            self.year_stats[year] = {\n",
    "                \"mean\": group.mean(),\n",
    "                \"std\": group.std(ddof=0), \n",
    "            }\n",
    "        return self\n",
    "    def transform(self, X):\n",
    "        def scale_row(row):\n",
    "            year = row[self.year_column]\n",
    "            stats = self.year_stats[year]\n",
    "            return (row - stats[\"mean\"]) / stats[\"std\"]\n",
    "\n",
    "        scaled_data = X.apply(scale_row, axis=1)\n",
    "        scaled_data = scaled_data.drop(columns=self.year_column)\n",
    "        \n",
    "        return scaled_data"
   ]
  },
  {
   "cell_type": "code",
   "execution_count": 4,
   "id": "20b74286-25c4-4737-a9b5-a0ed0b947c43",
   "metadata": {},
   "outputs": [
    {
     "name": "stdout",
     "output_type": "stream",
     "text": [
      "   Feature1  Feature2\n",
      "0  1.000000 -1.000000\n",
      "1 -0.893497 -0.980581\n",
      "2 -0.502592 -0.392232\n",
      "3 -1.000000  1.000000\n",
      "4       NaN       NaN\n",
      "5  1.396089  1.372813\n"
     ]
    }
   ],
   "source": [
    "#Checking that my YearWiseStandardScaler works\n",
    "toy_data = {\n",
    "    \"Feature1\": [1.5, 1.0, 2.4, 0.0, 8.1, 9.2],\n",
    "    \"Feature2\": [10, 20, 30, 40, 50, 60],\n",
    "    \"Year\": [2023, 2022, 2022, 2023, 2019, 2022]\n",
    "}\n",
    "\n",
    "toy_df = df = pd.DataFrame(toy_data)\n",
    "\n",
    "scaler = YearWiseStandardScaler(year_column =\"Year\")\n",
    "scaler.fit(toy_df)\n",
    "scaled_df = scaler.transform(toy_df)\n",
    "print(scaled_df)"
   ]
  },
  {
   "cell_type": "code",
   "execution_count": 5,
   "id": "8464deca-78af-4bfc-bd5e-714c2cab186c",
   "metadata": {},
   "outputs": [
    {
     "data": {
      "text/html": [
       "<div>\n",
       "<style scoped>\n",
       "    .dataframe tbody tr th:only-of-type {\n",
       "        vertical-align: middle;\n",
       "    }\n",
       "\n",
       "    .dataframe tbody tr th {\n",
       "        vertical-align: top;\n",
       "    }\n",
       "\n",
       "    .dataframe thead th {\n",
       "        text-align: right;\n",
       "    }\n",
       "</style>\n",
       "<table border=\"1\" class=\"dataframe\">\n",
       "  <thead>\n",
       "    <tr style=\"text-align: right;\">\n",
       "      <th></th>\n",
       "      <th>NAME</th>\n",
       "      <th>PLAYER_ID</th>\n",
       "      <th>SEASON_START</th>\n",
       "      <th>TEAMS_LIST</th>\n",
       "      <th>PLAYER_AGE</th>\n",
       "      <th>EXPERIENCE</th>\n",
       "      <th>POS</th>\n",
       "      <th>GP</th>\n",
       "      <th>GS</th>\n",
       "      <th>MIN</th>\n",
       "      <th>...</th>\n",
       "      <th>WAIVED_REG</th>\n",
       "      <th>WAIVED_POST</th>\n",
       "      <th>RELEASED_OFF</th>\n",
       "      <th>RELEASED_REG</th>\n",
       "      <th>RELEASED_POST</th>\n",
       "      <th>TRADED_OFF</th>\n",
       "      <th>TRADED_REG</th>\n",
       "      <th>TRADED_POST</th>\n",
       "      <th>IN_LEAGUE_NEXT</th>\n",
       "      <th>WAIVED_BY_START_OF_NEXT_SEASON</th>\n",
       "    </tr>\n",
       "  </thead>\n",
       "  <tbody>\n",
       "    <tr>\n",
       "      <th>2811</th>\n",
       "      <td>Kevin Garnett</td>\n",
       "      <td>708</td>\n",
       "      <td>1995</td>\n",
       "      <td>['MIN']</td>\n",
       "      <td>20.0</td>\n",
       "      <td>1.0</td>\n",
       "      <td>SF</td>\n",
       "      <td>80.0</td>\n",
       "      <td>43.0</td>\n",
       "      <td>2293.0</td>\n",
       "      <td>...</td>\n",
       "      <td>0</td>\n",
       "      <td>0</td>\n",
       "      <td>0</td>\n",
       "      <td>0</td>\n",
       "      <td>0</td>\n",
       "      <td>0</td>\n",
       "      <td>0</td>\n",
       "      <td>0</td>\n",
       "      <td>1</td>\n",
       "      <td>0</td>\n",
       "    </tr>\n",
       "  </tbody>\n",
       "</table>\n",
       "<p>1 rows × 63 columns</p>\n",
       "</div>"
      ],
      "text/plain": [
       "               NAME  PLAYER_ID  SEASON_START TEAMS_LIST  PLAYER_AGE  \\\n",
       "2811  Kevin Garnett        708          1995    ['MIN']        20.0   \n",
       "\n",
       "      EXPERIENCE POS    GP    GS     MIN  ...  WAIVED_REG  WAIVED_POST  \\\n",
       "2811         1.0  SF  80.0  43.0  2293.0  ...           0            0   \n",
       "\n",
       "      RELEASED_OFF  RELEASED_REG  RELEASED_POST  TRADED_OFF  TRADED_REG  \\\n",
       "2811             0             0              0           0           0   \n",
       "\n",
       "      TRADED_POST  IN_LEAGUE_NEXT  WAIVED_BY_START_OF_NEXT_SEASON  \n",
       "2811            0               1                               0  \n",
       "\n",
       "[1 rows x 63 columns]"
      ]
     },
     "execution_count": 5,
     "metadata": {},
     "output_type": "execute_result"
    }
   ],
   "source": [
    "len(player_data)\n",
    "player_data['WAIVED_BY_START_OF_NEXT_SEASON'] = player_data[['WAIVED', 'RELEASED']].any(axis=1).astype(int)\n",
    "player_data.sample()"
   ]
  },
  {
   "cell_type": "code",
   "execution_count": 6,
   "id": "c64a7da5-1b80-464d-b473-0b23b2cbd1c5",
   "metadata": {},
   "outputs": [
    {
     "data": {
      "text/plain": [
       "11394"
      ]
     },
     "execution_count": 6,
     "metadata": {},
     "output_type": "execute_result"
    }
   ],
   "source": [
    "player_data = player_data.dropna(subset=['SALARY'])\n",
    "len(player_data)\n",
    "\n",
    "player_data = player_data[player_data['MIN'] != 0]\n",
    "len(player_data)"
   ]
  },
  {
   "cell_type": "code",
   "execution_count": 7,
   "id": "ba446ef6-5ff6-4344-be28-b514511a36d6",
   "metadata": {},
   "outputs": [
    {
     "data": {
      "text/html": [
       "<div>\n",
       "<style scoped>\n",
       "    .dataframe tbody tr th:only-of-type {\n",
       "        vertical-align: middle;\n",
       "    }\n",
       "\n",
       "    .dataframe tbody tr th {\n",
       "        vertical-align: top;\n",
       "    }\n",
       "\n",
       "    .dataframe thead th {\n",
       "        text-align: right;\n",
       "    }\n",
       "</style>\n",
       "<table border=\"1\" class=\"dataframe\">\n",
       "  <thead>\n",
       "    <tr style=\"text-align: right;\">\n",
       "      <th></th>\n",
       "      <th>NAME</th>\n",
       "      <th>PLAYER_ID</th>\n",
       "      <th>SEASON_START</th>\n",
       "      <th>TEAMS_LIST</th>\n",
       "      <th>PLAYER_AGE</th>\n",
       "      <th>EXPERIENCE</th>\n",
       "      <th>POS</th>\n",
       "      <th>GP</th>\n",
       "      <th>GS</th>\n",
       "      <th>MIN</th>\n",
       "      <th>...</th>\n",
       "      <th>WAIVED_REG</th>\n",
       "      <th>WAIVED_POST</th>\n",
       "      <th>RELEASED_OFF</th>\n",
       "      <th>RELEASED_REG</th>\n",
       "      <th>RELEASED_POST</th>\n",
       "      <th>TRADED_OFF</th>\n",
       "      <th>TRADED_REG</th>\n",
       "      <th>TRADED_POST</th>\n",
       "      <th>IN_LEAGUE_NEXT</th>\n",
       "      <th>WAIVED_BY_START_OF_NEXT_SEASON</th>\n",
       "    </tr>\n",
       "  </thead>\n",
       "  <tbody>\n",
       "    <tr>\n",
       "      <th>4789</th>\n",
       "      <td>Kevin Ollie</td>\n",
       "      <td>1563</td>\n",
       "      <td>1997</td>\n",
       "      <td>['DAL', 'ORL']</td>\n",
       "      <td>25.0</td>\n",
       "      <td>1.0</td>\n",
       "      <td>PG</td>\n",
       "      <td>35.0</td>\n",
       "      <td>0.0</td>\n",
       "      <td>430.0</td>\n",
       "      <td>...</td>\n",
       "      <td>1</td>\n",
       "      <td>0</td>\n",
       "      <td>0</td>\n",
       "      <td>0</td>\n",
       "      <td>0</td>\n",
       "      <td>0</td>\n",
       "      <td>0</td>\n",
       "      <td>0</td>\n",
       "      <td>1</td>\n",
       "      <td>1</td>\n",
       "    </tr>\n",
       "  </tbody>\n",
       "</table>\n",
       "<p>1 rows × 63 columns</p>\n",
       "</div>"
      ],
      "text/plain": [
       "             NAME  PLAYER_ID  SEASON_START      TEAMS_LIST  PLAYER_AGE  \\\n",
       "4789  Kevin Ollie       1563          1997  ['DAL', 'ORL']        25.0   \n",
       "\n",
       "      EXPERIENCE POS    GP   GS    MIN  ...  WAIVED_REG  WAIVED_POST  \\\n",
       "4789         1.0  PG  35.0  0.0  430.0  ...           1            0   \n",
       "\n",
       "      RELEASED_OFF  RELEASED_REG  RELEASED_POST  TRADED_OFF  TRADED_REG  \\\n",
       "4789             0             0              0           0           0   \n",
       "\n",
       "      TRADED_POST  IN_LEAGUE_NEXT  WAIVED_BY_START_OF_NEXT_SEASON  \n",
       "4789            0               1                               1  \n",
       "\n",
       "[1 rows x 63 columns]"
      ]
     },
     "execution_count": 7,
     "metadata": {},
     "output_type": "execute_result"
    }
   ],
   "source": [
    "columns_to_normalize = ['FGM', 'FGA', 'PTS', 'PF', 'DREB', 'OREB', 'REB', 'FTA', 'FTM', 'STL', 'TOV', 'BLK', 'AST', 'FG3A', 'FG3M']\n",
    "\n",
    "# Normalize the selected columns by dividing by 'MIN'\n",
    "player_data[columns_to_normalize] = player_data[columns_to_normalize].div(player_data['MIN'], axis=0)\n",
    "\n",
    "# Rename columns to include \"per minute\"\n",
    "rename_dict = {col: f\"{col} / MIN\" for col in columns_to_normalize}\n",
    "player_data.rename(columns=rename_dict, inplace=True)\n",
    "\n",
    "player_data.sample()"
   ]
  },
  {
   "cell_type": "markdown",
   "id": "3e087f54-4a5d-498e-bd60-af0426bcdf4b",
   "metadata": {},
   "source": [
    "Now let's find the most correlated features"
   ]
  },
  {
   "cell_type": "code",
   "execution_count": 8,
   "id": "1088b10c-716e-4a44-b8ae-eb5707e740ef",
   "metadata": {},
   "outputs": [
    {
     "name": "stdout",
     "output_type": "stream",
     "text": [
      "WAIVED_BY_START_OF_NEXT_SEASON    1.000000\n",
      "WAIVED                            0.947449\n",
      "WAIVED_REG                        0.795938\n",
      "WAIVED_OFF                        0.571506\n",
      "RELEASED                          0.325645\n",
      "RELEASED_OFF                      0.295017\n",
      "RELEASED_REG                      0.131331\n",
      "PF / MIN                          0.106916\n",
      "TOV_PERCENT                       0.106464\n",
      "WAIVED_POST                       0.089167\n",
      "PLAYER_AGE                        0.080225\n",
      "RELEASED_POST                     0.063034\n",
      "X3P_AR                            0.055353\n",
      "PLAYER_ID                         0.034326\n",
      "SEASON_START                      0.024243\n",
      "TOV / MIN                         0.023506\n",
      "TRADED_REG                        0.023022\n",
      "FG3A / MIN                        0.020922\n",
      "TRADED                            0.006751\n",
      "EXPERIENCE                        0.005129\n",
      "OREB / MIN                       -0.006836\n",
      "STL_PERCENT                      -0.006875\n",
      "F_TR                             -0.007385\n",
      "STL / MIN                        -0.007439\n",
      "TRADED_OFF                       -0.007468\n",
      "ORB_PERCENT                      -0.010421\n",
      "AST / MIN                        -0.012250\n",
      "TRADED_POST                      -0.014546\n",
      "FG3M / MIN                       -0.020635\n",
      "AST_PERCENT                      -0.031484\n",
      "REB / MIN                        -0.049459\n",
      "TRB_PERCENT                      -0.050190\n",
      "BLK_PERCENT                      -0.071262\n",
      "DREB / MIN                       -0.071552\n",
      "DRB_PERCENT                      -0.071821\n",
      "BLK / MIN                        -0.073980\n",
      "FG3_PCT                          -0.080542\n",
      "DBPM                             -0.099234\n",
      "FTA / MIN                        -0.102941\n",
      "USG_PERCENT                      -0.108247\n",
      "FGA / MIN                        -0.112974\n",
      "FTM / MIN                        -0.135119\n",
      "SALARY                           -0.154791\n",
      "VORP                             -0.176926\n",
      "FT_PCT                           -0.187416\n",
      "FGM / MIN                        -0.199400\n",
      "PTS / MIN                        -0.200164\n",
      "FG_PCT                           -0.206845\n",
      "TS_PERCENT                       -0.210742\n",
      "OWS                              -0.215253\n",
      "WS_48                            -0.218319\n",
      "BPM                              -0.231099\n",
      "OBPM                             -0.235165\n",
      "PER                              -0.240195\n",
      "WS                               -0.261602\n",
      "GS                               -0.262466\n",
      "DWS                              -0.275687\n",
      "MIN                              -0.342061\n",
      "IN_LEAGUE_NEXT                   -0.356754\n",
      "GP                               -0.402461\n",
      "Name: WAIVED_BY_START_OF_NEXT_SEASON, dtype: float64\n"
     ]
    }
   ],
   "source": [
    "numeric_data = player_data.select_dtypes(include=['number'])\n",
    "\n",
    "correlations = numeric_data.corr()['WAIVED_BY_START_OF_NEXT_SEASON']\n",
    "sorted_correlations = correlations.sort_values(ascending=False)\n",
    "pd.set_option('display.max_rows', None)\n",
    "\n",
    "# Print the sorted correlations\n",
    "print(sorted_correlations)\n",
    "\n",
    "# Reset display options if needed\n",
    "pd.reset_option('display.max_rows')"
   ]
  },
  {
   "cell_type": "markdown",
   "id": "200db00b-6d82-4207-bff4-c470456c381d",
   "metadata": {},
   "source": [
    "Since player_ID is correlated at 10% despite being complete random, let's take anything that's correlated at 15% or higher"
   ]
  },
  {
   "cell_type": "code",
   "execution_count": 9,
   "id": "6c943593-9b1d-4685-b485-014a3a574049",
   "metadata": {},
   "outputs": [
    {
     "data": {
      "text/plain": [
       "22"
      ]
     },
     "execution_count": 9,
     "metadata": {},
     "output_type": "execute_result"
    }
   ],
   "source": [
    "Xfeatures = ['GP', 'MIN', 'DWS', 'GS', 'WS', 'OBPM', 'BPM', 'PER', 'OWS', 'WS_48', 'FT_PCT', 'FG_PCT', 'FGM / MIN', 'PTS / MIN', 'VORP', 'TS_PERCENT', 'SALARY', 'FTM / MIN', 'USG_PERCENT', 'FTA / MIN', 'FGA / MIN' , 'SEASON_START']\n",
    "len(Xfeatures)"
   ]
  },
  {
   "cell_type": "code",
   "execution_count": 10,
   "id": "8928d0cc-bcdb-46bf-9342-a950668e2392",
   "metadata": {},
   "outputs": [],
   "source": [
    "from sklearn.model_selection import train_test_split"
   ]
  },
  {
   "cell_type": "code",
   "execution_count": 11,
   "id": "e7d3c0d6-438d-44f7-a0cb-f05918315048",
   "metadata": {},
   "outputs": [
    {
     "name": "stdout",
     "output_type": "stream",
     "text": [
      "9115\n",
      "2279\n"
     ]
    }
   ],
   "source": [
    "train_player_data, test_player_data = train_test_split(player_data, test_size=0.2, stratify=player_data['WAIVED_BY_START_OF_NEXT_SEASON'], random_state=812)\n",
    "print(len(train_player_data))\n",
    "print(len(test_player_data))"
   ]
  },
  {
   "cell_type": "code",
   "execution_count": 12,
   "id": "c827d791-d7ef-45d3-bff1-b4d59b8e9099",
   "metadata": {},
   "outputs": [
    {
     "name": "stdout",
     "output_type": "stream",
     "text": [
      "0.11705979155238617\n",
      "0.10335679675409806\n"
     ]
    }
   ],
   "source": [
    "train_player_data_waived = train_player_data.loc[train_player_data['WAIVED_BY_START_OF_NEXT_SEASON'] == 1]\n",
    "train_player_data_unwaived = train_player_data.loc[train_player_data['WAIVED_BY_START_OF_NEXT_SEASON'] == 0]\n",
    "p = len(train_player_data_waived)/len(train_player_data)\n",
    "print(p)\n",
    "print(p*(1 - p))\n",
    "bbs = p*(1 - p)"
   ]
  },
  {
   "cell_type": "markdown",
   "id": "a8677987-bf62-4657-bc06-ab7a7e3f4dab",
   "metadata": {},
   "source": [
    "About 11% of the players are waived, which is useful to have as a baseline for the various metrics. For instance, baseline accuracy would be p^2 + (1 - p)^2 which is about .8042."
   ]
  },
  {
   "cell_type": "markdown",
   "id": "56093df5-ab2f-43dd-8995-e741ea85c1d5",
   "metadata": {},
   "source": [
    "We next look at some individual stats to determine what if there are statistically significant differences in the aggregate between the two classes of players. For example, in Field Goal percentage we get the following two charts:"
   ]
  },
  {
   "cell_type": "code",
   "execution_count": 13,
   "id": "cd21a78e-663c-41b3-9d18-221eceb66af2",
   "metadata": {},
   "outputs": [
    {
     "data": {
      "image/png": "[encoded data removed]",
      "text/plain": [
       "<Figure size 1000x500 with 2 Axes>"
      ]
     },
     "metadata": {},
     "output_type": "display_data"
    }
   ],
   "source": [
    "plt.figure(figsize=(10, 5))\n",
    "\n",
    "plt.subplot(1, 2, 1)\n",
    "plt.hist(train_player_data_waived['FG_PCT'].dropna(), bins=20, color='blue', alpha=0.7)\n",
    "plt.title('FG% for players who are waived')\n",
    "plt.xlabel('Field Goal Percentage')\n",
    "plt.ylabel('Frequency')\n",
    "\n",
    "plt.subplot(1, 2, 2)\n",
    "plt.hist(train_player_data_unwaived['FG_PCT'].dropna(), bins=20, color='green', alpha=0.7)\n",
    "plt.title('FG% for players who are not waived')\n",
    "plt.xlabel('Field Goal Percentage')\n",
    "plt.ylabel('Frequency')\n",
    "\n",
    "plt.tight_layout()\n",
    "plt.show()"
   ]
  },
  {
   "cell_type": "code",
   "execution_count": 14,
   "id": "5081a631-4202-4b36-bb43-a0c6ecd52505",
   "metadata": {},
   "outputs": [
    {
     "data": {
      "text/plain": [
       "0.38967197750702903"
      ]
     },
     "execution_count": 14,
     "metadata": {},
     "output_type": "execute_result"
    }
   ],
   "source": [
    "train_player_data_waived.loc[:, 'FG_PCT'].mean()"
   ]
  },
  {
   "cell_type": "code",
   "execution_count": 15,
   "id": "d1fab655-fd41-44a4-af48-306d80e7c0a7",
   "metadata": {},
   "outputs": [
    {
     "data": {
      "text/plain": [
       "0.4449635934393638"
      ]
     },
     "execution_count": 15,
     "metadata": {},
     "output_type": "execute_result"
    }
   ],
   "source": [
    "train_player_data_unwaived.loc[:, 'FG_PCT'].mean()"
   ]
  },
  {
   "cell_type": "markdown",
   "id": "cf68160b-ad1b-4710-ad58-7f6b1821572b",
   "metadata": {},
   "source": [
    "On the whole, this difference is highly statically significant. The p-value for a sample of unwaived players to have a FG% as low as unwaived players on average is extremely small."
   ]
  },
  {
   "cell_type": "code",
   "execution_count": 16,
   "id": "6335f6a9-4f55-4093-b1e7-19c602446b83",
   "metadata": {},
   "outputs": [
    {
     "name": "stdout",
     "output_type": "stream",
     "text": [
      "-24.197331077533356\n",
      "1.1867041057329942e-129\n"
     ]
    }
   ],
   "source": [
    "from scipy import stats\n",
    "unstandardizedZ = train_player_data_waived.loc[:,'FG_PCT'].mean()\n",
    "mu = train_player_data_unwaived.loc[:, 'FG_PCT'].mean()\n",
    "sigma = train_player_data_unwaived.loc[:, 'FG_PCT'].std()\n",
    "size = len(train_player_data_waived)\n",
    "standardizedZ = (size*unstandardizedZ - mu*size)/(np.sqrt(size)*sigma)\n",
    "p_value = stats.norm.cdf(standardizedZ)\n",
    "print(standardizedZ)\n",
    "print(p_value)"
   ]
  },
  {
   "cell_type": "markdown",
   "id": "758bd900-9756-45ac-b52c-2f9cf30f2c2c",
   "metadata": {},
   "source": [
    "If there is more EDA stuff to add it should be added here."
   ]
  },
  {
   "cell_type": "markdown",
   "id": "4c074484-5aa0-4ae3-8db6-ac8d5e72aca6",
   "metadata": {},
   "source": [
    "Now we try some models to see how well the stats can predict at <i>an individual level</i> if a player will be waived or traded. We'll look at KNN classification, logistic classification, decision trees, and random forest classifiers. The metrics we are interested in are f1_score, accuracy_score, balanced_accuracy_score, and the brier score (with predict proba). Given the 11/89 split of waived and unwaived, the baseline metrics to compare to with a random guess that guesses a player will be waived with probability 11 would have metrics:\n",
    "\n",
    "Accuracy: 0.7952 <br>\n",
    "Balanced Accuracy: 0.5000 <br>\n",
    "F1-Score: 0.1158 <br>\n",
    "1 - Brier Score: 0.8976 <br>(Subtracting from 1 since a <i> smaller </i> Brier score is better.)\n",
    "\n",
    "These are what we should compare our metrics against."
   ]
  },
  {
   "cell_type": "code",
   "execution_count": 17,
   "id": "82dda190-9d65-46f4-8a6b-9e6248eab1a2",
   "metadata": {},
   "outputs": [],
   "source": [
    "from sklearn.preprocessing import StandardScaler\n",
    "from sklearn.neighbors import KNeighborsClassifier\n",
    "from sklearn.pipeline import Pipeline\n",
    "from sklearn.metrics import accuracy_score, confusion_matrix, f1_score, brier_score_loss, balanced_accuracy_score"
   ]
  },
  {
   "cell_type": "code",
   "execution_count": 18,
   "id": "cc71ca68-6643-42cd-a498-6f7bdb048431",
   "metadata": {},
   "outputs": [
    {
     "name": "stdout",
     "output_type": "stream",
     "text": [
      "9099\n",
      "F1 score:  0.1984732824427481\n",
      "Balanced Accuracy:  0.5538425739103797\n",
      "Accuracy:  0.8846153846153846\n",
      "Baseline F1 score:  0.11705979155238617\n",
      "Baseline Balanced Accuracy: .5\n",
      "Baseline Accuracy:  0.7932864064918037\n"
     ]
    }
   ],
   "source": [
    "train_player_data = train_player_data.dropna(subset = Xfeatures)\n",
    "print(len(train_player_data))\n",
    "X = train_player_data[Xfeatures]\n",
    "y = train_player_data['WAIVED_BY_START_OF_NEXT_SEASON']\n",
    "X_train, X_test, y_train, y_test = train_test_split(X, y, test_size=0.2, random_state=812, stratify = y)\n",
    "knn_pipeline = Pipeline([\n",
    "    ('scaler', YearWiseStandardScaler(year_column = 'SEASON_START')),\n",
    "    ('knn', KNeighborsClassifier(n_neighbors = 15))\n",
    "])\n",
    "knn_pipeline.fit(X_train, y_train)\n",
    "y_pred = knn_pipeline.predict(X_test)\n",
    "f1score = f1_score(y_test, y_pred)\n",
    "print(\"F1 score: \", f1score)\n",
    "print(\"Balanced Accuracy: \", balanced_accuracy_score(y_test, y_pred))\n",
    "print(\"Accuracy: \", accuracy_score(y_test, y_pred))\n",
    "\n",
    "print(\"Baseline F1 score: \", p)\n",
    "print(\"Baseline Balanced Accuracy: .5\")\n",
    "print(\"Baseline Accuracy: \", p**2+(1 - p)**2)"
   ]
  },
  {
   "cell_type": "code",
   "execution_count": 19,
   "id": "b1257eb4-bd38-437e-985d-9cb2a88633f3",
   "metadata": {},
   "outputs": [
    {
     "name": "stdout",
     "output_type": "stream",
     "text": [
      "Brier Score:  0.08761416361416362\n",
      "Brier Skill Score:  0.1523134775295777\n",
      "Baseline Brier Score:  0.10335679675409806\n"
     ]
    }
   ],
   "source": [
    "y_prob = knn_pipeline.predict_proba(X_test)\n",
    "y_prob = y_prob[:, 1]\n",
    "brier_score = brier_score_loss(y_test, y_prob)\n",
    "print(\"Brier Score: \", brier_score)\n",
    "print(\"Brier Skill Score: \", 1 - brier_score/bbs)\n",
    "print(\"Baseline Brier Score: \", bbs)"
   ]
  },
  {
   "cell_type": "code",
   "execution_count": 20,
   "id": "614bc48f-7ea6-4969-9ad4-0480b967736a",
   "metadata": {},
   "outputs": [
    {
     "data": {
      "text/html": [
       "<div>\n",
       "<style scoped>\n",
       "    .dataframe tbody tr th:only-of-type {\n",
       "        vertical-align: middle;\n",
       "    }\n",
       "\n",
       "    .dataframe tbody tr th {\n",
       "        vertical-align: top;\n",
       "    }\n",
       "\n",
       "    .dataframe thead th {\n",
       "        text-align: right;\n",
       "    }\n",
       "</style>\n",
       "<table border=\"1\" class=\"dataframe\">\n",
       "  <thead>\n",
       "    <tr style=\"text-align: right;\">\n",
       "      <th></th>\n",
       "      <th>Metric</th>\n",
       "      <th>KNN Model</th>\n",
       "      <th>Baseline</th>\n",
       "    </tr>\n",
       "  </thead>\n",
       "  <tbody>\n",
       "    <tr>\n",
       "      <th>0</th>\n",
       "      <td>Accuracy</td>\n",
       "      <td>0.8846</td>\n",
       "      <td>0.7952</td>\n",
       "    </tr>\n",
       "    <tr>\n",
       "      <th>1</th>\n",
       "      <td>Balanced Accuracy</td>\n",
       "      <td>0.5538</td>\n",
       "      <td>0.5000</td>\n",
       "    </tr>\n",
       "    <tr>\n",
       "      <th>2</th>\n",
       "      <td>F1 Score</td>\n",
       "      <td>0.1985</td>\n",
       "      <td>0.1158</td>\n",
       "    </tr>\n",
       "    <tr>\n",
       "      <th>3</th>\n",
       "      <td>1-Brier Score</td>\n",
       "      <td>0.9124</td>\n",
       "      <td>0.8976</td>\n",
       "    </tr>\n",
       "  </tbody>\n",
       "</table>\n",
       "</div>"
      ],
      "text/plain": [
       "              Metric  KNN Model  Baseline\n",
       "0           Accuracy     0.8846    0.7952\n",
       "1  Balanced Accuracy     0.5538    0.5000\n",
       "2           F1 Score     0.1985    0.1158\n",
       "3      1-Brier Score     0.9124    0.8976"
      ]
     },
     "execution_count": 20,
     "metadata": {},
     "output_type": "execute_result"
    }
   ],
   "source": [
    "metric_summary  = {\n",
    "    \"Metric\": [\"Accuracy\", \"Balanced Accuracy\", \"F1 Score\", \"1-Brier Score\"],\n",
    "    \"KNN Model\": [0.8846, 0.5538, 0.1985, 1-0.0876],\n",
    "    \"Baseline\": [0.7952, 0.5000, 0.1158, 1-0.1024],\n",
    "}\n",
    "\n",
    "# Create a DataFrame\n",
    "metrics_df = pd.DataFrame(metric_summary)\n",
    "metrics_df"
   ]
  },
  {
   "cell_type": "code",
   "execution_count": 23,
   "id": "d82331af-1a9e-4e65-ba2d-3de1c13d1516",
   "metadata": {},
   "outputs": [],
   "source": [
    "from sklearn.linear_model import LogisticRegression\n",
    "X = train_player_data[Xfeatures]\n",
    "y = train_player_data['WAIVED_BY_START_OF_NEXT_SEASON']\n",
    "X_train, X_test, y_train, y_test = train_test_split(X, y, test_size=0.2, random_state=813, stratify = y)"
   ]
  },
  {
   "cell_type": "code",
   "execution_count": 24,
   "id": "8e40e6cf-e430-4e4b-b014-822f7b85fdb0",
   "metadata": {},
   "outputs": [
    {
     "name": "stdout",
     "output_type": "stream",
     "text": [
      "F1 score:  0.22302158273381295\n",
      "Balanced Accuracy:  0.5622726429238378\n"
     ]
    }
   ],
   "source": [
    "log_reg = Pipeline([\n",
    "    ('scaler', YearWiseStandardScaler(year_column = 'SEASON_START')),\n",
    "    ('logreg', LogisticRegression(max_iter=10000))\n",
    "])\n",
    "\n",
    "log_reg.fit(X_train, y_train)\n",
    "y_pred = log_reg.predict(X_test)\n",
    "f1score = f1_score(y_test, y_pred)\n",
    "print(\"F1 score: \", f1score)\n",
    "print(\"Balanced Accuracy: \", balanced_accuracy_score(y_test, y_pred))"
   ]
  },
  {
   "cell_type": "code",
   "execution_count": 25,
   "id": "55ce54e7-514b-4ca1-942e-c5a56272ef74",
   "metadata": {},
   "outputs": [],
   "source": [
    "y_prob = log_reg.predict_proba(X_test)"
   ]
  },
  {
   "cell_type": "code",
   "execution_count": 26,
   "id": "357da20c-0650-45f7-ba4d-7c588eab4a3d",
   "metadata": {},
   "outputs": [
    {
     "name": "stdout",
     "output_type": "stream",
     "text": [
      "Brier Score:  0.08383540826009821\n",
      "Brier Skill Score:  0.18887377615276024\n"
     ]
    }
   ],
   "source": [
    "y_prob\n",
    "y_prob = y_prob[:, 1]\n",
    "brier_score = brier_score_loss(y_test, y_prob)\n",
    "print(\"Brier Score: \", brier_score)\n",
    "print(\"Brier Skill Score: \", 1 - brier_score/bbs)"
   ]
  },
  {
   "cell_type": "code",
   "execution_count": 27,
   "id": "8a5a6440-ef52-406f-b7b1-5d619af205e2",
   "metadata": {},
   "outputs": [],
   "source": [
    "from sklearn import tree\n",
    "from sklearn.tree import DecisionTreeClassifier"
   ]
  },
  {
   "cell_type": "code",
   "execution_count": 28,
   "id": "463d0707-1c33-4346-af40-cf083b36e8bd",
   "metadata": {},
   "outputs": [
    {
     "name": "stdout",
     "output_type": "stream",
     "text": [
      "F1 score:  0.2827586206896552\n",
      "Balanced Accuracy:  0.5853478213485165\n"
     ]
    }
   ],
   "source": [
    "#tree_cfr = Pipeline([(scaler = YearWiseStandardScaler(year_column = 'SEASON_START'), (classifier = DecisionTreeClassifier(max_depth=6, random_state=814)))])\n",
    "tree_cfr = Pipeline([\n",
    "    ('scaler', YearWiseStandardScaler(year_column='SEASON_START')),  \n",
    "    ('classifier', DecisionTreeClassifier(max_depth = 6, random_state=814))  \n",
    "])\n",
    "X = train_player_data[Xfeatures]\n",
    "y = train_player_data['WAIVED_BY_START_OF_NEXT_SEASON']\n",
    "X_train, X_test, y_train, y_test = train_test_split(X, y, test_size=0.2, random_state=815, stratify = y)\n",
    "tree_cfr.fit(X_train, y_train)\n",
    "y_pred = tree_cfr.predict(X_test)\n",
    "f1score = f1_score(y_test, y_pred)\n",
    "print(\"F1 score: \", f1score)\n",
    "print(\"Balanced Accuracy: \", balanced_accuracy_score(y_test, y_pred))"
   ]
  },
  {
   "cell_type": "code",
   "execution_count": 29,
   "id": "16d781cd-743a-4dec-88ec-7a62d0e5208f",
   "metadata": {},
   "outputs": [
    {
     "name": "stdout",
     "output_type": "stream",
     "text": [
      "Brier Score:  0.09570581321800904\n",
      "Brier Skill Score:  0.07402496764960609\n"
     ]
    }
   ],
   "source": [
    "y_prob = tree_cfr.predict_proba(X_test)\n",
    "y_prob = y_prob[:, 1]\n",
    "brier_score = brier_score_loss(y_test, y_prob)\n",
    "print(\"Brier Score: \", brier_score)\n",
    "print(\"Brier Skill Score: \", 1 - brier_score/bbs)"
   ]
  },
  {
   "cell_type": "code",
   "execution_count": 30,
   "id": "22405a5c-6e8c-459b-ad54-0f8f1e55f48b",
   "metadata": {},
   "outputs": [],
   "source": [
    "from sklearn.ensemble import RandomForestClassifier\n",
    "rf = RandomForestClassifier(\n",
    "    n_estimators = 50, \n",
    "    max_depth = 3, \n",
    "    max_features = 6, \n",
    "    bootstrap= True, \n",
    "    max_samples = 500,\n",
    "    random_state = 816\n",
    "    )\n",
    "rf = Pipeline([('scaler', YearWiseStandardScaler(year_column='SEASON_START')), ('classifier', RandomForestClassifier(\n",
    "    n_estimators = 50, \n",
    "    max_depth = 3, \n",
    "    max_features = 6, \n",
    "    bootstrap= True, \n",
    "    max_samples = 500,\n",
    "    random_state = 816\n",
    "    ))])"
   ]
  },
  {
   "cell_type": "code",
   "execution_count": 31,
   "id": "1b29aa62-1d0d-439b-a0c6-0895b3eb6c89",
   "metadata": {},
   "outputs": [
    {
     "name": "stdout",
     "output_type": "stream",
     "text": [
      "F1 score:  0.14937759336099585\n",
      "Balanced Accuracy:  0.5389250041973614\n"
     ]
    }
   ],
   "source": [
    "X = train_player_data[Xfeatures]\n",
    "y = train_player_data['WAIVED_BY_START_OF_NEXT_SEASON']\n",
    "X_train, X_test, y_train, y_test = train_test_split(X, y, test_size=0.2, random_state=817, stratify = y)\n",
    "rf.fit(X_train, y_train)\n",
    "y_pred = rf.predict(X_test)\n",
    "f1score = f1_score(y_test, y_pred)\n",
    "print(\"F1 score: \", f1score)\n",
    "print(\"Balanced Accuracy: \", balanced_accuracy_score(y_test, y_pred))"
   ]
  },
  {
   "cell_type": "code",
   "execution_count": 32,
   "id": "4dc92012-2bf8-4fe5-a9c0-82727fbba84d",
   "metadata": {},
   "outputs": [
    {
     "name": "stdout",
     "output_type": "stream",
     "text": [
      "Brier Score:  0.07267239531529213\n",
      "Brier Skill Score:  0.2968784095719308\n"
     ]
    }
   ],
   "source": [
    "y_prob = tree_cfr.predict_proba(X_test)\n",
    "y_prob = y_prob[:, 1]\n",
    "brier_score = brier_score_loss(y_test, y_prob)\n",
    "print(\"Brier Score: \", brier_score)\n",
    "print(\"Brier Skill Score: \", 1 - brier_score/bbs)"
   ]
  },
  {
   "cell_type": "markdown",
   "id": "302ccbe0-e1c0-4302-b92d-1bd842cdf4f5",
   "metadata": {},
   "source": [
    "Of the non-ensemble methods, the decision tree works best, so let's boost that one with AdaBoost"
   ]
  },
  {
   "cell_type": "code",
   "execution_count": 33,
   "id": "eb8c46ac-3917-413e-8144-ff2c74e430d3",
   "metadata": {},
   "outputs": [],
   "source": [
    "from sklearn.ensemble import AdaBoostClassifier"
   ]
  },
  {
   "cell_type": "code",
   "execution_count": 34,
   "id": "f31477e9-3a78-4b49-ab7d-429b0a7ff083",
   "metadata": {},
   "outputs": [],
   "source": [
    "ada_clf = AdaBoostClassifier(DecisionTreeClassifier(max_depth=6),\n",
    "                                n_estimators=100,\n",
    "                                algorithm = 'SAMME',\n",
    "                                learning_rate = 0.05,\n",
    "                                random_state=818)\n",
    "ada_clf = Pipeline([('scalar', YearWiseStandardScaler(year_column = 'SEASON_START')), ('classifier', AdaBoostClassifier(DecisionTreeClassifier(max_depth=6),\n",
    "                                n_estimators=100,\n",
    "                                algorithm = 'SAMME',\n",
    "                                learning_rate = 0.05,\n",
    "                                random_state=818))])"
   ]
  },
  {
   "cell_type": "code",
   "execution_count": 35,
   "id": "79b7fff5-d1f6-4d37-a9b5-04a99ac8db1f",
   "metadata": {},
   "outputs": [
    {
     "data": {
      "text/html": [
       "<style>#sk-container-id-1 {\n",
       "  /* Definition of color scheme common for light and dark mode */\n",
       "  --sklearn-color-text: black;\n",
       "  --sklearn-color-line: gray;\n",
       "  /* Definition of color scheme for unfitted estimators */\n",
       "  --sklearn-color-unfitted-level-0: #fff5e6;\n",
       "  --sklearn-color-unfitted-level-1: #f6e4d2;\n",
       "  --sklearn-color-unfitted-level-2: #ffe0b3;\n",
       "  --sklearn-color-unfitted-level-3: chocolate;\n",
       "  /* Definition of color scheme for fitted estimators */\n",
       "  --sklearn-color-fitted-level-0: #f0f8ff;\n",
       "  --sklearn-color-fitted-level-1: #d4ebff;\n",
       "  --sklearn-color-fitted-level-2: #b3dbfd;\n",
       "  --sklearn-color-fitted-level-3: cornflowerblue;\n",
       "\n",
       "  /* Specific color for light theme */\n",
       "  --sklearn-color-text-on-default-background: var(--sg-text-color, var(--theme-code-foreground, var(--jp-content-font-color1, black)));\n",
       "  --sklearn-color-background: var(--sg-background-color, var(--theme-background, var(--jp-layout-color0, white)));\n",
       "  --sklearn-color-border-box: var(--sg-text-color, var(--theme-code-foreground, var(--jp-content-font-color1, black)));\n",
       "  --sklearn-color-icon: #696969;\n",
       "\n",
       "  @media (prefers-color-scheme: dark) {\n",
       "    /* Redefinition of color scheme for dark theme */\n",
       "    --sklearn-color-text-on-default-background: var(--sg-text-color, var(--theme-code-foreground, var(--jp-content-font-color1, white)));\n",
       "    --sklearn-color-background: var(--sg-background-color, var(--theme-background, var(--jp-layout-color0, #111)));\n",
       "    --sklearn-color-border-box: var(--sg-text-color, var(--theme-code-foreground, var(--jp-content-font-color1, white)));\n",
       "    --sklearn-color-icon: #878787;\n",
       "  }\n",
       "}\n",
       "\n",
       "#sk-container-id-1 {\n",
       "  color: var(--sklearn-color-text);\n",
       "}\n",
       "\n",
       "#sk-container-id-1 pre {\n",
       "  padding: 0;\n",
       "}\n",
       "\n",
       "#sk-container-id-1 input.sk-hidden--visually {\n",
       "  border: 0;\n",
       "  clip: rect(1px 1px 1px 1px);\n",
       "  clip: rect(1px, 1px, 1px, 1px);\n",
       "  height: 1px;\n",
       "  margin: -1px;\n",
       "  overflow: hidden;\n",
       "  padding: 0;\n",
       "  position: absolute;\n",
       "  width: 1px;\n",
       "}\n",
       "\n",
       "#sk-container-id-1 div.sk-dashed-wrapped {\n",
       "  border: 1px dashed var(--sklearn-color-line);\n",
       "  margin: 0 0.4em 0.5em 0.4em;\n",
       "  box-sizing: border-box;\n",
       "  padding-bottom: 0.4em;\n",
       "  background-color: var(--sklearn-color-background);\n",
       "}\n",
       "\n",
       "#sk-container-id-1 div.sk-container {\n",
       "  /* jupyter's `normalize.less` sets `[hidden] { display: none; }`\n",
       "     but bootstrap.min.css set `[hidden] { display: none !important; }`\n",
       "     so we also need the `!important` here to be able to override the\n",
       "     default hidden behavior on the sphinx rendered scikit-learn.org.\n",
       "     See: https://github.com/scikit-learn/scikit-learn/issues/21755 */\n",
       "  display: inline-block !important;\n",
       "  position: relative;\n",
       "}\n",
       "\n",
       "#sk-container-id-1 div.sk-text-repr-fallback {\n",
       "  display: none;\n",
       "}\n",
       "\n",
       "div.sk-parallel-item,\n",
       "div.sk-serial,\n",
       "div.sk-item {\n",
       "  /* draw centered vertical line to link estimators */\n",
       "  background-image: linear-gradient(var(--sklearn-color-text-on-default-background), var(--sklearn-color-text-on-default-background));\n",
       "  background-size: 2px 100%;\n",
       "  background-repeat: no-repeat;\n",
       "  background-position: center center;\n",
       "}\n",
       "\n",
       "/* Parallel-specific style estimator block */\n",
       "\n",
       "#sk-container-id-1 div.sk-parallel-item::after {\n",
       "  content: \"\";\n",
       "  width: 100%;\n",
       "  border-bottom: 2px solid var(--sklearn-color-text-on-default-background);\n",
       "  flex-grow: 1;\n",
       "}\n",
       "\n",
       "#sk-container-id-1 div.sk-parallel {\n",
       "  display: flex;\n",
       "  align-items: stretch;\n",
       "  justify-content: center;\n",
       "  background-color: var(--sklearn-color-background);\n",
       "  position: relative;\n",
       "}\n",
       "\n",
       "#sk-container-id-1 div.sk-parallel-item {\n",
       "  display: flex;\n",
       "  flex-direction: column;\n",
       "}\n",
       "\n",
       "#sk-container-id-1 div.sk-parallel-item:first-child::after {\n",
       "  align-self: flex-end;\n",
       "  width: 50%;\n",
       "}\n",
       "\n",
       "#sk-container-id-1 div.sk-parallel-item:last-child::after {\n",
       "  align-self: flex-start;\n",
       "  width: 50%;\n",
       "}\n",
       "\n",
       "#sk-container-id-1 div.sk-parallel-item:only-child::after {\n",
       "  width: 0;\n",
       "}\n",
       "\n",
       "/* Serial-specific style estimator block */\n",
       "\n",
       "#sk-container-id-1 div.sk-serial {\n",
       "  display: flex;\n",
       "  flex-direction: column;\n",
       "  align-items: center;\n",
       "  background-color: var(--sklearn-color-background);\n",
       "  padding-right: 1em;\n",
       "  padding-left: 1em;\n",
       "}\n",
       "\n",
       "\n",
       "/* Toggleable style: style used for estimator/Pipeline/ColumnTransformer box that is\n",
       "clickable and can be expanded/collapsed.\n",
       "- Pipeline and ColumnTransformer use this feature and define the default style\n",
       "- Estimators will overwrite some part of the style using the `sk-estimator` class\n",
       "*/\n",
       "\n",
       "/* Pipeline and ColumnTransformer style (default) */\n",
       "\n",
       "#sk-container-id-1 div.sk-toggleable {\n",
       "  /* Default theme specific background. It is overwritten whether we have a\n",
       "  specific estimator or a Pipeline/ColumnTransformer */\n",
       "  background-color: var(--sklearn-color-background);\n",
       "}\n",
       "\n",
       "/* Toggleable label */\n",
       "#sk-container-id-1 label.sk-toggleable__label {\n",
       "  cursor: pointer;\n",
       "  display: block;\n",
       "  width: 100%;\n",
       "  margin-bottom: 0;\n",
       "  padding: 0.5em;\n",
       "  box-sizing: border-box;\n",
       "  text-align: center;\n",
       "}\n",
       "\n",
       "#sk-container-id-1 label.sk-toggleable__label-arrow:before {\n",
       "  /* Arrow on the left of the label */\n",
       "  content: \"▸\";\n",
       "  float: left;\n",
       "  margin-right: 0.25em;\n",
       "  color: var(--sklearn-color-icon);\n",
       "}\n",
       "\n",
       "#sk-container-id-1 label.sk-toggleable__label-arrow:hover:before {\n",
       "  color: var(--sklearn-color-text);\n",
       "}\n",
       "\n",
       "/* Toggleable content - dropdown */\n",
       "\n",
       "#sk-container-id-1 div.sk-toggleable__content {\n",
       "  max-height: 0;\n",
       "  max-width: 0;\n",
       "  overflow: hidden;\n",
       "  text-align: left;\n",
       "  /* unfitted */\n",
       "  background-color: var(--sklearn-color-unfitted-level-0);\n",
       "}\n",
       "\n",
       "#sk-container-id-1 div.sk-toggleable__content.fitted {\n",
       "  /* fitted */\n",
       "  background-color: var(--sklearn-color-fitted-level-0);\n",
       "}\n",
       "\n",
       "#sk-container-id-1 div.sk-toggleable__content pre {\n",
       "  margin: 0.2em;\n",
       "  border-radius: 0.25em;\n",
       "  color: var(--sklearn-color-text);\n",
       "  /* unfitted */\n",
       "  background-color: var(--sklearn-color-unfitted-level-0);\n",
       "}\n",
       "\n",
       "#sk-container-id-1 div.sk-toggleable__content.fitted pre {\n",
       "  /* unfitted */\n",
       "  background-color: var(--sklearn-color-fitted-level-0);\n",
       "}\n",
       "\n",
       "#sk-container-id-1 input.sk-toggleable__control:checked~div.sk-toggleable__content {\n",
       "  /* Expand drop-down */\n",
       "  max-height: 200px;\n",
       "  max-width: 100%;\n",
       "  overflow: auto;\n",
       "}\n",
       "\n",
       "#sk-container-id-1 input.sk-toggleable__control:checked~label.sk-toggleable__label-arrow:before {\n",
       "  content: \"▾\";\n",
       "}\n",
       "\n",
       "/* Pipeline/ColumnTransformer-specific style */\n",
       "\n",
       "#sk-container-id-1 div.sk-label input.sk-toggleable__control:checked~label.sk-toggleable__label {\n",
       "  color: var(--sklearn-color-text);\n",
       "  background-color: var(--sklearn-color-unfitted-level-2);\n",
       "}\n",
       "\n",
       "#sk-container-id-1 div.sk-label.fitted input.sk-toggleable__control:checked~label.sk-toggleable__label {\n",
       "  background-color: var(--sklearn-color-fitted-level-2);\n",
       "}\n",
       "\n",
       "/* Estimator-specific style */\n",
       "\n",
       "/* Colorize estimator box */\n",
       "#sk-container-id-1 div.sk-estimator input.sk-toggleable__control:checked~label.sk-toggleable__label {\n",
       "  /* unfitted */\n",
       "  background-color: var(--sklearn-color-unfitted-level-2);\n",
       "}\n",
       "\n",
       "#sk-container-id-1 div.sk-estimator.fitted input.sk-toggleable__control:checked~label.sk-toggleable__label {\n",
       "  /* fitted */\n",
       "  background-color: var(--sklearn-color-fitted-level-2);\n",
       "}\n",
       "\n",
       "#sk-container-id-1 div.sk-label label.sk-toggleable__label,\n",
       "#sk-container-id-1 div.sk-label label {\n",
       "  /* The background is the default theme color */\n",
       "  color: var(--sklearn-color-text-on-default-background);\n",
       "}\n",
       "\n",
       "/* On hover, darken the color of the background */\n",
       "#sk-container-id-1 div.sk-label:hover label.sk-toggleable__label {\n",
       "  color: var(--sklearn-color-text);\n",
       "  background-color: var(--sklearn-color-unfitted-level-2);\n",
       "}\n",
       "\n",
       "/* Label box, darken color on hover, fitted */\n",
       "#sk-container-id-1 div.sk-label.fitted:hover label.sk-toggleable__label.fitted {\n",
       "  color: var(--sklearn-color-text);\n",
       "  background-color: var(--sklearn-color-fitted-level-2);\n",
       "}\n",
       "\n",
       "/* Estimator label */\n",
       "\n",
       "#sk-container-id-1 div.sk-label label {\n",
       "  font-family: monospace;\n",
       "  font-weight: bold;\n",
       "  display: inline-block;\n",
       "  line-height: 1.2em;\n",
       "}\n",
       "\n",
       "#sk-container-id-1 div.sk-label-container {\n",
       "  text-align: center;\n",
       "}\n",
       "\n",
       "/* Estimator-specific */\n",
       "#sk-container-id-1 div.sk-estimator {\n",
       "  font-family: monospace;\n",
       "  border: 1px dotted var(--sklearn-color-border-box);\n",
       "  border-radius: 0.25em;\n",
       "  box-sizing: border-box;\n",
       "  margin-bottom: 0.5em;\n",
       "  /* unfitted */\n",
       "  background-color: var(--sklearn-color-unfitted-level-0);\n",
       "}\n",
       "\n",
       "#sk-container-id-1 div.sk-estimator.fitted {\n",
       "  /* fitted */\n",
       "  background-color: var(--sklearn-color-fitted-level-0);\n",
       "}\n",
       "\n",
       "/* on hover */\n",
       "#sk-container-id-1 div.sk-estimator:hover {\n",
       "  /* unfitted */\n",
       "  background-color: var(--sklearn-color-unfitted-level-2);\n",
       "}\n",
       "\n",
       "#sk-container-id-1 div.sk-estimator.fitted:hover {\n",
       "  /* fitted */\n",
       "  background-color: var(--sklearn-color-fitted-level-2);\n",
       "}\n",
       "\n",
       "/* Specification for estimator info (e.g. \"i\" and \"?\") */\n",
       "\n",
       "/* Common style for \"i\" and \"?\" */\n",
       "\n",
       ".sk-estimator-doc-link,\n",
       "a:link.sk-estimator-doc-link,\n",
       "a:visited.sk-estimator-doc-link {\n",
       "  float: right;\n",
       "  font-size: smaller;\n",
       "  line-height: 1em;\n",
       "  font-family: monospace;\n",
       "  background-color: var(--sklearn-color-background);\n",
       "  border-radius: 1em;\n",
       "  height: 1em;\n",
       "  width: 1em;\n",
       "  text-decoration: none !important;\n",
       "  margin-left: 1ex;\n",
       "  /* unfitted */\n",
       "  border: var(--sklearn-color-unfitted-level-1) 1pt solid;\n",
       "  color: var(--sklearn-color-unfitted-level-1);\n",
       "}\n",
       "\n",
       ".sk-estimator-doc-link.fitted,\n",
       "a:link.sk-estimator-doc-link.fitted,\n",
       "a:visited.sk-estimator-doc-link.fitted {\n",
       "  /* fitted */\n",
       "  border: var(--sklearn-color-fitted-level-1) 1pt solid;\n",
       "  color: var(--sklearn-color-fitted-level-1);\n",
       "}\n",
       "\n",
       "/* On hover */\n",
       "div.sk-estimator:hover .sk-estimator-doc-link:hover,\n",
       ".sk-estimator-doc-link:hover,\n",
       "div.sk-label-container:hover .sk-estimator-doc-link:hover,\n",
       ".sk-estimator-doc-link:hover {\n",
       "  /* unfitted */\n",
       "  background-color: var(--sklearn-color-unfitted-level-3);\n",
       "  color: var(--sklearn-color-background);\n",
       "  text-decoration: none;\n",
       "}\n",
       "\n",
       "div.sk-estimator.fitted:hover .sk-estimator-doc-link.fitted:hover,\n",
       ".sk-estimator-doc-link.fitted:hover,\n",
       "div.sk-label-container:hover .sk-estimator-doc-link.fitted:hover,\n",
       ".sk-estimator-doc-link.fitted:hover {\n",
       "  /* fitted */\n",
       "  background-color: var(--sklearn-color-fitted-level-3);\n",
       "  color: var(--sklearn-color-background);\n",
       "  text-decoration: none;\n",
       "}\n",
       "\n",
       "/* Span, style for the box shown on hovering the info icon */\n",
       ".sk-estimator-doc-link span {\n",
       "  display: none;\n",
       "  z-index: 9999;\n",
       "  position: relative;\n",
       "  font-weight: normal;\n",
       "  right: .2ex;\n",
       "  padding: .5ex;\n",
       "  margin: .5ex;\n",
       "  width: min-content;\n",
       "  min-width: 20ex;\n",
       "  max-width: 50ex;\n",
       "  color: var(--sklearn-color-text);\n",
       "  box-shadow: 2pt 2pt 4pt #999;\n",
       "  /* unfitted */\n",
       "  background: var(--sklearn-color-unfitted-level-0);\n",
       "  border: .5pt solid var(--sklearn-color-unfitted-level-3);\n",
       "}\n",
       "\n",
       ".sk-estimator-doc-link.fitted span {\n",
       "  /* fitted */\n",
       "  background: var(--sklearn-color-fitted-level-0);\n",
       "  border: var(--sklearn-color-fitted-level-3);\n",
       "}\n",
       "\n",
       ".sk-estimator-doc-link:hover span {\n",
       "  display: block;\n",
       "}\n",
       "\n",
       "/* \"?\"-specific style due to the `<a>` HTML tag */\n",
       "\n",
       "#sk-container-id-1 a.estimator_doc_link {\n",
       "  float: right;\n",
       "  font-size: 1rem;\n",
       "  line-height: 1em;\n",
       "  font-family: monospace;\n",
       "  background-color: var(--sklearn-color-background);\n",
       "  border-radius: 1rem;\n",
       "  height: 1rem;\n",
       "  width: 1rem;\n",
       "  text-decoration: none;\n",
       "  /* unfitted */\n",
       "  color: var(--sklearn-color-unfitted-level-1);\n",
       "  border: var(--sklearn-color-unfitted-level-1) 1pt solid;\n",
       "}\n",
       "\n",
       "#sk-container-id-1 a.estimator_doc_link.fitted {\n",
       "  /* fitted */\n",
       "  border: var(--sklearn-color-fitted-level-1) 1pt solid;\n",
       "  color: var(--sklearn-color-fitted-level-1);\n",
       "}\n",
       "\n",
       "/* On hover */\n",
       "#sk-container-id-1 a.estimator_doc_link:hover {\n",
       "  /* unfitted */\n",
       "  background-color: var(--sklearn-color-unfitted-level-3);\n",
       "  color: var(--sklearn-color-background);\n",
       "  text-decoration: none;\n",
       "}\n",
       "\n",
       "#sk-container-id-1 a.estimator_doc_link.fitted:hover {\n",
       "  /* fitted */\n",
       "  background-color: var(--sklearn-color-fitted-level-3);\n",
       "}\n",
       "</style><div id=\"sk-container-id-1\" class=\"sk-top-container\"><div class=\"sk-text-repr-fallback\"><pre>Pipeline(steps=[(&#x27;scalar&#x27;, YearWiseStandardScaler(year_column=&#x27;SEASON_START&#x27;)),\n",
       "                (&#x27;classifier&#x27;,\n",
       "                 AdaBoostClassifier(algorithm=&#x27;SAMME&#x27;,\n",
       "                                    estimator=DecisionTreeClassifier(max_depth=6),\n",
       "                                    learning_rate=0.05, n_estimators=100,\n",
       "                                    random_state=818))])</pre><b>In a Jupyter environment, please rerun this cell to show the HTML representation or trust the notebook. <br />On GitHub, the HTML representation is unable to render, please try loading this page with nbviewer.org.</b></div><div class=\"sk-container\" hidden><div class=\"sk-item sk-dashed-wrapped\"><div class=\"sk-label-container\"><div class=\"sk-label fitted sk-toggleable\"><input class=\"sk-toggleable__control sk-hidden--visually\" id=\"sk-estimator-id-1\" type=\"checkbox\" ><label for=\"sk-estimator-id-1\" class=\"sk-toggleable__label fitted sk-toggleable__label-arrow fitted\">&nbsp;&nbsp;Pipeline<a class=\"sk-estimator-doc-link fitted\" rel=\"noreferrer\" target=\"_blank\" href=\"https://scikit-learn.org/1.5/modules/generated/sklearn.pipeline.Pipeline.html\">?<span>Documentation for Pipeline</span></a><span class=\"sk-estimator-doc-link fitted\">i<span>Fitted</span></span></label><div class=\"sk-toggleable__content fitted\"><pre>Pipeline(steps=[(&#x27;scalar&#x27;, YearWiseStandardScaler(year_column=&#x27;SEASON_START&#x27;)),\n",
       "                (&#x27;classifier&#x27;,\n",
       "                 AdaBoostClassifier(algorithm=&#x27;SAMME&#x27;,\n",
       "                                    estimator=DecisionTreeClassifier(max_depth=6),\n",
       "                                    learning_rate=0.05, n_estimators=100,\n",
       "                                    random_state=818))])</pre></div> </div></div><div class=\"sk-serial\"><div class=\"sk-item\"><div class=\"sk-estimator fitted sk-toggleable\"><input class=\"sk-toggleable__control sk-hidden--visually\" id=\"sk-estimator-id-2\" type=\"checkbox\" ><label for=\"sk-estimator-id-2\" class=\"sk-toggleable__label fitted sk-toggleable__label-arrow fitted\">YearWiseStandardScaler</label><div class=\"sk-toggleable__content fitted\"><pre>YearWiseStandardScaler(year_column=&#x27;SEASON_START&#x27;)</pre></div> </div></div><div class=\"sk-item sk-dashed-wrapped\"><div class=\"sk-label-container\"><div class=\"sk-label fitted sk-toggleable\"><input class=\"sk-toggleable__control sk-hidden--visually\" id=\"sk-estimator-id-3\" type=\"checkbox\" ><label for=\"sk-estimator-id-3\" class=\"sk-toggleable__label fitted sk-toggleable__label-arrow fitted\">&nbsp;classifier: AdaBoostClassifier<a class=\"sk-estimator-doc-link fitted\" rel=\"noreferrer\" target=\"_blank\" href=\"https://scikit-learn.org/1.5/modules/generated/sklearn.ensemble.AdaBoostClassifier.html\">?<span>Documentation for classifier: AdaBoostClassifier</span></a></label><div class=\"sk-toggleable__content fitted\"><pre>AdaBoostClassifier(algorithm=&#x27;SAMME&#x27;,\n",
       "                   estimator=DecisionTreeClassifier(max_depth=6),\n",
       "                   learning_rate=0.05, n_estimators=100, random_state=818)</pre></div> </div></div><div class=\"sk-parallel\"><div class=\"sk-parallel-item\"><div class=\"sk-item\"><div class=\"sk-label-container\"><div class=\"sk-label fitted sk-toggleable\"><input class=\"sk-toggleable__control sk-hidden--visually\" id=\"sk-estimator-id-4\" type=\"checkbox\" ><label for=\"sk-estimator-id-4\" class=\"sk-toggleable__label fitted sk-toggleable__label-arrow fitted\">estimator: DecisionTreeClassifier</label><div class=\"sk-toggleable__content fitted\"><pre>DecisionTreeClassifier(max_depth=6)</pre></div> </div></div><div class=\"sk-serial\"><div class=\"sk-item\"><div class=\"sk-estimator fitted sk-toggleable\"><input class=\"sk-toggleable__control sk-hidden--visually\" id=\"sk-estimator-id-5\" type=\"checkbox\" ><label for=\"sk-estimator-id-5\" class=\"sk-toggleable__label fitted sk-toggleable__label-arrow fitted\">&nbsp;DecisionTreeClassifier<a class=\"sk-estimator-doc-link fitted\" rel=\"noreferrer\" target=\"_blank\" href=\"https://scikit-learn.org/1.5/modules/generated/sklearn.tree.DecisionTreeClassifier.html\">?<span>Documentation for DecisionTreeClassifier</span></a></label><div class=\"sk-toggleable__content fitted\"><pre>DecisionTreeClassifier(max_depth=6)</pre></div> </div></div></div></div></div></div></div></div></div></div></div>"
      ],
      "text/plain": [
       "Pipeline(steps=[('scalar', YearWiseStandardScaler(year_column='SEASON_START')),\n",
       "                ('classifier',\n",
       "                 AdaBoostClassifier(algorithm='SAMME',\n",
       "                                    estimator=DecisionTreeClassifier(max_depth=6),\n",
       "                                    learning_rate=0.05, n_estimators=100,\n",
       "                                    random_state=818))])"
      ]
     },
     "execution_count": 35,
     "metadata": {},
     "output_type": "execute_result"
    }
   ],
   "source": [
    "X = train_player_data[Xfeatures]\n",
    "y = train_player_data['WAIVED_BY_START_OF_NEXT_SEASON']\n",
    "X_train, X_test, y_train, y_test = train_test_split(X, y, test_size=0.2, random_state=817, stratify = y)\n",
    "ada_clf.fit(X_train, y_train)"
   ]
  },
  {
   "cell_type": "code",
   "execution_count": 36,
   "id": "4f2e0663-a830-4c9b-b467-f415f75fe74a",
   "metadata": {},
   "outputs": [
    {
     "name": "stdout",
     "output_type": "stream",
     "text": [
      "F1 score:  0.4261168384879725\n",
      "Balanced Accuracy:  0.6413258949216345\n"
     ]
    }
   ],
   "source": [
    "y_pred = tree_cfr.predict(X_test)\n",
    "f1score = f1_score(y_test, y_pred)\n",
    "print(\"F1 score: \", f1score)\n",
    "print(\"Balanced Accuracy: \", balanced_accuracy_score(y_test, y_pred))"
   ]
  },
  {
   "cell_type": "code",
   "execution_count": 37,
   "id": "622bd1df-90e6-42ac-8fa3-4dfe742ed0bd",
   "metadata": {},
   "outputs": [
    {
     "name": "stdout",
     "output_type": "stream",
     "text": [
      "Brier Score:  0.0906774177083412\n",
      "Brier Skill Score:  0.12267581275688222\n"
     ]
    }
   ],
   "source": [
    "y_prob = ada_clf.predict_proba(X_test)\n",
    "y_prob = y_prob[:, 1]\n",
    "brier_score = brier_score_loss(y_test, y_prob)\n",
    "print(\"Brier Score: \", brier_score)\n",
    "print(\"Brier Skill Score: \", 1 - brier_score/bbs)"
   ]
  },
  {
   "cell_type": "markdown",
   "id": "f1f47ff6-13dd-47ca-97d9-b8387c858832",
   "metadata": {},
   "source": [
    "## 2. Looking for stronger correlations\n",
    "\n",
    "It appears to be very hard to predict whether or not a player will be waived based on the data we have. Instead we will consider other potential response variables related to player transactions and movement.\n",
    "\n",
    "In the cells below we:\n",
    "- compute the correlations with all numeric columns\n",
    "- print numeric values for correlations with largest magnitudes."
   ]
  },
  {
   "cell_type": "code",
   "execution_count": 38,
   "id": "7c004186-1d22-42e9-9d1f-ee1806235281",
   "metadata": {},
   "outputs": [
    {
     "data": {
      "image/png": "[encoded data removed]",
      "text/plain": [
       "<Figure size 1500x1200 with 2 Axes>"
      ]
     },
     "metadata": {},
     "output_type": "display_data"
    }
   ],
   "source": [
    "# grab all columns\n",
    "all_cols = list(player_data.columns)\n",
    "\n",
    "# grab just the columns with numeric data\n",
    "num_cols = player_data.select_dtypes(include='number').columns.drop('PLAYER_ID')\n",
    "\n",
    "# compute correlations between numeric data columns\n",
    "corr = player_data[num_cols].corr()\n",
    "\n",
    "# plot heatmap\n",
    "plt.figure(figsize=(15,12))\n",
    "sns.heatmap(corr)\n",
    "plt.show()"
   ]
  },
  {
   "cell_type": "markdown",
   "id": "7ee87225-0e36-4d31-a249-53913f299e44",
   "metadata": {},
   "source": [
    "We can see that correlations between statistics and `IN_LEAGUE_NEXT` (whether or not a given player will be in the NBA in the following season) appear to be fairly large.  Let's print the correlations with the largest magnitudes."
   ]
  },
  {
   "cell_type": "code",
   "execution_count": 39,
   "id": "abbb3153-3439-4a6a-8fb4-4e308fcd37a6",
   "metadata": {},
   "outputs": [
    {
     "name": "stdout",
     "output_type": "stream",
     "text": [
      "IN_LEAGUE_NEXT                    1.000000\n",
      "GP                                0.468935\n",
      "MIN                               0.427268\n",
      "WAIVED                            0.368301\n",
      "WAIVED_BY_START_OF_NEXT_SEASON    0.356754\n",
      "WAIVED_REG                        0.351514\n",
      "DWS                               0.341351\n",
      "WS                                0.333532\n",
      "GS                                0.321839\n",
      "OBPM                              0.309042\n",
      "BPM                               0.302171\n",
      "PER                               0.296856\n",
      "OWS                               0.280260\n",
      "WS_48                             0.279315\n",
      "TS_PERCENT                        0.273968\n",
      "Name: IN_LEAGUE_NEXT, dtype: float64\n"
     ]
    }
   ],
   "source": [
    "# print top 15 or so |correlations| with IN_LEAGUE_NEXT in descending order\n",
    "print(abs(corr[\"IN_LEAGUE_NEXT\"]).sort_values(ascending=False)[0:15])"
   ]
  },
  {
   "cell_type": "markdown",
   "id": "dad6eab3-1c29-46a5-a02f-7db4057e0567",
   "metadata": {},
   "source": [
    "We can see that correlations with `IN_LEAGUE_NEXT` get close in magnitude to 0.5.  This is promising, and in the next notebook (`3_ModelSelection.ipynb`) we use this variable as our response variable."
   ]
  },
  {
   "cell_type": "markdown",
   "id": "f71c546b-8470-41b7-ae08-14fdb1ec2984",
   "metadata": {},
   "source": [
    "### Summary\n",
    "\n",
    "Our initial question involved trying to predict NBA player transactions (specifically, if a given player would be waived).  It turned out that the statistics we have are too weakly correlated to waivers in order for us to answer this question with any real confidence.\n",
    "\n",
    "Instead, we will consider `IN_LEAGUE_NEXT` (whether or not a given player will still be in the NBA next season) as our new response variable.  Our central question is then: can we predict whether or not a given player will be _retained in the NBA next season_ given their past/current statistics, salary, and transaction data?\n",
    "\n",
    "We construct and select models to answer this question in the notebook `3_ModelSelection.ipynb`."
   ]
  },
  {
   "cell_type": "code",
   "execution_count": null,
   "id": "deeb38e3-b351-4a8d-ad77-23150aa080b9",
   "metadata": {},
   "outputs": [],
   "source": []
  }
 ],
 "metadata": {
  "kernelspec": {
   "display_name": "Python 3 (ipykernel)",
   "language": "python",
   "name": "python3"
  },
  "language_info": {
   "codemirror_mode": {
    "name": "ipython",
    "version": 3
   },
   "file_extension": ".py",
   "mimetype": "text/x-python",
   "name": "python",
   "nbconvert_exporter": "python",
   "pygments_lexer": "ipython3",
   "version": "3.12.5"
  }
 },
 "nbformat": 4,
 "nbformat_minor": 5
}
