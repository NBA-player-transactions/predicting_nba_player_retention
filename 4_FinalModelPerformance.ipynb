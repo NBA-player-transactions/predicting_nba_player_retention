{
 "cells": [
  {
   "cell_type": "markdown",
   "id": "47c9d817-a78f-43bb-bec7-b6bcdef0fa16",
   "metadata": {},
   "source": [
    "# Final model performance\n",
    "\n",
    "In this notebook we run our best-performing model on the test set to get a final estimate of its performance."
   ]
  },
  {
   "cell_type": "code",
   "execution_count": 1,
   "id": "4a281496-874f-4c74-acb9-3d411a7e59e8",
   "metadata": {},
   "outputs": [],
   "source": [
    "import numpy as np\n",
    "import matplotlib.pyplot as plt\n",
    "import pandas as pd\n",
    "import seaborn as sns"
   ]
  },
  {
   "cell_type": "markdown",
   "id": "bd3d5c19",
   "metadata": {},
   "source": [
    "## Loading the data"
   ]
  },
  {
   "cell_type": "code",
   "execution_count": 2,
   "id": "491c8284",
   "metadata": {},
   "outputs": [],
   "source": [
    "df_train = pd.read_csv('./train_data.csv')\n",
    "df_test = pd.read_csv('./test_data.csv')"
   ]
  },
  {
   "cell_type": "markdown",
   "id": "53a2a737",
   "metadata": {},
   "source": [
    "We will now perform some imputation and scaling. It is important to note that all of the transformations we will perform here will be performed \"within season,\" meaning that the data for a given season is transformed using information from ***only*** that season and no other.\n",
    "\n",
    "In particular, since at the time of prediction we will have access to all of the data for that particular season, there is ***no data leakage*** occurring here."
   ]
  },
  {
   "cell_type": "code",
   "execution_count": 3,
   "id": "1ac51d86",
   "metadata": {},
   "outputs": [],
   "source": [
    "from sklearn.impute import SimpleImputer\n",
    "from sklearn.preprocessing import StandardScaler\n",
    "\n",
    "for df in [df_train, df_test]:\n",
    "    # fill all null stats with 0 (except for SALARY)\n",
    "    null_cols = df.count()[df.count() < len(df)].index.drop('SALARY')\n",
    "    df[null_cols] = df[null_cols].fillna(0)\n",
    "\n",
    "    # use mean imputer for SALARY within each season\n",
    "    df.loc[df['SALARY']==0, 'SALARY'] = None\n",
    "    mean_imputer = SimpleImputer(strategy='mean')\n",
    "    df['SALARY'] = (\n",
    "        df\n",
    "        .groupby('SEASON_START')['SALARY']\n",
    "        .transform(lambda x: mean_imputer.fit_transform(x.values.reshape(-1,1)).ravel())\n",
    "    )\n",
    "\n",
    "    # use standard scaler within each season\n",
    "    cols_to_rescale = df.select_dtypes(include=['float']).columns\n",
    "    scaler = StandardScaler()\n",
    "    df[cols_to_rescale] = (\n",
    "        df\n",
    "        .groupby('SEASON_START')[cols_to_rescale]\n",
    "        .transform(lambda x: scaler.fit_transform(x.values.reshape(-1,1)).ravel())\n",
    "    )"
   ]
  },
  {
   "cell_type": "code",
   "execution_count": 4,
   "id": "1379d2c8",
   "metadata": {},
   "outputs": [
    {
     "name": "stdout",
     "output_type": "stream",
     "text": [
      "Index(['PLAYER_AGE', 'EXPERIENCE', 'GP', 'GS', 'MIN', 'FGM', 'FGA', 'FG_PCT',\n",
      "       'FG3M', 'FG3A', 'FG3_PCT', 'FTM', 'FTA', 'FT_PCT', 'OREB', 'DREB',\n",
      "       'REB', 'AST', 'STL', 'BLK', 'TOV', 'PF', 'PTS', 'PER', 'TS_PERCENT',\n",
      "       'X3P_AR', 'F_TR', 'ORB_PERCENT', 'DRB_PERCENT', 'TRB_PERCENT',\n",
      "       'AST_PERCENT', 'STL_PERCENT', 'BLK_PERCENT', 'TOV_PERCENT',\n",
      "       'USG_PERCENT', 'OWS', 'DWS', 'WS', 'WS_48', 'OBPM', 'DBPM', 'BPM',\n",
      "       'VORP', 'SALARY', 'WAIVED', 'RELEASED', 'TRADED', 'WAIVED_OFF',\n",
      "       'WAIVED_REG', 'WAIVED_POST', 'RELEASED_OFF', 'RELEASED_REG',\n",
      "       'RELEASED_POST', 'TRADED_OFF', 'TRADED_REG', 'TRADED_POST'],\n",
      "      dtype='object')\n"
     ]
    }
   ],
   "source": [
    "# select features\n",
    "features = df_train.select_dtypes(include='number').columns.drop(['PLAYER_ID', 'SEASON_START', 'IN_LEAGUE_NEXT'])\n",
    "print(features)"
   ]
  },
  {
   "cell_type": "markdown",
   "id": "70a4ba40",
   "metadata": {},
   "source": [
    "## Testing model performance"
   ]
  },
  {
   "cell_type": "markdown",
   "id": "0d7b175c",
   "metadata": {},
   "source": [
    "### Performance metrics"
   ]
  },
  {
   "cell_type": "markdown",
   "id": "6bc6c393",
   "metadata": {},
   "source": [
    "We will use the following metrics in our evaluation:\n",
    "\n",
    "* $\\text{Balanced Accuracy} = \\frac{\\text{Recall} + \\text{Specificity}}{2}$\n",
    "\n",
    "* $\\text{Precision} = \\frac{\\text{TP}}{\\text{TP} + \\text{FP}}$\n",
    "\n",
    "* $\\text{Recall} = \\text{Sensitivity} = \\frac{\\text{TP}}{\\text{TP} + \\text{FN}}$\n",
    "\n",
    "* $\\text{Negative Predictive Value (NPV)} = \\frac{\\text{TN}}{\\text{TN} + \\text{FN}}$\n",
    "\n",
    "* $\\text{Specificity} = \\frac{\\text{TN}}{\\text{TN} + \\text{FP}}$"
   ]
  },
  {
   "cell_type": "code",
   "execution_count": 5,
   "id": "0806abe2",
   "metadata": {},
   "outputs": [],
   "source": [
    "from sklearn.metrics import balanced_accuracy_score, precision_score, recall_score\n",
    "from sklearn.metrics import confusion_matrix, ConfusionMatrixDisplay\n",
    "\n",
    "def npv_score(y_true, y_pred):\n",
    "    tn = ((y_pred == 0) & (y_true == 0)).sum()\n",
    "    fn = ((y_pred == 0) & (y_true == 1)).sum()\n",
    "    return tn / (tn + fn) if (tn + fn) > 0 else 0.0\n",
    "\n",
    "def specificity_score(y_true, y_pred):\n",
    "    tn = ((y_pred == 0) & (y_true == 0)).sum()\n",
    "    fp = ((y_pred == 1) & (y_true == 0)).sum()\n",
    "    return tn / (tn + fp) if (tn + fp) > 0 else 0.0"
   ]
  },
  {
   "cell_type": "markdown",
   "id": "51124433",
   "metadata": {},
   "source": [
    "### Walk-forward testing"
   ]
  },
  {
   "cell_type": "markdown",
   "id": "0b34d67d",
   "metadata": {},
   "source": [
    "In order to get the most realistic estimate of our model performance, we will perform walk-forward testing. The idea is as follows:\n",
    "\n",
    "0. **Initialize datasets**: Begin with training set `df_train` (seasons 1990-91 through 2016-17) and test set `df_test[df_test['SEASON_START']==2017]` (season 2017-18).\n",
    "\n",
    "1. **Train the model**: Fit the model using the current training set.\n",
    "\n",
    "2. **Evaluate performance**: Use the model to predict outcomes for the current test set and compute performance metrics.\n",
    "\n",
    "3. **Itereate**: Expand the training set to include the current test set, replace the test set with data from the next season, and repeat from Step 1 until no future data is available.\n",
    "\n",
    "See the following table for explicit details.\n",
    "\n",
    "| Iteration | Training set start seasons | Test set start season |\n",
    "| ---       | ---                        | ---                   |\n",
    "| 1         | 1990 - 2016                | 2017                  |\n",
    "| 2         | 1990 - 2017                | 2018                  |\n",
    "| 3         | 1990 - 2018                | 2019                  |\n",
    "| 4         | 1990 - 2019                | 2020                  |\n",
    "| 5         | 1990 - 2020                | 2021                  |\n",
    "| 6         | 1990 - 2021                | 2022                  |"
   ]
  },
  {
   "cell_type": "markdown",
   "id": "f93fc5ba",
   "metadata": {},
   "source": [
    "We will write a function `test_model_performance` to implement this walk-forward testing for a given model."
   ]
  },
  {
   "cell_type": "code",
   "execution_count": 6,
   "id": "98687e1b",
   "metadata": {},
   "outputs": [],
   "source": [
    "def test_model_performance(model):\n",
    "    \"\"\"\n",
    "    Given a model, computes and prints the following metrics for each test split:\n",
    "    balanced accuracy, precision, recall, negative predictive value, and specificity.\n",
    "    Also prints the average of each of these metrics across the test splits and displays\n",
    "    the sum of the confusion matrices.\n",
    "    \"\"\"\n",
    "\n",
    "    bal_accuracy = []\n",
    "    precision = []\n",
    "    recall = []\n",
    "    npv = []\n",
    "    specificity = []\n",
    "    cm = []\n",
    "\n",
    "    print(f\"{'Test Year':<12} {'Bal. Acc.':<12} {'Precision':<12} {'Recall':<12} {'NPV':<12} {'Specificity':<12}\")\n",
    "    print(\"-\" * 76)\n",
    "\n",
    "    for test_year in range(2017, 2023):\n",
    "        X_train = pd.concat([df_train[features],\n",
    "                             df_test.loc[df_test['SEASON_START'] < test_year, features]])\n",
    "        y_train = pd.concat([df_train['IN_LEAGUE_NEXT'],\n",
    "                             df_test.loc[df_test['SEASON_START'] < test_year, 'IN_LEAGUE_NEXT']])\n",
    "        X_test = df_test.loc[df_test['SEASON_START'] == test_year, features]\n",
    "        y_test = df_test.loc[df_test['SEASON_START'] == test_year, 'IN_LEAGUE_NEXT']\n",
    "\n",
    "        # fit the model and get predictions\n",
    "        model.fit(X_train, y_train)\n",
    "        y_pred = model.predict(X_test)\n",
    "\n",
    "        # get confusion matrix\n",
    "        conf = confusion_matrix(y_test, y_pred)\n",
    "\n",
    "        # save and print metrics\n",
    "        bal_accuracy.append(balanced_accuracy_score(y_test, y_pred))\n",
    "        precision.append(precision_score(y_test, y_pred))\n",
    "        recall.append(recall_score(y_test, y_pred))\n",
    "        npv.append(npv_score(y_test, y_pred))\n",
    "        specificity.append(specificity_score(y_test, y_pred))\n",
    "        cm.append(conf)\n",
    "\n",
    "        print(f\"{test_year:<12} \"\n",
    "              f\"{balanced_accuracy_score(y_test, y_pred):<12.4f} \"\n",
    "              f\"{precision_score(y_test, y_pred):<12.4f} \"\n",
    "              f\"{recall_score(y_test, y_pred):<12.4f} \"\n",
    "              f\"{npv_score(y_test, y_pred):<12.4f} \"\n",
    "              f\"{specificity_score(y_test, y_pred):<12.4f}\")\n",
    "\n",
    "    # print averages of metrics\n",
    "    print('-' * 76)\n",
    "    print(f\"{'Avg.':<12} \"\n",
    "              f\"{np.mean(bal_accuracy):<12.4f} \"\n",
    "              f\"{np.mean(precision):<12.4f} \"\n",
    "              f\"{np.mean(recall):<12.4f} \"\n",
    "              f\"{np.mean(npv):<12.4f} \"\n",
    "              f\"{np.mean(specificity):<12.4f}\")\n",
    "\n",
    "    # display total confusion matrix\n",
    "    ConfusionMatrixDisplay(confusion_matrix=sum(cm)).plot()\n",
    "    plt.title('Total confusion matrix')\n",
    "    plt.show()"
   ]
  },
  {
   "cell_type": "markdown",
   "id": "cc9ad93b",
   "metadata": {},
   "source": [
    "### Baseline model"
   ]
  },
  {
   "cell_type": "markdown",
   "id": "53ad9167",
   "metadata": {},
   "source": [
    "As a baseline model, we will consider the classifier which always predicts the majority class, which in this case is 1 (in other words it, always predicts that a player will return to the NBA the folowing year). This model should have a recall of 1 and a specificity of 0, therefore we should expect to see a balanced accuracy of 0.5."
   ]
  },
  {
   "cell_type": "code",
   "execution_count": 7,
   "id": "50578512",
   "metadata": {},
   "outputs": [
    {
     "name": "stdout",
     "output_type": "stream",
     "text": [
      "Test Year    Bal. Acc.    Precision    Recall       NPV          Specificity \n",
      "----------------------------------------------------------------------------\n",
      "2017         0.5000       0.7630       1.0000       0.0000       0.0000      \n",
      "2018         0.5000       0.7547       1.0000       0.0000       0.0000      \n",
      "2019         0.5000       0.8223       1.0000       0.0000       0.0000      \n",
      "2020         0.5000       0.8333       1.0000       0.0000       0.0000      \n",
      "2021         0.5000       0.7157       1.0000       0.0000       0.0000      \n",
      "2022         0.5000       0.8364       1.0000       0.0000       0.0000      \n",
      "----------------------------------------------------------------------------\n",
      "Avg.         0.5000       0.7876       1.0000       0.0000       0.0000      \n"
     ]
    },
    {
     "data": {
      "image/png": "[encoded data removed]",
      "text/plain": [
       "<Figure size 640x480 with 2 Axes>"
      ]
     },
     "metadata": {},
     "output_type": "display_data"
    }
   ],
   "source": [
    "from sklearn.dummy import DummyClassifier\n",
    "\n",
    "baseline_model = DummyClassifier(strategy='most_frequent')\n",
    "\n",
    "test_model_performance(baseline_model)"
   ]
  },
  {
   "cell_type": "markdown",
   "id": "d0de34dd",
   "metadata": {},
   "source": [
    "### Final model: XGBoost with SMOTE"
   ]
  },
  {
   "cell_type": "markdown",
   "id": "6f5a41bc",
   "metadata": {},
   "source": [
    "In `3_ModelSelection.ipynb`, we used walk-forward validation to select an XGBoost Classifier (`n_estimators=400` and `learning_rate=0.005`) together with the Synthetic Minority Oversampling Technique (SMOTE) as our final model."
   ]
  },
  {
   "cell_type": "code",
   "execution_count": 8,
   "id": "07b2a8a5",
   "metadata": {},
   "outputs": [
    {
     "name": "stdout",
     "output_type": "stream",
     "text": [
      "Test Year    Bal. Acc.    Precision    Recall       NPV          Specificity \n",
      "----------------------------------------------------------------------------\n",
      "2017         0.8071       0.9453       0.7549       0.5213       0.8594      \n",
      "2018         0.8013       0.9251       0.8025       0.5683       0.8000      \n",
      "2019         0.8007       0.9566       0.7609       0.4317       0.8404      \n",
      "2020         0.8000       0.9583       0.7667       0.4167       0.8333      \n",
      "2021         0.8424       0.9330       0.8360       0.6728       0.8488      \n",
      "2022         0.7926       0.9577       0.7556       0.3989       0.8295      \n",
      "----------------------------------------------------------------------------\n",
      "Avg.         0.8073       0.9460       0.7794       0.5016       0.8353      \n"
     ]
    },
    {
     "data": {
      "image/png": "[encoded data removed]",
      "text/plain": [
       "<Figure size 640x480 with 2 Axes>"
      ]
     },
     "metadata": {},
     "output_type": "display_data"
    }
   ],
   "source": [
    "from imblearn.pipeline import Pipeline\n",
    "from imblearn.over_sampling import SMOTE\n",
    "from xgboost import XGBClassifier\n",
    "\n",
    "final_model = Pipeline([('smote', SMOTE()), ('xgb', XGBClassifier(n_estimators=400, learning_rate=0.005))])\n",
    "\n",
    "test_model_performance(final_model)"
   ]
  },
  {
   "cell_type": "markdown",
   "id": "5b8f45df-2afa-4490-a663-974879f47f3d",
   "metadata": {},
   "source": [
    "## Conclusions"
   ]
  },
  {
   "cell_type": "markdown",
   "id": "1720a18d",
   "metadata": {},
   "source": [
    "**TODO:** write up conclusions, make nice figures, etc."
   ]
  },
  {
   "cell_type": "code",
   "execution_count": null,
   "id": "2c7c59c0-4374-4e1e-97e4-c53fba94a7e4",
   "metadata": {},
   "outputs": [],
   "source": []
  }
 ],
 "metadata": {
  "kernelspec": {
   "display_name": "Python 3 (ipykernel)",
   "language": "python",
   "name": "python3"
  },
  "language_info": {
   "codemirror_mode": {
    "name": "ipython",
    "version": 3
   },
   "file_extension": ".py",
   "mimetype": "text/x-python",
   "name": "python",
   "nbconvert_exporter": "python",
   "pygments_lexer": "ipython3",
   "version": "3.12.5"
  }
 },
 "nbformat": 4,
 "nbformat_minor": 5
}
