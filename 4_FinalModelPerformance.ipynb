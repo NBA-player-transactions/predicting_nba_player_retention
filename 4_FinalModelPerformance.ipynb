{
 "cells": [
  {
   "cell_type": "markdown",
   "id": "47c9d817-a78f-43bb-bec7-b6bcdef0fa16",
   "metadata": {},
   "source": [
    "# Final model performance\n",
    "\n",
    "In this notebook we run our best-performing model on the test set to get a final estimate of its performance."
   ]
  },
  {
   "cell_type": "code",
   "execution_count": 1,
   "id": "4a281496-874f-4c74-acb9-3d411a7e59e8",
   "metadata": {},
   "outputs": [],
   "source": [
    "import numpy as np\n",
    "import matplotlib.pyplot as plt\n",
    "import pandas as pd\n",
    "import seaborn as sns"
   ]
  },
  {
   "cell_type": "markdown",
   "id": "17af69c8-e5a8-46fa-a454-df6e4adadd91",
   "metadata": {},
   "source": [
    "## Build and train the model\n",
    "\n",
    "Here we:\n",
    "- load the training data (don't forget to normalize stats by season!)\n",
    "- train the model which was selected in `3_ModelSelection.ipynb`\n",
    "- compute its performance on the full training set."
   ]
  },
  {
   "cell_type": "code",
   "execution_count": null,
   "id": "0942c283-b998-4e99-a049-8130b0317acc",
   "metadata": {},
   "outputs": [],
   "source": [
    "#do that stuff here"
   ]
  },
  {
   "cell_type": "markdown",
   "id": "026be624-1052-4fb3-93ac-5f0c728febf7",
   "metadata": {},
   "source": [
    "## Run model on the test set\n",
    "\n",
    "Here we evaluate the model on the test set to estimate its performance on real-world unseen data.\n",
    "\n",
    "**NOTE: don't forget to normalize the test set data season-by-season!**\n",
    "\n",
    "_Note from Collin: \"I’m thinking that in order to make it clear that there is no data leakage, when can do something like the following when evaluating on the test set: (1) fit our model to the training set (this includes doing the scaling), (2) scale the data in the test set which consists of a single season (clearly no data leakage here), (3) use our model to make predictions on the test set.\"_"
   ]
  },
  {
   "cell_type": "code",
   "execution_count": null,
   "id": "03fc424f-5b41-4e46-af7c-50ad185c9e9b",
   "metadata": {},
   "outputs": [],
   "source": [
    "#do that here"
   ]
  },
  {
   "cell_type": "markdown",
   "id": "5b8f45df-2afa-4490-a663-974879f47f3d",
   "metadata": {},
   "source": [
    "## Conclusions\n",
    "\n",
    "**TODO** write up conclusions, make nice figures, etc."
   ]
  },
  {
   "cell_type": "code",
   "execution_count": null,
   "id": "2c7c59c0-4374-4e1e-97e4-c53fba94a7e4",
   "metadata": {},
   "outputs": [],
   "source": []
  }
 ],
 "metadata": {
  "kernelspec": {
   "display_name": "Python 3 (ipykernel)",
   "language": "python",
   "name": "python3"
  },
  "language_info": {
   "codemirror_mode": {
    "name": "ipython",
    "version": 3
   },
   "file_extension": ".py",
   "mimetype": "text/x-python",
   "name": "python",
   "nbconvert_exporter": "python",
   "pygments_lexer": "ipython3",
   "version": "3.12.5"
  }
 },
 "nbformat": 4,
 "nbformat_minor": 5
}
