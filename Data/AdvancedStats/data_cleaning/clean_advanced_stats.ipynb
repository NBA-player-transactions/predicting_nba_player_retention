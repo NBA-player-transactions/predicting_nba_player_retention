{
 "cells": [
  {
   "cell_type": "markdown",
   "metadata": {},
   "source": [
    "# Cleaning Advanced Stats\n",
    "\n",
    "In this notebook, we:\n",
    "\n",
    "- input the file `data_collection/Advanced.csv`,\n",
    "- clean it in preparation for merging with the other relevant data,\n",
    "- output a cleaned csv, advanced_stats.csv."
   ]
  },
  {
   "cell_type": "code",
   "execution_count": 1,
   "metadata": {},
   "outputs": [],
   "source": [
    "import pandas as pd\n",
    "from unidecode import unidecode"
   ]
  },
  {
   "cell_type": "code",
   "execution_count": 2,
   "metadata": {},
   "outputs": [],
   "source": [
    "# Change pandas option to display all columns of dataframes.\n",
    "pd.set_option('Display.max_columns', None)"
   ]
  },
  {
   "cell_type": "code",
   "execution_count": 3,
   "metadata": {},
   "outputs": [],
   "source": [
    "# Load csv files as pandas dataframe.\n",
    "advanced_stats = pd.read_csv('../data_collection/Advanced.csv')"
   ]
  },
  {
   "cell_type": "code",
   "execution_count": 4,
   "metadata": {},
   "outputs": [],
   "source": [
    "# Delete rows where lg = BAA or ABA.\n",
    "advanced_stats = advanced_stats.drop(advanced_stats[advanced_stats['lg'] != 'NBA'].index)"
   ]
  },
  {
   "cell_type": "code",
   "execution_count": 5,
   "metadata": {},
   "outputs": [],
   "source": [
    "# Renaming 'season' column to 'SEASON_START' and switching to convention\n",
    "# that SEASON_START is the year in which the corresponding NBA season started,\n",
    "# e.g. the 2022-2023 season should have 2022 as SEASON_START. Previously,\n",
    "# the 'season' column listed the year that the season ended, e.g. the\n",
    "# 2022-2023 season was listed as 2023.\n",
    "advanced_stats.rename(columns={'season': 'SEASON_START'}, inplace=True)\n",
    "\n",
    "def subtractOne(n):\n",
    "    return n-1\n",
    "\n",
    "advanced_stats['SEASON_START']=advanced_stats['SEASON_START'].apply(subtractOne)"
   ]
  },
  {
   "cell_type": "markdown",
   "metadata": {},
   "source": [
    "Next, we create a new column 'PLAYER_ID' (not to be confused with 'player_id')\n",
    "which holds the NBA API player ID.\n"
   ]
  },
  {
   "cell_type": "code",
   "execution_count": 6,
   "metadata": {},
   "outputs": [],
   "source": [
    "player_id_season = pd.read_csv('../../PlayerIdentification/player_id_season.csv')\n",
    "nonunique_player_id_season_pairs = pd.read_csv(\n",
    "    '../../PlayerIdentification/nonunique_player_id_season_pairs.csv')"
   ]
  },
  {
   "cell_type": "code",
   "execution_count": null,
   "metadata": {},
   "outputs": [],
   "source": [
    "def id_lookup(season_start, name):\n",
    "    name = unidecode(name)\n",
    "    if ((nonunique_player_id_season_pairs['SEASON_START'] == season_start) & (nonunique_player_id_season_pairs['NAME'] == name)).any():\n",
    "        return 'player season pair not unique'\n",
    "    elif ((player_id_season['SEASON_START'] == season_start) & (player_id_season['NAME'] == name)).any():\n",
    "        return player_id_season[(player_id_season['SEASON_START'] == season_start) & (player_id_season['NAME'] == name)].iat[0,0]\n",
    "    else:\n",
    "        return 'no name season pair found'"
   ]
  },
  {
   "cell_type": "code",
   "execution_count": 8,
   "metadata": {},
   "outputs": [],
   "source": [
    "advanced_stats['PLAYER_ID'] = advanced_stats.apply(lambda x: id_lookup(x.SEASON_START, x.player), axis=1)"
   ]
  },
  {
   "cell_type": "markdown",
   "metadata": {},
   "source": [
    "Moving player ID column to front of dataframe. "
   ]
  },
  {
   "cell_type": "code",
   "execution_count": 9,
   "metadata": {},
   "outputs": [],
   "source": [
    "columns = advanced_stats.columns.values.tolist()\n",
    "columns.remove('PLAYER_ID')\n",
    "columns.insert(0, 'PLAYER_ID')"
   ]
  },
  {
   "cell_type": "code",
   "execution_count": 10,
   "metadata": {},
   "outputs": [],
   "source": [
    "advanced_stats = advanced_stats[columns]"
   ]
  },
  {
   "cell_type": "markdown",
   "metadata": {},
   "source": [
    "Fixing PLAYER_IDs listed as 'no name season pair found' by manually mapping \n",
    "the correct ID to these players. "
   ]
  },
  {
   "cell_type": "code",
   "execution_count": 11,
   "metadata": {},
   "outputs": [],
   "source": [
    "id_map = {'A.J. Green' : 1631260,\n",
    " 'A.J. Hammons' : 1627773,\n",
    " 'A.J. Lawson': 1630639,\n",
    " 'A.J. Price' : 201985,\n",
    " 'A.W. Holt' : 77046,\n",
    " 'Al Attles' : 76070,\n",
    " 'Alfred McGuire' : 77536,\n",
    " 'Andrew White' : 1628510,\n",
    " 'Art Williams' : 78539,\n",
    " 'B.J. Johnson' : 1629168,\n",
    " 'Barry Clemens' : 76403,\n",
    " 'Bevo Nordmann' : 77727,\n",
    " 'Bill Gabor' : 76768,\n",
    " 'Bill Hosket' : 77061,\n",
    " 'Billy Kenville' : 77247,\n",
    " 'Billy Ray Bates' : 76121,\n",
    " 'Bird Averitt' : 76076,\n",
    " 'Blackie Towery' : 78363,\n",
    " 'Zach Norvell' : 1629668,\n",
    " 'Zeke Zawoluk' : 78639,\n",
    " 'Bob Schafer' : 78072,\n",
    " 'Bones McKinney' : 77546,\n",
    " 'Xavier Tillman Sr.' : 1630214,\n",
    " 'World B. Free' : 76753,\n",
    " \"Boniface N'Dong\" : 101238,\n",
    " \"Boo Ellis\" : 76658,\n",
    " \"Brian Bowen\" : 1628968,\n",
    " \"Whitey Bell\" : 76143,\n",
    " \"Whitey Martin\" : 77479,\n",
    " \"William Smith\" : 78207,\n",
    " \"Wayne Engelstad\" : 76671,\n",
    " \"Wang Zhizhi\" : 1917,\n",
    " \"Wah Wah Jones\" : 77199,\n",
    " \"Walt Budko\" : 76298,\n",
    " \"Bubba Wilson\" : 78587,\n",
    " \"Bubbles Hawkins\" : 76975,\n",
    " \"Bucky Bockhorn\" : 76191,\n",
    " \"Vince Hunter\" : 1626205,\n",
    " \"Vítor Luiz Faverani\" : 203543,\n",
    " \"Wade Baldwin\" : 1627735,\n",
    " \"Vince Edwards\" : 1629053,\n",
    " \"Tommy Kron\" : 77313,\n",
    " \"Tommie Green\" : 76879,\n",
    " \"Bud Acton\" : 76010,\n",
    " \"Bucky McConnell\" : 77514,\n",
    " \"Tom Sanders\" : 78060,\n",
    " \"Bud Ogden\" : 77747,\n",
    " \"Bud Olsen\" : 77765,\n",
    " \"Tiny Archibald\" : 76054,\n",
    " \"Tom Patterson\" : 77813,\n",
    " \"Ticky Burden\" : 76303,\n",
    " \"Tex Ritter\" : 77968,\n",
    " \"Ted McClain\" : 77510,\n",
    " \"Bud Stallworth\" : 78239,\n",
    " \"Butch van Breda Kolff\" : 78401,\n",
    " \"C.J. Kupec\" : 77325,\n",
    " \"Steve Smith\" : 120,\n",
    " \"C.J. Miles\" : 101139,\n",
    " \"Steve Bardo\" : 76097,\n",
    " \"Swede Halbrook\" : 76919,\n",
    " \"Tal Skinner\" : 78168,\n",
    " \"Stanislav Medvedenko\" : 2098,\n",
    " \"Cameron Reynolds\" : 1629244,\n",
    " \"Charles Davis\" : 76518,\n",
    " \"Slick Leonard\" : 77371,\n",
    " \"Sonny Dove\" : 76592,\n",
    " \"Sonny Hertzberg\" : 77011,\n",
    " \"Charles Johnson\" : 77133,\n",
    " \"Sam Williams\" : 78569,\n",
    " \"Skippy Whitaker\" : 78506,\n",
    " \"Russ Lee\" : 77365,\n",
    " \"Sam Smith\" : 78205,\n",
    " \"Charles Pittman\" : 77864,\n",
    " \"Ronald Murray\" : 2436,\n",
    " \"Ronnie Valentine\" : 78396,\n",
    " \"Roy Hamilton\" : 76928,\n",
    " \"Ron Grandison\" : 97,\n",
    " \"Charley Shipp\" : 78653,\n",
    " \"Charlie Lowery\" : 77416,\n",
    " \"Roger Mason\" : 2427,\n",
    " \"Robert Williams\" : 1629057,\n",
    " \"Cheese Johnson\" : 77159,\n",
    " \"Chick Halbert\" : 76918,\n",
    " \"Richie Niemiera\" : 77717,\n",
    " \"Ricky Marsh\" : 77465,\n",
    " \"Rob Lock\" : 77398,\n",
    " \"Rob Rose\" : 78016,\n",
    " \"Robert Hahn\" : 76914,\n",
    " \"Rich Eichhorst\" : 76651,\n",
    " \"Rich Manning\" : 316,\n",
    " \"Chick Reiser\" : 77938,\n",
    " \"Chico Vaughn\" : 78409,\n",
    " \"Reggie Bullock\" : 203493,\n",
    " \"Chink Crossin\" : 76479,\n",
    " \"Chips Sobek\" : 78214,\n",
    " \"Red Owens\" : 77783,\n",
    " \"Chubby Cox\": 76463,\n",
    " \"Chuck Share\" : 78125,\n",
    " \"Red Kerr\" : 77248,\n",
    " \"Red Morrison\" : 77648,\n",
    " \"Clarence Weatherspoon\" : 221,\n",
    " \"Ralph O'Brien\" : 77743,\n",
    " \"Red Davis\" : 76524,\n",
    " \"Cliff Robinson\" : 77986,\n",
    " \"Ralph Johnson\" : 77139,\n",
    " \"Corky Devlin\" : 76561,\n",
    " \"Pickles Kennedy\" : 77245,\n",
    " \"R.J. Hunter\" : 1626154,\n",
    " \"Cotton Nash\" : 77687,\n",
    " \"Pete Verhoeven\" : 78414,\n",
    " \"Curly Armstrong\" : 76060,\n",
    " \"Pep Saul\" : 78063,\n",
    " \"Perry Jones\" : 203103,\n",
    " \"Pete Darcey\" : 76506,\n",
    " \"D.J. Carton\" : 1630618,\n",
    " \"D.J. Mbenga\" : 2788,\n",
    " \"Paul Hoffman\" : 77036,\n",
    " \"Pearl Washington\" : 78465,\n",
    " \"D.J. Stephens\" : 203474,\n",
    " \"Normie Glick\" : 76823,\n",
    " \"P.J. Hairston\" : 203798,\n",
    " \"D.J. Strawberry\" : 201199,\n",
    " \"D.J. White\" : 201591,\n",
    " \"Monk Meineke\" : 77573,\n",
    " \"Norm Richardson\" : 2369,\n",
    " \"Dan Anderson\" : 76036,\n",
    " \"Mo Layton\" : 77350,\n",
    " \"Mo Mahoney\" : 77444,\n",
    " \"Moe Barr\" : 76113,\n",
    " \"Danny Schayes\": 7,\n",
    " \"Mike Todorovich\" : 78346,\n",
    " \"Mitch Creek\" : 1628249,\n",
    " \"Dave Britton\" : 76261,\n",
    " \"Dave Greenwood\" : 76881,\n",
    " \"Mike Kearns\" : 77230,\n",
    " \"Mike Sweetney\" : 2552,\n",
    " \"DeWayne Scales\" : 78068,\n",
    " \"Mickey Davis\" : 76522,\n",
    " \"Mike Davis\" : 76530,\n",
    " \"Derrick Walton\" : 1628476,\n",
    " \"Michael Wilson\" : 78581,\n",
    " \"Dick Atha\" : 76069,\n",
    " \"Melvin Turpin\" : 78386,\n",
    " \"Michael Frazier\" : 1626187,\n",
    " \"Michael Phelps\" : 77852,\n",
    " \"Dick Garrett\" : 76788,\n",
    " \"Med Park\" : 77799,\n",
    " \"Melvin Frazier\" : 1628982,\n",
    " \"Dike Eddleman\" : 76636,\n",
    " \"McCoy McLemore\" : 77548,\n",
    " \"McKinley Singleton\" : 78162,\n",
    " \"Don Ackerman\" : 76008,\n",
    " \"Duck Williams\" : 78545,\n",
    " \"Maurice King\" : 77272,\n",
    " \"Maurice Martin\" : 77476,\n",
    " \"McCoy Ingram\" : 77095,\n",
    " \"Dwight Davis\" : 76521,\n",
    " \"Marcus Morris\" : 202694,\n",
    " \"Matt Williams\" : 1628475,\n",
    " \"Matthew Hurt\" : 1630562,\n",
    " \"Earnie Killum\" : 77257,\n",
    " \"Easy Parham\" : 77797,\n",
    " \"Mamadou N'Diaye\" : 2055,\n",
    " \"Manny Leaks\" : 77351,\n",
    " \"Ed Sherod\" : 78136,\n",
    " \"Eddie Lee Wilkins\" : 78534,\n",
    " \"Luther Rackley\" : 77894,\n",
    " \"M.J. Walker\" : 1630640,\n",
    " \"Makhtar N'Diaye\" : 1823,\n",
    " \"Edmund Lawrence\" : 77348,\n",
    " \"Elmer Gainer\" : 76769,\n",
    " \"Em Bryant\" : 76289,\n",
    " \"Luke Jackson\" : 77103,\n",
    " \"Fat Lever\" : 77376,\n",
    " \"Larry Hennessy\" : 76998,\n",
    " \"Logan Vander Velden\" : 78403,\n",
    " \"Louie Dampier\" : 76499,\n",
    " \"Eugene Jeter\" : 200817,\n",
    " \"Fatty Taylor\" : 78302,\n",
    " \"Frankie Brian\" : 76250,\n",
    " \"LaBradford Smith\" : 78194,\n",
    " \"LaRue Martin\" : 77475,\n",
    " \"Fred Scolari\" : 78094,\n",
    " \"Kleggie Hermsen\" : 77007,\n",
    " \"Freddie Boyd\" : 76222,\n",
    " \"Kevin Knox\" : 1628995,\n",
    " \"Kiwane Lemorris Garris\" : 1619,\n",
    " \"Freddie Lewis\" : 77379,\n",
    " \"Gar Heard\" : 76985,\n",
    " \"Kenny Sears\" : 78106,\n",
    " \"Kenton Edelin\" : 76637,\n",
    " \"Kenyon Martin Jr.\" : 1630231,\n",
    " \"Geoff Crompton\" : 76474,\n",
    " \"K.J. McDaniels\" : 203909,\n",
    " \"George Bon Salle\" : 76203,\n",
    " \"Glen Rice Jr.\" : 203318,\n",
    " \"Goo Kennedy\" : 77243,\n",
    " \"Ha Seung-Jin\" : 2775,\n",
    " \"Johnny O'Bryant\" : 203948,\n",
    " \"Hamady N'Diaye\" : 202380,\n",
    " \"Harry Giles\" : 1628385,\n",
    " \"John Warren\" : 78461,\n",
    " \"Johnny Austin\" : 76073,\n",
    " \"Hawkeye Whitney\" : 78519,\n",
    " \"Hook Dillon\" : 76571,\n",
    " \"Hoot Gibson\" : 76811,\n",
    " \"John Butler\" : 1631219,\n",
    " \"John Logan\" : 77403,\n",
    " \"John Oldham\" : 77758,\n",
    " \"Hot Rod Hundley\" : 77082,\n",
    " \"Joe Hassett\" : 76966,\n",
    " \"Hutch Jones\" : 77203,\n",
    " \"Ibo Kutluay\" : 2825,\n",
    " \"Ike Borsavage\" : 76209,\n",
    " \"Isaac Austin\" : 1134,\n",
    " \"Jo Jo White\" : 78510,\n",
    " \"Isaac Fontaine\" : 1829,\n",
    " \"Isaac Walthour\" : 78448,\n",
    " \"J.J. Anderson\" : 76043,\n",
    " \"Jeff Taylor\" : 203106,\n",
    " \"Jermaine Samuels\" : 1631257,\n",
    " \"Jo Jo English\" : 76676,\n",
    " \"J.J. Hickson\" : 201581,\n",
    " \"Jeff Dowtin\" : 1630288,\n",
    " \"J.J. O'Brien\" : 1626266,\n",
    " \"J.J. Redick\" : 200755,\n",
    " \"J.R. Smith\" : 2747,\n",
    " \"James Ray\" : 77920,\n",
    " \"Jan van Breda Kolff\" : 78400,\n",
    " \"Jeenathan Williams\" : 1631466,\n",
    " \"Charles Jones\" : 1869\n",
    " }"
   ]
  },
  {
   "cell_type": "code",
   "execution_count": 12,
   "metadata": {},
   "outputs": [],
   "source": [
    "for i in id_map:\n",
    "    advanced_stats.loc[(advanced_stats['player'] == i) & (advanced_stats['PLAYER_ID'] == 'no name season pair found'), 'PLAYER_ID'] = id_map[i]"
   ]
  },
  {
   "cell_type": "markdown",
   "metadata": {},
   "source": [
    "Drop Bobby Watson and Mal McMullen because there names have no associated ID. "
   ]
  },
  {
   "cell_type": "code",
   "execution_count": 13,
   "metadata": {},
   "outputs": [],
   "source": [
    "advanced_stats = advanced_stats[advanced_stats['player'] != 'Bobby Watson']\n",
    "advanced_stats = advanced_stats[advanced_stats['player'] != 'Mal McMullen']"
   ]
  },
  {
   "cell_type": "markdown",
   "metadata": {},
   "source": [
    "Check that all PLAYER_IDs listed as 'no name season pair found' have been\n",
    "fixed. "
   ]
  },
  {
   "cell_type": "code",
   "execution_count": 14,
   "metadata": {},
   "outputs": [
    {
     "data": {
      "text/html": [
       "<div>\n",
       "<style scoped>\n",
       "    .dataframe tbody tr th:only-of-type {\n",
       "        vertical-align: middle;\n",
       "    }\n",
       "\n",
       "    .dataframe tbody tr th {\n",
       "        vertical-align: top;\n",
       "    }\n",
       "\n",
       "    .dataframe thead th {\n",
       "        text-align: right;\n",
       "    }\n",
       "</style>\n",
       "<table border=\"1\" class=\"dataframe\">\n",
       "  <thead>\n",
       "    <tr style=\"text-align: right;\">\n",
       "      <th></th>\n",
       "      <th>PLAYER_ID</th>\n",
       "      <th>seas_id</th>\n",
       "      <th>SEASON_START</th>\n",
       "      <th>player_id</th>\n",
       "      <th>player</th>\n",
       "      <th>birth_year</th>\n",
       "      <th>pos</th>\n",
       "      <th>age</th>\n",
       "      <th>experience</th>\n",
       "      <th>lg</th>\n",
       "      <th>tm</th>\n",
       "      <th>g</th>\n",
       "      <th>mp</th>\n",
       "      <th>per</th>\n",
       "      <th>ts_percent</th>\n",
       "      <th>x3p_ar</th>\n",
       "      <th>f_tr</th>\n",
       "      <th>orb_percent</th>\n",
       "      <th>drb_percent</th>\n",
       "      <th>trb_percent</th>\n",
       "      <th>ast_percent</th>\n",
       "      <th>stl_percent</th>\n",
       "      <th>blk_percent</th>\n",
       "      <th>tov_percent</th>\n",
       "      <th>usg_percent</th>\n",
       "      <th>ows</th>\n",
       "      <th>dws</th>\n",
       "      <th>ws</th>\n",
       "      <th>ws_48</th>\n",
       "      <th>obpm</th>\n",
       "      <th>dbpm</th>\n",
       "      <th>bpm</th>\n",
       "      <th>vorp</th>\n",
       "    </tr>\n",
       "  </thead>\n",
       "  <tbody>\n",
       "  </tbody>\n",
       "</table>\n",
       "</div>"
      ],
      "text/plain": [
       "Empty DataFrame\n",
       "Columns: [PLAYER_ID, seas_id, SEASON_START, player_id, player, birth_year, pos, age, experience, lg, tm, g, mp, per, ts_percent, x3p_ar, f_tr, orb_percent, drb_percent, trb_percent, ast_percent, stl_percent, blk_percent, tov_percent, usg_percent, ows, dws, ws, ws_48, obpm, dbpm, bpm, vorp]\n",
       "Index: []"
      ]
     },
     "execution_count": 14,
     "metadata": {},
     "output_type": "execute_result"
    }
   ],
   "source": [
    "advanced_stats[advanced_stats['PLAYER_ID'] == 'no name season pair found']"
   ]
  },
  {
   "cell_type": "markdown",
   "metadata": {},
   "source": [
    "Fixing PLAYER_IDs listed as 'player season_pair not unique' manually. "
   ]
  },
  {
   "cell_type": "code",
   "execution_count": 15,
   "metadata": {},
   "outputs": [],
   "source": [
    "advanced_stats.loc[(advanced_stats['player'] == \"Charles Jones\") & (advanced_stats['player_id'] == 2109), 'PLAYER_ID'] = 279\n",
    "advanced_stats.loc[(advanced_stats['player'] == \"Charles Jones\") & (advanced_stats['player_id'] == 2163), 'PLAYER_ID'] = 77178"
   ]
  },
  {
   "cell_type": "code",
   "execution_count": 16,
   "metadata": {},
   "outputs": [],
   "source": [
    "advanced_stats.loc[(advanced_stats['player'] == \"George Johnson\") & (advanced_stats['player_id'] == 1804), 'PLAYER_ID'] = 77148\n",
    "advanced_stats.loc[(advanced_stats['player'] == \"George Johnson\") & (advanced_stats['player_id'] == 1278), 'PLAYER_ID'] = 77147\n",
    "advanced_stats.loc[(advanced_stats['player'] == \"George Johnson\") & (advanced_stats['player_id'] == 1448), 'PLAYER_ID'] = 77149"
   ]
  },
  {
   "cell_type": "code",
   "execution_count": 17,
   "metadata": {},
   "outputs": [],
   "source": [
    "advanced_stats.loc[(advanced_stats['player'] == \"Charles Smith\") & (advanced_stats['player_id'] == 2412), 'PLAYER_ID'] = 293\n",
    "advanced_stats.loc[(advanced_stats['player'] == \"Charles Smith\") & (advanced_stats['player_id'] == 2489), 'PLAYER_ID'] = 78179"
   ]
  },
  {
   "cell_type": "code",
   "execution_count": 18,
   "metadata": {},
   "outputs": [],
   "source": [
    "advanced_stats.loc[(advanced_stats['player'] == \"Eddie Johnson\") & (advanced_stats['player_id'] == 1993), 'PLAYER_ID'] = 698\n",
    "advanced_stats.loc[(advanced_stats['player'] == \"Eddie Johnson\") & (advanced_stats['player_id'] == 1747), 'PLAYER_ID'] = 77144"
   ]
  },
  {
   "cell_type": "code",
   "execution_count": 19,
   "metadata": {},
   "outputs": [],
   "source": [
    "advanced_stats.loc[(advanced_stats['player'] == \"Chris Johnson\") & (advanced_stats['player_id'] == 4075), 'PLAYER_ID'] = 203187\n",
    "advanced_stats.loc[(advanced_stats['player'] == \"Chris Johnson\") & (advanced_stats['player_id'] == 3921), 'PLAYER_ID'] = 202419"
   ]
  },
  {
   "cell_type": "code",
   "execution_count": 20,
   "metadata": {},
   "outputs": [],
   "source": [
    "advanced_stats.loc[(advanced_stats['player'] == \"Marcus Williams\") & (advanced_stats['player_id'] == 3691), 'PLAYER_ID'] = 200766\n",
    "advanced_stats.loc[(advanced_stats['player'] == \"Marcus Williams\") & (advanced_stats['player_id'] == 3777), 'PLAYER_ID'] = 201173"
   ]
  },
  {
   "cell_type": "code",
   "execution_count": 21,
   "metadata": {},
   "outputs": [],
   "source": [
    "advanced_stats.loc[(advanced_stats['player'] == \"Michael Smith\") & (advanced_stats['player_id'] == 2879), 'PLAYER_ID'] = 63\n",
    "advanced_stats.loc[(advanced_stats['player'] == \"Michael Smith\") & (advanced_stats['player_id'] == 2527), 'PLAYER_ID'] = 78197\n"
   ]
  },
  {
   "cell_type": "code",
   "execution_count": 22,
   "metadata": {},
   "outputs": [],
   "source": [
    "advanced_stats.loc[(advanced_stats['player'] == \"Tony Mitchell\") & (advanced_stats['player_id'] == 4210), 'PLAYER_ID'] = 203502\n",
    "advanced_stats.loc[(advanced_stats['player'] == \"Tony Mitchell\") & (advanced_stats['player_id'] == 4211), 'PLAYER_ID'] = 203183"
   ]
  },
  {
   "cell_type": "markdown",
   "metadata": {},
   "source": [
    "Check that all PLAYER_IDs listed as 'player season_pair not unique' have been \n",
    "fixed. "
   ]
  },
  {
   "cell_type": "code",
   "execution_count": 23,
   "metadata": {},
   "outputs": [
    {
     "data": {
      "text/html": [
       "<div>\n",
       "<style scoped>\n",
       "    .dataframe tbody tr th:only-of-type {\n",
       "        vertical-align: middle;\n",
       "    }\n",
       "\n",
       "    .dataframe tbody tr th {\n",
       "        vertical-align: top;\n",
       "    }\n",
       "\n",
       "    .dataframe thead th {\n",
       "        text-align: right;\n",
       "    }\n",
       "</style>\n",
       "<table border=\"1\" class=\"dataframe\">\n",
       "  <thead>\n",
       "    <tr style=\"text-align: right;\">\n",
       "      <th></th>\n",
       "      <th>PLAYER_ID</th>\n",
       "      <th>seas_id</th>\n",
       "      <th>SEASON_START</th>\n",
       "      <th>player_id</th>\n",
       "      <th>player</th>\n",
       "      <th>birth_year</th>\n",
       "      <th>pos</th>\n",
       "      <th>age</th>\n",
       "      <th>experience</th>\n",
       "      <th>lg</th>\n",
       "      <th>tm</th>\n",
       "      <th>g</th>\n",
       "      <th>mp</th>\n",
       "      <th>per</th>\n",
       "      <th>ts_percent</th>\n",
       "      <th>x3p_ar</th>\n",
       "      <th>f_tr</th>\n",
       "      <th>orb_percent</th>\n",
       "      <th>drb_percent</th>\n",
       "      <th>trb_percent</th>\n",
       "      <th>ast_percent</th>\n",
       "      <th>stl_percent</th>\n",
       "      <th>blk_percent</th>\n",
       "      <th>tov_percent</th>\n",
       "      <th>usg_percent</th>\n",
       "      <th>ows</th>\n",
       "      <th>dws</th>\n",
       "      <th>ws</th>\n",
       "      <th>ws_48</th>\n",
       "      <th>obpm</th>\n",
       "      <th>dbpm</th>\n",
       "      <th>bpm</th>\n",
       "      <th>vorp</th>\n",
       "    </tr>\n",
       "  </thead>\n",
       "  <tbody>\n",
       "  </tbody>\n",
       "</table>\n",
       "</div>"
      ],
      "text/plain": [
       "Empty DataFrame\n",
       "Columns: [PLAYER_ID, seas_id, SEASON_START, player_id, player, birth_year, pos, age, experience, lg, tm, g, mp, per, ts_percent, x3p_ar, f_tr, orb_percent, drb_percent, trb_percent, ast_percent, stl_percent, blk_percent, tov_percent, usg_percent, ows, dws, ws, ws_48, obpm, dbpm, bpm, vorp]\n",
       "Index: []"
      ]
     },
     "execution_count": 23,
     "metadata": {},
     "output_type": "execute_result"
    }
   ],
   "source": [
    "advanced_stats[advanced_stats['PLAYER_ID']=='player season pair not unique']"
   ]
  },
  {
   "cell_type": "markdown",
   "metadata": {},
   "source": [
    "Cleaning up columns. "
   ]
  },
  {
   "cell_type": "code",
   "execution_count": 24,
   "metadata": {},
   "outputs": [],
   "source": [
    "columns = advanced_stats.columns.values.tolist()\n",
    "columns.remove('seas_id')\n",
    "columns.remove('player_id')\n",
    "columns.remove('birth_year')\n",
    "advanced_stats = advanced_stats[columns]"
   ]
  },
  {
   "cell_type": "code",
   "execution_count": 25,
   "metadata": {},
   "outputs": [],
   "source": [
    "advanced_stats.to_csv('advanced_stats.csv', index=False)"
   ]
  }
 ],
 "metadata": {
  "kernelspec": {
   "display_name": "erdos_fall_2024",
   "language": "python",
   "name": "python3"
  },
  "language_info": {
   "codemirror_mode": {
    "name": "ipython",
    "version": 3
   },
   "file_extension": ".py",
   "mimetype": "text/x-python",
   "name": "python",
   "nbconvert_exporter": "python",
   "pygments_lexer": "ipython3",
   "version": "3.12.5"
  }
 },
 "nbformat": 4,
 "nbformat_minor": 2
}
