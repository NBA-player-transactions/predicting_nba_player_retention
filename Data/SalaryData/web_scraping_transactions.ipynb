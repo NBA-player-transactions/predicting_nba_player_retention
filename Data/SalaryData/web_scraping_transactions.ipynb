{
 "cells": [
  {
   "cell_type": "markdown",
   "metadata": {},
   "source": [
    "# Web scraping NBA transaction data from [basketball-reference.com](https://www.basketball-reference.com/)"
   ]
  },
  {
   "cell_type": "code",
   "execution_count": 171,
   "metadata": {},
   "outputs": [],
   "source": [
    "import bs4\n",
    "from bs4 import BeautifulSoup\n",
    "import requests\n",
    "import csv\n",
    "import re\n",
    "import pandas as pd\n",
    "import ast"
   ]
  },
  {
   "cell_type": "markdown",
   "metadata": {},
   "source": [
    "### HTML files"
   ]
  },
  {
   "cell_type": "code",
   "execution_count": 114,
   "metadata": {},
   "outputs": [],
   "source": [
    "years = list(range(1991, 2025))\n",
    "\n",
    "url_blank = \"https://www.basketball-reference.com/leagues/NBA_{}_transactions.html\""
   ]
  },
  {
   "cell_type": "code",
   "execution_count": 196,
   "metadata": {},
   "outputs": [],
   "source": [
    "# save HTML files for each year\n",
    "# for year in [2015]:\n",
    "for year in years:\n",
    "    url = url_blank.format(year)\n",
    "    response = requests.get(url)\n",
    "\n",
    "    with open(\"./Data/transaction_htmls/transactions_{}.html\".format(year), \"w+\") as f:\n",
    "        f.write(response.text)"
   ]
  },
  {
   "cell_type": "markdown",
   "metadata": {},
   "source": [
    "### Waived players data"
   ]
  },
  {
   "cell_type": "code",
   "execution_count": 199,
   "metadata": {},
   "outputs": [],
   "source": [
    "# extract waived data from HTMLs and save as a CSV file\n",
    "with open(\"./Data/waived_data.csv\", \"w+\", newline=\"\") as f:\n",
    "    writer = csv.writer(f)\n",
    "    writer.writerow([\"season_start\", \"date\", \"player_name\", \"team_abv\"])\n",
    "\n",
    "    for year in years:\n",
    "        with open(\"./Data/transaction_htmls/transactions_{}.html\".format(year)) as h:\n",
    "            page = h.read()\n",
    "\n",
    "        soup = BeautifulSoup(page, \"html.parser\")\n",
    "\n",
    "        page_index = soup.find(\"ul\", attrs={\"class\":\"page_index\"})\n",
    "\n",
    "        for entry in page_index.find_all(\"p\"):\n",
    "            if \"waived\" in entry.get_text():\n",
    "                writer.writerow([year-1,\n",
    "                                 entry.parent.find(\"span\").get_text(),\n",
    "                                 entry.find(\"a\", attrs={\"href\":re.compile(\"/players/\")}).get_text(),\n",
    "                                 entry.find(\"a\", attrs={\"data-attr-from\":True})[\"data-attr-from\"]])"
   ]
  },
  {
   "cell_type": "markdown",
   "metadata": {},
   "source": [
    "### Traded players data"
   ]
  },
  {
   "cell_type": "code",
   "execution_count": 173,
   "metadata": {},
   "outputs": [],
   "source": [
    "# helper function for extracting each traded player (excluding draft picks) for a given entry and writing to the CSV file\n",
    "def write_trades(entry, season_start, csv_writer):\n",
    "    for tag in entry.find_all(\"a\"):\n",
    "        if \"data-attr-from\" in tag.attrs:\n",
    "            current_team = tag[\"data-attr-from\"]\n",
    "        elif \"data-attr-to\" in tag.attrs:\n",
    "            current_team = tag[\"data-attr-to\"]\n",
    "        elif (\"href\" in tag.attrs) and (\"/players/\" in tag[\"href\"]) and (\"was later selected\" not in tag.next_sibling):\n",
    "            csv_writer.writerow([season_start, entry.parent.find(\"span\").get_text(), tag.get_text(), current_team])"
   ]
  },
  {
   "cell_type": "code",
   "execution_count": 201,
   "metadata": {},
   "outputs": [],
   "source": [
    "# extract traded data from HTMLs and save as a CSV file\n",
    "with open(\"./Data/traded_data.csv\", \"w+\", newline=\"\") as f:\n",
    "    writer = csv.writer(f)\n",
    "    writer.writerow([\"season_start\", \"date\", \"player_name\", \"team_abv\"])\n",
    "\n",
    "    for year in years:\n",
    "        with open(\"./Data/transaction_htmls/transactions_{}.html\".format(year)) as h:\n",
    "            page = h.read()\n",
    "\n",
    "        soup = BeautifulSoup(page, \"html.parser\")\n",
    "\n",
    "        page_index = soup.find(\"ul\", attrs={\"class\":\"page_index\"})\n",
    "\n",
    "        for entry in page_index.find_all(\"p\"):\n",
    "            if \"traded\" in entry.get_text():\n",
    "                write_trades(entry, year-1, writer)"
   ]
  },
  {
   "cell_type": "markdown",
   "metadata": {},
   "source": [
    "### Check for players labelled as coaches or executives"
   ]
  },
  {
   "cell_type": "markdown",
   "metadata": {},
   "source": [
    "(Manually fill these in.)"
   ]
  },
  {
   "cell_type": "code",
   "execution_count": 176,
   "metadata": {},
   "outputs": [
    {
     "name": "stdout",
     "output_type": "stream",
     "text": [
      "1992 [<a href=\"/coaches/dunlemi01c.html\">Mike Dunleavy</a>] (traded)\n",
      "1996 [<a href=\"/coaches/rileypa01c.html\">Pat Riley</a>] (traded)\n",
      "1997 [<a href=\"/executives/wallach99x.html\">Chris Wallace</a>] (traded)\n",
      "2014 [<a href=\"/coaches/kiddja01c.html\">Jason Kidd</a>] (traded)\n",
      "2018 [<a href=\"/executives/perrysc99x.html\">Scott Perry</a>] (traded)\n"
     ]
    }
   ],
   "source": [
    "for year in years:\n",
    "    with open(\"./Data/transaction_htmls/transactions_{}.html\".format(year)) as f:\n",
    "        page = f.read()\n",
    "\n",
    "    soup = BeautifulSoup(page, \"html.parser\")\n",
    "\n",
    "    page_index = soup.find(\"ul\", attrs={\"class\":\"page_index\"})\n",
    "    entries = page_index.find_all(\"p\")\n",
    "    waived_entries = [entry for entry in entries if \"waived\" in entry.get_text()]\n",
    "    traded_entries = [entry for entry in entries if \"traded\" in entry.get_text()]\n",
    "\n",
    "    for entry in waived_entries:\n",
    "        if len(entry.find_all(\"a\", attrs={\"href\":re.compile(\"/coaches/\")})) > 0:\n",
    "            print(year, entry.find_all(\"a\", attrs={\"href\":re.compile(\"/coaches/\")}), \"(waived)\")\n",
    "        if len(entry.find_all(\"a\", attrs={\"href\":re.compile(\"/executives/\")})) > 0:\n",
    "            print(year, entry.find_all(\"a\", attrs={\"href\":re.compile(\"/executives/\")}), \"(waived)\")\n",
    "\n",
    "    for entry in traded_entries:\n",
    "        if len(entry.find_all(\"a\", attrs={\"href\":re.compile(\"/coaches/\")})) > 0:\n",
    "            print(year, entry.find_all(\"a\", attrs={\"href\":re.compile(\"/coaches/\")}), \"(traded)\")\n",
    "        if len(entry.find_all(\"a\", attrs={\"href\":re.compile(\"/executives/\")})) > 0:\n",
    "            print(year, entry.find_all(\"a\", attrs={\"href\":re.compile(\"/executives/\")}), \"(traded)\")\n"
   ]
  },
  {
   "cell_type": "code",
   "execution_count": 181,
   "metadata": {},
   "outputs": [],
   "source": [
    "with open(\"./Data/traded_data.csv\", \"a\", newline=\"\") as f:\n",
    "    writer = csv.writer(f)\n",
    "\n",
    "    writer.writerow([1991, \"May 11, 1992\", \"Mike Dunleavy\", \"LAL\"])\n",
    "    writer.writerow([1995, \"September 1, 1995\", \"Pat Riley\", \"NYK\"])\n",
    "    writer.writerow([1996, \"May 27, 1997\", \"Chris Wallace\", \"BOS\"])\n",
    "    writer.writerow([2013, \"June 30, 2014\", \"Jason Kidd\", \"BRK\"])\n",
    "    writer.writerow([2017, \"July 14, 2017\", \"Scott Perry\", \"SAC\"])"
   ]
  },
  {
   "cell_type": "markdown",
   "metadata": {},
   "source": [
    "### Concatenating waived and traded data"
   ]
  },
  {
   "cell_type": "code",
   "execution_count": 217,
   "metadata": {},
   "outputs": [],
   "source": [
    "# concatenate data using DataFrames\n",
    "waived_df = pd.read_csv(\"./Data/waived_data.csv\")\n",
    "waived_df[\"waived\"] = 1\n",
    "waived_df[\"traded\"] = 0\n",
    "\n",
    "traded_df = pd.read_csv(\"./Data/traded_data.csv\")\n",
    "traded_df[\"waived\"] = 0\n",
    "traded_df[\"traded\"] = 1\n",
    "\n",
    "transaction_df = pd.concat([waived_df, traded_df], ignore_index=True)"
   ]
  },
  {
   "cell_type": "code",
   "execution_count": null,
   "metadata": {},
   "outputs": [],
   "source": [
    "# decoding player names with special characters\n",
    "transaction_df[\"player_name\"] = transaction_df[\"player_name\"].str.encode('latin-1').str.decode('utf-8')"
   ]
  },
  {
   "cell_type": "code",
   "execution_count": 218,
   "metadata": {},
   "outputs": [
    {
     "data": {
      "text/html": [
       "<div>\n",
       "<style scoped>\n",
       "    .dataframe tbody tr th:only-of-type {\n",
       "        vertical-align: middle;\n",
       "    }\n",
       "\n",
       "    .dataframe tbody tr th {\n",
       "        vertical-align: top;\n",
       "    }\n",
       "\n",
       "    .dataframe thead th {\n",
       "        text-align: right;\n",
       "    }\n",
       "</style>\n",
       "<table border=\"1\" class=\"dataframe\">\n",
       "  <thead>\n",
       "    <tr style=\"text-align: right;\">\n",
       "      <th></th>\n",
       "      <th>season_start</th>\n",
       "      <th>date</th>\n",
       "      <th>player_name</th>\n",
       "      <th>team_abv</th>\n",
       "      <th>waived</th>\n",
       "      <th>traded</th>\n",
       "    </tr>\n",
       "  </thead>\n",
       "  <tbody>\n",
       "    <tr>\n",
       "      <th>7940</th>\n",
       "      <td>2019</td>\n",
       "      <td>July 6, 2019</td>\n",
       "      <td>Anthony Davis</td>\n",
       "      <td>NOP</td>\n",
       "      <td>0</td>\n",
       "      <td>1</td>\n",
       "    </tr>\n",
       "    <tr>\n",
       "      <th>822</th>\n",
       "      <td>1999</td>\n",
       "      <td>October 20, 1999</td>\n",
       "      <td>Maceo Baston</td>\n",
       "      <td>CHI</td>\n",
       "      <td>1</td>\n",
       "      <td>0</td>\n",
       "    </tr>\n",
       "    <tr>\n",
       "      <th>4429</th>\n",
       "      <td>2022</td>\n",
       "      <td>October 17, 2022</td>\n",
       "      <td>Kemba Walker</td>\n",
       "      <td>DET</td>\n",
       "      <td>1</td>\n",
       "      <td>0</td>\n",
       "    </tr>\n",
       "    <tr>\n",
       "      <th>3339</th>\n",
       "      <td>2018</td>\n",
       "      <td>December 2, 2018</td>\n",
       "      <td>Billy Preston</td>\n",
       "      <td>CLE</td>\n",
       "      <td>1</td>\n",
       "      <td>0</td>\n",
       "    </tr>\n",
       "    <tr>\n",
       "      <th>3746</th>\n",
       "      <td>2020</td>\n",
       "      <td>December 18, 2020</td>\n",
       "      <td>Trevon Bluiett</td>\n",
       "      <td>UTA</td>\n",
       "      <td>1</td>\n",
       "      <td>0</td>\n",
       "    </tr>\n",
       "    <tr>\n",
       "      <th>8152</th>\n",
       "      <td>2020</td>\n",
       "      <td>March 18, 2021</td>\n",
       "      <td>Torrey Craig</td>\n",
       "      <td>MIL</td>\n",
       "      <td>0</td>\n",
       "      <td>1</td>\n",
       "    </tr>\n",
       "    <tr>\n",
       "      <th>8237</th>\n",
       "      <td>2021</td>\n",
       "      <td>August 6, 2021</td>\n",
       "      <td>Chandler Hutchison</td>\n",
       "      <td>WAS</td>\n",
       "      <td>0</td>\n",
       "      <td>1</td>\n",
       "    </tr>\n",
       "    <tr>\n",
       "      <th>1170</th>\n",
       "      <td>2003</td>\n",
       "      <td>October 22, 2003</td>\n",
       "      <td>Jeryl Sasser</td>\n",
       "      <td>ORL</td>\n",
       "      <td>1</td>\n",
       "      <td>0</td>\n",
       "    </tr>\n",
       "    <tr>\n",
       "      <th>5063</th>\n",
       "      <td>1994</td>\n",
       "      <td>February 14, 1995</td>\n",
       "      <td>Marcelo Nicola</td>\n",
       "      <td>HOU</td>\n",
       "      <td>0</td>\n",
       "      <td>1</td>\n",
       "    </tr>\n",
       "    <tr>\n",
       "      <th>5622</th>\n",
       "      <td>2000</td>\n",
       "      <td>September 25, 2000</td>\n",
       "      <td>Popeye Jones</td>\n",
       "      <td>DEN</td>\n",
       "      <td>0</td>\n",
       "      <td>1</td>\n",
       "    </tr>\n",
       "  </tbody>\n",
       "</table>\n",
       "</div>"
      ],
      "text/plain": [
       "      season_start                date         player_name team_abv  waived  \\\n",
       "7940          2019        July 6, 2019       Anthony Davis      NOP       0   \n",
       "822           1999    October 20, 1999        Maceo Baston      CHI       1   \n",
       "4429          2022    October 17, 2022        Kemba Walker      DET       1   \n",
       "3339          2018    December 2, 2018       Billy Preston      CLE       1   \n",
       "3746          2020   December 18, 2020      Trevon Bluiett      UTA       1   \n",
       "8152          2020      March 18, 2021        Torrey Craig      MIL       0   \n",
       "8237          2021      August 6, 2021  Chandler Hutchison      WAS       0   \n",
       "1170          2003    October 22, 2003        Jeryl Sasser      ORL       1   \n",
       "5063          1994   February 14, 1995      Marcelo Nicola      HOU       0   \n",
       "5622          2000  September 25, 2000        Popeye Jones      DEN       0   \n",
       "\n",
       "      traded  \n",
       "7940       1  \n",
       "822        0  \n",
       "4429       0  \n",
       "3339       0  \n",
       "3746       0  \n",
       "8152       1  \n",
       "8237       1  \n",
       "1170       0  \n",
       "5063       1  \n",
       "5622       1  "
      ]
     },
     "execution_count": 218,
     "metadata": {},
     "output_type": "execute_result"
    }
   ],
   "source": [
    "transaction_df.sample(10)"
   ]
  },
  {
   "cell_type": "code",
   "execution_count": 227,
   "metadata": {},
   "outputs": [],
   "source": [
    "# save transaction data as a CSV file\n",
    "transaction_df.to_csv(\"./Data/transaction_data.csv\", index=False)"
   ]
  },
  {
   "cell_type": "code",
   "execution_count": null,
   "metadata": {},
   "outputs": [],
   "source": []
  }
 ],
 "metadata": {
  "kernelspec": {
   "display_name": "erdos_fall_2024",
   "language": "python",
   "name": "python3"
  },
  "language_info": {
   "codemirror_mode": {
    "name": "ipython",
    "version": 3
   },
   "file_extension": ".py",
   "mimetype": "text/x-python",
   "name": "python",
   "nbconvert_exporter": "python",
   "pygments_lexer": "ipython3",
   "version": "3.12.5"
  },
  "orig_nbformat": 4
 },
 "nbformat": 4,
 "nbformat_minor": 2
}
