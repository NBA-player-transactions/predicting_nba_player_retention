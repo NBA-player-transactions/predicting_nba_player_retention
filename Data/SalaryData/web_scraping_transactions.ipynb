{
 "cells": [
  {
   "cell_type": "markdown",
   "metadata": {},
   "source": [
    "# Web scraping NBA transaction data from [basketball-reference.com](https://www.basketball-reference.com/)"
   ]
  },
  {
   "cell_type": "code",
   "execution_count": 1,
   "metadata": {},
   "outputs": [],
   "source": [
    "# import bs4\n",
    "from bs4 import BeautifulSoup\n",
    "import requests\n",
    "import csv\n",
    "import re\n",
    "import pandas as pd\n",
    "# import ast"
   ]
  },
  {
   "cell_type": "markdown",
   "metadata": {},
   "source": [
    "### HTML files"
   ]
  },
  {
   "cell_type": "code",
   "execution_count": 114,
   "metadata": {},
   "outputs": [],
   "source": [
    "years = list(range(1991, 2025))\n",
    "\n",
    "url_blank = \"https://www.basketball-reference.com/leagues/NBA_{}_transactions.html\""
   ]
  },
  {
   "cell_type": "code",
   "execution_count": 196,
   "metadata": {},
   "outputs": [],
   "source": [
    "# save HTML files for each year\n",
    "# for year in [2015]:\n",
    "for year in years:\n",
    "    url = url_blank.format(year)\n",
    "    response = requests.get(url)\n",
    "\n",
    "    with open(\"./Data/transaction_htmls/transactions_{}.html\".format(year), \"w+\") as f:\n",
    "        f.write(response.text)"
   ]
  },
  {
   "cell_type": "markdown",
   "metadata": {},
   "source": [
    "### Waived players data"
   ]
  },
  {
   "cell_type": "code",
   "execution_count": 199,
   "metadata": {},
   "outputs": [],
   "source": [
    "# extract waived data from HTMLs and save as a CSV file\n",
    "with open(\"./Data/waived_data.csv\", \"w+\", newline=\"\") as f:\n",
    "    writer = csv.writer(f)\n",
    "    writer.writerow([\"season_start\", \"date\", \"player_name\", \"team_abv\"])\n",
    "\n",
    "    for year in years:\n",
    "        with open(\"./Data/transaction_htmls/transactions_{}.html\".format(year)) as h:\n",
    "            page = h.read()\n",
    "\n",
    "        soup = BeautifulSoup(page, \"html.parser\")\n",
    "\n",
    "        page_index = soup.find(\"ul\", attrs={\"class\":\"page_index\"})\n",
    "\n",
    "        for entry in page_index.find_all(\"p\"):\n",
    "            if \"waived\" in entry.get_text():\n",
    "                writer.writerow([year-1,\n",
    "                                 entry.parent.find(\"span\").get_text(),\n",
    "                                 entry.find(\"a\", attrs={\"href\":re.compile(\"/players/\")}).get_text(),\n",
    "                                 entry.find(\"a\", attrs={\"data-attr-from\":True})[\"data-attr-from\"]])"
   ]
  },
  {
   "cell_type": "markdown",
   "metadata": {},
   "source": [
    "### Traded players data"
   ]
  },
  {
   "cell_type": "code",
   "execution_count": 173,
   "metadata": {},
   "outputs": [],
   "source": [
    "# helper function for extracting each traded player (excluding draft picks) for a given entry and writing to the CSV file\n",
    "def write_trades(entry, season_start, csv_writer):\n",
    "    for tag in entry.find_all(\"a\"):\n",
    "        if \"data-attr-from\" in tag.attrs:\n",
    "            current_team = tag[\"data-attr-from\"]\n",
    "        elif \"data-attr-to\" in tag.attrs:\n",
    "            current_team = tag[\"data-attr-to\"]\n",
    "        elif (\"href\" in tag.attrs) and (\"/players/\" in tag[\"href\"]) and (\"was later selected\" not in tag.next_sibling):\n",
    "            csv_writer.writerow([season_start, entry.parent.find(\"span\").get_text(), tag.get_text(), current_team])"
   ]
  },
  {
   "cell_type": "code",
   "execution_count": 201,
   "metadata": {},
   "outputs": [],
   "source": [
    "# extract traded data from HTMLs and save as a CSV file\n",
    "with open(\"./Data/traded_data.csv\", \"w+\", newline=\"\") as f:\n",
    "    writer = csv.writer(f)\n",
    "    writer.writerow([\"season_start\", \"date\", \"player_name\", \"team_abv\"])\n",
    "\n",
    "    for year in years:\n",
    "        with open(\"./Data/transaction_htmls/transactions_{}.html\".format(year)) as h:\n",
    "            page = h.read()\n",
    "\n",
    "        soup = BeautifulSoup(page, \"html.parser\")\n",
    "\n",
    "        page_index = soup.find(\"ul\", attrs={\"class\":\"page_index\"})\n",
    "\n",
    "        for entry in page_index.find_all(\"p\"):\n",
    "            if \"traded\" in entry.get_text():\n",
    "                write_trades(entry, year-1, writer)"
   ]
  },
  {
   "cell_type": "markdown",
   "metadata": {},
   "source": [
    "### Check for players labelled as coaches or executives"
   ]
  },
  {
   "cell_type": "markdown",
   "metadata": {},
   "source": [
    "(Manually fill these in.)"
   ]
  },
  {
   "cell_type": "code",
   "execution_count": 176,
   "metadata": {},
   "outputs": [
    {
     "name": "stdout",
     "output_type": "stream",
     "text": [
      "1992 [<a href=\"/coaches/dunlemi01c.html\">Mike Dunleavy</a>] (traded)\n",
      "1996 [<a href=\"/coaches/rileypa01c.html\">Pat Riley</a>] (traded)\n",
      "1997 [<a href=\"/executives/wallach99x.html\">Chris Wallace</a>] (traded)\n",
      "2014 [<a href=\"/coaches/kiddja01c.html\">Jason Kidd</a>] (traded)\n",
      "2018 [<a href=\"/executives/perrysc99x.html\">Scott Perry</a>] (traded)\n"
     ]
    }
   ],
   "source": [
    "for year in years:\n",
    "    with open(\"./Data/transaction_htmls/transactions_{}.html\".format(year)) as f:\n",
    "        page = f.read()\n",
    "\n",
    "    soup = BeautifulSoup(page, \"html.parser\")\n",
    "\n",
    "    page_index = soup.find(\"ul\", attrs={\"class\":\"page_index\"})\n",
    "    entries = page_index.find_all(\"p\")\n",
    "    waived_entries = [entry for entry in entries if \"waived\" in entry.get_text()]\n",
    "    traded_entries = [entry for entry in entries if \"traded\" in entry.get_text()]\n",
    "\n",
    "    for entry in waived_entries:\n",
    "        if len(entry.find_all(\"a\", attrs={\"href\":re.compile(\"/coaches/\")})) > 0:\n",
    "            print(year, entry.find_all(\"a\", attrs={\"href\":re.compile(\"/coaches/\")}), \"(waived)\")\n",
    "        if len(entry.find_all(\"a\", attrs={\"href\":re.compile(\"/executives/\")})) > 0:\n",
    "            print(year, entry.find_all(\"a\", attrs={\"href\":re.compile(\"/executives/\")}), \"(waived)\")\n",
    "\n",
    "    for entry in traded_entries:\n",
    "        if len(entry.find_all(\"a\", attrs={\"href\":re.compile(\"/coaches/\")})) > 0:\n",
    "            print(year, entry.find_all(\"a\", attrs={\"href\":re.compile(\"/coaches/\")}), \"(traded)\")\n",
    "        if len(entry.find_all(\"a\", attrs={\"href\":re.compile(\"/executives/\")})) > 0:\n",
    "            print(year, entry.find_all(\"a\", attrs={\"href\":re.compile(\"/executives/\")}), \"(traded)\")\n"
   ]
  },
  {
   "cell_type": "code",
   "execution_count": 181,
   "metadata": {},
   "outputs": [],
   "source": [
    "with open(\"./Data/traded_data.csv\", \"a\", newline=\"\") as f:\n",
    "    writer = csv.writer(f)\n",
    "\n",
    "    writer.writerow([1991, \"May 11, 1992\", \"Mike Dunleavy\", \"LAL\"])\n",
    "    writer.writerow([1995, \"September 1, 1995\", \"Pat Riley\", \"NYK\"])\n",
    "    writer.writerow([1996, \"May 27, 1997\", \"Chris Wallace\", \"BOS\"])\n",
    "    writer.writerow([2013, \"June 30, 2014\", \"Jason Kidd\", \"BRK\"])\n",
    "    writer.writerow([2017, \"July 14, 2017\", \"Scott Perry\", \"SAC\"])"
   ]
  },
  {
   "cell_type": "markdown",
   "metadata": {},
   "source": [
    "### Concatenating waived and traded data"
   ]
  },
  {
   "cell_type": "code",
   "execution_count": 217,
   "metadata": {},
   "outputs": [],
   "source": [
    "# concatenate data using DataFrames\n",
    "waived_df = pd.read_csv(\"./Data/waived_data.csv\")\n",
    "waived_df[\"waived\"] = 1\n",
    "waived_df[\"traded\"] = 0\n",
    "\n",
    "traded_df = pd.read_csv(\"./Data/traded_data.csv\")\n",
    "traded_df[\"waived\"] = 0\n",
    "traded_df[\"traded\"] = 1\n",
    "\n",
    "transaction_df = pd.concat([waived_df, traded_df], ignore_index=True)"
   ]
  },
  {
   "cell_type": "code",
   "execution_count": null,
   "metadata": {},
   "outputs": [],
   "source": [
    "# decoding player names with special characters\n",
    "transaction_df[\"player_name\"] = transaction_df[\"player_name\"].str.encode('latin-1').str.decode('utf-8')"
   ]
  },
  {
   "cell_type": "code",
   "execution_count": 218,
   "metadata": {},
   "outputs": [
    {
     "data": {
      "text/html": [
       "<div>\n",
       "<style scoped>\n",
       "    .dataframe tbody tr th:only-of-type {\n",
       "        vertical-align: middle;\n",
       "    }\n",
       "\n",
       "    .dataframe tbody tr th {\n",
       "        vertical-align: top;\n",
       "    }\n",
       "\n",
       "    .dataframe thead th {\n",
       "        text-align: right;\n",
       "    }\n",
       "</style>\n",
       "<table border=\"1\" class=\"dataframe\">\n",
       "  <thead>\n",
       "    <tr style=\"text-align: right;\">\n",
       "      <th></th>\n",
       "      <th>season_start</th>\n",
       "      <th>date</th>\n",
       "      <th>player_name</th>\n",
       "      <th>team_abv</th>\n",
       "      <th>waived</th>\n",
       "      <th>traded</th>\n",
       "    </tr>\n",
       "  </thead>\n",
       "  <tbody>\n",
       "    <tr>\n",
       "      <th>7940</th>\n",
       "      <td>2019</td>\n",
       "      <td>July 6, 2019</td>\n",
       "      <td>Anthony Davis</td>\n",
       "      <td>NOP</td>\n",
       "      <td>0</td>\n",
       "      <td>1</td>\n",
       "    </tr>\n",
       "    <tr>\n",
       "      <th>822</th>\n",
       "      <td>1999</td>\n",
       "      <td>October 20, 1999</td>\n",
       "      <td>Maceo Baston</td>\n",
       "      <td>CHI</td>\n",
       "      <td>1</td>\n",
       "      <td>0</td>\n",
       "    </tr>\n",
       "    <tr>\n",
       "      <th>4429</th>\n",
       "      <td>2022</td>\n",
       "      <td>October 17, 2022</td>\n",
       "      <td>Kemba Walker</td>\n",
       "      <td>DET</td>\n",
       "      <td>1</td>\n",
       "      <td>0</td>\n",
       "    </tr>\n",
       "    <tr>\n",
       "      <th>3339</th>\n",
       "      <td>2018</td>\n",
       "      <td>December 2, 2018</td>\n",
       "      <td>Billy Preston</td>\n",
       "      <td>CLE</td>\n",
       "      <td>1</td>\n",
       "      <td>0</td>\n",
       "    </tr>\n",
       "    <tr>\n",
       "      <th>3746</th>\n",
       "      <td>2020</td>\n",
       "      <td>December 18, 2020</td>\n",
       "      <td>Trevon Bluiett</td>\n",
       "      <td>UTA</td>\n",
       "      <td>1</td>\n",
       "      <td>0</td>\n",
       "    </tr>\n",
       "    <tr>\n",
       "      <th>8152</th>\n",
       "      <td>2020</td>\n",
       "      <td>March 18, 2021</td>\n",
       "      <td>Torrey Craig</td>\n",
       "      <td>MIL</td>\n",
       "      <td>0</td>\n",
       "      <td>1</td>\n",
       "    </tr>\n",
       "    <tr>\n",
       "      <th>8237</th>\n",
       "      <td>2021</td>\n",
       "      <td>August 6, 2021</td>\n",
       "      <td>Chandler Hutchison</td>\n",
       "      <td>WAS</td>\n",
       "      <td>0</td>\n",
       "      <td>1</td>\n",
       "    </tr>\n",
       "    <tr>\n",
       "      <th>1170</th>\n",
       "      <td>2003</td>\n",
       "      <td>October 22, 2003</td>\n",
       "      <td>Jeryl Sasser</td>\n",
       "      <td>ORL</td>\n",
       "      <td>1</td>\n",
       "      <td>0</td>\n",
       "    </tr>\n",
       "    <tr>\n",
       "      <th>5063</th>\n",
       "      <td>1994</td>\n",
       "      <td>February 14, 1995</td>\n",
       "      <td>Marcelo Nicola</td>\n",
       "      <td>HOU</td>\n",
       "      <td>0</td>\n",
       "      <td>1</td>\n",
       "    </tr>\n",
       "    <tr>\n",
       "      <th>5622</th>\n",
       "      <td>2000</td>\n",
       "      <td>September 25, 2000</td>\n",
       "      <td>Popeye Jones</td>\n",
       "      <td>DEN</td>\n",
       "      <td>0</td>\n",
       "      <td>1</td>\n",
       "    </tr>\n",
       "  </tbody>\n",
       "</table>\n",
       "</div>"
      ],
      "text/plain": [
       "      season_start                date         player_name team_abv  waived  \\\n",
       "7940          2019        July 6, 2019       Anthony Davis      NOP       0   \n",
       "822           1999    October 20, 1999        Maceo Baston      CHI       1   \n",
       "4429          2022    October 17, 2022        Kemba Walker      DET       1   \n",
       "3339          2018    December 2, 2018       Billy Preston      CLE       1   \n",
       "3746          2020   December 18, 2020      Trevon Bluiett      UTA       1   \n",
       "8152          2020      March 18, 2021        Torrey Craig      MIL       0   \n",
       "8237          2021      August 6, 2021  Chandler Hutchison      WAS       0   \n",
       "1170          2003    October 22, 2003        Jeryl Sasser      ORL       1   \n",
       "5063          1994   February 14, 1995      Marcelo Nicola      HOU       0   \n",
       "5622          2000  September 25, 2000        Popeye Jones      DEN       0   \n",
       "\n",
       "      traded  \n",
       "7940       1  \n",
       "822        0  \n",
       "4429       0  \n",
       "3339       0  \n",
       "3746       0  \n",
       "8152       1  \n",
       "8237       1  \n",
       "1170       0  \n",
       "5063       1  \n",
       "5622       1  "
      ]
     },
     "execution_count": 218,
     "metadata": {},
     "output_type": "execute_result"
    }
   ],
   "source": [
    "transaction_df.sample(10)"
   ]
  },
  {
   "cell_type": "code",
   "execution_count": 227,
   "metadata": {},
   "outputs": [],
   "source": [
    "# save transaction data as a CSV file\n",
    "transaction_df.to_csv(\"./Data/transaction_data.csv\", index=False)"
   ]
  },
  {
   "cell_type": "markdown",
   "metadata": {},
   "source": [
    "### Adding player IDs"
   ]
  },
  {
   "cell_type": "code",
   "execution_count": 2,
   "metadata": {},
   "outputs": [
    {
     "name": "stdout",
     "output_type": "stream",
     "text": [
      "Requirement already satisfied: nba_api in /Users/collin/anaconda3/envs/erdos_fall_2024/lib/python3.12/site-packages (1.6.0)\n",
      "Requirement already satisfied: certifi<2024.0.0,>=2023.7.22 in /Users/collin/anaconda3/envs/erdos_fall_2024/lib/python3.12/site-packages (from nba_api) (2023.11.17)\n",
      "Requirement already satisfied: idna<4.0.0,>=3.7.0 in /Users/collin/anaconda3/envs/erdos_fall_2024/lib/python3.12/site-packages (from nba_api) (3.8)\n",
      "Requirement already satisfied: numpy<2.0.0,>=1.22.2 in /Users/collin/anaconda3/envs/erdos_fall_2024/lib/python3.12/site-packages (from nba_api) (1.26.4)\n",
      "Requirement already satisfied: requests<3.0.0,>=2.32.3 in /Users/collin/anaconda3/envs/erdos_fall_2024/lib/python3.12/site-packages (from nba_api) (2.32.3)\n",
      "Requirement already satisfied: urllib3<3.0.0,>=2.2.2 in /Users/collin/anaconda3/envs/erdos_fall_2024/lib/python3.12/site-packages (from nba_api) (2.2.2)\n",
      "Requirement already satisfied: charset-normalizer<4,>=2 in /Users/collin/anaconda3/envs/erdos_fall_2024/lib/python3.12/site-packages (from requests<3.0.0,>=2.32.3->nba_api) (3.3.2)\n",
      "Note: you may need to restart the kernel to use updated packages.\n",
      "Requirement already satisfied: unidecode in /Users/collin/anaconda3/envs/erdos_fall_2024/lib/python3.12/site-packages (1.3.8)\n",
      "Note: you may need to restart the kernel to use updated packages.\n"
     ]
    }
   ],
   "source": [
    "%pip install nba_api\n",
    "%pip install unidecode"
   ]
  },
  {
   "cell_type": "code",
   "execution_count": 3,
   "metadata": {},
   "outputs": [],
   "source": [
    "from nba_api.stats.static import players\n",
    "from unidecode import unidecode"
   ]
  },
  {
   "cell_type": "code",
   "execution_count": 4,
   "metadata": {},
   "outputs": [],
   "source": [
    "# list of dictionaries, one for each player, containing id, name, etc.\n",
    "all_players = players.get_players()"
   ]
  },
  {
   "cell_type": "code",
   "execution_count": 6,
   "metadata": {},
   "outputs": [],
   "source": [
    "transaction_df = pd.read_csv(\"Data/transaction_data.csv\")"
   ]
  },
  {
   "cell_type": "code",
   "execution_count": 9,
   "metadata": {},
   "outputs": [
    {
     "data": {
      "text/html": [
       "<div>\n",
       "<style scoped>\n",
       "    .dataframe tbody tr th:only-of-type {\n",
       "        vertical-align: middle;\n",
       "    }\n",
       "\n",
       "    .dataframe tbody tr th {\n",
       "        vertical-align: top;\n",
       "    }\n",
       "\n",
       "    .dataframe thead th {\n",
       "        text-align: right;\n",
       "    }\n",
       "</style>\n",
       "<table border=\"1\" class=\"dataframe\">\n",
       "  <thead>\n",
       "    <tr style=\"text-align: right;\">\n",
       "      <th></th>\n",
       "      <th>season_start</th>\n",
       "      <th>date</th>\n",
       "      <th>player_name</th>\n",
       "      <th>team_abv</th>\n",
       "      <th>waived</th>\n",
       "      <th>traded</th>\n",
       "    </tr>\n",
       "  </thead>\n",
       "  <tbody>\n",
       "    <tr>\n",
       "      <th>0</th>\n",
       "      <td>1990</td>\n",
       "      <td>July 5, 1990</td>\n",
       "      <td>Anthony Bowie</td>\n",
       "      <td>HOU</td>\n",
       "      <td>1</td>\n",
       "      <td>0</td>\n",
       "    </tr>\n",
       "    <tr>\n",
       "      <th>1</th>\n",
       "      <td>1990</td>\n",
       "      <td>July 9, 1990</td>\n",
       "      <td>Randy Allen</td>\n",
       "      <td>SAC</td>\n",
       "      <td>1</td>\n",
       "      <td>0</td>\n",
       "    </tr>\n",
       "    <tr>\n",
       "      <th>2</th>\n",
       "      <td>1990</td>\n",
       "      <td>July 9, 1990</td>\n",
       "      <td>Michael Jackson</td>\n",
       "      <td>SAC</td>\n",
       "      <td>1</td>\n",
       "      <td>0</td>\n",
       "    </tr>\n",
       "    <tr>\n",
       "      <th>3</th>\n",
       "      <td>1990</td>\n",
       "      <td>July 24, 1990</td>\n",
       "      <td>Melvin Turpin</td>\n",
       "      <td>WSB</td>\n",
       "      <td>1</td>\n",
       "      <td>0</td>\n",
       "    </tr>\n",
       "    <tr>\n",
       "      <th>4</th>\n",
       "      <td>1990</td>\n",
       "      <td>August 10, 1990</td>\n",
       "      <td>Scott Haffner</td>\n",
       "      <td>MIA</td>\n",
       "      <td>1</td>\n",
       "      <td>0</td>\n",
       "    </tr>\n",
       "    <tr>\n",
       "      <th>...</th>\n",
       "      <td>...</td>\n",
       "      <td>...</td>\n",
       "      <td>...</td>\n",
       "      <td>...</td>\n",
       "      <td>...</td>\n",
       "      <td>...</td>\n",
       "    </tr>\n",
       "    <tr>\n",
       "      <th>8674</th>\n",
       "      <td>1991</td>\n",
       "      <td>May 11, 1992</td>\n",
       "      <td>Mike Dunleavy</td>\n",
       "      <td>LAL</td>\n",
       "      <td>0</td>\n",
       "      <td>1</td>\n",
       "    </tr>\n",
       "    <tr>\n",
       "      <th>8675</th>\n",
       "      <td>1995</td>\n",
       "      <td>September 1, 1995</td>\n",
       "      <td>Pat Riley</td>\n",
       "      <td>NYK</td>\n",
       "      <td>0</td>\n",
       "      <td>1</td>\n",
       "    </tr>\n",
       "    <tr>\n",
       "      <th>8676</th>\n",
       "      <td>1996</td>\n",
       "      <td>May 27, 1997</td>\n",
       "      <td>Chris Wallace</td>\n",
       "      <td>BOS</td>\n",
       "      <td>0</td>\n",
       "      <td>1</td>\n",
       "    </tr>\n",
       "    <tr>\n",
       "      <th>8677</th>\n",
       "      <td>2013</td>\n",
       "      <td>June 30, 2014</td>\n",
       "      <td>Jason Kidd</td>\n",
       "      <td>BRK</td>\n",
       "      <td>0</td>\n",
       "      <td>1</td>\n",
       "    </tr>\n",
       "    <tr>\n",
       "      <th>8678</th>\n",
       "      <td>2017</td>\n",
       "      <td>July 14, 2017</td>\n",
       "      <td>Scott Perry</td>\n",
       "      <td>SAC</td>\n",
       "      <td>0</td>\n",
       "      <td>1</td>\n",
       "    </tr>\n",
       "  </tbody>\n",
       "</table>\n",
       "<p>8679 rows × 6 columns</p>\n",
       "</div>"
      ],
      "text/plain": [
       "      season_start               date      player_name team_abv  waived  \\\n",
       "0             1990       July 5, 1990    Anthony Bowie      HOU       1   \n",
       "1             1990       July 9, 1990      Randy Allen      SAC       1   \n",
       "2             1990       July 9, 1990  Michael Jackson      SAC       1   \n",
       "3             1990      July 24, 1990    Melvin Turpin      WSB       1   \n",
       "4             1990    August 10, 1990    Scott Haffner      MIA       1   \n",
       "...            ...                ...              ...      ...     ...   \n",
       "8674          1991       May 11, 1992    Mike Dunleavy      LAL       0   \n",
       "8675          1995  September 1, 1995        Pat Riley      NYK       0   \n",
       "8676          1996       May 27, 1997    Chris Wallace      BOS       0   \n",
       "8677          2013      June 30, 2014       Jason Kidd      BRK       0   \n",
       "8678          2017      July 14, 2017      Scott Perry      SAC       0   \n",
       "\n",
       "      traded  \n",
       "0          0  \n",
       "1          0  \n",
       "2          0  \n",
       "3          0  \n",
       "4          0  \n",
       "...      ...  \n",
       "8674       1  \n",
       "8675       1  \n",
       "8676       1  \n",
       "8677       1  \n",
       "8678       1  \n",
       "\n",
       "[8679 rows x 6 columns]"
      ]
     },
     "execution_count": 9,
     "metadata": {},
     "output_type": "execute_result"
    }
   ],
   "source": [
    "transaction_df"
   ]
  },
  {
   "cell_type": "code",
   "execution_count": 15,
   "metadata": {},
   "outputs": [
    {
     "name": "stdout",
     "output_type": "stream",
     "text": [
      "1005\n",
      "159\n"
     ]
    }
   ],
   "source": [
    "no_match_count = 0\n",
    "many_match_count = 0\n",
    "\n",
    "for i in range(len(transaction_df)):\n",
    "    num_matches = len(players.find_players_by_full_name(unidecode(transaction_df.loc[i, \"player_name\"])))\n",
    "    if num_matches == 0:\n",
    "        no_match_count += 1\n",
    "    elif len(players.find_players_by_full_name(unidecode(transaction_df.loc[i, \"player_name\"]))) > 1:\n",
    "        many_match_count += 1\n",
    "\n",
    "print(no_match_count)\n",
    "print(many_match_count)"
   ]
  },
  {
   "cell_type": "code",
   "execution_count": 16,
   "metadata": {},
   "outputs": [
    {
     "data": {
      "text/plain": [
       "[{'id': 78386,\n",
       "  'full_name': 'Mel Turpin',\n",
       "  'first_name': 'Mel',\n",
       "  'last_name': 'Turpin',\n",
       "  'is_active': False}]"
      ]
     },
     "execution_count": 16,
     "metadata": {},
     "output_type": "execute_result"
    }
   ],
   "source": [
    "players.find_players_by_full_name(\"Turpin\")"
   ]
  },
  {
   "cell_type": "code",
   "execution_count": 18,
   "metadata": {},
   "outputs": [],
   "source": [
    "no_id_df = transaction_df[transaction_df[\"player_name\"].apply(unidecode).apply(players.find_players_by_full_name).apply(len) == 0]"
   ]
  },
  {
   "cell_type": "code",
   "execution_count": 21,
   "metadata": {},
   "outputs": [],
   "source": [
    "many_ids_df = transaction_df[transaction_df[\"player_name\"].apply(unidecode).apply(players.find_players_by_full_name).apply(len) > 1]"
   ]
  },
  {
   "cell_type": "code",
   "execution_count": 19,
   "metadata": {},
   "outputs": [
    {
     "data": {
      "text/html": [
       "<div>\n",
       "<style scoped>\n",
       "    .dataframe tbody tr th:only-of-type {\n",
       "        vertical-align: middle;\n",
       "    }\n",
       "\n",
       "    .dataframe tbody tr th {\n",
       "        vertical-align: top;\n",
       "    }\n",
       "\n",
       "    .dataframe thead th {\n",
       "        text-align: right;\n",
       "    }\n",
       "</style>\n",
       "<table border=\"1\" class=\"dataframe\">\n",
       "  <thead>\n",
       "    <tr style=\"text-align: right;\">\n",
       "      <th></th>\n",
       "      <th>season_start</th>\n",
       "      <th>date</th>\n",
       "      <th>player_name</th>\n",
       "      <th>team_abv</th>\n",
       "      <th>waived</th>\n",
       "      <th>traded</th>\n",
       "    </tr>\n",
       "  </thead>\n",
       "  <tbody>\n",
       "    <tr>\n",
       "      <th>3</th>\n",
       "      <td>1990</td>\n",
       "      <td>July 24, 1990</td>\n",
       "      <td>Melvin Turpin</td>\n",
       "      <td>WSB</td>\n",
       "      <td>1</td>\n",
       "      <td>0</td>\n",
       "    </tr>\n",
       "    <tr>\n",
       "      <th>14</th>\n",
       "      <td>1990</td>\n",
       "      <td>October 19, 1990</td>\n",
       "      <td>Steve Bardo</td>\n",
       "      <td>ATL</td>\n",
       "      <td>1</td>\n",
       "      <td>0</td>\n",
       "    </tr>\n",
       "    <tr>\n",
       "      <th>28</th>\n",
       "      <td>1990</td>\n",
       "      <td>October 30, 1990</td>\n",
       "      <td>Mike Holton</td>\n",
       "      <td>CHH</td>\n",
       "      <td>1</td>\n",
       "      <td>0</td>\n",
       "    </tr>\n",
       "    <tr>\n",
       "      <th>81</th>\n",
       "      <td>1990</td>\n",
       "      <td>May 21, 1991</td>\n",
       "      <td>Dave Greenwood</td>\n",
       "      <td>SAS</td>\n",
       "      <td>1</td>\n",
       "      <td>0</td>\n",
       "    </tr>\n",
       "    <tr>\n",
       "      <th>134</th>\n",
       "      <td>1991</td>\n",
       "      <td>November 12, 1991</td>\n",
       "      <td>Steve Bardo</td>\n",
       "      <td>SAS</td>\n",
       "      <td>1</td>\n",
       "      <td>0</td>\n",
       "    </tr>\n",
       "    <tr>\n",
       "      <th>...</th>\n",
       "      <td>...</td>\n",
       "      <td>...</td>\n",
       "      <td>...</td>\n",
       "      <td>...</td>\n",
       "      <td>...</td>\n",
       "      <td>...</td>\n",
       "    </tr>\n",
       "    <tr>\n",
       "      <th>8664</th>\n",
       "      <td>2023</td>\n",
       "      <td>February 8, 2024</td>\n",
       "      <td>Dimitrios Agravanis</td>\n",
       "      <td>SAC</td>\n",
       "      <td>0</td>\n",
       "      <td>1</td>\n",
       "    </tr>\n",
       "    <tr>\n",
       "      <th>8665</th>\n",
       "      <td>2023</td>\n",
       "      <td>February 8, 2024</td>\n",
       "      <td>Ismael Kamagate</td>\n",
       "      <td>DEN</td>\n",
       "      <td>0</td>\n",
       "      <td>1</td>\n",
       "    </tr>\n",
       "    <tr>\n",
       "      <th>8669</th>\n",
       "      <td>2023</td>\n",
       "      <td>February 8, 2024</td>\n",
       "      <td>Vasilije Micić</td>\n",
       "      <td>OKC</td>\n",
       "      <td>0</td>\n",
       "      <td>1</td>\n",
       "    </tr>\n",
       "    <tr>\n",
       "      <th>8676</th>\n",
       "      <td>1996</td>\n",
       "      <td>May 27, 1997</td>\n",
       "      <td>Chris Wallace</td>\n",
       "      <td>BOS</td>\n",
       "      <td>0</td>\n",
       "      <td>1</td>\n",
       "    </tr>\n",
       "    <tr>\n",
       "      <th>8678</th>\n",
       "      <td>2017</td>\n",
       "      <td>July 14, 2017</td>\n",
       "      <td>Scott Perry</td>\n",
       "      <td>SAC</td>\n",
       "      <td>0</td>\n",
       "      <td>1</td>\n",
       "    </tr>\n",
       "  </tbody>\n",
       "</table>\n",
       "<p>1005 rows × 6 columns</p>\n",
       "</div>"
      ],
      "text/plain": [
       "      season_start               date          player_name team_abv  waived  \\\n",
       "3             1990      July 24, 1990        Melvin Turpin      WSB       1   \n",
       "14            1990   October 19, 1990          Steve Bardo      ATL       1   \n",
       "28            1990   October 30, 1990          Mike Holton      CHH       1   \n",
       "81            1990       May 21, 1991       Dave Greenwood      SAS       1   \n",
       "134           1991  November 12, 1991          Steve Bardo      SAS       1   \n",
       "...            ...                ...                  ...      ...     ...   \n",
       "8664          2023   February 8, 2024  Dimitrios Agravanis      SAC       0   \n",
       "8665          2023   February 8, 2024      Ismael Kamagate      DEN       0   \n",
       "8669          2023   February 8, 2024       Vasilije Micić      OKC       0   \n",
       "8676          1996       May 27, 1997        Chris Wallace      BOS       0   \n",
       "8678          2017      July 14, 2017          Scott Perry      SAC       0   \n",
       "\n",
       "      traded  \n",
       "3          0  \n",
       "14         0  \n",
       "28         0  \n",
       "81         0  \n",
       "134        0  \n",
       "...      ...  \n",
       "8664       1  \n",
       "8665       1  \n",
       "8669       1  \n",
       "8676       1  \n",
       "8678       1  \n",
       "\n",
       "[1005 rows x 6 columns]"
      ]
     },
     "execution_count": 19,
     "metadata": {},
     "output_type": "execute_result"
    }
   ],
   "source": [
    "no_id_df"
   ]
  },
  {
   "cell_type": "code",
   "execution_count": 22,
   "metadata": {},
   "outputs": [
    {
     "data": {
      "text/html": [
       "<div>\n",
       "<style scoped>\n",
       "    .dataframe tbody tr th:only-of-type {\n",
       "        vertical-align: middle;\n",
       "    }\n",
       "\n",
       "    .dataframe tbody tr th {\n",
       "        vertical-align: top;\n",
       "    }\n",
       "\n",
       "    .dataframe thead th {\n",
       "        text-align: right;\n",
       "    }\n",
       "</style>\n",
       "<table border=\"1\" class=\"dataframe\">\n",
       "  <thead>\n",
       "    <tr style=\"text-align: right;\">\n",
       "      <th></th>\n",
       "      <th>season_start</th>\n",
       "      <th>date</th>\n",
       "      <th>player_name</th>\n",
       "      <th>team_abv</th>\n",
       "      <th>waived</th>\n",
       "      <th>traded</th>\n",
       "    </tr>\n",
       "  </thead>\n",
       "  <tbody>\n",
       "    <tr>\n",
       "      <th>64</th>\n",
       "      <td>1990</td>\n",
       "      <td>December 24, 1990</td>\n",
       "      <td>Reggie Williams</td>\n",
       "      <td>SAS</td>\n",
       "      <td>1</td>\n",
       "      <td>0</td>\n",
       "    </tr>\n",
       "    <tr>\n",
       "      <th>90</th>\n",
       "      <td>1991</td>\n",
       "      <td>October 2, 1991</td>\n",
       "      <td>Larry Drew</td>\n",
       "      <td>LAL</td>\n",
       "      <td>1</td>\n",
       "      <td>0</td>\n",
       "    </tr>\n",
       "    <tr>\n",
       "      <th>105</th>\n",
       "      <td>1991</td>\n",
       "      <td>October 28, 1991</td>\n",
       "      <td>Gerald Henderson</td>\n",
       "      <td>HOU</td>\n",
       "      <td>1</td>\n",
       "      <td>0</td>\n",
       "    </tr>\n",
       "    <tr>\n",
       "      <th>122</th>\n",
       "      <td>1991</td>\n",
       "      <td>October 30, 1991</td>\n",
       "      <td>Michael Smith</td>\n",
       "      <td>BOS</td>\n",
       "      <td>1</td>\n",
       "      <td>0</td>\n",
       "    </tr>\n",
       "    <tr>\n",
       "      <th>172</th>\n",
       "      <td>1991</td>\n",
       "      <td>January 7, 1992</td>\n",
       "      <td>Gerald Henderson</td>\n",
       "      <td>HOU</td>\n",
       "      <td>1</td>\n",
       "      <td>0</td>\n",
       "    </tr>\n",
       "    <tr>\n",
       "      <th>...</th>\n",
       "      <td>...</td>\n",
       "      <td>...</td>\n",
       "      <td>...</td>\n",
       "      <td>...</td>\n",
       "      <td>...</td>\n",
       "      <td>...</td>\n",
       "    </tr>\n",
       "    <tr>\n",
       "      <th>7560</th>\n",
       "      <td>2016</td>\n",
       "      <td>January 7, 2017</td>\n",
       "      <td>Mike Dunleavy</td>\n",
       "      <td>CLE</td>\n",
       "      <td>0</td>\n",
       "      <td>1</td>\n",
       "    </tr>\n",
       "    <tr>\n",
       "      <th>8017</th>\n",
       "      <td>2019</td>\n",
       "      <td>February 6, 2020</td>\n",
       "      <td>Glenn Robinson</td>\n",
       "      <td>GSW</td>\n",
       "      <td>0</td>\n",
       "      <td>1</td>\n",
       "    </tr>\n",
       "    <tr>\n",
       "      <th>8131</th>\n",
       "      <td>2020</td>\n",
       "      <td>December 2, 2020</td>\n",
       "      <td>John Wall</td>\n",
       "      <td>WAS</td>\n",
       "      <td>0</td>\n",
       "      <td>1</td>\n",
       "    </tr>\n",
       "    <tr>\n",
       "      <th>8470</th>\n",
       "      <td>2022</td>\n",
       "      <td>February 9, 2023</td>\n",
       "      <td>John Wall</td>\n",
       "      <td>LAC</td>\n",
       "      <td>0</td>\n",
       "      <td>1</td>\n",
       "    </tr>\n",
       "    <tr>\n",
       "      <th>8674</th>\n",
       "      <td>1991</td>\n",
       "      <td>May 11, 1992</td>\n",
       "      <td>Mike Dunleavy</td>\n",
       "      <td>LAL</td>\n",
       "      <td>0</td>\n",
       "      <td>1</td>\n",
       "    </tr>\n",
       "  </tbody>\n",
       "</table>\n",
       "<p>159 rows × 6 columns</p>\n",
       "</div>"
      ],
      "text/plain": [
       "      season_start               date       player_name team_abv  waived  \\\n",
       "64            1990  December 24, 1990   Reggie Williams      SAS       1   \n",
       "90            1991    October 2, 1991        Larry Drew      LAL       1   \n",
       "105           1991   October 28, 1991  Gerald Henderson      HOU       1   \n",
       "122           1991   October 30, 1991     Michael Smith      BOS       1   \n",
       "172           1991    January 7, 1992  Gerald Henderson      HOU       1   \n",
       "...            ...                ...               ...      ...     ...   \n",
       "7560          2016    January 7, 2017     Mike Dunleavy      CLE       0   \n",
       "8017          2019   February 6, 2020    Glenn Robinson      GSW       0   \n",
       "8131          2020   December 2, 2020         John Wall      WAS       0   \n",
       "8470          2022   February 9, 2023         John Wall      LAC       0   \n",
       "8674          1991       May 11, 1992     Mike Dunleavy      LAL       0   \n",
       "\n",
       "      traded  \n",
       "64         0  \n",
       "90         0  \n",
       "105        0  \n",
       "122        0  \n",
       "172        0  \n",
       "...      ...  \n",
       "7560       1  \n",
       "8017       1  \n",
       "8131       1  \n",
       "8470       1  \n",
       "8674       1  \n",
       "\n",
       "[159 rows x 6 columns]"
      ]
     },
     "execution_count": 22,
     "metadata": {},
     "output_type": "execute_result"
    }
   ],
   "source": [
    "many_ids_df"
   ]
  },
  {
   "cell_type": "code",
   "execution_count": 27,
   "metadata": {},
   "outputs": [
    {
     "data": {
      "text/plain": [
       "[{'id': 203995,\n",
       "  'full_name': 'Vasilije Micić',\n",
       "  'first_name': 'Vasilije',\n",
       "  'last_name': 'Micić',\n",
       "  'is_active': True}]"
      ]
     },
     "execution_count": 27,
     "metadata": {},
     "output_type": "execute_result"
    }
   ],
   "source": [
    "players.find_players_by_full_name(\"Vasilije Micić\")"
   ]
  },
  {
   "cell_type": "code",
   "execution_count": 26,
   "metadata": {},
   "outputs": [
    {
     "data": {
      "text/plain": [
       "'Micic'"
      ]
     },
     "execution_count": 26,
     "metadata": {},
     "output_type": "execute_result"
    }
   ],
   "source": [
    "unidecode(\"Micić\")"
   ]
  },
  {
   "cell_type": "code",
   "execution_count": 39,
   "metadata": {},
   "outputs": [
    {
     "name": "stdout",
     "output_type": "stream",
     "text": [
      "No match count: 456\n",
      "Unique match count: 147\n",
      "Many match count: 402\n"
     ]
    }
   ],
   "source": [
    "no_match_count = 0\n",
    "unique_match_count = 0\n",
    "many_match_count = 0\n",
    "\n",
    "for i in no_id_df.index:\n",
    "    num_matches = len(players.find_players_by_last_name((no_id_df.loc[i, \"player_name\"]).split()[-1]))\n",
    "    if num_matches == 0:\n",
    "        no_match_count += 1\n",
    "    elif num_matches == 1:\n",
    "        unique_match_count += 1\n",
    "    else:\n",
    "        many_match_count += 1\n",
    "\n",
    "print(\"No match count:\", no_match_count)\n",
    "print(\"Unique match count:\", unique_match_count)\n",
    "print(\"Many match count:\", many_match_count)"
   ]
  },
  {
   "cell_type": "code",
   "execution_count": 31,
   "metadata": {},
   "outputs": [
    {
     "data": {
      "text/plain": [
       "[{'id': 77047,\n",
       "  'full_name': 'Michael Holton',\n",
       "  'first_name': 'Michael',\n",
       "  'last_name': 'Holton',\n",
       "  'is_active': False}]"
      ]
     },
     "execution_count": 31,
     "metadata": {},
     "output_type": "execute_result"
    }
   ],
   "source": [
    "players.find_players_by_full_name(\"Holton\")"
   ]
  },
  {
   "cell_type": "code",
   "execution_count": 41,
   "metadata": {},
   "outputs": [
    {
     "name": "stdout",
     "output_type": "stream",
     "text": [
      "25\n"
     ]
    }
   ],
   "source": [
    "match_count = 0\n",
    "\n",
    "for i in no_id_df.index:\n",
    "    num_matches = len(players.find_players_by_full_name((no_id_df.loc[i, \"player_name\"])))\n",
    "    if num_matches > 0:\n",
    "        match_count += 1\n",
    "\n",
    "print(match_count)"
   ]
  },
  {
   "cell_type": "code",
   "execution_count": null,
   "metadata": {},
   "outputs": [],
   "source": []
  }
 ],
 "metadata": {
  "kernelspec": {
   "display_name": "erdos_fall_2024",
   "language": "python",
   "name": "python3"
  },
  "language_info": {
   "codemirror_mode": {
    "name": "ipython",
    "version": 3
   },
   "file_extension": ".py",
   "mimetype": "text/x-python",
   "name": "python",
   "nbconvert_exporter": "python",
   "pygments_lexer": "ipython3",
   "version": "3.12.5"
  },
  "orig_nbformat": 4
 },
 "nbformat": 4,
 "nbformat_minor": 2
}
