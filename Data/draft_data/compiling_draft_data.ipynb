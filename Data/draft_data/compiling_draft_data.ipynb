{
 "cells": [
  {
   "cell_type": "markdown",
   "id": "91c62e13-485c-48df-869f-5e43a35670a5",
   "metadata": {},
   "source": [
    "# Compiling draft data\n",
    "\n",
    "It'd be useful to have a dataframe with the format `PLAYER_ID, DRAFT_POSITION` giving where they were drafted (and something like NAN, which we can handle later, if they were never drafted).\n",
    "\n",
    "There is a Kaggle dataset here (https://www.kaggle.com/datasets/mattop/nba-draft-basketball-player-data-19892021) which has data from Basketball Reference through the 2021 draft.\n",
    "\n",
    "In this notebook we'll load that data and combine it with data from Basketball Reference (which I just exported as CSV on the website and copy-pasted into CSV files) for 2022, 2023.  Because the 2024 season is ongoing, we won't be able to use it for this project."
   ]
  },
  {
   "cell_type": "code",
   "execution_count": 1,
   "id": "b37aa58f-0fbd-4713-b747-febf8c2d2724",
   "metadata": {},
   "outputs": [],
   "source": [
    "import numpy as np\n",
    "import pandas as pd"
   ]
  },
  {
   "cell_type": "code",
   "execution_count": 2,
   "id": "caa728a1-36c4-41ce-9735-4a3b3d266db8",
   "metadata": {},
   "outputs": [],
   "source": [
    "kaggle_df = pd.read_csv(\"kaggle_draft_to_2021.csv\")\n",
    "df_2022 = pd.read_csv(\"draft_2022.csv\")\n",
    "df_2023 = pd.read_csv(\"draft_2023.csv\")"
   ]
  },
  {
   "cell_type": "code",
   "execution_count": 3,
   "id": "4c75fa8e-60b6-47a5-933d-36988135524b",
   "metadata": {},
   "outputs": [
    {
     "name": "stdout",
     "output_type": "stream",
     "text": [
      "Index(['id', 'year', 'rank', 'overall_pick', 'team', 'player', 'college',\n",
      "       'years_active', 'games', 'minutes_played', 'points', 'total_rebounds',\n",
      "       'assists', 'field_goal_percentage', '3_point_percentage',\n",
      "       'free_throw_percentage', 'average_minutes_played', 'points_per_game',\n",
      "       'average_total_rebounds', 'average_assists', 'win_shares',\n",
      "       'win_shares_per_48_minutes', 'box_plus_minus',\n",
      "       'value_over_replacement'],\n",
      "      dtype='object')\n",
      "Index(['Rk', 'Pk', 'Tm', 'Player', 'College', 'Yrs', 'G', 'MP', 'PTS', 'TRB',\n",
      "       'AST', 'FG%', '3P%', 'FT%', 'MP.1', 'PTS.1', 'TRB.1', 'AST.1', 'WS',\n",
      "       'WS/48', 'BPM', 'VORP'],\n",
      "      dtype='object')\n"
     ]
    }
   ],
   "source": [
    "print(kaggle_df.columns)\n",
    "print(df_2022.columns)"
   ]
  },
  {
   "cell_type": "code",
   "execution_count": 4,
   "id": "9b4511a7-6730-41d7-b4cf-e948e2bb5dd2",
   "metadata": {},
   "outputs": [],
   "source": [
    "#let's keep just \"overall_pick\", \"player\" from the Kaggle data\n",
    "k_df = kaggle_df[[\"player\", \"overall_pick\"]].copy()"
   ]
  },
  {
   "cell_type": "code",
   "execution_count": 5,
   "id": "fb167664-ede8-42bf-8566-4cf213cf2073",
   "metadata": {},
   "outputs": [],
   "source": [
    "df_22 = df_2022[[\"Player\", \"Pk\"]].copy()\n",
    "df_22.rename(columns={\"Player\":\"player\", \"Pk\":\"overall_pick\"}, inplace=True)"
   ]
  },
  {
   "cell_type": "code",
   "execution_count": 6,
   "id": "eeda362f-47f2-44d6-b1e8-9a6e8f8735a3",
   "metadata": {},
   "outputs": [],
   "source": [
    "df_23 = df_2023[[\"Player\", \"Pk\"]].copy()\n",
    "df_23.rename(columns={\"Player\":\"player\", \"Pk\":\"overall_pick\"}, inplace=True)"
   ]
  },
  {
   "cell_type": "code",
   "execution_count": 7,
   "id": "46fcb2b8-3017-406b-804f-37ea054ac65c",
   "metadata": {},
   "outputs": [],
   "source": [
    "total_df = pd.concat([k_df, df_22, df_23])"
   ]
  },
  {
   "cell_type": "code",
   "execution_count": 8,
   "id": "827aa72b-40c1-4508-b375-38ef231a8062",
   "metadata": {},
   "outputs": [],
   "source": [
    "#drop NAN player names (appears in total_df when a team forfeited a draft pick)\n",
    "total_df.dropna(inplace=True)"
   ]
  },
  {
   "cell_type": "code",
   "execution_count": 9,
   "id": "6b3624ca-7242-4a2a-a8ad-c96786ab8974",
   "metadata": {},
   "outputs": [],
   "source": [
    "#cast overall_pick from float to integer\n",
    "total_df[\"overall_pick\"] = total_df.overall_pick.astype(\"Int64\")"
   ]
  },
  {
   "cell_type": "code",
   "execution_count": 10,
   "id": "36bf4d2e-2142-413a-980e-64f1445f4e7c",
   "metadata": {},
   "outputs": [
    {
     "data": {
      "text/html": [
       "<div>\n",
       "<style scoped>\n",
       "    .dataframe tbody tr th:only-of-type {\n",
       "        vertical-align: middle;\n",
       "    }\n",
       "\n",
       "    .dataframe tbody tr th {\n",
       "        vertical-align: top;\n",
       "    }\n",
       "\n",
       "    .dataframe thead th {\n",
       "        text-align: right;\n",
       "    }\n",
       "</style>\n",
       "<table border=\"1\" class=\"dataframe\">\n",
       "  <thead>\n",
       "    <tr style=\"text-align: right;\">\n",
       "      <th></th>\n",
       "      <th>player</th>\n",
       "      <th>overall_pick</th>\n",
       "    </tr>\n",
       "  </thead>\n",
       "  <tbody>\n",
       "    <tr>\n",
       "      <th>0</th>\n",
       "      <td>Pervis Ellison</td>\n",
       "      <td>1</td>\n",
       "    </tr>\n",
       "    <tr>\n",
       "      <th>1</th>\n",
       "      <td>Danny Ferry</td>\n",
       "      <td>2</td>\n",
       "    </tr>\n",
       "    <tr>\n",
       "      <th>2</th>\n",
       "      <td>Sean Elliott</td>\n",
       "      <td>3</td>\n",
       "    </tr>\n",
       "    <tr>\n",
       "      <th>3</th>\n",
       "      <td>Glen Rice</td>\n",
       "      <td>4</td>\n",
       "    </tr>\n",
       "    <tr>\n",
       "      <th>4</th>\n",
       "      <td>J.R. Reid</td>\n",
       "      <td>5</td>\n",
       "    </tr>\n",
       "    <tr>\n",
       "      <th>...</th>\n",
       "      <td>...</td>\n",
       "      <td>...</td>\n",
       "    </tr>\n",
       "    <tr>\n",
       "      <th>53</th>\n",
       "      <td>Jalen Slawson</td>\n",
       "      <td>54</td>\n",
       "    </tr>\n",
       "    <tr>\n",
       "      <th>54</th>\n",
       "      <td>Isaiah Wong</td>\n",
       "      <td>55</td>\n",
       "    </tr>\n",
       "    <tr>\n",
       "      <th>55</th>\n",
       "      <td>Tarik Biberovic</td>\n",
       "      <td>56</td>\n",
       "    </tr>\n",
       "    <tr>\n",
       "      <th>56</th>\n",
       "      <td>Trayce Jackson-Davis</td>\n",
       "      <td>57</td>\n",
       "    </tr>\n",
       "    <tr>\n",
       "      <th>57</th>\n",
       "      <td>Chris Livingston</td>\n",
       "      <td>58</td>\n",
       "    </tr>\n",
       "  </tbody>\n",
       "</table>\n",
       "<p>2038 rows × 2 columns</p>\n",
       "</div>"
      ],
      "text/plain": [
       "                  player  overall_pick\n",
       "0         Pervis Ellison             1\n",
       "1            Danny Ferry             2\n",
       "2           Sean Elliott             3\n",
       "3              Glen Rice             4\n",
       "4              J.R. Reid             5\n",
       "..                   ...           ...\n",
       "53         Jalen Slawson            54\n",
       "54           Isaiah Wong            55\n",
       "55       Tarik Biberovic            56\n",
       "56  Trayce Jackson-Davis            57\n",
       "57      Chris Livingston            58\n",
       "\n",
       "[2038 rows x 2 columns]"
      ]
     },
     "execution_count": 10,
     "metadata": {},
     "output_type": "execute_result"
    }
   ],
   "source": [
    "total_df"
   ]
  },
  {
   "cell_type": "markdown",
   "id": "d8f21641-ae20-4b5c-96c6-b5f1df0070c5",
   "metadata": {},
   "source": [
    "# Get `nba_api` player IDs"
   ]
  },
  {
   "cell_type": "code",
   "execution_count": 11,
   "id": "0f1be26a-2056-4105-b376-e8017f71882c",
   "metadata": {},
   "outputs": [],
   "source": [
    "from nba_api.stats.static import players"
   ]
  },
  {
   "cell_type": "code",
   "execution_count": 12,
   "id": "4b9699e5-0815-44a0-8c44-b2d35d4f9148",
   "metadata": {},
   "outputs": [],
   "source": [
    "def find_nba_id(x):     \n",
    "    matches = players.find_players_by_full_name(x.player)\n",
    "\n",
    "    if len(matches) == 0:\n",
    "        return np.nan\n",
    "\n",
    "    player_id = matches[0][\"id\"]\n",
    "\n",
    "    return player_id"
   ]
  },
  {
   "cell_type": "code",
   "execution_count": 13,
   "id": "c59fee41-ff63-4184-b01b-56d6e40af7b1",
   "metadata": {
    "scrolled": true
   },
   "outputs": [],
   "source": [
    "total_df[\"PLAYER_ID\"] = total_df.apply(find_nba_id, axis=1).astype(\"Int64\")"
   ]
  },
  {
   "cell_type": "code",
   "execution_count": 14,
   "id": "d52dfcc1-3ee0-4d58-a1d7-6d4ba2920bf1",
   "metadata": {},
   "outputs": [
    {
     "name": "stdout",
     "output_type": "stream",
     "text": [
      "<class 'pandas.core.frame.DataFrame'>\n",
      "Index: 2038 entries, 0 to 57\n",
      "Data columns (total 3 columns):\n",
      " #   Column        Non-Null Count  Dtype \n",
      "---  ------        --------------  ----- \n",
      " 0   player        2038 non-null   object\n",
      " 1   overall_pick  2038 non-null   Int64 \n",
      " 2   PLAYER_ID     1672 non-null   Int64 \n",
      "dtypes: Int64(2), object(1)\n",
      "memory usage: 67.7+ KB\n"
     ]
    }
   ],
   "source": [
    "#notice we have about 360 NAN player IDs; I think these are players who were drafted and then never\n",
    "#played in the NBA\n",
    "total_df.info()"
   ]
  },
  {
   "cell_type": "code",
   "execution_count": 15,
   "id": "5fa1c501-8cf6-4649-ac63-48d1b6de21a1",
   "metadata": {},
   "outputs": [],
   "source": [
    "#drop all NAN rows, rename columns to match with season_counting_stats\n",
    "final_df = total_df.dropna().copy()\n",
    "final_df.rename(columns={\"player\":\"NAME\", \"overall_pick\":\"OVERALL_PICK\"}, inplace=True)"
   ]
  },
  {
   "cell_type": "markdown",
   "id": "8f756e20-88b6-4918-9b17-2e9eb717a1c4",
   "metadata": {},
   "source": [
    "# Export draft position data"
   ]
  },
  {
   "cell_type": "code",
   "execution_count": 16,
   "id": "7a59bbae-be5d-4a1f-9ad8-eaaf18985e34",
   "metadata": {},
   "outputs": [],
   "source": [
    "final_df.to_csv(\"draft_position.csv\", index=False)"
   ]
  },
  {
   "cell_type": "code",
   "execution_count": null,
   "id": "db5d5b82-cb7a-4560-8ecd-f8fbdc9dfcbf",
   "metadata": {},
   "outputs": [],
   "source": []
  }
 ],
 "metadata": {
  "kernelspec": {
   "display_name": "Python 3 (ipykernel)",
   "language": "python",
   "name": "python3"
  },
  "language_info": {
   "codemirror_mode": {
    "name": "ipython",
    "version": 3
   },
   "file_extension": ".py",
   "mimetype": "text/x-python",
   "name": "python",
   "nbconvert_exporter": "python",
   "pygments_lexer": "ipython3",
   "version": "3.12.5"
  }
 },
 "nbformat": 4,
 "nbformat_minor": 5
}
