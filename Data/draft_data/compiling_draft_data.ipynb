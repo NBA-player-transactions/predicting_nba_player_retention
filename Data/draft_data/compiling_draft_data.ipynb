{
 "cells": [
  {
   "cell_type": "markdown",
   "id": "91c62e13-485c-48df-869f-5e43a35670a5",
   "metadata": {},
   "source": [
    "# Compiling draft data\n",
    "\n",
    "It'd be useful to have a dataframe with the format `PLAYER_ID, DRAFT_POSITION` giving where they were drafted (and something like NAN, which we can handle later, if they were never drafted).\n",
    "\n",
    "There is a Kaggle dataset here (https://www.kaggle.com/datasets/mattop/nba-draft-basketball-player-data-19892021) which has data from Basketball Reference through the 2021 draft.\n",
    "\n",
    "In this notebook we'll load that data and combine it with data from Basketball Reference (which I just exported as CSV on the website and copy-pasted into CSV files) for 2022, 2023.  Because the 2024 season is ongoing, we won't be able to use it for this project."
   ]
  },
  {
   "cell_type": "code",
   "execution_count": 1,
   "id": "b37aa58f-0fbd-4713-b747-febf8c2d2724",
   "metadata": {},
   "outputs": [],
   "source": [
    "import numpy as np\n",
    "import pandas as pd"
   ]
  },
  {
   "cell_type": "code",
   "execution_count": 2,
   "id": "caa728a1-36c4-41ce-9735-4a3b3d266db8",
   "metadata": {},
   "outputs": [],
   "source": [
    "kaggle_df = pd.read_csv(\"nbaplayersdraft.csv\")\n",
    "df_2022 = pd.read_csv(\"draft_2022.csv\")\n",
    "df_2023 = pd.read_csv(\"draft_2023.csv\")"
   ]
  },
  {
   "cell_type": "code",
   "execution_count": 3,
   "id": "4c75fa8e-60b6-47a5-933d-36988135524b",
   "metadata": {},
   "outputs": [
    {
     "name": "stdout",
     "output_type": "stream",
     "text": [
      "Index(['id', 'year', 'rank', 'overall_pick', 'team', 'player', 'college',\n",
      "       'years_active', 'games', 'minutes_played', 'points', 'total_rebounds',\n",
      "       'assists', 'field_goal_percentage', '3_point_percentage',\n",
      "       'free_throw_percentage', 'average_minutes_played', 'points_per_game',\n",
      "       'average_total_rebounds', 'average_assists', 'win_shares',\n",
      "       'win_shares_per_48_minutes', 'box_plus_minus',\n",
      "       'value_over_replacement'],\n",
      "      dtype='object')\n",
      "Index(['Rk', 'Pk', 'Tm', 'Player', 'College', 'Yrs', 'G', 'MP', 'PTS', 'TRB',\n",
      "       'AST', 'FG%', '3P%', 'FT%', 'MP.1', 'PTS.1', 'TRB.1', 'AST.1', 'WS',\n",
      "       'WS/48', 'BPM', 'VORP'],\n",
      "      dtype='object')\n"
     ]
    }
   ],
   "source": [
    "print(kaggle_df.columns)\n",
    "print(df_2022.columns)"
   ]
  },
  {
   "cell_type": "code",
   "execution_count": 13,
   "id": "9b4511a7-6730-41d7-b4cf-e948e2bb5dd2",
   "metadata": {},
   "outputs": [],
   "source": [
    "#let's keep just \"overall_pick\", \"player\" from the Kaggle data\n",
    "k_df = kaggle_df[[\"player\", \"overall_pick\"]].copy()"
   ]
  },
  {
   "cell_type": "code",
   "execution_count": 14,
   "id": "fb167664-ede8-42bf-8566-4cf213cf2073",
   "metadata": {},
   "outputs": [],
   "source": [
    "df_22 = df_2022[[\"Player\", \"Pk\"]].copy()\n",
    "df_22.rename(columns={\"Player\":\"player\", \"Pk\":\"overall_pick\"}, inplace=True)"
   ]
  },
  {
   "cell_type": "code",
   "execution_count": 15,
   "id": "eeda362f-47f2-44d6-b1e8-9a6e8f8735a3",
   "metadata": {},
   "outputs": [],
   "source": [
    "df_23 = df_2023[[\"Player\", \"Pk\"]].copy()\n",
    "df_23.rename(columns={\"Player\":\"player\", \"Pk\":\"overall_pick\"}, inplace=True)"
   ]
  },
  {
   "cell_type": "code",
   "execution_count": 16,
   "id": "46fcb2b8-3017-406b-804f-37ea054ac65c",
   "metadata": {},
   "outputs": [],
   "source": [
    "total_df = pd.concat([k_df, df_22, df_23])"
   ]
  },
  {
   "cell_type": "code",
   "execution_count": 17,
   "id": "827aa72b-40c1-4508-b375-38ef231a8062",
   "metadata": {},
   "outputs": [
    {
     "data": {
      "text/html": [
       "<div>\n",
       "<style scoped>\n",
       "    .dataframe tbody tr th:only-of-type {\n",
       "        vertical-align: middle;\n",
       "    }\n",
       "\n",
       "    .dataframe tbody tr th {\n",
       "        vertical-align: top;\n",
       "    }\n",
       "\n",
       "    .dataframe thead th {\n",
       "        text-align: right;\n",
       "    }\n",
       "</style>\n",
       "<table border=\"1\" class=\"dataframe\">\n",
       "  <thead>\n",
       "    <tr style=\"text-align: right;\">\n",
       "      <th></th>\n",
       "      <th>player</th>\n",
       "      <th>overall_pick</th>\n",
       "    </tr>\n",
       "  </thead>\n",
       "  <tbody>\n",
       "    <tr>\n",
       "      <th>0</th>\n",
       "      <td>Pervis Ellison</td>\n",
       "      <td>1.0</td>\n",
       "    </tr>\n",
       "    <tr>\n",
       "      <th>1</th>\n",
       "      <td>Danny Ferry</td>\n",
       "      <td>2.0</td>\n",
       "    </tr>\n",
       "    <tr>\n",
       "      <th>2</th>\n",
       "      <td>Sean Elliott</td>\n",
       "      <td>3.0</td>\n",
       "    </tr>\n",
       "    <tr>\n",
       "      <th>3</th>\n",
       "      <td>Glen Rice</td>\n",
       "      <td>4.0</td>\n",
       "    </tr>\n",
       "    <tr>\n",
       "      <th>4</th>\n",
       "      <td>J.R. Reid</td>\n",
       "      <td>5.0</td>\n",
       "    </tr>\n",
       "    <tr>\n",
       "      <th>...</th>\n",
       "      <td>...</td>\n",
       "      <td>...</td>\n",
       "    </tr>\n",
       "    <tr>\n",
       "      <th>55</th>\n",
       "      <td>Tarik Biberovic</td>\n",
       "      <td>56.0</td>\n",
       "    </tr>\n",
       "    <tr>\n",
       "      <th>56</th>\n",
       "      <td>Trayce Jackson-Davis</td>\n",
       "      <td>57.0</td>\n",
       "    </tr>\n",
       "    <tr>\n",
       "      <th>57</th>\n",
       "      <td>Chris Livingston</td>\n",
       "      <td>58.0</td>\n",
       "    </tr>\n",
       "    <tr>\n",
       "      <th>58</th>\n",
       "      <td>NaN</td>\n",
       "      <td>NaN</td>\n",
       "    </tr>\n",
       "    <tr>\n",
       "      <th>59</th>\n",
       "      <td>NaN</td>\n",
       "      <td>NaN</td>\n",
       "    </tr>\n",
       "  </tbody>\n",
       "</table>\n",
       "<p>2042 rows × 2 columns</p>\n",
       "</div>"
      ],
      "text/plain": [
       "                  player  overall_pick\n",
       "0         Pervis Ellison           1.0\n",
       "1            Danny Ferry           2.0\n",
       "2           Sean Elliott           3.0\n",
       "3              Glen Rice           4.0\n",
       "4              J.R. Reid           5.0\n",
       "..                   ...           ...\n",
       "55       Tarik Biberovic          56.0\n",
       "56  Trayce Jackson-Davis          57.0\n",
       "57      Chris Livingston          58.0\n",
       "58                   NaN           NaN\n",
       "59                   NaN           NaN\n",
       "\n",
       "[2042 rows x 2 columns]"
      ]
     },
     "execution_count": 17,
     "metadata": {},
     "output_type": "execute_result"
    }
   ],
   "source": [
    "total_df"
   ]
  },
  {
   "cell_type": "markdown",
   "id": "d8f21641-ae20-4b5c-96c6-b5f1df0070c5",
   "metadata": {},
   "source": [
    "# Get `nba_api` player IDs"
   ]
  },
  {
   "cell_type": "code",
   "execution_count": 81,
   "id": "0f1be26a-2056-4105-b376-e8017f71882c",
   "metadata": {},
   "outputs": [],
   "source": [
    "from nba_api.stats.static import players"
   ]
  },
  {
   "cell_type": "code",
   "execution_count": 102,
   "id": "4b9699e5-0815-44a0-8c44-b2d35d4f9148",
   "metadata": {},
   "outputs": [],
   "source": [
    "def find_nba_id(x):\n",
    "    matches = players.find_players_by_full_name(x.player)\n",
    "\n",
    "    if len(matches) == 0:\n",
    "        return np.nan\n",
    "\n",
    "    player_id = matches[0][\"id\"]\n",
    "\n",
    "    return player_id"
   ]
  },
  {
   "cell_type": "raw",
   "id": "b0284ae1-eafc-4255-a8ab-913f2dcabe02",
   "metadata": {},
   "source": [
    "total_df.dropna(inplace=True)"
   ]
  },
  {
   "cell_type": "code",
   "execution_count": 103,
   "id": "c59fee41-ff63-4184-b01b-56d6e40af7b1",
   "metadata": {
    "scrolled": true
   },
   "outputs": [],
   "source": [
    "total_df[\"PLAYER_ID\"] = total_df.apply(find_nba_id, axis=1).astype(\"Int64\")"
   ]
  },
  {
   "cell_type": "code",
   "execution_count": 104,
   "id": "4d87362f-ff52-4b4b-9e44-9e713b1d7b43",
   "metadata": {},
   "outputs": [
    {
     "data": {
      "text/plain": [
       "[]"
      ]
     },
     "execution_count": 104,
     "metadata": {},
     "output_type": "execute_result"
    }
   ],
   "source": [
    "players.find_players_by_full_name(\"Reggie Turner\")"
   ]
  },
  {
   "cell_type": "code",
   "execution_count": 105,
   "id": "d52dfcc1-3ee0-4d58-a1d7-6d4ba2920bf1",
   "metadata": {},
   "outputs": [
    {
     "data": {
      "text/html": [
       "<div>\n",
       "<style scoped>\n",
       "    .dataframe tbody tr th:only-of-type {\n",
       "        vertical-align: middle;\n",
       "    }\n",
       "\n",
       "    .dataframe tbody tr th {\n",
       "        vertical-align: top;\n",
       "    }\n",
       "\n",
       "    .dataframe thead th {\n",
       "        text-align: right;\n",
       "    }\n",
       "</style>\n",
       "<table border=\"1\" class=\"dataframe\">\n",
       "  <thead>\n",
       "    <tr style=\"text-align: right;\">\n",
       "      <th></th>\n",
       "      <th>player</th>\n",
       "      <th>overall_pick</th>\n",
       "      <th>PLAYER_ID</th>\n",
       "    </tr>\n",
       "  </thead>\n",
       "  <tbody>\n",
       "    <tr>\n",
       "      <th>41</th>\n",
       "      <td>Michael Cutright</td>\n",
       "      <td>42.0</td>\n",
       "      <td>&lt;NA&gt;</td>\n",
       "    </tr>\n",
       "    <tr>\n",
       "      <th>43</th>\n",
       "      <td>Reggie Cross</td>\n",
       "      <td>44.0</td>\n",
       "      <td>&lt;NA&gt;</td>\n",
       "    </tr>\n",
       "    <tr>\n",
       "      <th>46</th>\n",
       "      <td>Reggie Turner</td>\n",
       "      <td>47.0</td>\n",
       "      <td>&lt;NA&gt;</td>\n",
       "    </tr>\n",
       "    <tr>\n",
       "      <th>47</th>\n",
       "      <td>Junie Lewis</td>\n",
       "      <td>48.0</td>\n",
       "      <td>&lt;NA&gt;</td>\n",
       "    </tr>\n",
       "    <tr>\n",
       "      <th>52</th>\n",
       "      <td>Jeff Hodge</td>\n",
       "      <td>53.0</td>\n",
       "      <td>&lt;NA&gt;</td>\n",
       "    </tr>\n",
       "    <tr>\n",
       "      <th>...</th>\n",
       "      <td>...</td>\n",
       "      <td>...</td>\n",
       "      <td>...</td>\n",
       "    </tr>\n",
       "    <tr>\n",
       "      <th>55</th>\n",
       "      <td>Luke Travers</td>\n",
       "      <td>56.0</td>\n",
       "      <td>&lt;NA&gt;</td>\n",
       "    </tr>\n",
       "    <tr>\n",
       "      <th>57</th>\n",
       "      <td>Hugo Besson</td>\n",
       "      <td>58.0</td>\n",
       "      <td>&lt;NA&gt;</td>\n",
       "    </tr>\n",
       "    <tr>\n",
       "      <th>30</th>\n",
       "      <td>James Nnaji</td>\n",
       "      <td>31.0</td>\n",
       "      <td>&lt;NA&gt;</td>\n",
       "    </tr>\n",
       "    <tr>\n",
       "      <th>46</th>\n",
       "      <td>Mojave King</td>\n",
       "      <td>47.0</td>\n",
       "      <td>&lt;NA&gt;</td>\n",
       "    </tr>\n",
       "    <tr>\n",
       "      <th>55</th>\n",
       "      <td>Tarik Biberovic</td>\n",
       "      <td>56.0</td>\n",
       "      <td>&lt;NA&gt;</td>\n",
       "    </tr>\n",
       "  </tbody>\n",
       "</table>\n",
       "<p>366 rows × 3 columns</p>\n",
       "</div>"
      ],
      "text/plain": [
       "              player  overall_pick  PLAYER_ID\n",
       "41  Michael Cutright          42.0       <NA>\n",
       "43      Reggie Cross          44.0       <NA>\n",
       "46     Reggie Turner          47.0       <NA>\n",
       "47       Junie Lewis          48.0       <NA>\n",
       "52        Jeff Hodge          53.0       <NA>\n",
       "..               ...           ...        ...\n",
       "55      Luke Travers          56.0       <NA>\n",
       "57       Hugo Besson          58.0       <NA>\n",
       "30       James Nnaji          31.0       <NA>\n",
       "46       Mojave King          47.0       <NA>\n",
       "55   Tarik Biberovic          56.0       <NA>\n",
       "\n",
       "[366 rows x 3 columns]"
      ]
     },
     "execution_count": 105,
     "metadata": {},
     "output_type": "execute_result"
    }
   ],
   "source": [
    "total_df[total_df[\"PLAYER_ID\"].isna()]"
   ]
  },
  {
   "cell_type": "code",
   "execution_count": 107,
   "id": "5fa1c501-8cf6-4649-ac63-48d1b6de21a1",
   "metadata": {},
   "outputs": [
    {
     "data": {
      "text/html": [
       "<div>\n",
       "<style scoped>\n",
       "    .dataframe tbody tr th:only-of-type {\n",
       "        vertical-align: middle;\n",
       "    }\n",
       "\n",
       "    .dataframe tbody tr th {\n",
       "        vertical-align: top;\n",
       "    }\n",
       "\n",
       "    .dataframe thead th {\n",
       "        text-align: right;\n",
       "    }\n",
       "</style>\n",
       "<table border=\"1\" class=\"dataframe\">\n",
       "  <thead>\n",
       "    <tr style=\"text-align: right;\">\n",
       "      <th></th>\n",
       "      <th>player</th>\n",
       "      <th>overall_pick</th>\n",
       "      <th>PLAYER_ID</th>\n",
       "    </tr>\n",
       "  </thead>\n",
       "  <tbody>\n",
       "    <tr>\n",
       "      <th>0</th>\n",
       "      <td>Pervis Ellison</td>\n",
       "      <td>1.0</td>\n",
       "      <td>442</td>\n",
       "    </tr>\n",
       "    <tr>\n",
       "      <th>1</th>\n",
       "      <td>Danny Ferry</td>\n",
       "      <td>2.0</td>\n",
       "      <td>198</td>\n",
       "    </tr>\n",
       "    <tr>\n",
       "      <th>2</th>\n",
       "      <td>Sean Elliott</td>\n",
       "      <td>3.0</td>\n",
       "      <td>251</td>\n",
       "    </tr>\n",
       "    <tr>\n",
       "      <th>3</th>\n",
       "      <td>Glen Rice</td>\n",
       "      <td>4.0</td>\n",
       "      <td>779</td>\n",
       "    </tr>\n",
       "    <tr>\n",
       "      <th>4</th>\n",
       "      <td>J.R. Reid</td>\n",
       "      <td>5.0</td>\n",
       "      <td>462</td>\n",
       "    </tr>\n",
       "    <tr>\n",
       "      <th>...</th>\n",
       "      <td>...</td>\n",
       "      <td>...</td>\n",
       "      <td>...</td>\n",
       "    </tr>\n",
       "    <tr>\n",
       "      <th>53</th>\n",
       "      <td>Jalen Slawson</td>\n",
       "      <td>54.0</td>\n",
       "      <td>1641771</td>\n",
       "    </tr>\n",
       "    <tr>\n",
       "      <th>54</th>\n",
       "      <td>Isaiah Wong</td>\n",
       "      <td>55.0</td>\n",
       "      <td>1631209</td>\n",
       "    </tr>\n",
       "    <tr>\n",
       "      <th>55</th>\n",
       "      <td>Tarik Biberovic</td>\n",
       "      <td>56.0</td>\n",
       "      <td>&lt;NA&gt;</td>\n",
       "    </tr>\n",
       "    <tr>\n",
       "      <th>56</th>\n",
       "      <td>Trayce Jackson-Davis</td>\n",
       "      <td>57.0</td>\n",
       "      <td>1631218</td>\n",
       "    </tr>\n",
       "    <tr>\n",
       "      <th>57</th>\n",
       "      <td>Chris Livingston</td>\n",
       "      <td>58.0</td>\n",
       "      <td>1641753</td>\n",
       "    </tr>\n",
       "  </tbody>\n",
       "</table>\n",
       "<p>2038 rows × 3 columns</p>\n",
       "</div>"
      ],
      "text/plain": [
       "                  player  overall_pick  PLAYER_ID\n",
       "0         Pervis Ellison           1.0        442\n",
       "1            Danny Ferry           2.0        198\n",
       "2           Sean Elliott           3.0        251\n",
       "3              Glen Rice           4.0        779\n",
       "4              J.R. Reid           5.0        462\n",
       "..                   ...           ...        ...\n",
       "53         Jalen Slawson          54.0    1641771\n",
       "54           Isaiah Wong          55.0    1631209\n",
       "55       Tarik Biberovic          56.0       <NA>\n",
       "56  Trayce Jackson-Davis          57.0    1631218\n",
       "57      Chris Livingston          58.0    1641753\n",
       "\n",
       "[2038 rows x 3 columns]"
      ]
     },
     "execution_count": 107,
     "metadata": {},
     "output_type": "execute_result"
    }
   ],
   "source": [
    "total_df"
   ]
  },
  {
   "cell_type": "code",
   "execution_count": null,
   "id": "bd0c9661-5a25-46d6-9989-378175ed2cd4",
   "metadata": {},
   "outputs": [],
   "source": []
  }
 ],
 "metadata": {
  "kernelspec": {
   "display_name": "Python 3 (ipykernel)",
   "language": "python",
   "name": "python3"
  },
  "language_info": {
   "codemirror_mode": {
    "name": "ipython",
    "version": 3
   },
   "file_extension": ".py",
   "mimetype": "text/x-python",
   "name": "python",
   "nbconvert_exporter": "python",
   "pygments_lexer": "ipython3",
   "version": "3.12.5"
  }
 },
 "nbformat": 4,
 "nbformat_minor": 5
}
